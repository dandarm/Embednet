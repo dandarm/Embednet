{
 "cells": [
  {
   "cell_type": "code",
   "execution_count": 1,
   "metadata": {
    "id": "UTWMLwK3l_rO"
   },
   "outputs": [],
   "source": [
    "import numpy as np\n",
    "import networkx as nx \n",
    "import matplotlib.pyplot as plt\n",
    "from tqdm import tqdm\n",
    "\n",
    "import torch\n",
    "from torch.nn import Linear\n",
    "from torch_geometric.nn import GCNConv\n",
    "from torch_geometric.nn import global_mean_pool\n",
    "import torch.nn.functional as F\n",
    "from torch_geometric.loader import DataLoader\n",
    "\n",
    "from torch_geometric.utils.convert import from_networkx\n",
    "\n",
    "device = torch.device('cuda')"
   ]
  },
  {
   "cell_type": "markdown",
   "metadata": {},
   "source": [
    "### Load data"
   ]
  },
  {
   "cell_type": "code",
   "execution_count": 2,
   "metadata": {
    "id": "5mAMhFjFl_rQ"
   },
   "outputs": [],
   "source": [
    "data = np.load('dataset_grafi_N300_compressed.npz')\n",
    "dataset_grafi_np = data['arr_0']\n",
    "dataset_grafi_np.shape\n",
    "\n",
    "Num_grafi_per_tipo = 100"
   ]
  },
  {
   "cell_type": "markdown",
   "metadata": {
    "id": "RpE0sddzl_rQ",
    "outputId": "53faf25e-621f-4c51-c397-0489ab6bff78"
   },
   "source": [
    "### Create Data object"
   ]
  },
  {
   "cell_type": "code",
   "execution_count": 3,
   "metadata": {
    "id": "iUIeXFVGl_rR",
    "outputId": "ebd422c6-9e31-407e-be1f-5fcca7cf513b"
   },
   "outputs": [
    {
     "name": "stderr",
     "output_type": "stream",
     "text": [
      "100%|███████████████████████████████████████████████████████████████████████| 200/200 [00:40<00:00,  4.94it/s]\n"
     ]
    }
   ],
   "source": [
    "dataset_pyg = []\n",
    "\n",
    "i = 0\n",
    "for g in tqdm(dataset_grafi_np,total = len(dataset_grafi_np)):\n",
    "    nx_graph = nx.from_numpy_matrix(g)\n",
    "    \n",
    "    # aggiungo i metadati x e y per l'oggetto Data di PYG\n",
    "    nodi = list(nx_graph.nodes)\n",
    "    for n in nodi:\n",
    "        nx_graph.nodes[n][\"x\"] = [1.0]\n",
    "       \n",
    "    pyg_graph = from_networkx(nx_graph)\n",
    "    type_graph = 0 if i < Num_grafi_per_tipo else 1\n",
    "    pyg_graph.y = torch.tensor([type_graph],dtype = torch.long)\n",
    "    \n",
    "    pyg_graph = pyg_graph.to(device)\n",
    "    dataset_pyg.append(pyg_graph)\n",
    "    i+=1\n"
   ]
  },
  {
   "cell_type": "code",
   "execution_count": 4,
   "metadata": {
    "id": "uzVUncHAl_rR",
    "outputId": "0a45162c-1ff8-4996-dde8-4202251cc317"
   },
   "outputs": [
    {
     "data": {
      "text/plain": [
       "torch.Size([300, 1])"
      ]
     },
     "execution_count": 4,
     "metadata": {},
     "output_type": "execute_result"
    }
   ],
   "source": [
    "dataset_pyg[88].x.shape"
   ]
  },
  {
   "cell_type": "code",
   "execution_count": 5,
   "metadata": {
    "id": "EicYzoHwl_rS",
    "outputId": "fc00d203-e5b1-4932-e919-89cc3183c4b4"
   },
   "outputs": [
    {
     "name": "stdout",
     "output_type": "stream",
     "text": [
      "Step 1:\n",
      "=======\n",
      "Number of graphs in the current batch: 140\n",
      "DataBatch(x=[42000, 1], edge_index=[2, 3840670], weight=[3840670], y=[140], batch=[42000], ptr=[141])\n",
      "\n"
     ]
    }
   ],
   "source": [
    "#torch.manual_seed(12345)\n",
    "import random\n",
    "\n",
    "#dataset_pyg = dataset_pyg.shuffle()\n",
    "random.shuffle(dataset_pyg)\n",
    "len_data = len(dataset_pyg)\n",
    "tt_split = int(len_data*0.7)\n",
    "train_dataset = dataset_pyg[:tt_split]\n",
    "test_dataset = dataset_pyg[tt_split:]\n",
    "\n",
    "bs = 200\n",
    "train_loader = DataLoader(train_dataset, batch_size=bs, shuffle=True)\n",
    "test_loader = DataLoader(test_dataset, batch_size=bs, shuffle=False)\n",
    "\n",
    "for step, data in enumerate(train_loader):\n",
    "    print(f'Step {step + 1}:')\n",
    "    print('=======')\n",
    "    print(f'Number of graphs in the current batch: {data.num_graphs}')\n",
    "    print(data)\n",
    "    print()"
   ]
  },
  {
   "cell_type": "raw",
   "metadata": {
    "id": "iUruEPOMl_rS",
    "outputId": "1c65b02d-87f9-4fe3-df50-424ccfd7a80c"
   },
   "source": [
    "batch = next(iter(train_loader))\n",
    "batch.x.shape"
   ]
  },
  {
   "cell_type": "markdown",
   "metadata": {
    "id": "v0Vm50xCl_rV"
   },
   "source": [
    "# Model Pytorch Geometric"
   ]
  },
  {
   "cell_type": "code",
   "execution_count": 6,
   "metadata": {
    "id": "EMXoygG3l_rV",
    "outputId": "3a02c298-d83f-49d2-991b-04341d4a4477"
   },
   "outputs": [
    {
     "name": "stdout",
     "output_type": "stream",
     "text": [
      "GCN(\n",
      "  (conv1): GCNConv(1, 64)\n",
      "  (conv2): GCNConv(64, 64)\n",
      "  (conv3): GCNConv(64, 64)\n",
      "  (lin): Linear(in_features=64, out_features=2, bias=True)\n",
      ")\n"
     ]
    }
   ],
   "source": [
    "node_features = 1\n",
    "num_classes = 2\n",
    "\n",
    "class GCN(torch.nn.Module):\n",
    "    def __init__(self, hidden_channels):\n",
    "        super(GCN, self).__init__()\n",
    "        #torch.manual_seed(12345)\n",
    "        \n",
    "        self.conv1 = GCNConv(node_features, hidden_channels)\n",
    "        self.conv2 = GCNConv(hidden_channels, hidden_channels)\n",
    "        self.conv3 = GCNConv(hidden_channels, hidden_channels)\n",
    "        self.lin = Linear(hidden_channels, num_classes)\n",
    "\n",
    "    def forward(self, x, edge_index, batch):\n",
    "        # 1. Obtain node embeddings \n",
    "        x = self.conv1(x, edge_index)\n",
    "        x = x.relu()\n",
    "        x = self.conv2(x, edge_index)\n",
    "        x = x.relu()\n",
    "        x = self.conv3(x, edge_index)\n",
    "\n",
    "        # 2. Readout layer\n",
    "        x = global_mean_pool(x, batch)  # [batch_size, hidden_channels]\n",
    "\n",
    "        # 3. Apply a final classifier\n",
    "        x = F.dropout(x, p=0.5, training=self.training)\n",
    "        x = self.lin(x)\n",
    "        \n",
    "        return x\n",
    "\n",
    "model = GCN(hidden_channels=64)\n",
    "model.to(device)\n",
    "print(model)"
   ]
  },
  {
   "cell_type": "code",
   "execution_count": 7,
   "metadata": {
    "id": "gu4oVEEQl_rV"
   },
   "outputs": [],
   "source": [
    "optimizer = torch.optim.Adam(model.parameters(), lr=0.01)\n",
    "criterion = torch.nn.CrossEntropyLoss()\n",
    "\n",
    "def train():\n",
    "    model.train()\n",
    "\n",
    "    for data in train_loader:  # Iterate in batches over the training dataset.\n",
    "        out = model(data.x, data.edge_index, data.batch)  # Perform a single forward pass.\n",
    "        loss = criterion(out, data.y)  # Compute the loss.\n",
    "        loss.backward()  # Derive gradients.\n",
    "        optimizer.step()  # Update parameters based on gradients.\n",
    "        optimizer.zero_grad()  # Clear gradients.\n",
    "\n",
    "def test(loader):\n",
    "    model.eval()\n",
    "\n",
    "    correct = 0\n",
    "    for data in loader:  # Iterate in batches over the training/test dataset.\n",
    "        out = model(data.x, data.edge_index, data.batch)  \n",
    "        pred = out.argmax(dim=1)  # Use the class with highest probability.\n",
    "        correct += int((pred == data.y).sum())  # Check against ground-truth labels.\n",
    "    return correct / len(loader.dataset)  # Derive ratio of correct predictions."
   ]
  },
  {
   "cell_type": "code",
   "execution_count": 8,
   "metadata": {
    "id": "UtzACrRSl_rW",
    "outputId": "0dc2b3de-c811-4828-83e5-d968c47fc491"
   },
   "outputs": [
    {
     "name": "stdout",
     "output_type": "stream",
     "text": [
      "Epoch: 001, Train Acc: 0.4929, Test Acc: 0.5167\n",
      "Epoch: 002, Train Acc: 0.4929, Test Acc: 0.5167\n",
      "Epoch: 003, Train Acc: 0.5071, Test Acc: 0.4833\n",
      "Epoch: 004, Train Acc: 0.5071, Test Acc: 0.4833\n",
      "Epoch: 005, Train Acc: 0.5071, Test Acc: 0.4833\n",
      "Epoch: 006, Train Acc: 0.5071, Test Acc: 0.4833\n",
      "Epoch: 007, Train Acc: 0.5071, Test Acc: 0.4833\n",
      "Epoch: 008, Train Acc: 0.4929, Test Acc: 0.5167\n",
      "Epoch: 009, Train Acc: 0.4929, Test Acc: 0.5167\n",
      "Epoch: 010, Train Acc: 0.4929, Test Acc: 0.5167\n",
      "Epoch: 011, Train Acc: 0.4929, Test Acc: 0.5167\n",
      "Epoch: 012, Train Acc: 0.4929, Test Acc: 0.5167\n",
      "Epoch: 013, Train Acc: 0.5071, Test Acc: 0.4833\n",
      "Epoch: 014, Train Acc: 0.5071, Test Acc: 0.4833\n",
      "Epoch: 015, Train Acc: 0.5071, Test Acc: 0.4833\n",
      "Epoch: 016, Train Acc: 0.5071, Test Acc: 0.4833\n",
      "Epoch: 017, Train Acc: 0.5071, Test Acc: 0.4833\n",
      "Epoch: 018, Train Acc: 0.5071, Test Acc: 0.4833\n",
      "Epoch: 019, Train Acc: 0.4929, Test Acc: 0.5167\n",
      "Epoch: 020, Train Acc: 0.4929, Test Acc: 0.5167\n",
      "Epoch: 021, Train Acc: 0.4929, Test Acc: 0.5167\n",
      "Epoch: 022, Train Acc: 0.4929, Test Acc: 0.5167\n",
      "Epoch: 023, Train Acc: 0.4929, Test Acc: 0.5167\n",
      "Epoch: 024, Train Acc: 0.4929, Test Acc: 0.5167\n",
      "Epoch: 025, Train Acc: 0.5071, Test Acc: 0.4833\n",
      "Epoch: 026, Train Acc: 0.5071, Test Acc: 0.4833\n",
      "Epoch: 027, Train Acc: 0.5071, Test Acc: 0.4833\n",
      "Epoch: 028, Train Acc: 0.5071, Test Acc: 0.4833\n",
      "Epoch: 029, Train Acc: 0.5071, Test Acc: 0.4833\n",
      "Epoch: 030, Train Acc: 0.5071, Test Acc: 0.4833\n",
      "Epoch: 031, Train Acc: 0.5071, Test Acc: 0.4833\n",
      "Epoch: 032, Train Acc: 0.5071, Test Acc: 0.4833\n",
      "Epoch: 033, Train Acc: 0.8786, Test Acc: 0.8167\n",
      "Epoch: 034, Train Acc: 0.4929, Test Acc: 0.5167\n",
      "Epoch: 035, Train Acc: 1.0000, Test Acc: 1.0000\n",
      "Epoch: 036, Train Acc: 0.5000, Test Acc: 0.5167\n",
      "Epoch: 037, Train Acc: 0.5071, Test Acc: 0.4833\n",
      "Epoch: 038, Train Acc: 0.5071, Test Acc: 0.4833\n",
      "Epoch: 039, Train Acc: 0.5071, Test Acc: 0.4833\n",
      "Epoch: 040, Train Acc: 0.5071, Test Acc: 0.4833\n",
      "Epoch: 041, Train Acc: 0.5071, Test Acc: 0.4833\n",
      "Epoch: 042, Train Acc: 0.4929, Test Acc: 0.5167\n",
      "Epoch: 043, Train Acc: 0.4929, Test Acc: 0.5167\n",
      "Epoch: 044, Train Acc: 0.4929, Test Acc: 0.5167\n",
      "Epoch: 045, Train Acc: 0.5071, Test Acc: 0.4833\n",
      "Epoch: 046, Train Acc: 0.5071, Test Acc: 0.4833\n",
      "Epoch: 047, Train Acc: 0.5071, Test Acc: 0.4833\n",
      "Epoch: 048, Train Acc: 0.5071, Test Acc: 0.4833\n",
      "Epoch: 049, Train Acc: 0.5071, Test Acc: 0.4833\n",
      "Epoch: 050, Train Acc: 0.5071, Test Acc: 0.4833\n",
      "Epoch: 051, Train Acc: 0.7714, Test Acc: 0.7833\n",
      "Epoch: 052, Train Acc: 0.5071, Test Acc: 0.4833\n",
      "Epoch: 053, Train Acc: 0.5071, Test Acc: 0.4833\n",
      "Epoch: 054, Train Acc: 0.5071, Test Acc: 0.4833\n",
      "Epoch: 055, Train Acc: 0.5071, Test Acc: 0.4833\n",
      "Epoch: 056, Train Acc: 0.5071, Test Acc: 0.4833\n",
      "Epoch: 057, Train Acc: 0.6714, Test Acc: 0.7000\n",
      "Epoch: 058, Train Acc: 0.4929, Test Acc: 0.5167\n",
      "Epoch: 059, Train Acc: 0.4929, Test Acc: 0.5167\n",
      "Epoch: 060, Train Acc: 0.4929, Test Acc: 0.5167\n",
      "Epoch: 061, Train Acc: 0.5071, Test Acc: 0.4833\n",
      "Epoch: 062, Train Acc: 0.5071, Test Acc: 0.4833\n",
      "Epoch: 063, Train Acc: 0.5071, Test Acc: 0.4833\n",
      "Epoch: 064, Train Acc: 0.5071, Test Acc: 0.4833\n",
      "Epoch: 065, Train Acc: 0.5071, Test Acc: 0.4833\n",
      "Epoch: 066, Train Acc: 0.5071, Test Acc: 0.4833\n",
      "Epoch: 067, Train Acc: 0.4929, Test Acc: 0.5167\n",
      "Epoch: 068, Train Acc: 1.0000, Test Acc: 1.0000\n",
      "Epoch: 069, Train Acc: 0.5071, Test Acc: 0.4833\n",
      "Epoch: 070, Train Acc: 0.5071, Test Acc: 0.4833\n",
      "Epoch: 071, Train Acc: 0.5071, Test Acc: 0.4833\n",
      "Epoch: 072, Train Acc: 0.5071, Test Acc: 0.4833\n",
      "Epoch: 073, Train Acc: 1.0000, Test Acc: 1.0000\n",
      "Epoch: 074, Train Acc: 0.7071, Test Acc: 0.7500\n",
      "Epoch: 075, Train Acc: 0.4929, Test Acc: 0.5167\n",
      "Epoch: 076, Train Acc: 1.0000, Test Acc: 1.0000\n",
      "Epoch: 077, Train Acc: 0.5071, Test Acc: 0.4833\n",
      "Epoch: 078, Train Acc: 0.5071, Test Acc: 0.4833\n",
      "Epoch: 079, Train Acc: 0.5214, Test Acc: 0.5500\n",
      "Epoch: 080, Train Acc: 0.4929, Test Acc: 0.5167\n",
      "Epoch: 081, Train Acc: 1.0000, Test Acc: 0.9833\n",
      "Epoch: 082, Train Acc: 0.5071, Test Acc: 0.4833\n",
      "Epoch: 083, Train Acc: 0.5071, Test Acc: 0.4833\n",
      "Epoch: 084, Train Acc: 0.5214, Test Acc: 0.5333\n",
      "Epoch: 085, Train Acc: 0.5071, Test Acc: 0.4833\n",
      "Epoch: 086, Train Acc: 0.5071, Test Acc: 0.4833\n",
      "Epoch: 087, Train Acc: 0.9929, Test Acc: 0.9833\n",
      "Epoch: 088, Train Acc: 1.0000, Test Acc: 1.0000\n",
      "Epoch: 089, Train Acc: 0.5071, Test Acc: 0.4833\n",
      "Epoch: 090, Train Acc: 0.5071, Test Acc: 0.4833\n",
      "Epoch: 091, Train Acc: 1.0000, Test Acc: 1.0000\n",
      "Epoch: 092, Train Acc: 0.4929, Test Acc: 0.5167\n",
      "Epoch: 093, Train Acc: 1.0000, Test Acc: 1.0000\n",
      "Epoch: 094, Train Acc: 0.5071, Test Acc: 0.4833\n",
      "Epoch: 095, Train Acc: 1.0000, Test Acc: 1.0000\n",
      "Epoch: 096, Train Acc: 0.4929, Test Acc: 0.5167\n",
      "Epoch: 097, Train Acc: 0.4929, Test Acc: 0.5167\n",
      "Epoch: 098, Train Acc: 0.5071, Test Acc: 0.4833\n",
      "Epoch: 099, Train Acc: 0.5071, Test Acc: 0.4833\n",
      "Epoch: 100, Train Acc: 1.0000, Test Acc: 1.0000\n",
      "Epoch: 101, Train Acc: 0.4929, Test Acc: 0.5167\n",
      "Epoch: 102, Train Acc: 1.0000, Test Acc: 1.0000\n",
      "Epoch: 103, Train Acc: 0.5071, Test Acc: 0.4833\n",
      "Epoch: 104, Train Acc: 1.0000, Test Acc: 1.0000\n",
      "Epoch: 105, Train Acc: 0.4929, Test Acc: 0.5167\n",
      "Epoch: 106, Train Acc: 0.9929, Test Acc: 1.0000\n",
      "Epoch: 107, Train Acc: 0.5071, Test Acc: 0.4833\n",
      "Epoch: 108, Train Acc: 1.0000, Test Acc: 1.0000\n",
      "Epoch: 109, Train Acc: 1.0000, Test Acc: 1.0000\n",
      "Epoch: 110, Train Acc: 0.5071, Test Acc: 0.4833\n",
      "Epoch: 111, Train Acc: 0.6071, Test Acc: 0.6833\n",
      "Epoch: 112, Train Acc: 1.0000, Test Acc: 1.0000\n",
      "Epoch: 113, Train Acc: 0.5071, Test Acc: 0.4833\n",
      "Epoch: 114, Train Acc: 0.6571, Test Acc: 0.7000\n",
      "Epoch: 115, Train Acc: 1.0000, Test Acc: 1.0000\n",
      "Epoch: 116, Train Acc: 1.0000, Test Acc: 1.0000\n",
      "Epoch: 117, Train Acc: 0.5071, Test Acc: 0.5333\n",
      "Epoch: 118, Train Acc: 1.0000, Test Acc: 1.0000\n",
      "Epoch: 119, Train Acc: 1.0000, Test Acc: 1.0000\n",
      "Epoch: 120, Train Acc: 1.0000, Test Acc: 1.0000\n",
      "Epoch: 121, Train Acc: 1.0000, Test Acc: 1.0000\n",
      "Epoch: 122, Train Acc: 0.5714, Test Acc: 0.6333\n",
      "Epoch: 123, Train Acc: 1.0000, Test Acc: 1.0000\n",
      "Epoch: 124, Train Acc: 1.0000, Test Acc: 1.0000\n",
      "Epoch: 125, Train Acc: 1.0000, Test Acc: 1.0000\n",
      "Epoch: 126, Train Acc: 1.0000, Test Acc: 1.0000\n",
      "Epoch: 127, Train Acc: 1.0000, Test Acc: 1.0000\n",
      "Epoch: 128, Train Acc: 1.0000, Test Acc: 1.0000\n",
      "Epoch: 129, Train Acc: 1.0000, Test Acc: 1.0000\n",
      "Epoch: 130, Train Acc: 0.9786, Test Acc: 0.9333\n",
      "Epoch: 131, Train Acc: 0.5071, Test Acc: 0.4833\n",
      "Epoch: 132, Train Acc: 1.0000, Test Acc: 1.0000\n",
      "Epoch: 133, Train Acc: 1.0000, Test Acc: 1.0000\n",
      "Epoch: 134, Train Acc: 1.0000, Test Acc: 1.0000\n",
      "Epoch: 135, Train Acc: 1.0000, Test Acc: 1.0000\n",
      "Epoch: 136, Train Acc: 1.0000, Test Acc: 1.0000\n",
      "Epoch: 137, Train Acc: 1.0000, Test Acc: 1.0000\n",
      "Epoch: 138, Train Acc: 1.0000, Test Acc: 1.0000\n",
      "Epoch: 139, Train Acc: 1.0000, Test Acc: 1.0000\n",
      "Epoch: 140, Train Acc: 1.0000, Test Acc: 1.0000\n",
      "Epoch: 141, Train Acc: 1.0000, Test Acc: 1.0000\n",
      "Epoch: 142, Train Acc: 1.0000, Test Acc: 1.0000\n",
      "Epoch: 143, Train Acc: 1.0000, Test Acc: 1.0000\n",
      "Epoch: 144, Train Acc: 1.0000, Test Acc: 1.0000\n",
      "Epoch: 145, Train Acc: 1.0000, Test Acc: 1.0000\n",
      "Epoch: 146, Train Acc: 1.0000, Test Acc: 1.0000\n",
      "Epoch: 147, Train Acc: 1.0000, Test Acc: 1.0000\n",
      "Epoch: 148, Train Acc: 1.0000, Test Acc: 1.0000\n",
      "Epoch: 149, Train Acc: 1.0000, Test Acc: 1.0000\n",
      "Epoch: 150, Train Acc: 1.0000, Test Acc: 1.0000\n",
      "Epoch: 151, Train Acc: 1.0000, Test Acc: 1.0000\n",
      "Epoch: 152, Train Acc: 1.0000, Test Acc: 1.0000\n",
      "Epoch: 153, Train Acc: 1.0000, Test Acc: 1.0000\n",
      "Epoch: 154, Train Acc: 1.0000, Test Acc: 1.0000\n",
      "Epoch: 155, Train Acc: 1.0000, Test Acc: 1.0000\n",
      "Epoch: 156, Train Acc: 1.0000, Test Acc: 1.0000\n",
      "Epoch: 157, Train Acc: 1.0000, Test Acc: 1.0000\n",
      "Epoch: 158, Train Acc: 1.0000, Test Acc: 1.0000\n",
      "Epoch: 159, Train Acc: 1.0000, Test Acc: 1.0000\n",
      "Epoch: 160, Train Acc: 1.0000, Test Acc: 1.0000\n",
      "Epoch: 161, Train Acc: 1.0000, Test Acc: 1.0000\n",
      "Epoch: 162, Train Acc: 1.0000, Test Acc: 1.0000\n",
      "Epoch: 163, Train Acc: 1.0000, Test Acc: 1.0000\n",
      "Epoch: 164, Train Acc: 1.0000, Test Acc: 1.0000\n",
      "Epoch: 165, Train Acc: 1.0000, Test Acc: 1.0000\n",
      "Epoch: 166, Train Acc: 1.0000, Test Acc: 1.0000\n",
      "Epoch: 167, Train Acc: 1.0000, Test Acc: 1.0000\n",
      "Epoch: 168, Train Acc: 1.0000, Test Acc: 1.0000\n",
      "Epoch: 169, Train Acc: 1.0000, Test Acc: 1.0000\n",
      "Epoch: 170, Train Acc: 1.0000, Test Acc: 1.0000\n",
      "Epoch: 171, Train Acc: 1.0000, Test Acc: 1.0000\n",
      "Epoch: 172, Train Acc: 1.0000, Test Acc: 1.0000\n",
      "Epoch: 173, Train Acc: 1.0000, Test Acc: 1.0000\n",
      "Epoch: 174, Train Acc: 1.0000, Test Acc: 1.0000\n",
      "Epoch: 175, Train Acc: 1.0000, Test Acc: 1.0000\n",
      "Epoch: 176, Train Acc: 1.0000, Test Acc: 1.0000\n",
      "Epoch: 177, Train Acc: 1.0000, Test Acc: 1.0000\n",
      "Epoch: 178, Train Acc: 1.0000, Test Acc: 1.0000\n",
      "Epoch: 179, Train Acc: 1.0000, Test Acc: 1.0000\n",
      "Epoch: 180, Train Acc: 1.0000, Test Acc: 1.0000\n",
      "Epoch: 181, Train Acc: 1.0000, Test Acc: 1.0000\n",
      "Epoch: 182, Train Acc: 1.0000, Test Acc: 1.0000\n",
      "Epoch: 183, Train Acc: 1.0000, Test Acc: 1.0000\n",
      "Epoch: 184, Train Acc: 1.0000, Test Acc: 1.0000\n",
      "Epoch: 185, Train Acc: 1.0000, Test Acc: 1.0000\n",
      "Epoch: 186, Train Acc: 1.0000, Test Acc: 1.0000\n",
      "Epoch: 187, Train Acc: 1.0000, Test Acc: 1.0000\n",
      "Epoch: 188, Train Acc: 1.0000, Test Acc: 1.0000\n",
      "Epoch: 189, Train Acc: 1.0000, Test Acc: 1.0000\n",
      "Epoch: 190, Train Acc: 1.0000, Test Acc: 1.0000\n",
      "Epoch: 191, Train Acc: 1.0000, Test Acc: 1.0000\n",
      "Epoch: 192, Train Acc: 1.0000, Test Acc: 1.0000\n",
      "Epoch: 193, Train Acc: 1.0000, Test Acc: 1.0000\n",
      "Epoch: 194, Train Acc: 1.0000, Test Acc: 1.0000\n",
      "Epoch: 195, Train Acc: 1.0000, Test Acc: 1.0000\n",
      "Epoch: 196, Train Acc: 1.0000, Test Acc: 1.0000\n",
      "Epoch: 197, Train Acc: 1.0000, Test Acc: 1.0000\n",
      "Epoch: 198, Train Acc: 1.0000, Test Acc: 1.0000\n",
      "Epoch: 199, Train Acc: 1.0000, Test Acc: 1.0000\n"
     ]
    }
   ],
   "source": [
    "for epoch in range(1, 200):\n",
    "    train()\n",
    "    train_acc = test(train_loader)\n",
    "    test_acc = test(test_loader)\n",
    "    print(f'Epoch: {epoch:03d}, Train Acc: {train_acc:.4f}, Test Acc: {test_acc:.4f}')"
   ]
  },
  {
   "cell_type": "markdown",
   "metadata": {},
   "source": [
    "### Take the embedding layer"
   ]
  },
  {
   "cell_type": "code",
   "execution_count": 9,
   "metadata": {},
   "outputs": [
    {
     "name": "stdout",
     "output_type": "stream",
     "text": [
      "Children Counter:  0  Layer Name:  conv1\n",
      "Children Counter:  1  Layer Name:  conv2\n",
      "Children Counter:  2  Layer Name:  conv3\n",
      "Children Counter:  3  Layer Name:  lin\n"
     ]
    }
   ],
   "source": [
    "children_counter = 0\n",
    "for n,c in model.named_children():\n",
    "    print(\"Children Counter: \",children_counter,\" Layer Name: \",n,)\n",
    "    children_counter+=1"
   ]
  },
  {
   "cell_type": "code",
   "execution_count": 10,
   "metadata": {},
   "outputs": [
    {
     "data": {
      "text/plain": [
       "OrderedDict([('conv1', GCNConv(1, 64)),\n",
       "             ('conv2', GCNConv(64, 64)),\n",
       "             ('conv3', GCNConv(64, 64)),\n",
       "             ('lin', Linear(in_features=64, out_features=2, bias=True))])"
      ]
     },
     "execution_count": 10,
     "metadata": {},
     "output_type": "execute_result"
    }
   ],
   "source": [
    "model._modules"
   ]
  },
  {
   "cell_type": "code",
   "execution_count": 16,
   "metadata": {},
   "outputs": [],
   "source": [
    "import copy\n",
    "model2 = copy.deepcopy(model)\n",
    "\n",
    "if \"embedding_model\" in locals(): \n",
    "    del(embedding_model)\n",
    "\n",
    "class embedding_model(torch.nn.Module):\n",
    "    def __init__(self, old_model):\n",
    "        super().__init__()\n",
    "        #old_layers = list(old_model._modules.keys())\n",
    "        #old_model._modules.pop(old_layers[-1])\n",
    "        #self.net = torch.nn.Sequential(old_model)\n",
    "        \n",
    "        self.conv1 = old_model._modules['conv1']\n",
    "        self.conv2 = old_model._modules['conv2']\n",
    "        self.conv3 = old_model._modules['conv3']\n",
    "        \n",
    "    def forward(self, x, edge_index, batch):\n",
    "        # 1. Obtain node embeddings \n",
    "        x = self.conv1(x, edge_index)\n",
    "        x = x.relu()\n",
    "        x = self.conv2(x, edge_index)\n",
    "        x = x.relu()\n",
    "        x = self.conv3(x, edge_index)##\n",
    "\n",
    "        # 2. Readout layer\n",
    "        x = global_mean_pool(x, batch)  # [batch_size, hidden_channels]\n",
    "     \n",
    "        return x"
   ]
  },
  {
   "cell_type": "code",
   "execution_count": 17,
   "metadata": {},
   "outputs": [],
   "source": [
    "embedding = embedding_model(model2)\n",
    "embedding = embedding.to(device)"
   ]
  },
  {
   "cell_type": "code",
   "execution_count": 18,
   "metadata": {},
   "outputs": [],
   "source": [
    "all_data_loader = DataLoader(dataset_pyg, batch_size=len_data, shuffle=False)"
   ]
  },
  {
   "cell_type": "code",
   "execution_count": 19,
   "metadata": {},
   "outputs": [
    {
     "data": {
      "text/plain": [
       "torch.Size([60000, 1])"
      ]
     },
     "execution_count": 19,
     "metadata": {},
     "output_type": "execute_result"
    }
   ],
   "source": [
    "batch = next(iter(all_data_loader))\n",
    "batch.x.shape"
   ]
  },
  {
   "cell_type": "code",
   "execution_count": 20,
   "metadata": {},
   "outputs": [],
   "source": [
    "res = embedding(batch.x, batch.edge_index, batch.batch)  "
   ]
  },
  {
   "cell_type": "code",
   "execution_count": 21,
   "metadata": {},
   "outputs": [
    {
     "data": {
      "text/plain": [
       "(torch.Size([200, 64]), 200, 200)"
      ]
     },
     "execution_count": 21,
     "metadata": {},
     "output_type": "execute_result"
    }
   ],
   "source": [
    "res.shape, len_data, len(dataset_pyg)"
   ]
  },
  {
   "cell_type": "code",
   "execution_count": 22,
   "metadata": {},
   "outputs": [],
   "source": [
    "embeddings = res.cpu().detach().numpy()"
   ]
  },
  {
   "cell_type": "code",
   "execution_count": 23,
   "metadata": {},
   "outputs": [
    {
     "data": {
      "text/plain": [
       "(200, 64)"
      ]
     },
     "execution_count": 23,
     "metadata": {},
     "output_type": "execute_result"
    }
   ],
   "source": [
    "embeddings.shape"
   ]
  },
  {
   "cell_type": "markdown",
   "metadata": {},
   "source": [
    "## T-sne"
   ]
  },
  {
   "cell_type": "code",
   "execution_count": 24,
   "metadata": {},
   "outputs": [],
   "source": [
    "from sklearn.manifold import TSNE"
   ]
  },
  {
   "cell_type": "code",
   "execution_count": 25,
   "metadata": {},
   "outputs": [
    {
     "name": "stderr",
     "output_type": "stream",
     "text": [
      "/home/daniele/anaconda3/envs/pytorch-geom/lib/python3.8/site-packages/sklearn/manifold/_t_sne.py:780: FutureWarning: The default initialization in TSNE will change from 'random' to 'pca' in 1.2.\n",
      "  warnings.warn(\n",
      "/home/daniele/anaconda3/envs/pytorch-geom/lib/python3.8/site-packages/sklearn/manifold/_t_sne.py:790: FutureWarning: The default learning rate in TSNE will change from 200.0 to 'auto' in 1.2.\n",
      "  warnings.warn(\n"
     ]
    }
   ],
   "source": [
    "tsne = TSNE(n_components=2)\n",
    "X_tsne = tsne.fit_transform(embeddings)"
   ]
  },
  {
   "cell_type": "code",
   "execution_count": 26,
   "metadata": {},
   "outputs": [
    {
     "data": {
      "image/png": "[encoded data removed]",
      "text/plain": [
       "<Figure size 432x432 with 1 Axes>"
      ]
     },
     "metadata": {
      "needs_background": "light"
     },
     "output_type": "display_data"
    }
   ],
   "source": [
    "plt.figure(figsize=(6, 6))\n",
    "plt.scatter(X_tsne[:,0], X_tsne[:,1], alpha=0.8, s=8)#, c=y)\n",
    "plt.xlabel('1st tsne component')\n",
    "plt.ylabel('2nd tsne component')\n",
    "plt.grid()\n",
    "plt.show()"
   ]
  },
  {
   "cell_type": "code",
   "execution_count": null,
   "metadata": {},
   "outputs": [],
   "source": []
  },
  {
   "cell_type": "raw",
   "metadata": {
    "id": "rqF1TWBGl_rW"
   },
   "source": [
    "import numpy as np\n",
    "import networkx as nx\n",
    "import torch\n",
    "from torch.nn import Linear\n",
    "from torch_geometric.nn import GCNConv\n",
    "from torch_geometric.loader import DataLoader\n",
    "from torch_geometric.utils.convert import from_networkx\n",
    "from torch_geometric.nn import global_mean_pool\n",
    "import torch.nn.functional as F\n",
    "import random\n",
    "from tqdm import tqdm\n",
    "def create_graphs(p_er,type_graph):\n",
    "\tN = 1_000 # Graph nodes number\n",
    "\tNum_grafi_per_tipo = 1_00 # number of graphs\n",
    "\tgraphs = []\n",
    "\tfor i in tqdm(range(Num_grafi_per_tipo),total = Num_grafi_per_tipo):\n",
    "\t\tgr_er = nx.erdos_renyi_graph(N, p_er)\n",
    "\t\tnodes_gr_er = list(gr_er.nodes())\n",
    "\t\tfor node in nodes_gr_er:\n",
    "\t\t\tgr_er.nodes[node][\"x\"] = [1.0]\n",
    "\t\td0 = from_networkx(gr_er)\n",
    "\t\ttarget = torch.tensor([type_graph],dtype = torch.long)\n",
    "\t\td0.y = target\n",
    "\t\tgraphs.append(d0)\n",
    "\treturn graphs\n",
    "\n",
    "g1 = create_graphs(0.01,0.0)\n",
    "g2 = create_graphs(0.3,1.0)\n",
    "all_graphs = g1+g2\n",
    "d0 = all_graphs[0]\n",
    "print(d0)\n",
    "print(f'Number of nodes: {d0.num_nodes}')\n",
    "print(f'Number of edges: {d0.num_edges}')\n",
    "\n",
    "tt_split = int(len(all_graphs)*0.7)\n",
    "print(tt_split)\n",
    "train_dataset = all_graphs[:tt_split]\n",
    "test_dataset = all_graphs[tt_split:]\n",
    "print(len(train_dataset))\n",
    "train_loader = DataLoader(train_dataset, batch_size = 64, shuffle = True)\n",
    "test_loader = DataLoader(test_dataset, batch_size = 64, shuffle = False)\n",
    "for step, data in enumerate(train_loader):\n",
    "    print(f'Step {step + 1}:')\n",
    "    print('=======')\n",
    "    print(f'Number of graphs in the current batch: {data.num_graphs}')\n",
    "    print(data)\n",
    "\n",
    "node_features = 1\n",
    "num_classes = 2\n",
    "\n",
    "class GCN(torch.nn.Module):\n",
    "    def __init__(self, hidden_channels):\n",
    "        super(GCN, self).__init__()\n",
    "        torch.manual_seed(12345)\n",
    "        self.conv1 = GCNConv(node_features, hidden_channels)\n",
    "        self.conv2 = GCNConv(hidden_channels, hidden_channels)\n",
    "        self.conv3 = GCNConv(hidden_channels, hidden_channels)\n",
    "        self.lin = Linear(hidden_channels, num_classes)\n",
    "\n",
    "    def forward(self, x, edge_index, batch):\n",
    "        # 1. Obtain node embeddings\n",
    "        x = self.conv1(x, edge_index)\n",
    "        x = x.relu()\n",
    "        x = self.conv2(x, edge_index)\n",
    "        x = x.relu()\n",
    "        x = self.conv3(x, edge_index)\n",
    "\n",
    "        # 2. Readout layer\n",
    "        x = global_mean_pool(x, batch)  # [batch_size, hidden_channels]\n",
    "\n",
    "        # 3. Apply a final classifier\n",
    "        x = F.dropout(x, p=0.5, training=self.training)\n",
    "        x = self.lin(x)\n",
    "\n",
    "        return x\n",
    "\n",
    "model = GCN(hidden_channels=64)\n",
    "print(model)\n",
    "\n",
    "\n",
    "optimizer = torch.optim.Adam(model.parameters(), lr=0.01)\n",
    "criterion = torch.nn.CrossEntropyLoss()\n",
    "\n",
    "def train():\n",
    "    model.train()\n",
    "\n",
    "    for data in train_loader:  # Iterate in batches over the training dataset.\n",
    "        out = model(data.x, data.edge_index, data.batch)  # Perform a single forward pass.\n",
    "        loss = criterion(out, data.y)  # Compute the loss.\n",
    "        loss.backward()  # Derive gradients.\n",
    "        optimizer.step()  # Update parameters based on gradients.\n",
    "        optimizer.zero_grad()  # Clear gradients.\n",
    "\n",
    "def test(loader):\n",
    "    model.eval()\n",
    "\n",
    "    correct = 0\n",
    "    for data in loader:  # Iterate in batches over the training/test dataset.\n",
    "        out = model(data.x, data.edge_index, data.batch)\n",
    "        pred = out.argmax(dim=1)  # Use the class with highest probability.\n",
    "        correct += int((pred == data.y).sum())  # Check against ground-truth labels.\n",
    "    return correct / len(loader.dataset)  # Derive ratio of correct predictions.\n",
    "\n",
    "for epoch in range(1, 171):\n",
    "    train()\n",
    "    train_acc = test(train_loader)\n",
    "    test_acc = test(test_loader)\n",
    "    print(f'Epoch: {epoch:03d}, Train Acc: {train_acc:.4f}, Test Acc: {test_acc:.4f}')\n"
   ]
  }
 ],
 "metadata": {
  "colab": {
   "collapsed_sections": [],
   "name": "GNN_training.ipynb",
   "provenance": []
  },
  "kernelspec": {
   "display_name": "Python [conda env:pytorch-geom]",
   "language": "python",
   "name": "conda-env-pytorch-geom-py"
  },
  "language_info": {
   "codemirror_mode": {
    "name": "ipython",
    "version": 3
   },
   "file_extension": ".py",
   "mimetype": "text/x-python",
   "name": "python",
   "nbconvert_exporter": "python",
   "pygments_lexer": "ipython3",
   "version": "3.8.13"
  }
 },
 "nbformat": 4,
 "nbformat_minor": 4
}
