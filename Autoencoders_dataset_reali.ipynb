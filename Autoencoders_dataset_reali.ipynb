{
 "cells": [
  {
   "cell_type": "code",
   "execution_count": 1,
   "metadata": {},
   "outputs": [],
   "source": [
    "%load_ext autoreload\n",
    "%autoreload 2\n",
    "\n",
    "#per la riproducibilità\n",
    "#%env CUBLAS_WORKSPACE_CONFIG=\":4096:8\"\n",
    "\n",
    "import os\n",
    "import itertools\n",
    "from pathlib import Path\n",
    "import numpy as np\n",
    "import matplotlib.pyplot as plt\n",
    "from matplotlib.figure import Figure\n",
    "from IPython.display import Markdown as md\n",
    "from multiprocessing import Pool\n",
    "import time\n",
    "from tqdm import tqdm\n",
    "import networkx as nx\n",
    "from networkx import stochastic_block_model\n",
    "\n",
    "import torch_geometric\n",
    "from graph_generation import GenerateGraph, perturb_nx_graph\n",
    "from models import GCN, view_parameters, new_parameters, modify_parameters, Inits, new_parameters_linears\n",
    "from train import Trainer, Dataset\n",
    "from embedding import Embedding\n",
    "from config_valid import Config, TrainingMode\n",
    "import experiments\n",
    "from experiments import Experiments, all_seeds\n",
    "from plot_funcs import (plot_dim1, plot_dimN, plot_correlation_error, plot_metrics, plot_node_emb_1D, plot_node_emb_nD, scatter_node_emb, \n",
    "                        plot_graph_emb_1D, plot_graph_emb_nD, plot_data_degree_sequence, plot_corr_epoch, plot_ripetizioni_stesso_trial, \n",
    "                        plot_onlyloss_ripetizioni_stesso_trial,plot_onlyloss_ripetizioni_stesso_trial_superimposed, Data2Plot, plot_weights_multiple_hist)\n",
    "from plot_model import plot_model\n",
    "from utils_embednet import array_wo_outliers, plot_grafo, plot_grafo2\n",
    "from Inspect import Inspect\n",
    "#import model_graph_ae\n",
    "\n",
    "\n",
    "import torch\n",
    "from torch_geometric import nn\n",
    "from torch_geometric.loader import DataLoader\n",
    "device = torch.device('cuda')\n",
    "\n",
    "from scipy import stats\n",
    "from sklearn.metrics import log_loss\n",
    "\n",
    "import pickle \n",
    "from plt_parameters import init_params, get_colors_to_cycle_rainbow8, get_colors_to_cycle_rainbowN\n",
    "init_params()\n",
    "rootsave = Path(\"output_plots/\")\n",
    "\n",
    "def make_video_parallel_static():\n",
    "    experiments.graph_embedding_per_epoch = xp.trainer.graph_embedding_per_epoch\n",
    "    experiments.node_embedding_per_epoch = xp.trainer.node_embedding_per_epoch\n",
    "    experiments.dataset = xp.trainer.dataset\n",
    "    experiments.loss_list = xp.trainer.test_loss_list\n",
    "    experiments.exp_config = xp.trainer.config_class\n",
    "    experiments.dataset_type = xp.trainer.gg.graphtype\n",
    "    num_emb_neurons = xp.trainer.model.convs[-1].out_channels\n",
    "    experiments.trainmode = xp.trainer.config_class.modo\n",
    "    #experiments.num_classes = xp.trainer.config_class.num_classes\n",
    "    experiments.embedding_dimension = num_emb_neurons\n",
    "    #my_list = my_log_lista=list(range(20)) + list(range(20,100,4)) + list(range(100,500, 15)) + list(range(500, 5000, 40))\n",
    "    nomefile = xp.make_video(skip=1, fromfiles=True, custom_list=True, seq_colors=True)\n",
    "    return nomefile\n",
    "\n",
    "\n",
    "def run_grid_w_gif(xp):\n",
    "    nomifilesgif = []\n",
    "    k = 0\n",
    "    for c in xp.gc.configs:  \n",
    "        print(f'Run {k + 1}\\t\\t exp name: {c.unique_train_name}')\n",
    "        # all_seeds()\n",
    "        xp.trainer.reinit_conf(c)\n",
    "        xp.just_train()\n",
    "        embedding_class = xp.embedding()\n",
    "        num_emb_neurons = xp.trainer.model.convs[-1].out_channels\n",
    "        trainmode = xp.trainer.config_class.modo\n",
    "        embedding_class.get_metrics(num_emb_neurons, trainmode)    \n",
    "        nomefile = make_video_parallel_static()\n",
    "        nomifilesgif.append(nomefile)\n",
    "        k += 1\n",
    "    return nomifilesgif"
   ]
  },
  {
   "cell_type": "code",
   "execution_count": 2,
   "metadata": {},
   "outputs": [
    {
     "name": "stdout",
     "output_type": "stream",
     "text": [
      "Autoencoder model\n",
      "0 configurazioni saltate su 1, farò i seguenti 1 training: \n",
      "REDDIT-BINARY___Classi2_nodi_grafiXtipo_mode1_layers§1-32-32-32-1§_initw-eye_lr0.002_GCNfreezedFalse\n"
     ]
    }
   ],
   "source": [
    "config_file = \"configurations/Final1.yml\"\n",
    "num_nodi = 200\n",
    "c = Config(config_file)\n",
    "#c.conf['graph_dataset']['Num_nodes'] = [num_nodi]\n",
    "#c.conf['graph_dataset']['list_exponents'] = [-2.5]\n",
    "c.conf['model']['autoencoder'] = True\n",
    "c.conf['model']['autoencoder_graph_ae'] = False\n",
    "diz_trials = {'graph_dataset.ERmodel': [False], \n",
    "              'graph_dataset.confmodel': [False], \n",
    "              'graph_dataset.sbm': [False], \n",
    "              'graph_dataset.real_dataset': [True],\n",
    "              #'graph_dataset.Num_nodes': [[num_nodi]*5, [num_nodi]*3],  # per lo SBM: num nodi * num comunità \n",
    "              'model.GCNneurons_per_layer': [#[1, 32, 16, len(c.conf['graph_dataset']['list_exponents'])],\n",
    "                                            #[1, 32, 16, len(c.conf['graph_dataset']['list_p'])],\n",
    "                                            #[1, 32, 16, len(c.conf['graph_dataset']['community_probs'])],\n",
    "                                            [1, 32, 32, 32, 1]\n",
    "                                           ],\n",
    "             #'model.init_weights': ['xavier_normal'],# 'eye'],\n",
    "             'model.freezeGCNlayers': [False],\n",
    "             'model.last_layer_dense': [False],\n",
    "             } \n",
    "\n",
    "xp = Experiments(diz_trials=diz_trials, rootsave=rootsave, config_class=c, reset_all_seeds=False, verbose=True)"
   ]
  },
  {
   "cell_type": "markdown",
   "metadata": {},
   "source": [
    "### Con Reddit ho questo errore:"
   ]
  },
  {
   "cell_type": "code",
   "execution_count": 3,
   "metadata": {},
   "outputs": [
    {
     "name": "stdout",
     "output_type": "stream",
     "text": [
      "Run 1 \t\t exp name: REDDIT-BINARY___Classi2_nodi_grafiXtipo_mode1_layers§1-32-32-32-1§_initw-eye_lr0.002_GCNfreezedFalse\n",
      "Verrà usato il dataset REDDIT-BINARY\n",
      "Loading Dataset...\n"
     ]
    },
    {
     "name": "stderr",
     "output_type": "stream",
     "text": [
      "100%|████████████████████████████████████████████████████████████████████████████████████████| 250/250 [08:00<00:00,  1.92s/it]\n"
     ]
    },
    {
     "name": "stdout",
     "output_type": "stream",
     "text": [
      "test accuracy finale: 0\n"
     ]
    },
    {
     "ename": "IndexError",
     "evalue": "index 600 is out of bounds for axis 0 with size 600",
     "output_type": "error",
     "traceback": [
      "\u001b[0;31m---------------------------------------------------------------------------\u001b[0m",
      "\u001b[0;31mIndexError\u001b[0m                                Traceback (most recent call last)",
      "Input \u001b[0;32mIn [3]\u001b[0m, in \u001b[0;36m<cell line: 1>\u001b[0;34m()\u001b[0m\n\u001b[0;32m----> 1\u001b[0m \u001b[43mxp\u001b[49m\u001b[38;5;241;43m.\u001b[39;49m\u001b[43mGS_simple_experiments\u001b[49m\u001b[43m(\u001b[49m\u001b[43mdo_plot\u001b[49m\u001b[38;5;241;43m=\u001b[39;49m\u001b[38;5;28;43;01mFalse\u001b[39;49;00m\u001b[43m)\u001b[49m\n",
      "File \u001b[0;32m~/Documenti/Progetti/Networks/Embednet/experiments.py:138\u001b[0m, in \u001b[0;36mExperiments.GS_simple_experiments\u001b[0;34m(self, list_points, parallel_take_result, do_plot)\u001b[0m\n\u001b[1;32m    136\u001b[0m \u001b[38;5;28mself\u001b[39m\u001b[38;5;241m.\u001b[39mtrainer\u001b[38;5;241m.\u001b[39mreinit_conf(c)            \n\u001b[1;32m    137\u001b[0m \u001b[38;5;28mself\u001b[39m\u001b[38;5;241m.\u001b[39mjust_train()\n\u001b[0;32m--> 138\u001b[0m embedding_class \u001b[38;5;241m=\u001b[39m \u001b[38;5;28;43mself\u001b[39;49m\u001b[38;5;241;43m.\u001b[39;49m\u001b[43membedding\u001b[49m\u001b[43m(\u001b[49m\u001b[43m)\u001b[49m\n\u001b[1;32m    140\u001b[0m embedding_dimension \u001b[38;5;241m=\u001b[39m \u001b[38;5;28mself\u001b[39m\u001b[38;5;241m.\u001b[39mtrainer\u001b[38;5;241m.\u001b[39membedding_dimension  \u001b[38;5;66;03m#  self.trainer.model.convs[-1].out_channels\u001b[39;00m\n\u001b[1;32m    141\u001b[0m trainmode \u001b[38;5;241m=\u001b[39m \u001b[38;5;28mself\u001b[39m\u001b[38;5;241m.\u001b[39mtrainer\u001b[38;5;241m.\u001b[39mconfig_class\u001b[38;5;241m.\u001b[39mmodo\n",
      "File \u001b[0;32m~/Documenti/Progetti/Networks/Embednet/experiments.py:413\u001b[0m, in \u001b[0;36mExperiments.embedding\u001b[0;34m(self)\u001b[0m\n\u001b[1;32m    411\u001b[0m graph_embeddings_array, node_embeddings_array, node_embeddings_array_id, final_output \u001b[38;5;241m=\u001b[39m \u001b[38;5;28mself\u001b[39m\u001b[38;5;241m.\u001b[39mtrainer\u001b[38;5;241m.\u001b[39mtake_embedding_all_data()\n\u001b[1;32m    412\u001b[0m \u001b[38;5;28;01mif\u001b[39;00m \u001b[38;5;129;01mnot\u001b[39;00m \u001b[38;5;28mself\u001b[39m\u001b[38;5;241m.\u001b[39mconfig_class\u001b[38;5;241m.\u001b[39mconf[\u001b[38;5;124m'\u001b[39m\u001b[38;5;124mmodel\u001b[39m\u001b[38;5;124m'\u001b[39m][\u001b[38;5;124m'\u001b[39m\u001b[38;5;124mautoencoder_graph_ae\u001b[39m\u001b[38;5;124m'\u001b[39m]:\n\u001b[0;32m--> 413\u001b[0m     embedding_class \u001b[38;5;241m=\u001b[39m \u001b[38;5;28;43mself\u001b[39;49m\u001b[38;5;241;43m.\u001b[39;49m\u001b[43melaborate_embedding\u001b[49m\u001b[43m(\u001b[49m\u001b[43mgraph_embeddings_array\u001b[49m\u001b[43m,\u001b[49m\u001b[43m \u001b[49m\u001b[43mnode_embeddings_array\u001b[49m\u001b[43m,\u001b[49m\u001b[43m \u001b[49m\u001b[43mnode_embeddings_array_id\u001b[49m\u001b[43m,\u001b[49m\u001b[43m \u001b[49m\u001b[43mfinal_output\u001b[49m\u001b[43m,\u001b[49m\u001b[43m \u001b[49m\u001b[38;5;28;43mself\u001b[39;49m\u001b[38;5;241;43m.\u001b[39;49m\u001b[43mtrainer\u001b[49m\u001b[38;5;241;43m.\u001b[39;49m\u001b[43mmodel\u001b[49m\u001b[38;5;241;43m.\u001b[39;49m\u001b[43mlinears\u001b[49m\u001b[43m)\u001b[49m\n\u001b[1;32m    414\u001b[0m \u001b[38;5;28;01melse\u001b[39;00m:\n\u001b[1;32m    415\u001b[0m     embedding_edges \u001b[38;5;241m=\u001b[39m get_embedding_edges(\u001b[38;5;28mself\u001b[39m\u001b[38;5;241m.\u001b[39mtrainer\u001b[38;5;241m.\u001b[39mdataset\u001b[38;5;241m.\u001b[39mget_all_data_loader())\n",
      "File \u001b[0;32m~/Documenti/Progetti/Networks/Embednet/experiments.py:427\u001b[0m, in \u001b[0;36mExperiments.elaborate_embedding\u001b[0;34m(self, graph_embeddings_array, node_embeddings_array, node_embeddings_array_id, output_array, modelparams)\u001b[0m\n\u001b[1;32m    425\u001b[0m \u001b[38;5;28;01mdef\u001b[39;00m \u001b[38;5;21melaborate_embedding\u001b[39m(\u001b[38;5;28mself\u001b[39m, graph_embeddings_array, node_embeddings_array, node_embeddings_array_id, output_array, modelparams):\n\u001b[1;32m    426\u001b[0m     embedding_class \u001b[38;5;241m=\u001b[39m Embedding(graph_embeddings_array, node_embeddings_array, \u001b[38;5;28mself\u001b[39m\u001b[38;5;241m.\u001b[39mtrainer\u001b[38;5;241m.\u001b[39mdataset, \u001b[38;5;28mself\u001b[39m\u001b[38;5;241m.\u001b[39mtrainer\u001b[38;5;241m.\u001b[39mconfig_class, output_array, modelparams)\n\u001b[0;32m--> 427\u001b[0m     \u001b[43membedding_class\u001b[49m\u001b[38;5;241;43m.\u001b[39;49m\u001b[43mget_emb_per_graph\u001b[49m\u001b[43m(\u001b[49m\u001b[43m)\u001b[49m  \u001b[38;5;66;03m# riempie node_emb_pergraph\u001b[39;00m\n\u001b[1;32m    428\u001b[0m     embedding_class\u001b[38;5;241m.\u001b[39mseparate_embedding_by_classes()  \u001b[38;5;66;03m# riempie node_emb_perclass e graph_emb_perclass\u001b[39;00m\n\u001b[1;32m    429\u001b[0m     \u001b[38;5;28;01mreturn\u001b[39;00m embedding_class\n",
      "File \u001b[0;32m~/Documenti/Progetti/Networks/Embednet/embedding.py:102\u001b[0m, in \u001b[0;36mEmbedding.get_emb_per_graph\u001b[0;34m(self)\u001b[0m\n\u001b[1;32m     99\u001b[0m \u001b[38;5;28;01mif\u001b[39;00m \u001b[38;5;28mself\u001b[39m\u001b[38;5;241m.\u001b[39mscalar_class:\n\u001b[1;32m    100\u001b[0m     scalar_label \u001b[38;5;241m=\u001b[39m \u001b[38;5;28mself\u001b[39m\u001b[38;5;241m.\u001b[39mscalar_class[i]\n\u001b[0;32m--> 102\u001b[0m graph_emb \u001b[38;5;241m=\u001b[39m \u001b[38;5;28;43mself\u001b[39;49m\u001b[38;5;241;43m.\u001b[39;49m\u001b[43mgraph_embedding_array\u001b[49m\u001b[43m[\u001b[49m\u001b[43mi\u001b[49m\u001b[43m]\u001b[49m\n\u001b[1;32m    103\u001b[0m node_emb \u001b[38;5;241m=\u001b[39m \u001b[38;5;28mself\u001b[39m\u001b[38;5;241m.\u001b[39mnode_embedding_array[r:r \u001b[38;5;241m+\u001b[39m Num_nodi]\n\u001b[1;32m    104\u001b[0m graph_output \u001b[38;5;241m=\u001b[39m \u001b[38;5;28mself\u001b[39m\u001b[38;5;241m.\u001b[39moutput_array[i]\n",
      "\u001b[0;31mIndexError\u001b[0m: index 600 is out of bounds for axis 0 with size 600"
     ]
    }
   ],
   "source": [
    "xp.GS_simple_experiments(do_plot=False)"
   ]
  },
  {
   "cell_type": "code",
   "execution_count": null,
   "metadata": {},
   "outputs": [],
   "source": [
    "xp.gc.configs"
   ]
  },
  {
   "cell_type": "code",
   "execution_count": null,
   "metadata": {},
   "outputs": [],
   "source": [
    "c = xp.gc.configs[0]\n",
    "xp.trainer.reinit_conf(c)\n",
    "xp.trainer.init_all()"
   ]
  },
  {
   "cell_type": "code",
   "execution_count": null,
   "metadata": {},
   "outputs": [],
   "source": [
    "xp.trainer.launch_training()"
   ]
  },
  {
   "cell_type": "code",
   "execution_count": null,
   "metadata": {},
   "outputs": [],
   "source": [
    "xp.trainer.test_loss_list"
   ]
  },
  {
   "cell_type": "code",
   "execution_count": null,
   "metadata": {},
   "outputs": [],
   "source": [
    "embedding_class = xp.embedding()"
   ]
  }
 ],
 "metadata": {
  "kernelspec": {
   "display_name": "Pytorch Geometric",
   "language": "python",
   "name": "pytorch-geom"
  },
  "language_info": {
   "codemirror_mode": {
    "name": "ipython",
    "version": 3
   },
   "file_extension": ".py",
   "mimetype": "text/x-python",
   "name": "python",
   "nbconvert_exporter": "python",
   "pygments_lexer": "ipython3",
   "version": "3.8.13"
  }
 },
 "nbformat": 4,
 "nbformat_minor": 4
}
