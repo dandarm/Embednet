{
 "cells": [
  {
   "cell_type": "code",
   "execution_count": 1,
   "metadata": {},
   "outputs": [],
   "source": [
    "%load_ext autoreload\n",
    "%autoreload 2\n",
    "\n",
    "import itertools\n",
    "import numpy as np\n",
    "import matplotlib.pyplot as plt\n",
    "\n",
    "from multiprocessing import Pool\n",
    "import time\n",
    "from tqdm import tqdm\n",
    "\n",
    "from graph_generation import create_ER, dataset_nclass_ER, dataset_regression_ER\n",
    "from models import GCN, GCNEmbed\n",
    "from train import Trainer, Dataset\n",
    "from embedding import Embedding\n",
    "from experiments import experiment_embedding\n",
    "\n",
    "import torch\n",
    "from torch_geometric.loader import DataLoader\n",
    "device = torch.device('cuda')\n",
    "\n",
    "from scipy import stats\n",
    "\n",
    "import yaml"
   ]
  },
  {
   "cell_type": "code",
   "execution_count": 2,
   "metadata": {},
   "outputs": [],
   "source": [
    "config = yaml.safe_load(open(\"configs.yml\"))"
   ]
  },
  {
   "cell_type": "code",
   "execution_count": 3,
   "metadata": {},
   "outputs": [
    {
     "name": "stdout",
     "output_type": "stream",
     "text": [
      "Mean connectivity for each node: 12.956 p=0.05\n",
      "Mean connectivity for each node: 77.685 p=0.3\n"
     ]
    }
   ],
   "source": [
    "# Dataset con cluster di grafi attorno a una p data\n",
    "dataset_grafi_nx, dataset_labels, list_p= dataset_nclass_ER(config)\n",
    "\n",
    "# Dataset con una distribuzione uniforme di grafi di p diversa\n",
    "#dataset_grafi_nx, dataset_labels = dataset_regression_ER(config)"
   ]
  },
  {
   "cell_type": "code",
   "execution_count": 5,
   "metadata": {},
   "outputs": [
    {
     "name": "stdout",
     "output_type": "stream",
     "text": [
      "GCN(\n",
      "  (convs): ModuleList(\n",
      "    (0): GCNConv(1, 32)\n",
      "    (1): GCNConv(32, 1)\n",
      "  )\n",
      "  (pools): ModuleList()\n",
      "  (leaky): LeakyReLU(negative_slope=0.03)\n",
      ")\n",
      "MSELoss()\n",
      "Loading Dataset...\n"
     ]
    },
    {
     "name": "stderr",
     "output_type": "stream",
     "text": [
      "100%|███████████████████████████████████████████████████████████████████████████████████████████████████████████████████████| 600/600 [00:30<00:00, 19.59it/s]\n"
     ]
    },
    {
     "name": "stdout",
     "output_type": "stream",
     "text": [
      "Tempo impiegato: 30.745939254760742\n",
      "runs/lr-0.01_epochs2500_bs100_neurons-1-32-1_17Jun_15-57-57\n",
      "Run training for 2500 epochs\n",
      "Epoch: 0\tTest loss: 0.0004671459603640768 \t Explained Variance: [array(nan, dtype=float32)]\n",
      "Epoch: 100\tTest loss: 0.0001763661495513386 \t Explained Variance: [array(nan, dtype=float32)]\n",
      "Epoch: 200\tTest loss: 0.00017476431611511441 \t Explained Variance: [array(nan, dtype=float32)]\n",
      "Epoch: 300\tTest loss: 0.0001631461549550295 \t Explained Variance: [array(nan, dtype=float32)]\n",
      "Epoch: 400\tTest loss: 7.965919923865132e-05 \t Explained Variance: [array(nan, dtype=float32)]\n",
      "Epoch: 500\tTest loss: 1.1459179222583771e-05 \t Explained Variance: [array(nan, dtype=float32)]\n",
      "Epoch: 600\tTest loss: 3.5255049523483547e-06 \t Explained Variance: [array(nan, dtype=float32)]\n",
      "Epoch: 700\tTest loss: 1.9098680544023712e-06 \t Explained Variance: [array(nan, dtype=float32)]\n",
      "Epoch: 800\tTest loss: 1.8301817666118343e-06 \t Explained Variance: [array(nan, dtype=float32)]\n",
      "Epoch: 900\tTest loss: 2.2718467840200496e-06 \t Explained Variance: [array(nan, dtype=float32)]\n",
      "Epoch: 1000\tTest loss: 1.9728654782132555e-06 \t Explained Variance: [array(nan, dtype=float32)]\n",
      "Epoch: 1100\tTest loss: 1.261917229082125e-06 \t Explained Variance: [array(nan, dtype=float32)]\n",
      "Epoch: 1200\tTest loss: 1.5281265304009948e-06 \t Explained Variance: [array(nan, dtype=float32)]\n",
      "Epoch: 1300\tTest loss: 1.2336876049327354e-06 \t Explained Variance: [array(nan, dtype=float32)]\n",
      "Early stopping!!!\n",
      "Non serve calcolare le distanze nel caso di embedding scalare\n"
     ]
    }
   ],
   "source": [
    "embeddings, trainer, test_loss_list = experiment_embedding(config, dataset_grafi_nx, dataset_labels, list_p, cont_p=False)"
   ]
  },
  {
   "cell_type": "code",
   "execution_count": 6,
   "metadata": {},
   "outputs": [
    {
     "data": {
      "image/png": "[encoded data removed]",
      "text/plain": [
       "<Figure size 1296x432 with 1 Axes>"
      ]
     },
     "metadata": {
      "needs_background": "light"
     },
     "output_type": "display_data"
    }
   ],
   "source": [
    "def intorno(p_teorica, p_attuali, soglia):\n",
    "    mask = []\n",
    "    for p in p_attuali:\n",
    "        if p > p_teorica - soglia and p < p_teorica + soglia:\n",
    "            mask.append(True)\n",
    "        else:\n",
    "            mask.append(False)\n",
    "    return mask\n",
    "    \n",
    "plt.figure(figsize=(18, 6)) #, dpi=60)\n",
    "for p in list_p:\n",
    "    #mask_int = np.argwhere(embeddings.embedding_labels==p).flatten()\n",
    "    mask_int = np.argwhere(intorno(p, embeddings.embedding_labels, 0.05)).flatten()\n",
    "    emb = embeddings.embeddings_array[mask_int].flatten()\n",
    "    \n",
    "    h,e = np.histogram(emb, bins=20, density=True)\n",
    "    x = np.linspace(e.min(), e.max())\n",
    "    plt.bar(e[:-1], h, width=np.diff(e), ec='k', align='edge', label='histogram')\n",
    "\n",
    "    kde = stats.gaussian_kde(emb)\n",
    "    plt.plot(x, kde.pdf(x),  lw=5, label='KDE')\n",
    "    \n",
    "plt.xlabel('p', fontsize=18)\n",
    "plt.xticks(fontsize=18) \n",
    "plt.show()"
   ]
  },
  {
   "cell_type": "code",
   "execution_count": 7,
   "metadata": {},
   "outputs": [
    {
     "data": {
      "image/png": "[encoded data removed]",
      "text/plain": [
       "<Figure size 1296x432 with 1 Axes>"
      ]
     },
     "metadata": {
      "needs_background": "light"
     },
     "output_type": "display_data"
    }
   ],
   "source": [
    "# Senza classi, distribuzione uniforme di probabilità\n",
    "\n",
    "plt.figure(figsize=(18, 6)) #, dpi=60)\n",
    "\n",
    "emb = embeddings.embeddings_array.flatten()\n",
    "h,e = np.histogram(emb, bins=30, density=False)\n",
    "x = np.linspace(e.min(), e.max())\n",
    "plt.bar(e[:-1], h, width=np.diff(e), ec='k', align='edge', label='histogram')\n",
    "\n",
    "lab = embeddings.embedding_labels\n",
    "h,e = np.histogram(lab, bins=30, density=False)\n",
    "x = np.linspace(e.min(), e.max())\n",
    "plt.bar(e[:-1], h, width=np.diff(e), ec='k', align='edge', label='histogram')\n",
    "    \n",
    "plt.xlabel('p', fontsize=18)\n",
    "plt.xticks(fontsize=18) \n",
    "plt.show()"
   ]
  },
  {
   "cell_type": "code",
   "execution_count": null,
   "metadata": {},
   "outputs": [],
   "source": [
    "import networkx as nx\n",
    "num_nodes = config['graph_dataset']['Num_nodes']\n",
    "#total_links = num_nodes* (num_nodes-1) / 2\n",
    "actual_p = np.array([nx.to_numpy_matrix(t).sum(axis=1).mean() / (num_nodes-1) for t in trainer.dataset.dataset])"
   ]
  },
  {
   "cell_type": "code",
   "execution_count": null,
   "metadata": {},
   "outputs": [],
   "source": [
    "plt.figure(figsize=(18, 4)) #, dpi=60)\n",
    "for p in list_p:\n",
    "    #mask_int = np.argwhere(embeddings.embedding_labels==p).flatten()\n",
    "    mask_int = np.argwhere(intorno(p, embeddings.embedding_labels, 0.05)).flatten()\n",
    "    h,e = np.histogram(actual_p[mask_int], bins=10, density=False)\n",
    "    x = np.linspace(e.min(), e.max())\n",
    "    plt.bar(e[:-1], h, width=np.diff(e), ec='k', align='edge', label='histogram')\n",
    "plt.show()"
   ]
  },
  {
   "cell_type": "code",
   "execution_count": 6,
   "metadata": {},
   "outputs": [
    {
     "data": {
      "text/plain": [
       "[<matplotlib.lines.Line2D at 0x7f0f5fd61820>]"
      ]
     },
     "execution_count": 6,
     "metadata": {},
     "output_type": "execute_result"
    },
    {
     "data": {
      "image/png": "[encoded data removed]",
      "text/plain": [
       "<Figure size 432x288 with 1 Axes>"
      ]
     },
     "metadata": {
      "needs_background": "light"
     },
     "output_type": "display_data"
    }
   ],
   "source": [
    "plt.plot(test_loss_list)\n",
    "#plt.ylim(0, 0.00002)"
   ]
  },
  {
   "cell_type": "code",
   "execution_count": null,
   "metadata": {},
   "outputs": [],
   "source": [
    "#plt.figure(figsize=(18, 6)) #, dpi=60)\n",
    "for p in list_p:\n",
    "    mask_int = np.argwhere(intorno(p, embeddings.embedding_labels, 0.05)).flatten()\n",
    "    plt.scatter(actual_p[mask_int], embeddings.embeddings_array[mask_int].flatten()) #, s=area, c=colors, alpha=0.5)\n",
    "    # correlazione tra target e prediction\n",
    "    correlaz = np.corrcoef(embeddings.embeddings_array[mask_int].flatten(), actual_p[mask_int])[0,1]\n",
    "    plt.title(f\"P = {p}     corr = {correlaz}\")\n",
    "    plt.show()"
   ]
  },
  {
   "cell_type": "code",
   "execution_count": 11,
   "metadata": {},
   "outputs": [
    {
     "data": {
      "text/plain": [
       "0.000928494682020772"
      ]
     },
     "execution_count": 11,
     "metadata": {},
     "output_type": "execute_result"
    }
   ],
   "source": [
    "np.sqrt(np.sum((embeddings.embeddings_array.flatten() - embeddings.embedding_labels)**2)) / len(embeddings.embeddings_array)"
   ]
  },
  {
   "cell_type": "code",
   "execution_count": 9,
   "metadata": {},
   "outputs": [
    {
     "data": {
      "image/png": "[encoded data removed]",
      "text/plain": [
       "<Figure size 432x288 with 1 Axes>"
      ]
     },
     "metadata": {
      "needs_background": "light"
     },
     "output_type": "display_data"
    }
   ],
   "source": [
    "plt.scatter(embeddings.embedding_labels, embeddings.embeddings_array.flatten()) #, s=area, c=colors, alpha=0.5)\n",
    "# correlazione tra target e prediction\n",
    "correlaz = np.corrcoef(embeddings.embeddings_array.flatten(), embeddings.embedding_labels)[0,1]\n",
    "error = np.sqrt(np.sum((embeddings.embeddings_array.flatten() - embeddings.embedding_labels)**2))\n",
    "plt.title(f\"Corr = {round(correlaz,5)}\")\n",
    "plt.show()"
   ]
  },
  {
   "cell_type": "code",
   "execution_count": null,
   "metadata": {},
   "outputs": [],
   "source": []
  },
  {
   "cell_type": "code",
   "execution_count": 20,
   "metadata": {},
   "outputs": [
    {
     "data": {
      "text/plain": [
       "30.416735"
      ]
     },
     "execution_count": 20,
     "metadata": {},
     "output_type": "execute_result"
    },
    {
     "data": {
      "image/png": "[encoded data removed]",
      "text/plain": [
       "<Figure size 432x288 with 1 Axes>"
      ]
     },
     "metadata": {
      "needs_background": "light"
     },
     "output_type": "display_data"
    }
   ],
   "source": [
    "plt.hist(embeddings.inter_dists, bins=80, alpha=0.8)\n",
    "plt.hist(embeddings.intra_dists, bins=80, alpha=0.8)\n",
    "    \n",
    "mean_intra = np.mean(embeddings.intra_dists)\n",
    "mean_inter = np.mean(embeddings.inter_dists)\n",
    "distance_of_means = mean_inter - mean_intra\n",
    "distance_of_means"
   ]
  },
  {
   "cell_type": "markdown",
   "metadata": {},
   "source": [
    "# Vedo cosa fa su altri grafi che non ha mai visto, con p diversa"
   ]
  },
  {
   "cell_type": "code",
   "execution_count": null,
   "metadata": {},
   "outputs": [],
   "source": [
    "config['graph_dataset']['list_p'] = [0.03, 0.2]\n",
    "dataset_grafi_nx, dataset_labels, list_p = dataset_nclass_ER(config)\n",
    "trainer.load_dataset(dataset_grafi_nx, dataset_labels)\n",
    "whole_data = trainer.dataset.dataset_pyg\n",
    "all_data_loader = DataLoader(whole_data, batch_size=trainer.dataset.bs, shuffle=False) \n",
    "embeddings_array2 = trainer.take_embedding(all_data_loader)\n",
    "embeddings_array2 = np.array([emb.cpu().detach().numpy() for emb in embeddings_array2])\n",
    "\n",
    "embeddings2 = Embedding(embeddings_array2, trainer.dataset.dataset, trainer.dataset.labels, list_p)"
   ]
  },
  {
   "cell_type": "code",
   "execution_count": null,
   "metadata": {},
   "outputs": [],
   "source": [
    "plt.figure(figsize=(18, 4))\n",
    "h,e = np.histogram(embeddings2.embeddings_array.flatten(), bins=30, density=False)\n",
    "x = np.linspace(e.min(), e.max())\n",
    "plt.bar(e[:-1], h, width=np.diff(e), ec='k', align='edge', label='histogram')"
   ]
  },
  {
   "cell_type": "code",
   "execution_count": null,
   "metadata": {},
   "outputs": [],
   "source": [
    "actual_p2 = np.array([nx.to_numpy_matrix(t).sum(axis=1).mean() / (num_nodes-1) for t in trainer.dataset.dataset])\n",
    "for p in list_p:\n",
    "    mask_int = np.argwhere(intorno(p, embeddings2.embedding_labels, 0.15)).flatten()\n",
    "    plt.scatter(actual_p2[mask_int], embeddings2.embeddings_array[mask_int].flatten()) #, s=area, c=colors, alpha=0.5)\n",
    "    # correlazione tra target e prediction\n",
    "    correlaz = np.corrcoef(embeddings2.embeddings_array[mask_int].flatten(), actual_p2[mask_int])[0,1]\n",
    "    plt.title(f\"P = {p}     corr = {correlaz}\")\n",
    "    plt.show()"
   ]
  },
  {
   "cell_type": "code",
   "execution_count": null,
   "metadata": {},
   "outputs": [],
   "source": []
  }
 ],
 "metadata": {
  "kernelspec": {
   "display_name": "Python [conda env:pytorch-geom]",
   "language": "python",
   "name": "conda-env-pytorch-geom-py"
  },
  "language_info": {
   "codemirror_mode": {
    "name": "ipython",
    "version": 3
   },
   "file_extension": ".py",
   "mimetype": "text/x-python",
   "name": "python",
   "nbconvert_exporter": "python",
   "pygments_lexer": "ipython3",
   "version": "3.8.13"
  }
 },
 "nbformat": 4,
 "nbformat_minor": 4
}
