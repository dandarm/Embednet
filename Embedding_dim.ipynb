{
 "cells": [
  {
   "cell_type": "markdown",
   "metadata": {},
   "source": [
    "# Embedding dimension"
   ]
  },
  {
   "cell_type": "code",
   "execution_count": 1,
   "metadata": {},
   "outputs": [],
   "source": [
    "%load_ext autoreload\n",
    "%autoreload 2"
   ]
  },
  {
   "cell_type": "code",
   "execution_count": 2,
   "metadata": {},
   "outputs": [],
   "source": [
    "import itertools\n",
    "import numpy as np\n",
    "import matplotlib.pyplot as plt\n",
    "\n",
    "from multiprocessing import Pool\n",
    "import time\n",
    "from tqdm import tqdm\n",
    "\n",
    "from graph_generation import create_ER\n",
    "from models import GCN, GCNEmbed, GCN1n\n",
    "from train import Trainer\n",
    "from embedding import Embedding\n",
    "\n",
    "import torch\n",
    "from torch_geometric.loader import DataLoader\n",
    "device = torch.device('cuda')\n",
    "\n",
    "import yaml"
   ]
  },
  {
   "cell_type": "code",
   "execution_count": 3,
   "metadata": {},
   "outputs": [],
   "source": [
    "config = yaml.safe_load(open(\"configs.yml\"))"
   ]
  },
  {
   "cell_type": "code",
   "execution_count": 4,
   "metadata": {},
   "outputs": [
    {
     "name": "stdout",
     "output_type": "stream",
     "text": [
      "Mean connectivity for each node: 29.643\n",
      "Mean connectivity for each node: 7.919\n"
     ]
    }
   ],
   "source": [
    "N = config['graph_dataset']['Num_nodes']\n",
    "p1 = config['graph_dataset']['p1ER']\n",
    "p2 = config['graph_dataset']['p2ER']\n",
    "Num_grafi_per_tipo = config['graph_dataset']['Num_grafi_per_tipo']\n",
    "\n",
    "grafi_0 = create_ER(N, p1, Num_grafi_per_tipo)\n",
    "grafi_1 = create_ER(N, p2, Num_grafi_per_tipo)\n",
    "dataset_grafi_nx = grafi_0 + grafi_1\n",
    "#dataset_labels = np.array([0]*len(grafi_0) + [1]*len(grafi_1))\n",
    "# adesso le labels corrispondono proprio al valore della probabilità\n",
    "dataset_labels = np.array([p1]*len(grafi_0) + [p2]*len(grafi_1))\n",
    "\n",
    "\n",
    "def experiment_embedding():\n",
    "    config = yaml.safe_load(open(\"configs.yml\"))\n",
    "    if config['device'] == 'gpu':\n",
    "        device = torch.device('cuda')\n",
    "    else:\n",
    "        device = \"cpu\"\n",
    "\n",
    "    model = GCN1n(hidden_channels=config['model']['num_neurons'])\n",
    "    model.to(device)\n",
    "    #print(model)\n",
    "    \n",
    "    trainer = Trainer(model, config)\n",
    "    print(\"Loading Dataset...\")\n",
    "    trainer.load_dataset(dataset_grafi_nx, dataset_labels, percentage_train=config['training']['percentage_train'])\n",
    "    train_loss_list, test_loss_list = trainer.launch_training()\n",
    "    \n",
    "    # get embedding of all graphs in dataset\n",
    "    embed_model = GCNEmbed(model)\n",
    "    embed_model = embed_model.to(device)\n",
    "    whole_data = trainer.dataset.dataset_pyg\n",
    "    all_data_loader = DataLoader(whole_data, batch_size=trainer.dataset.len_data, shuffle=False)\n",
    "    batch = next(iter(all_data_loader))\n",
    "    embeddings_array = embed_model(batch.x, batch.edge_index, batch.batch).cpu().detach().numpy()\n",
    "    \n",
    "    embeddings = Embedding(embeddings_array, trainer.dataset.labels, (p1,p2), test_loss_list)\n",
    "    embeddings.calc_coppie()\n",
    "    embeddings.calc_distances()\n",
    "    \n",
    "    return embeddings"
   ]
  },
  {
   "cell_type": "code",
   "execution_count": 5,
   "metadata": {},
   "outputs": [
    {
     "name": "stdout",
     "output_type": "stream",
     "text": [
      "Loading Dataset...\n"
     ]
    },
    {
     "name": "stderr",
     "output_type": "stream",
     "text": [
      "100%|█████████████████████████████████████████████████████████████████████████████████| 200/200 [00:01<00:00, 116.41it/s]\n"
     ]
    },
    {
     "name": "stdout",
     "output_type": "stream",
     "text": [
      "Tempo impiegato: 1.734114170074463\n",
      "runs/lr-0.005_epochs1500_bs150_layers3_neurons64_lln1/04May_19-48-37\n"
     ]
    }
   ],
   "source": [
    "embeddings = experiment_embedding()"
   ]
  },
  {
   "cell_type": "code",
   "execution_count": 10,
   "metadata": {},
   "outputs": [
    {
     "data": {
      "image/png": "[encoded data removed]",
      "text/plain": [
       "<Figure size 432x288 with 1 Axes>"
      ]
     },
     "metadata": {
      "needs_background": "light"
     },
     "output_type": "display_data"
    }
   ],
   "source": [
    "plt.hist(embeddings.inter_dists, bins=80, alpha=0.8)\n",
    "plt.hist(embeddings.intra_dists, bins=80, alpha=0.8)\n",
    "plt.show()"
   ]
  },
  {
   "cell_type": "code",
   "execution_count": 14,
   "metadata": {},
   "outputs": [
    {
     "data": {
      "image/png": "[encoded data removed]",
      "text/plain": [
       "<Figure size 432x288 with 1 Axes>"
      ]
     },
     "metadata": {
      "needs_background": "light"
     },
     "output_type": "display_data"
    }
   ],
   "source": [
    "#plt.hist(embeddings.cos_inter_dists, bins=80, alpha=0.8)\n",
    "plt.hist(embeddings.intra_dists, bins=80, alpha=0.8)\n",
    "plt.show()"
   ]
  },
  {
   "cell_type": "code",
   "execution_count": 9,
   "metadata": {},
   "outputs": [
    {
     "data": {
      "image/png": "[encoded data removed]",
      "text/plain": [
       "<Figure size 432x288 with 1 Axes>"
      ]
     },
     "metadata": {
      "needs_background": "light"
     },
     "output_type": "display_data"
    }
   ],
   "source": [
    "plt.hist(embeddings.embeddings_array, bins=80);"
   ]
  },
  {
   "cell_type": "code",
   "execution_count": null,
   "metadata": {},
   "outputs": [],
   "source": []
  }
 ],
 "metadata": {
  "kernelspec": {
   "display_name": "Pytorch Geometric",
   "language": "python",
   "name": "pytorch-geom"
  },
  "language_info": {
   "codemirror_mode": {
    "name": "ipython",
    "version": 3
   },
   "file_extension": ".py",
   "mimetype": "text/x-python",
   "name": "python",
   "nbconvert_exporter": "python",
   "pygments_lexer": "ipython3",
   "version": "3.8.13"
  }
 },
 "nbformat": 4,
 "nbformat_minor": 4
}
