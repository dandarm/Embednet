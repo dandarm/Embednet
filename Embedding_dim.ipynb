{
 "cells": [
  {
   "cell_type": "markdown",
   "metadata": {},
   "source": [
    "# Embedding dimension"
   ]
  },
  {
   "cell_type": "code",
   "execution_count": 1,
   "metadata": {},
   "outputs": [],
   "source": [
    "%load_ext autoreload\n",
    "%autoreload 2"
   ]
  },
  {
   "cell_type": "code",
   "execution_count": 2,
   "metadata": {},
   "outputs": [],
   "source": [
    "import itertools\n",
    "import numpy as np\n",
    "import matplotlib.pyplot as plt\n",
    "\n",
    "from multiprocessing import Pool\n",
    "import time\n",
    "from tqdm import tqdm\n",
    "\n",
    "from graph_generation import create_ER\n",
    "from models import GCN, GCNEmbed\n",
    "from train import Trainer\n",
    "from embedding import Embedding\n",
    "\n",
    "import torch\n",
    "from torch_geometric.loader import DataLoader\n",
    "device = torch.device('cuda')\n",
    "\n",
    "import yaml"
   ]
  },
  {
   "cell_type": "code",
   "execution_count": 11,
   "metadata": {},
   "outputs": [],
   "source": [
    "config = yaml.safe_load(open(\"configs.yml\"))"
   ]
  },
  {
   "cell_type": "code",
   "execution_count": 12,
   "metadata": {},
   "outputs": [
    {
     "data": {
      "text/plain": [
       "dict_items([('graph_dataset', {'ERmodel': True, 'p1ER': 0.3, 'p2ER': 0.08, 'Num_nodes': 100, 'Num_grafi_per_tipo': 100}), ('memcached', {'host': '10.0.0.99'}), ('workers', [{'host': '10.0.0.101', 'port': 2301}, {'host': '10.0.0.102', 'port': 2302}])])"
      ]
     },
     "execution_count": 12,
     "metadata": {},
     "output_type": "execute_result"
    }
   ],
   "source": [
    "config.items()"
   ]
  },
  {
   "cell_type": "code",
   "execution_count": null,
   "metadata": {},
   "outputs": [],
   "source": [
    "criterion = nn.MSELoss()\n",
    "p1 = config['graph_dataset']['p1ER']\n",
    "p2 = config['graph_dataset']['p2ER']\n",
    "Num_grafi_per_tipo = config['graph_dataset']['Num_grafi_per_tipo']\n",
    "\n",
    "grafi_0 = create_ER(N, p1, Num_grafi_per_tipo)\n",
    "grafi_1 = create_ER(N, p2, Num_grafi_per_tipo)\n",
    "dataset_grafi_nx = grafi_0 + grafi_1\n",
    "dataset_labels = np.array([0]*len(grafi_0) + [1]*len(grafi_1))\n",
    "\n",
    "\n",
    "def experiment_embedding(config):\n",
    "\n",
    "    \n",
    "    model = GCN(hidden_channels=num_neurons, num_neurons_last_layer=num_last_neurons)\n",
    "    model.to(device)\n",
    "    #print(model)\n",
    "    \n",
    "    trainer = Trainer(model, \n",
    "                      learning_rate=learning_rate, \n",
    "                      epochs=epochs, \n",
    "                      batch_size=batch_size, \n",
    "                      layers = layers, \n",
    "                      neurons=num_neurons, \n",
    "                      last_layer_neurons=num_last_neurons)\n",
    "    print(\"Loading Dataset...\")\n",
    "    trainer.load_dataset(dataset_grafi_nx, dataset_labels, percentage_train=percentage_train)\n",
    "    train_loss_list, test_loss_list = trainer.launch_training()\n",
    "    \n",
    "    # get embedding of all graphs in dataset\n",
    "    embed_model = GCNEmbed(model)\n",
    "    embed_model = embed_model.to(device)\n",
    "    whole_data = trainer.dataset.dataset_pyg\n",
    "    all_data_loader = DataLoader(whole_data, batch_size=trainer.dataset.len_data, shuffle=False)\n",
    "    batch = next(iter(all_data_loader))\n",
    "    embeddings_array = embed_model(batch.x, batch.edge_index, batch.batch).cpu().detach().numpy()\n",
    "    \n",
    "    embeddings = Embedding(embeddings_array, trainer.dataset.labels, (p1,p2), test_loss_list)\n",
    "    embeddings.calc_coppie()\n",
    "    embeddings.calc_distances()\n",
    "    \n",
    "    return embeddings"
   ]
  }
 ],
 "metadata": {
  "kernelspec": {
   "display_name": "Pytorch Geometric",
   "language": "python",
   "name": "pytorch-geom"
  },
  "language_info": {
   "codemirror_mode": {
    "name": "ipython",
    "version": 3
   },
   "file_extension": ".py",
   "mimetype": "text/x-python",
   "name": "python",
   "nbconvert_exporter": "python",
   "pygments_lexer": "ipython3",
   "version": "3.8.13"
  }
 },
 "nbformat": 4,
 "nbformat_minor": 4
}
