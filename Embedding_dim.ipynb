{
 "cells": [
  {
   "cell_type": "code",
   "execution_count": 1,
   "metadata": {},
   "outputs": [],
   "source": [
    "%load_ext autoreload\n",
    "%autoreload 2\n",
    "\n",
    "import itertools\n",
    "import numpy as np\n",
    "import matplotlib.pyplot as plt\n",
    "\n",
    "from multiprocessing import Pool\n",
    "import time\n",
    "from tqdm import tqdm\n",
    "\n",
    "from graph_generation import create_ER, dataset_nclass_ER\n",
    "from models import GCN, GCNEmbed\n",
    "from train import Trainer, Dataset\n",
    "from embedding import Embedding\n",
    "from experiments import experiment_embedding\n",
    "\n",
    "import torch\n",
    "from torch_geometric.loader import DataLoader\n",
    "device = torch.device('cuda')\n",
    "\n",
    "from scipy import stats\n",
    "\n",
    "import yaml"
   ]
  },
  {
   "cell_type": "code",
   "execution_count": 2,
   "metadata": {},
   "outputs": [],
   "source": [
    "config = yaml.safe_load(open(\"configs.yml\"))"
   ]
  },
  {
   "cell_type": "code",
   "execution_count": 3,
   "metadata": {},
   "outputs": [
    {
     "name": "stdout",
     "output_type": "stream",
     "text": [
      "Mean connectivity for each node: 14.964 p=0.05\n",
      "Mean connectivity for each node: 89.701 p=0.3\n",
      "Labels values: {0.05, 0.3}\n"
     ]
    }
   ],
   "source": [
    "dataset_grafi_nx, dataset_labels, list_p= dataset_nclass_ER(config)"
   ]
  },
  {
   "cell_type": "code",
   "execution_count": null,
   "metadata": {},
   "outputs": [],
   "source": [
    "embeddings, trainer = experiment_embedding(config, dataset_grafi_nx, dataset_labels, list_p)"
   ]
  },
  {
   "cell_type": "code",
   "execution_count": null,
   "metadata": {},
   "outputs": [],
   "source": [
    "plt.figure(figsize=(18, 6)) #, dpi=60)\n",
    "for p in list_p:\n",
    "    mask_int = np.argwhere(embeddings.embedding_labels==p).flatten()\n",
    "    emb = embeddings.embeddings_array[mask_int].flatten()\n",
    "    \n",
    "    h,e = np.histogram(emb, bins=10, density=True)\n",
    "    x = np.linspace(e.min(), e.max())\n",
    "    plt.bar(e[:-1], h, width=np.diff(e), ec='k', align='edge', label='histogram')\n",
    "\n",
    "    kde = stats.gaussian_kde(emb)\n",
    "    plt.plot(x, kde.pdf(x),  lw=5, label='KDE')\n",
    "    \n",
    "plt.xlabel('p', fontsize=18)\n",
    "plt.xticks(fontsize=18) \n",
    "plt.show()"
   ]
  },
  {
   "cell_type": "code",
   "execution_count": null,
   "metadata": {},
   "outputs": [],
   "source": []
  }
 ],
 "metadata": {
  "kernelspec": {
   "display_name": "Python [conda env:pytorch-geom]",
   "language": "python",
   "name": "conda-env-pytorch-geom-py"
  },
  "language_info": {
   "codemirror_mode": {
    "name": "ipython",
    "version": 3
   },
   "file_extension": ".py",
   "mimetype": "text/x-python",
   "name": "python",
   "nbconvert_exporter": "python",
   "pygments_lexer": "ipython3",
   "version": "3.8.13"
  }
 },
 "nbformat": 4,
 "nbformat_minor": 4
}
