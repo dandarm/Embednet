{
 "cells": [
  {
   "cell_type": "code",
   "execution_count": 2,
   "metadata": {},
   "outputs": [],
   "source": [
    "%load_ext autoreload\n",
    "%autoreload 2\n",
    "\n",
    "import os\n",
    "from TorchPCA import PCA # from https://github.com/Linardos/PyTorch/blob/master/TorchPCA.py\n",
    "import matplotlib.pyplot as plt"
   ]
  },
  {
   "cell_type": "raw",
   "metadata": {},
   "source": [
    "os.system('wget ftp://ftp.ncbi.nlm.nih.gov/geo/datasets/GDS6nnn/GDS6248/soft/GDS6248.soft.gz')\n",
    "os.system('gunzip GDS6248.soft.gz')\n",
    "os.system('tail -n +141 GDS6248.soft > GDS6248.softer') #getting rid of the redundant lines\n",
    "os.system('rm GDS6248.soft')\n",
    "os.system('head -n -1 GDS6248.softer > GDS6248.soft') #one last redundant line\n",
    "os.system('rm GDS6248.soft.gz')\n",
    "os.system('rm GDS6248.softer')"
   ]
  },
  {
   "cell_type": "code",
   "execution_count": 3,
   "metadata": {},
   "outputs": [],
   "source": [
    "import numpy as np\n",
    "temp = []\n",
    "with open('GDS6248.soft') as f:\n",
    "\tfor l in f:\n",
    "\t\ttemp2=[]\n",
    "\t\tfor x in l.split()[2:]:\n",
    "\t\t\ttry:\n",
    "\t\t\t\ttemp2.append(float(x))\n",
    "\t\t\texcept ValueError:\n",
    "\t\t\t\tpass\n",
    "\t\ttemp.append(temp2)\n",
    "\n",
    "X=np.array(temp)"
   ]
  },
  {
   "cell_type": "code",
   "execution_count": 4,
   "metadata": {},
   "outputs": [
    {
     "data": {
      "text/plain": [
       "(45281, 51)"
      ]
     },
     "execution_count": 4,
     "metadata": {},
     "output_type": "execute_result"
    }
   ],
   "source": [
    "X.shape"
   ]
  },
  {
   "cell_type": "code",
   "execution_count": 7,
   "metadata": {},
   "outputs": [
    {
     "name": "stdout",
     "output_type": "stream",
     "text": [
      "45281 51\n",
      "torch.Size([1, 45281])\n"
     ]
    }
   ],
   "source": [
    "# uso\n",
    "obj = PCA(X)\n",
    "var_exp, cum_car_exp, X = obj.get_ex_var() "
   ]
  },
  {
   "cell_type": "code",
   "execution_count": 10,
   "metadata": {},
   "outputs": [
    {
     "data": {
      "image/png": "[encoded data removed]",
      "text/plain": [
       "<Figure size 432x288 with 1 Axes>"
      ]
     },
     "metadata": {
      "needs_background": "light"
     },
     "output_type": "display_data"
    }
   ],
   "source": [
    "obj.plot(var_exp, cum_car_exp, X)"
   ]
  },
  {
   "cell_type": "code",
   "execution_count": 11,
   "metadata": {},
   "outputs": [
    {
     "data": {
      "text/plain": [
       "tensor(0.0898, dtype=torch.float64)"
      ]
     },
     "execution_count": 11,
     "metadata": {},
     "output_type": "execute_result"
    }
   ],
   "source": [
    "var_exp[0]"
   ]
  },
  {
   "cell_type": "code",
   "execution_count": null,
   "metadata": {},
   "outputs": [],
   "source": []
  }
 ],
 "metadata": {
  "kernelspec": {
   "display_name": "Pytorch Geometric",
   "language": "python",
   "name": "pytorch-geom"
  },
  "language_info": {
   "codemirror_mode": {
    "name": "ipython",
    "version": 3
   },
   "file_extension": ".py",
   "mimetype": "text/x-python",
   "name": "python",
   "nbconvert_exporter": "python",
   "pygments_lexer": "ipython3",
   "version": "3.8.13"
  }
 },
 "nbformat": 4,
 "nbformat_minor": 4
}
