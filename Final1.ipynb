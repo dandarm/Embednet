{
 "cells": [
  {
   "cell_type": "code",
   "execution_count": 1,
   "metadata": {},
   "outputs": [
    {
     "name": "stdout",
     "output_type": "stream",
     "text": [
      "env: CUBLAS_WORKSPACE_CONFIG=\":4096:8\"\n"
     ]
    }
   ],
   "source": [
    "%load_ext autoreload\n",
    "%autoreload 2\n",
    "\n",
    "#per la riproducibilità\n",
    "%env CUBLAS_WORKSPACE_CONFIG=\":4096:8\"\n",
    "\n",
    "import os\n",
    "import itertools\n",
    "from pathlib import Path\n",
    "import numpy as np\n",
    "import matplotlib.pyplot as plt\n",
    "from matplotlib.figure import Figure\n",
    "from IPython.display import Markdown as md\n",
    "from multiprocessing import Pool\n",
    "import time\n",
    "from tqdm import tqdm\n",
    "import networkx as nx\n",
    "from networkx import stochastic_block_model\n",
    "\n",
    "\n",
    "from graph_generation import GenerateGraph, perturb_nx_graph\n",
    "from models import GCN, view_parameters, new_parameters, modify_parameters, Inits, new_parameters_linears\n",
    "from train import Trainer, Dataset\n",
    "from embedding import Embedding\n",
    "from config_valid import Config, TrainingMode\n",
    "import experiments\n",
    "from experiments import Experiments, experiment_node_embedding, all_seeds\n",
    "from plot_funcs import (plot_dim1, plot_dimN, plot_correlation_error, plot_metrics, plot_node_emb_1D, plot_node_emb_nD, scatter_node_emb, \n",
    "                        plot_graph_emb_1D, plot_graph_emb_nD, plot_data_degree_sequence, plot_corr_epoch, plot_ripetizioni_stesso_trial, \n",
    "                        plot_onlyloss_ripetizioni_stesso_trial,plot_onlyloss_ripetizioni_stesso_trial_superimposed, Data2Plot, plot_weights_multiple_hist)\n",
    "from plot_model import plot_model\n",
    "from utils import array_wo_outliers, plot_grafo, plot_grafo2\n",
    "from Inspect import Inspect\n",
    "\n",
    "\n",
    "import torch\n",
    "from torch_geometric import nn\n",
    "from torch_geometric.loader import DataLoader\n",
    "device = torch.device('cuda')\n",
    "\n",
    "from scipy import stats\n",
    "from sklearn.metrics import log_loss\n",
    "\n",
    "import pickle \n",
    "from plt_parameters import init_params, get_colors_to_cycle_rainbow8, get_colors_to_cycle_rainbowN\n",
    "init_params()\n",
    "rootsave = Path(\"output_plots/\")\n",
    "\n",
    "def make_video_parallel_static():\n",
    "    experiments.graph_embedding_per_epoch = xp.trainer.graph_embedding_per_epoch\n",
    "    experiments.node_embedding_per_epoch = xp.trainer.node_embedding_per_epoch\n",
    "    experiments.dataset = xp.trainer.dataset\n",
    "    experiments.loss_list = xp.trainer.test_loss_list\n",
    "    experiments.exp_config = xp.trainer.config_class\n",
    "    experiments.dataset_type = xp.trainer.gg.graphtype\n",
    "    num_emb_neurons = xp.trainer.model.convs[-1].out_channels\n",
    "    experiments.trainmode = xp.trainer.config_class.modo\n",
    "    experiments.num_classes = xp.trainer.config_class.num_classes()\n",
    "    experiments.embedding_dimension = num_emb_neurons\n",
    "    #my_list = my_log_lista=list(range(20)) + list(range(20,100,4)) + list(range(100,500, 15)) + list(range(500, 5000, 40))\n",
    "    nomefile = xp.make_video(skip=1, fromfiles=True, custom_list=True, seq_colors=True)\n",
    "    return nomefile\n"
   ]
  },
  {
   "cell_type": "code",
   "execution_count": 2,
   "metadata": {},
   "outputs": [
    {
     "name": "stdout",
     "output_type": "stream",
     "text": [
      "Controllare errori non di assert\n",
      "Controllare errori non di assert\n",
      "Controllare errori non di assert\n",
      "Controllare errori non di assert\n",
      "120 configurazioni saltate su 128, farò 8 training\n"
     ]
    }
   ],
   "source": [
    "config_file = \"configurations/Final1.yml\"\n",
    "c = Config(config_file)\n",
    "diz_trials = {'graph_dataset.ERmodel': [True, False], 'graph_dataset.confmodel': [True, False], 'graph_dataset.sbm': [True, False],\n",
    "              'graph_dataset.Num_nodes': [245, [245]*10], 'graph_dataset.list_p': [[0.3, 0.2, 0.1, 0.05, 0.01], [[0.5, 0.01], [0.9, 0.05]]],\n",
    "             'model.GCNneurons_per_layer': [[1, 32, 2],[1, 32, 1]], \n",
    "              'model.neurons_last_linear':[[16, 16, len(c.conf['graph_dataset']['list_exponents'])], [16, 16, len(c.conf['graph_dataset']['list_p'])]],\n",
    "             'model.init_weights': ['xavier_normal', 'eye']}\n",
    "\n",
    "xp = Experiments(config_file, diz_trials=diz_trials, rootsave=rootsave)#, config_class=c)"
   ]
  },
  {
   "cell_type": "code",
   "execution_count": 3,
   "metadata": {},
   "outputs": [
    {
     "name": "stdout",
     "output_type": "stream",
     "text": [
      "Run 1\t\t exp name: GraphType.ER_[0.3_0.2_0.1_0.05_0.01]_nodi245_grafi80_mode1_layers§1-32-2+16-16-5§_initwxavier_normal_lr0.01_freezedFalse\n",
      "Generating dataset...\n",
      "Mean connectivity for each node: 73.266 p=0.3\n",
      "Mean connectivity for each node: 48.83 p=0.2\n",
      "Mean connectivity for each node: 24.289 p=0.1\n",
      "Mean connectivity for each node: 12.162 p=0.05\n",
      "Mean connectivity for each node: 2.44 p=0.01\n",
      "Dataset generated\n",
      "Loading Dataset...\n"
     ]
    },
    {
     "name": "stderr",
     "output_type": "stream",
     "text": [
      "100%|███████████████████████████████████████████████████████████████████| 200/200 [00:07<00:00, 27.72it/s]\n"
     ]
    },
    {
     "name": "stdout",
     "output_type": "stream",
     "text": [
      "Tempo impiegato: 7.235293626785278\n"
     ]
    },
    {
     "name": "stderr",
     "output_type": "stream",
     "text": [
      "100%|███████████████████████████████████████████████████████████████████| 100/100 [00:09<00:00, 11.09it/s]\n"
     ]
    },
    {
     "name": "stdout",
     "output_type": "stream",
     "text": [
      "test accuracy finale: 0.21\n",
      "(101, 49000, 2)\n",
      "Preparing data for make video...\n",
      "79 è la len di id_node_emb\n",
      "(2.98 s.)  ...data ready: make video...(14.88 s.)\n",
      "GraphType.ER_[0.3_0.2_0.1_0.05_0.01]_nodi245_grafi80_mode1_layers§1-32-2+16-16-5§_initwxavier_normal_lr0.01_freezedFalse\n",
      "Run 2\t\t exp name: GraphType.ER_[0.3_0.2_0.1_0.05_0.01]_nodi245_grafi80_mode1_layers§1-32-2+16-16-5§_initweye_lr0.01_freezedFalse\n",
      "Generating dataset...\n",
      "Mean connectivity for each node: 73.268 p=0.3\n",
      "Mean connectivity for each node: 48.709 p=0.2\n",
      "Mean connectivity for each node: 24.471 p=0.1\n",
      "Mean connectivity for each node: 12.193 p=0.05\n",
      "Mean connectivity for each node: 2.4 p=0.01\n",
      "Dataset generated\n",
      "Loading Dataset...\n"
     ]
    },
    {
     "name": "stderr",
     "output_type": "stream",
     "text": [
      "100%|███████████████████████████████████████████████████████████████████| 200/200 [00:07<00:00, 27.44it/s]\n"
     ]
    },
    {
     "name": "stdout",
     "output_type": "stream",
     "text": [
      "Tempo impiegato: 7.312816143035889\n"
     ]
    },
    {
     "name": "stderr",
     "output_type": "stream",
     "text": [
      "100%|███████████████████████████████████████████████████████████████████| 100/100 [00:09<00:00, 11.01it/s]\n"
     ]
    },
    {
     "name": "stdout",
     "output_type": "stream",
     "text": [
      "test accuracy finale: 0.16\n",
      "(101, 49000, 2)\n",
      "Preparing data for make video...\n",
      "79 è la len di id_node_emb\n",
      "(3.27 s.)  ...data ready: make video...(14.66 s.)\n",
      "GraphType.ER_[0.3_0.2_0.1_0.05_0.01]_nodi245_grafi80_mode1_layers§1-32-2+16-16-5§_initweye_lr0.01_freezedFalse\n",
      "Run 3\t\t exp name: GraphType.ER_[0.3_0.2_0.1_0.05_0.01]_nodi245_grafi80_mode1_layers§1-32-1+16-16-5§_initwxavier_normal_lr0.01_freezedFalse\n",
      "Generating dataset...\n",
      "Mean connectivity for each node: 73.14 p=0.3\n",
      "Mean connectivity for each node: 48.901 p=0.2\n",
      "Mean connectivity for each node: 24.442 p=0.1\n",
      "Mean connectivity for each node: 12.176 p=0.05\n",
      "Mean connectivity for each node: 2.452 p=0.01\n",
      "Dataset generated\n",
      "Loading Dataset...\n"
     ]
    },
    {
     "name": "stderr",
     "output_type": "stream",
     "text": [
      "100%|███████████████████████████████████████████████████████████████████| 200/200 [00:07<00:00, 26.26it/s]\n"
     ]
    },
    {
     "name": "stdout",
     "output_type": "stream",
     "text": [
      "Tempo impiegato: 7.642306566238403\n"
     ]
    },
    {
     "name": "stderr",
     "output_type": "stream",
     "text": [
      "100%|███████████████████████████████████████████████████████████████████| 100/100 [00:09<00:00, 10.29it/s]\n"
     ]
    },
    {
     "name": "stdout",
     "output_type": "stream",
     "text": [
      "test accuracy finale: 0.23\n",
      "(101, 49000, 1)\n",
      "Preparing data for make video...\n",
      "79 è la len di id_node_emb\n",
      "(6.69 s.)  ...data ready: make video...(23.72 s.)\n",
      "GraphType.ER_[0.3_0.2_0.1_0.05_0.01]_nodi245_grafi80_mode1_layers§1-32-1+16-16-5§_initwxavier_normal_lr0.01_freezedFalse\n",
      "Run 4\t\t exp name: GraphType.ER_[0.3_0.2_0.1_0.05_0.01]_nodi245_grafi80_mode1_layers§1-32-1+16-16-5§_initweye_lr0.01_freezedFalse\n",
      "Generating dataset...\n",
      "Mean connectivity for each node: 73.37 p=0.3\n",
      "Mean connectivity for each node: 48.794 p=0.2\n",
      "Mean connectivity for each node: 24.398 p=0.1\n",
      "Mean connectivity for each node: 12.285 p=0.05\n",
      "Mean connectivity for each node: 2.459 p=0.01\n",
      "Dataset generated\n",
      "Loading Dataset...\n"
     ]
    },
    {
     "name": "stderr",
     "output_type": "stream",
     "text": [
      "100%|███████████████████████████████████████████████████████████████████| 200/200 [00:07<00:00, 26.53it/s]\n"
     ]
    },
    {
     "name": "stdout",
     "output_type": "stream",
     "text": [
      "Tempo impiegato: 7.558684349060059\n"
     ]
    },
    {
     "name": "stderr",
     "output_type": "stream",
     "text": [
      "100%|███████████████████████████████████████████████████████████████████| 100/100 [00:09<00:00, 10.39it/s]\n"
     ]
    },
    {
     "name": "stdout",
     "output_type": "stream",
     "text": [
      "test accuracy finale: 0.18\n",
      "(101, 49000, 1)\n",
      "Preparing data for make video...\n",
      "79 è la len di id_node_emb\n",
      "(6.87 s.)  ...data ready: make video...(21.95 s.)\n",
      "GraphType.ER_[0.3_0.2_0.1_0.05_0.01]_nodi245_grafi80_mode1_layers§1-32-1+16-16-5§_initweye_lr0.01_freezedFalse\n",
      "Run 5\t\t exp name: GraphType.SBM_[0.3_0.2_0.1_0.05_0.01]_nodi245_grafi80_mode1_layers§1-32-2+16-16-5§_initwxavier_normal_lr0.01_freezedFalse\n"
     ]
    },
    {
     "ename": "AssertionError",
     "evalue": "Lo Stochastic Block Model richiede una matrice di probabilità",
     "output_type": "error",
     "traceback": [
      "\u001b[0;31m---------------------------------------------------------------------------\u001b[0m",
      "\u001b[0;31mAssertionError\u001b[0m                            Traceback (most recent call last)",
      "Input \u001b[0;32mIn [3]\u001b[0m, in \u001b[0;36m<cell line: 3>\u001b[0;34m()\u001b[0m\n\u001b[1;32m      4\u001b[0m \u001b[38;5;28mprint\u001b[39m(\u001b[38;5;124mf\u001b[39m\u001b[38;5;124m'\u001b[39m\u001b[38;5;124mRun \u001b[39m\u001b[38;5;132;01m{\u001b[39;00mk \u001b[38;5;241m+\u001b[39m \u001b[38;5;241m1\u001b[39m\u001b[38;5;132;01m}\u001b[39;00m\u001b[38;5;130;01m\\t\u001b[39;00m\u001b[38;5;130;01m\\t\u001b[39;00m\u001b[38;5;124m exp name: \u001b[39m\u001b[38;5;132;01m{\u001b[39;00mc\u001b[38;5;241m.\u001b[39munique_train_name\u001b[38;5;132;01m}\u001b[39;00m\u001b[38;5;124m'\u001b[39m)\n\u001b[1;32m      5\u001b[0m \u001b[38;5;66;03m# all_seeds()\u001b[39;00m\n\u001b[0;32m----> 6\u001b[0m \u001b[43mxp\u001b[49m\u001b[38;5;241;43m.\u001b[39;49m\u001b[43mtrainer\u001b[49m\u001b[38;5;241;43m.\u001b[39;49m\u001b[43mreinit_conf\u001b[49m\u001b[43m(\u001b[49m\u001b[43mc\u001b[49m\u001b[43m)\u001b[49m\n\u001b[1;32m      7\u001b[0m xp\u001b[38;5;241m.\u001b[39mjust_train()\n\u001b[1;32m      8\u001b[0m embedding_class \u001b[38;5;241m=\u001b[39m xp\u001b[38;5;241m.\u001b[39membedding()\n",
      "File \u001b[0;32m~/Documenti/Progetti/Networks/Embednet/train.py:123\u001b[0m, in \u001b[0;36mTrainer.reinit_conf\u001b[0;34m(self, config_class)\u001b[0m\n\u001b[1;32m    121\u001b[0m \u001b[38;5;28;01mdef\u001b[39;00m \u001b[38;5;21mreinit_conf\u001b[39m(\u001b[38;5;28mself\u001b[39m, config_class):\n\u001b[1;32m    122\u001b[0m     \u001b[38;5;28mself\u001b[39m\u001b[38;5;241m.\u001b[39mconfig_class \u001b[38;5;241m=\u001b[39m config_class\n\u001b[0;32m--> 123\u001b[0m     \u001b[38;5;28;43mself\u001b[39;49m\u001b[38;5;241;43m.\u001b[39;49m\u001b[43mconfig_class\u001b[49m\u001b[38;5;241;43m.\u001b[39;49m\u001b[43mvalid_conf\u001b[49m\u001b[43m(\u001b[49m\u001b[43m)\u001b[49m\n\u001b[1;32m    124\u001b[0m     \u001b[38;5;28mself\u001b[39m\u001b[38;5;241m.\u001b[39mconf \u001b[38;5;241m=\u001b[39m \u001b[38;5;28mself\u001b[39m\u001b[38;5;241m.\u001b[39mconfig_class\u001b[38;5;241m.\u001b[39mconf\n\u001b[1;32m    126\u001b[0m     \u001b[38;5;28mself\u001b[39m\u001b[38;5;241m.\u001b[39mpercentage_train \u001b[38;5;241m=\u001b[39m \u001b[38;5;28mself\u001b[39m\u001b[38;5;241m.\u001b[39mconf[\u001b[38;5;124m'\u001b[39m\u001b[38;5;124mtraining\u001b[39m\u001b[38;5;124m'\u001b[39m][\u001b[38;5;124m'\u001b[39m\u001b[38;5;124mpercentage_train\u001b[39m\u001b[38;5;124m'\u001b[39m]\n",
      "File \u001b[0;32m~/Documenti/Progetti/Networks/Embednet/config_valid.py:114\u001b[0m, in \u001b[0;36mConfig.valid_conf\u001b[0;34m(self)\u001b[0m\n\u001b[1;32m    112\u001b[0m \u001b[38;5;66;03m# verifico che nel caso dello SBM la list_p sia una matrice\u001b[39;00m\n\u001b[1;32m    113\u001b[0m \u001b[38;5;28;01mif\u001b[39;00m \u001b[38;5;28mself\u001b[39m\u001b[38;5;241m.\u001b[39mgraphtype \u001b[38;5;241m==\u001b[39m GraphType\u001b[38;5;241m.\u001b[39mSBM:\n\u001b[0;32m--> 114\u001b[0m     \u001b[38;5;28;01massert\u001b[39;00m np\u001b[38;5;241m.\u001b[39marray(\u001b[38;5;28mself\u001b[39m\u001b[38;5;241m.\u001b[39mconf[\u001b[38;5;124m'\u001b[39m\u001b[38;5;124mgraph_dataset\u001b[39m\u001b[38;5;124m'\u001b[39m][\u001b[38;5;124m'\u001b[39m\u001b[38;5;124mlist_p\u001b[39m\u001b[38;5;124m'\u001b[39m])\u001b[38;5;241m.\u001b[39mndim \u001b[38;5;241m==\u001b[39m \u001b[38;5;241m2\u001b[39m, \u001b[38;5;124m\"\u001b[39m\u001b[38;5;124mLo Stochastic Block Model richiede una matrice di probabilità\u001b[39m\u001b[38;5;124m\"\u001b[39m\n\u001b[1;32m    115\u001b[0m \u001b[38;5;28;01melse\u001b[39;00m:\n\u001b[1;32m    116\u001b[0m     \u001b[38;5;28;01massert\u001b[39;00m np\u001b[38;5;241m.\u001b[39marray(\u001b[38;5;28mself\u001b[39m\u001b[38;5;241m.\u001b[39mconf[\u001b[38;5;124m'\u001b[39m\u001b[38;5;124mgraph_dataset\u001b[39m\u001b[38;5;124m'\u001b[39m][\u001b[38;5;124m'\u001b[39m\u001b[38;5;124mlist_p\u001b[39m\u001b[38;5;124m'\u001b[39m])\u001b[38;5;241m.\u001b[39mndim \u001b[38;5;241m==\u001b[39m \u001b[38;5;241m1\u001b[39m, \u001b[38;5;124m\"\u001b[39m\u001b[38;5;124mprobabilità inserite come matrice ma non stiamo nel SBM\u001b[39m\u001b[38;5;124m\"\u001b[39m\n",
      "\u001b[0;31mAssertionError\u001b[0m: Lo Stochastic Block Model richiede una matrice di probabilità"
     ]
    }
   ],
   "source": [
    "nomifilesgif = []\n",
    "k = 0\n",
    "for c in xp.gc.configs:\n",
    "    print(f'Run {k + 1}\\t\\t exp name: {c.unique_train_name}')\n",
    "    # all_seeds()\n",
    "    xp.trainer.reinit_conf(c)\n",
    "    xp.just_train()\n",
    "    embedding_class = xp.embedding()\n",
    "    num_emb_neurons = xp.trainer.model.convs[-1].out_channels\n",
    "    trainmode = xp.trainer.config_class.modo\n",
    "    embedding_class.get_metrics(num_emb_neurons, trainmode)\n",
    "    #my_list = my_log_lista=list(range(20)) + list(range(20,100,4)) + list(range(100,500, 10)) + list(range(500, xp.trainer.last_epoch, 20))\n",
    "    nomefile = make_video_parallel_static()\n",
    "    nomifilesgif.append(nomefile)\n",
    "    k += 1"
   ]
  },
  {
   "cell_type": "code",
   "execution_count": null,
   "metadata": {},
   "outputs": [],
   "source": [
    "np.array([0.5, 0.01]).ndim #, [0.9, 0.05]]).ndim"
   ]
  },
  {
   "cell_type": "code",
   "execution_count": null,
   "metadata": {},
   "outputs": [],
   "source": []
  }
 ],
 "metadata": {
  "kernelspec": {
   "display_name": "Pytorch Geometric",
   "language": "python",
   "name": "pytorch-geom"
  },
  "language_info": {
   "codemirror_mode": {
    "name": "ipython",
    "version": 3
   },
   "file_extension": ".py",
   "mimetype": "text/x-python",
   "name": "python",
   "nbconvert_exporter": "python",
   "pygments_lexer": "ipython3",
   "version": "3.8.13"
  }
 },
 "nbformat": 4,
 "nbformat_minor": 4
}
