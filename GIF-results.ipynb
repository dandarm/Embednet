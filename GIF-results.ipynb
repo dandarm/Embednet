{
 "cells": [
  {
   "cell_type": "code",
   "execution_count": 12,
   "metadata": {},
   "outputs": [
    {
     "data": {
      "text/plain": [
       "['GraphType.SBM_Classi3_nodi450_grafiXtipo40_mode1_layers§1-32-1+16-16-3§_initw-xavier_normal_lr0.01_GCNfreezedTrue',\n",
       " 'GraphType.SBM_Classi3_nodi450_grafiXtipo40_mode1_layers§1-32-1+16-16-3§_initw-eye_lr0.01_GCNfreezedTrue',\n",
       " 'GraphType.SBM_Classi3_nodi450_grafiXtipo40_mode1_layers§1-32-2+16-16-3§_initw-xavier_normal_lr0.01_GCNfreezedTrue',\n",
       " 'GraphType.SBM_Classi3_nodi450_grafiXtipo40_mode1_layers§1-32-2+16-16-3§_initw-eye_lr0.01_GCNfreezedTrue']"
      ]
     },
     "execution_count": 12,
     "metadata": {},
     "output_type": "execute_result"
    }
   ],
   "source": [
    "#from IPython.display import Markdown as md\n",
    "nomifilesgif"
   ]
  },
  {
   "cell_type": "code",
   "execution_count": 4,
   "metadata": {},
   "outputs": [],
   "source": [
    "nomefile =  \"GraphType.ER_Classi5_nodi450_grafiXtipo40_mode1_layers§1-32-1+16-16-5§_initw-xavier_normal_lr0.01_GCNfreezedFalse\""
   ]
  },
  {
   "cell_type": "code",
   "execution_count": 11,
   "metadata": {},
   "outputs": [
    {
     "data": {
      "text/markdown": [
       "<img src=GraphType.SBM_Classi3_nodi450_grafiXtipo40_mode1_layers§1-32-1+16-16-3§_initw-xavier_normal_lr0.01_GCNfreezedFalse.gif width=\"1200\" align=\"center\">"
      ],
      "text/plain": [
       "<IPython.core.display.Markdown object>"
      ]
     },
     "execution_count": 11,
     "metadata": {},
     "output_type": "execute_result"
    }
   ],
   "source": [
    "nomefile = \"GraphType.SBM_Classi3_nodi450_grafiXtipo40_mode1_layers§1-32-1+16-16-3§_initw-xavier_normal_lr0.01_GCNfreezedFalse\"\n",
    "md(f'<img src={nomefile}.gif width=\"1200\" align=\"center\">')"
   ]
  },
  {
   "cell_type": "code",
   "execution_count": 13,
   "metadata": {},
   "outputs": [
    {
     "data": {
      "text/markdown": [
       "<img src=GraphType.SBM_Classi3_nodi450_grafiXtipo40_mode1_layers§1-32-2+16-16-3§_initw-xavier_normal_lr0.01_GCNfreezedTrue.gif width=\"1200\" align=\"center\">"
      ],
      "text/plain": [
       "<IPython.core.display.Markdown object>"
      ]
     },
     "execution_count": 13,
     "metadata": {},
     "output_type": "execute_result"
    }
   ],
   "source": [
    "f = \"GraphType.SBM_Classi3_nodi450_grafiXtipo40_mode1_layers§1-32-2+16-16-3§_initw-xavier_normal_lr0.01_GCNfreezedTrue\"\n",
    "md(f'<img src={f}.gif width=\"1200\" align=\"center\">')"
   ]
  },
  {
   "cell_type": "code",
   "execution_count": null,
   "metadata": {},
   "outputs": [],
   "source": []
  }
 ],
 "metadata": {
  "kernelspec": {
   "display_name": "Pytorch Geometric",
   "language": "python",
   "name": "pytorch-geom"
  },
  "language_info": {
   "codemirror_mode": {
    "name": "ipython",
    "version": 3
   },
   "file_extension": ".py",
   "mimetype": "text/x-python",
   "name": "python",
   "nbconvert_exporter": "python",
   "pygments_lexer": "ipython3",
   "version": "3.8.13"
  }
 },
 "nbformat": 4,
 "nbformat_minor": 4
}
