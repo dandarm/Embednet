{
 "cells": [
  {
   "cell_type": "code",
   "execution_count": 16,
   "metadata": {
    "tags": []
   },
   "outputs": [
    {
     "name": "stdout",
     "output_type": "stream",
     "text": [
      "The autoreload extension is already loaded. To reload it, use:\n",
      "  %reload_ext autoreload\n"
     ]
    }
   ],
   "source": [
    "%load_ext autoreload\n",
    "%autoreload 2\n",
    "\n",
    "import itertools\n",
    "import random\n",
    "import math\n",
    "import numpy as np\n",
    "import pandas as pd\n",
    "import matplotlib.pyplot as plt\n",
    "import time\n",
    "import pickle\n",
    "from tqdm import tqdm\n",
    "from scipy import stats\n",
    "import yaml\n",
    "\n",
    "from graph_generation import GenerateGraph\n",
    "from models import GCN\n",
    "from train import Trainer, Dataset\n",
    "from embedding import Embedding, NodeEmbedding\n",
    "from experiments import (train_take_embedding, plot_dim1, plot_dimN, plot_correlation_error, \n",
    "                         get_metrics, init_GCN, init_model_dataset, train_take_embedding_alreadyinit)\n",
    "from config_valid import Config, TrainingMode\n",
    "\n",
    "import torch\n",
    "from torch_geometric.loader import DataLoader\n",
    "import tensorflow as tf\n",
    "\n",
    "from deepdiff import DeepDiff"
   ]
  },
  {
   "cell_type": "code",
   "execution_count": 2,
   "metadata": {},
   "outputs": [
    {
     "name": "stdout",
     "output_type": "stream",
     "text": [
      "Generating dataset...\n",
      "Mean connectivity for each node: 14.933 p=0.05\n",
      "Mean connectivity for each node: 89.705 p=0.3\n",
      "Dataset generated\n"
     ]
    }
   ],
   "source": [
    "config_file = \"configurations/classification_grid.yml\"\n",
    "config_c = Config(config_file)\n",
    "gg = GenerateGraph(config_c)\n",
    "dataset = gg.initialize_dataset()"
   ]
  },
  {
   "cell_type": "markdown",
   "metadata": {},
   "source": [
    "## Variabili per la grid search"
   ]
  },
  {
   "cell_type": "code",
   "execution_count": 3,
   "metadata": {},
   "outputs": [],
   "source": [
    "learning_rates = [0.001, 0.005, 0.01, 0.05, 0.1]\n",
    "\n",
    "layers1 = [[1, 8, i] for i in range(2, 9, 6)]\n",
    "layers1_2 = [[1, 16, i] for i in range(2, 17, 2)]\n",
    "layers1_3 = [[1, 32, i] for i in range(2, 33, 2)]\n",
    "layers2 = [[1, i, i, 1] for i in range(2, 100, 12)]\n",
    "layers_nodense = [[1, i, 2] for i in range(2, 9, 1)]\n",
    "#layers = layers_nodense\n",
    "\n",
    "num_nodes = [260, 280, 300, 320, 340, 360]\n",
    "\n",
    "epochs = [0, 1, 3, 10, 50, 5000]"
   ]
  },
  {
   "cell_type": "markdown",
   "metadata": {},
   "source": [
    "## Creo il trials come prodotto di tutte le variabili in grid"
   ]
  },
  {
   "cell_type": "code",
   "execution_count": 4,
   "metadata": {},
   "outputs": [],
   "source": [
    "#trials = list(itertools.product(learning_rates, layers, epochs))\n",
    "#trials = list(itertools.product(layers1, layers1_2, layers1_3))\n",
    "#print(len(trials))\n",
    "#random.shuffle(trials)\n",
    "trials = layers_nodense # + layers1_2 + layers1_3"
   ]
  },
  {
   "cell_type": "code",
   "execution_count": 5,
   "metadata": {},
   "outputs": [],
   "source": [
    "import copy\n",
    "def make_config(config, trials):\n",
    "    configs = []\n",
    "    #for lr, layer, num_nodes in trials:\n",
    "    for layer in trials:\n",
    "        #config['training']['learning_rate'] = lr\n",
    "        \n",
    "        config['model']['neurons_per_layer'] = layer\n",
    "        #config['training']['epochs'] = epoch\n",
    "        #config['graph_dataset']['Num_nodes'] = num_nodes\n",
    "        copia = copy.deepcopy(config)\n",
    "        confclass = Config.fromdict(copia)\n",
    "        configs.append(confclass)\n",
    "    return configs"
   ]
  },
  {
   "cell_type": "code",
   "execution_count": 6,
   "metadata": {},
   "outputs": [],
   "source": [
    "configs2 = make_config(config_c.conf, trials)"
   ]
  },
  {
   "cell_type": "raw",
   "metadata": {},
   "source": [
    "# carica il master config\n",
    "import json\n",
    "with open('configs_13-6-22.json', 'r') as fp:\n",
    "    configs = json.load(fp=fp)"
   ]
  },
  {
   "cell_type": "code",
   "execution_count": 14,
   "metadata": {},
   "outputs": [
    {
     "name": "stdout",
     "output_type": "stream",
     "text": [
      "7 7\n"
     ]
    }
   ],
   "source": [
    "# carica il master config\n",
    "with open('configs_21-6-22.pickle', 'rb') as handle:\n",
    "    configs = pickle.load(handle)\n",
    "\n",
    "# check su run già fatti\n",
    "actual_runs = []\n",
    "for i, c2 in enumerate(configs2):\n",
    "    cambi = True\n",
    "    for j, c in enumerate(configs):\n",
    "        ddiff = DeepDiff(c, c2.conf, ignore_order=False)\n",
    "        cambi = ddiff.get('values_changed')\n",
    "        if not cambi:\n",
    "            print(f'salto i:{i} j:{j}')\n",
    "            break    \n",
    "    if cambi:\n",
    "        actual_runs.append(c2)\n",
    "        \n",
    "print(len(actual_runs), len(configs2))"
   ]
  },
  {
   "cell_type": "code",
   "execution_count": 7,
   "metadata": {
    "tags": []
   },
   "outputs": [],
   "source": [
    "# nel caso in cui voglio ripetere comunque griglie già fatte\n",
    "actual_runs = configs2"
   ]
  },
  {
   "cell_type": "code",
   "execution_count": 7,
   "metadata": {
    "collapsed": true,
    "jupyter": {
     "outputs_hidden": true
    },
    "tags": []
   },
   "outputs": [
    {
     "name": "stdout",
     "output_type": "stream",
     "text": [
      "Run 0/7\n",
      "GCN(\n",
      "  (convs): ModuleList(\n",
      "    (0): GCNConv(1, 2)\n",
      "    (1): GCNConv(2, 2)\n",
      "  )\n",
      "  (leakys): ModuleList(\n",
      "    (0): LeakyReLU(negative_slope=0.03)\n",
      "    (1): LeakyReLU(negative_slope=0.03)\n",
      "  )\n",
      "  (mean_pool): MeanAggregation()\n",
      "  (drop): Dropout(p=0.5, inplace=False)\n",
      ")\n",
      "CrossEntropyLoss()\n",
      "Loading Dataset...\n"
     ]
    },
    {
     "name": "stderr",
     "output_type": "stream",
     "text": [
      "  0%|                                                   | 0/600 [00:00<?, ?it/s]/home/daniele/Documenti/Progetti/Networks/Embednet/train.py:280: UserWarning: Creating a tensor from a list of numpy.ndarrays is extremely slow. Please consider converting the list to a single numpy.ndarray with numpy.array() before converting to a tensor. (Triggered internally at  /opt/conda/conda-bld/pytorch_1646755903507/work/torch/csrc/utils/tensor_new.cpp:210.)\n",
      "  pyg_graph.y = torch.tensor([type_graph], dtype=tipo)\n",
      "100%|█████████████████████████████████████████| 600/600 [00:41<00:00, 14.40it/s]\n"
     ]
    },
    {
     "name": "stdout",
     "output_type": "stream",
     "text": [
      "Tempo impiegato: 41.75770950317383\n",
      "tensor([[0., 1.]], device='cuda:0') 420\n",
      "tensor([[0., 1.]], device='cuda:0') 180\n",
      "runs/lr-0.01_epochs58500_bs150_neurons-1-2-2_17Aug_21-50-18\n",
      "Run training for 58500 epochs\n",
      "Before training Test loss: 0.007801135712199741\n",
      "Epoch: 0\tTest loss: 0.007691524426142375\n",
      "Epoch: 1000\tTest loss: 0.007579530278841655\n",
      "Epoch: 2000\tTest loss: 0.007465919852256775\n",
      "Epoch: 3000\tTest loss: 0.007352138890160454\n",
      "Epoch: 4000\tTest loss: 0.00725118186738756\n",
      "Epoch: 5000\tTest loss: 0.00712641610039605\n",
      "Epoch: 6000\tTest loss: 0.006999300585852729\n",
      "Epoch: 7000\tTest loss: 0.006882138384713067\n",
      "Epoch: 8000\tTest loss: 0.006777836216820611\n",
      "Epoch: 9000\tTest loss: 0.006662422749731276\n",
      "Epoch: 10000\tTest loss: 0.0065651436646779375\n",
      "Epoch: 11000\tTest loss: 0.006454268097877502\n",
      "Epoch: 12000\tTest loss: 0.0063993473847707115\n",
      "Epoch: 13000\tTest loss: 0.00624929302268558\n",
      "Epoch: 14000\tTest loss: 0.006152474549081591\n",
      "Epoch: 15000\tTest loss: 0.006059433354271782\n",
      "Epoch: 16000\tTest loss: 0.00597946478260888\n",
      "Epoch: 17000\tTest loss: 0.005892867512173123\n",
      "Epoch: 18000\tTest loss: 0.0057861381106906465\n",
      "Epoch: 19000\tTest loss: 0.005721765756607056\n",
      "Epoch: 20000\tTest loss: 0.005611572000715468\n",
      "Epoch: 21000\tTest loss: 0.005535126891401079\n",
      "Epoch: 22000\tTest loss: 0.00544598615831799\n",
      "Epoch: 23000\tTest loss: 0.005362548761897617\n",
      "Epoch: 24000\tTest loss: 0.00528087168931961\n",
      "Epoch: 25000\tTest loss: 0.005256846381558313\n",
      "Epoch: 26000\tTest loss: 0.005137070185608334\n",
      "Epoch: 27000\tTest loss: 0.005056733886400859\n",
      "Epoch: 28000\tTest loss: 0.0049802851345804\n",
      "Epoch: 29000\tTest loss: 0.004897017611397637\n",
      "Epoch: 30000\tTest loss: 0.0048265793257289465\n",
      "Epoch: 31000\tTest loss: 0.004768569105201298\n",
      "Epoch: 32000\tTest loss: 0.004686514536539714\n",
      "Epoch: 33000\tTest loss: 0.004615717629591624\n",
      "Epoch: 34000\tTest loss: 0.004554112586710188\n",
      "Epoch: 35000\tTest loss: 0.004484292368094126\n",
      "Epoch: 36000\tTest loss: 0.004465027815765805\n",
      "Epoch: 37000\tTest loss: 0.004356656637456682\n",
      "Epoch: 38000\tTest loss: 0.004294298589229584\n",
      "Epoch: 39000\tTest loss: 0.004268766442934672\n",
      "Epoch: 40000\tTest loss: 0.004206240177154541\n",
      "Epoch: 41000\tTest loss: 0.0041152233878771465\n",
      "Epoch: 42000\tTest loss: 0.004057806067996555\n",
      "Epoch: 43000\tTest loss: 0.004022817644808028\n",
      "Epoch: 44000\tTest loss: 0.0039422555102242365\n",
      "Epoch: 45000\tTest loss: 0.003917563292715285\n",
      "Epoch: 46000\tTest loss: 0.0038355476326412626\n",
      "Epoch: 47000\tTest loss: 0.0037991646263334485\n",
      "Epoch: 48000\tTest loss: 0.0037513279252582125\n",
      "Epoch: 49000\tTest loss: 0.003680286473698086\n",
      "Epoch: 50000\tTest loss: 0.003625749713844723\n",
      "Epoch: 51000\tTest loss: 0.003584620687696669\n",
      "Epoch: 52000\tTest loss: 0.003558338185151418\n",
      "Epoch: 53000\tTest loss: 0.0034869364566273158\n",
      "Epoch: 54000\tTest loss: 0.0034317440456814235\n",
      "Epoch: 55000\tTest loss: 0.003382983307043711\n",
      "Epoch: 56000\tTest loss: 0.0033403086993429396\n",
      "Epoch: 57000\tTest loss: 0.003292231261730194\n",
      "Epoch: 58000\tTest loss: 0.003249831332100762\n",
      "Epoch: 58499\tTest loss: 0.0032484008206261528 \t\t FINE TRAINING\n",
      "Run 1/7\n",
      "GCN(\n",
      "  (convs): ModuleList(\n",
      "    (0): GCNConv(1, 3)\n",
      "    (1): GCNConv(3, 2)\n",
      "  )\n",
      "  (leakys): ModuleList(\n",
      "    (0): LeakyReLU(negative_slope=0.03)\n",
      "    (1): LeakyReLU(negative_slope=0.03)\n",
      "  )\n",
      "  (mean_pool): MeanAggregation()\n",
      "  (drop): Dropout(p=0.5, inplace=False)\n",
      ")\n",
      "CrossEntropyLoss()\n",
      "Loading Dataset...\n"
     ]
    },
    {
     "name": "stderr",
     "output_type": "stream",
     "text": [
      "100%|█████████████████████████████████████████| 600/600 [00:43<00:00, 13.90it/s]\n"
     ]
    },
    {
     "name": "stdout",
     "output_type": "stream",
     "text": [
      "Tempo impiegato: 43.253087759017944\n",
      "tensor([[1., 0.]], device='cuda:0') 420\n",
      "tensor([[0., 1.]], device='cuda:0') 180\n",
      "runs/lr-0.01_epochs58500_bs150_neurons-1-3-2_17Aug_22-53-57\n",
      "Run training for 58500 epochs\n",
      "Before training Test loss: 0.007711956898371379\n",
      "Epoch: 0\tTest loss: 0.007693641384442647\n",
      "Epoch: 1000\tTest loss: 0.007599369353718228\n",
      "Epoch: 2000\tTest loss: 0.007480699486202664\n",
      "Epoch: 3000\tTest loss: 0.007339221901363797\n",
      "Epoch: 4000\tTest loss: 0.007243673337830437\n",
      "Epoch: 5000\tTest loss: 0.0071295032898585\n",
      "Epoch: 6000\tTest loss: 0.006997328003247579\n",
      "Epoch: 7000\tTest loss: 0.006914734178119235\n",
      "Epoch: 8000\tTest loss: 0.006780864463912116\n",
      "Epoch: 9000\tTest loss: 0.006674118836720784\n",
      "Epoch: 10000\tTest loss: 0.006551400820414225\n",
      "Epoch: 11000\tTest loss: 0.006434120734532674\n",
      "Epoch: 12000\tTest loss: 0.006367332405514187\n",
      "Epoch: 13000\tTest loss: 0.006242553061909146\n",
      "Epoch: 14000\tTest loss: 0.006142914295196533\n",
      "Epoch: 15000\tTest loss: 0.006120153268178304\n",
      "Epoch: 16000\tTest loss: 0.005970930722024706\n",
      "Epoch: 17000\tTest loss: 0.005874271194140117\n",
      "Epoch: 18000\tTest loss: 0.005756098031997681\n",
      "Epoch: 19000\tTest loss: 0.005715351634555393\n",
      "Epoch: 20000\tTest loss: 0.005599027540948656\n",
      "Epoch: 21000\tTest loss: 0.005512929459412893\n",
      "Epoch: 22000\tTest loss: 0.005397170947657691\n",
      "Epoch: 23000\tTest loss: 0.005321088764402602\n",
      "Epoch: 24000\tTest loss: 0.005274235208829244\n",
      "Epoch: 25000\tTest loss: 0.005188709994157156\n",
      "Epoch: 26000\tTest loss: 0.005152532623873817\n",
      "Epoch: 27000\tTest loss: 0.004992026090621948\n",
      "Epoch: 28000\tTest loss: 0.004914150966538323\n",
      "Epoch: 29000\tTest loss: 0.00492328984869851\n",
      "Epoch: 30000\tTest loss: 0.00476699024438858\n",
      "Epoch: 31000\tTest loss: 0.004680741826693217\n",
      "Epoch: 32000\tTest loss: 0.004600708186626434\n",
      "Epoch: 33000\tTest loss: 0.004534541732735104\n",
      "Epoch: 34000\tTest loss: 0.0045209437608718876\n",
      "Epoch: 35000\tTest loss: 0.004434032738208771\n",
      "Epoch: 36000\tTest loss: 0.004329539669884576\n",
      "Epoch: 37000\tTest loss: 0.00426006383366055\n",
      "Epoch: 38000\tTest loss: 0.004225797123379177\n",
      "Epoch: 39000\tTest loss: 0.004150514635774824\n",
      "Epoch: 40000\tTest loss: 0.004074013398753272\n",
      "Epoch: 41000\tTest loss: 0.004032993813355764\n",
      "Epoch: 42000\tTest loss: 0.00399205916457706\n",
      "Epoch: 43000\tTest loss: 0.003928639325830672\n",
      "Epoch: 44000\tTest loss: 0.003839498096042209\n",
      "Epoch: 45000\tTest loss: 0.003797935280534956\n",
      "Epoch: 46000\tTest loss: 0.0037226584222581653\n",
      "Epoch: 47000\tTest loss: 0.0037201863196161056\n",
      "Epoch: 48000\tTest loss: 0.0036005015174547833\n",
      "Epoch: 49000\tTest loss: 0.0036249654160605536\n",
      "Epoch: 50000\tTest loss: 0.003539425796932644\n",
      "Epoch: 51000\tTest loss: 0.003471457792652978\n",
      "Epoch: 52000\tTest loss: 0.0034096979432635837\n",
      "Epoch: 53000\tTest loss: 0.0033596545457839967\n",
      "Epoch: 54000\tTest loss: 0.003319268094168769\n",
      "Epoch: 55000\tTest loss: 0.003284544414944119\n",
      "Epoch: 56000\tTest loss: 0.003216863340801663\n",
      "Epoch: 57000\tTest loss: 0.003168901304403941\n",
      "Epoch: 58000\tTest loss: 0.003107546601030562\n",
      "Epoch: 58499\tTest loss: 0.003091874387529161 \t\t FINE TRAINING\n",
      "Run 2/7\n",
      "GCN(\n",
      "  (convs): ModuleList(\n",
      "    (0): GCNConv(1, 4)\n",
      "    (1): GCNConv(4, 2)\n",
      "  )\n",
      "  (leakys): ModuleList(\n",
      "    (0): LeakyReLU(negative_slope=0.03)\n",
      "    (1): LeakyReLU(negative_slope=0.03)\n",
      "  )\n",
      "  (mean_pool): MeanAggregation()\n",
      "  (drop): Dropout(p=0.5, inplace=False)\n",
      ")\n",
      "CrossEntropyLoss()\n",
      "Loading Dataset...\n"
     ]
    },
    {
     "name": "stderr",
     "output_type": "stream",
     "text": [
      "100%|█████████████████████████████████████████| 600/600 [00:42<00:00, 14.00it/s]\n"
     ]
    },
    {
     "name": "stdout",
     "output_type": "stream",
     "text": [
      "Tempo impiegato: 42.93897891044617\n",
      "tensor([[1., 0.]], device='cuda:0') 420\n",
      "tensor([[1., 0.]], device='cuda:0') 180\n",
      "runs/lr-0.01_epochs58500_bs150_neurons-1-4-2_17Aug_23-59-20\n",
      "Run training for 58500 epochs\n",
      "Before training Test loss: 0.007511684629652235\n",
      "Epoch: 0\tTest loss: 0.007699246539009942\n",
      "Epoch: 1000\tTest loss: 0.006988884343041314\n",
      "Epoch: 2000\tTest loss: 0.006376923123995463\n",
      "Epoch: 3000\tTest loss: 0.00567740367518531\n",
      "Epoch: 4000\tTest loss: 0.004995759162637923\n",
      "Epoch: 5000\tTest loss: 0.004462640980879466\n",
      "Epoch: 6000\tTest loss: 0.004030279318491618\n",
      "Epoch: 7000\tTest loss: 0.0036528615487946402\n",
      "Epoch: 8000\tTest loss: 0.0031767737534311082\n",
      "Epoch: 9000\tTest loss: 0.002800783680544959\n",
      "Epoch: 10000\tTest loss: 0.002612529860602485\n",
      "Epoch: 11000\tTest loss: 0.002237350245316823\n",
      "Epoch: 12000\tTest loss: 0.0020335672630204093\n",
      "Epoch: 13000\tTest loss: 0.0017718346582518683\n",
      "Epoch: 14000\tTest loss: 0.0016128992040952046\n",
      "Epoch: 15000\tTest loss: 0.0014411444465319315\n",
      "Epoch: 16000\tTest loss: 0.0012871448778443866\n",
      "Epoch: 17000\tTest loss: 0.0011698173565997017\n",
      "Epoch: 18000\tTest loss: 0.001067517532242669\n",
      "Epoch: 19000\tTest loss: 0.0009811206824249692\n",
      "Epoch: 20000\tTest loss: 0.000854189611143536\n",
      "Epoch: 21000\tTest loss: 0.0008010656883319218\n",
      "Epoch: 22000\tTest loss: 0.0007026087078783247\n",
      "Epoch: 23000\tTest loss: 0.0006532974334226714\n",
      "Epoch: 24000\tTest loss: 0.0005861678885089027\n",
      "Epoch: 25000\tTest loss: 0.000541492427388827\n",
      "Epoch: 26000\tTest loss: 0.0004722290775842137\n",
      "Epoch: 27000\tTest loss: 0.0004261912364098761\n",
      "Epoch: 28000\tTest loss: 0.0003894860545794169\n",
      "Epoch: 29000\tTest loss: 0.0003577791982226902\n",
      "Epoch: 30000\tTest loss: 0.0003207124769687653\n",
      "Epoch: 31000\tTest loss: 0.0002957594787908925\n",
      "Epoch: 32000\tTest loss: 0.0002715684887435701\n",
      "Epoch: 33000\tTest loss: 0.0002479421492252085\n",
      "Epoch: 34000\tTest loss: 0.00022391959403951964\n",
      "Epoch: 35000\tTest loss: 0.00020429324358701707\n",
      "Early stopping!!!\n",
      "Epoch: 35924\tTest loss: 0.0001889670267701149 \t\t FINE TRAINING\n",
      "Run 3/7\n",
      "GCN(\n",
      "  (convs): ModuleList(\n",
      "    (0): GCNConv(1, 5)\n",
      "    (1): GCNConv(5, 2)\n",
      "  )\n",
      "  (leakys): ModuleList(\n",
      "    (0): LeakyReLU(negative_slope=0.03)\n",
      "    (1): LeakyReLU(negative_slope=0.03)\n",
      "  )\n",
      "  (mean_pool): MeanAggregation()\n",
      "  (drop): Dropout(p=0.5, inplace=False)\n",
      ")\n",
      "CrossEntropyLoss()\n",
      "Loading Dataset...\n"
     ]
    },
    {
     "name": "stderr",
     "output_type": "stream",
     "text": [
      "100%|█████████████████████████████████████████| 600/600 [00:45<00:00, 13.14it/s]\n"
     ]
    },
    {
     "name": "stdout",
     "output_type": "stream",
     "text": [
      "Tempo impiegato: 45.721741676330566\n",
      "tensor([[0., 1.]], device='cuda:0') 420\n",
      "tensor([[0., 1.]], device='cuda:0') 180\n",
      "runs/lr-0.01_epochs58500_bs150_neurons-1-5-2_18Aug_00-40-41\n",
      "Run training for 58500 epochs\n",
      "Before training Test loss: 0.007712085379494561\n",
      "Epoch: 0\tTest loss: 0.00771102507909139\n",
      "Epoch: 1000\tTest loss: 0.00040351090331872304\n",
      "Early stopping!!!\n",
      "Epoch: 1946\tTest loss: 3.8575963117182255e-05 \t\t FINE TRAINING\n",
      "Run 4/7\n",
      "GCN(\n",
      "  (convs): ModuleList(\n",
      "    (0): GCNConv(1, 6)\n",
      "    (1): GCNConv(6, 2)\n",
      "  )\n",
      "  (leakys): ModuleList(\n",
      "    (0): LeakyReLU(negative_slope=0.03)\n",
      "    (1): LeakyReLU(negative_slope=0.03)\n",
      "  )\n",
      "  (mean_pool): MeanAggregation()\n",
      "  (drop): Dropout(p=0.5, inplace=False)\n",
      ")\n",
      "CrossEntropyLoss()\n",
      "Loading Dataset...\n"
     ]
    },
    {
     "name": "stderr",
     "output_type": "stream",
     "text": [
      "100%|█████████████████████████████████████████| 600/600 [00:42<00:00, 14.26it/s]\n"
     ]
    },
    {
     "name": "stdout",
     "output_type": "stream",
     "text": [
      "Tempo impiegato: 42.15477514266968\n",
      "tensor([[0., 1.]], device='cuda:0') 420\n",
      "tensor([[0., 1.]], device='cuda:0') 180\n",
      "runs/lr-0.01_epochs58500_bs150_neurons-1-6-2_18Aug_00-43-38\n",
      "Run training for 58500 epochs\n",
      "Before training Test loss: 0.008757673038376702\n",
      "Epoch: 0\tTest loss: 0.008462672432263693\n",
      "Epoch: 1000\tTest loss: 0.0073785808351304796\n",
      "Epoch: 2000\tTest loss: 0.0069686578379737005\n",
      "Epoch: 3000\tTest loss: 0.006548513637648689\n",
      "Epoch: 4000\tTest loss: 0.006157114439540439\n",
      "Epoch: 5000\tTest loss: 0.005778904755910238\n",
      "Epoch: 6000\tTest loss: 0.00544008496734831\n",
      "Epoch: 7000\tTest loss: 0.00507817053132587\n",
      "Epoch: 8000\tTest loss: 0.004777774877018399\n",
      "Epoch: 9000\tTest loss: 0.004465386437045203\n",
      "Epoch: 10000\tTest loss: 0.004196037352085113\n",
      "Epoch: 11000\tTest loss: 0.003917117416858673\n",
      "Epoch: 12000\tTest loss: 0.0036917487780253094\n",
      "Epoch: 13000\tTest loss: 0.003432091408305698\n",
      "Epoch: 14000\tTest loss: 0.003212029735247294\n",
      "Epoch: 15000\tTest loss: 0.003012268410788642\n",
      "Epoch: 16000\tTest loss: 0.0028351654609044393\n",
      "Epoch: 17000\tTest loss: 0.002659590542316437\n",
      "Epoch: 18000\tTest loss: 0.0024764004680845474\n",
      "Epoch: 19000\tTest loss: 0.00231225225660536\n",
      "Epoch: 20000\tTest loss: 0.0021645824114481607\n",
      "Epoch: 21000\tTest loss: 0.0020314191778500875\n",
      "Epoch: 22000\tTest loss: 0.0018958285450935363\n",
      "Epoch: 23000\tTest loss: 0.0017750664717621273\n",
      "Epoch: 24000\tTest loss: 0.0016590101851357353\n",
      "Epoch: 25000\tTest loss: 0.0015628238519032796\n",
      "Epoch: 26000\tTest loss: 0.0014538777371247609\n",
      "Epoch: 27000\tTest loss: 0.001372220367193222\n",
      "Epoch: 28000\tTest loss: 0.0012820844021108415\n",
      "Epoch: 29000\tTest loss: 0.001191007759835985\n",
      "Epoch: 30000\tTest loss: 0.001119334457649125\n",
      "Epoch: 31000\tTest loss: 0.0010481264856126574\n",
      "Epoch: 32000\tTest loss: 0.000979145657685068\n",
      "Epoch: 33000\tTest loss: 0.0009149502134985394\n",
      "Epoch: 34000\tTest loss: 0.0008631686369578044\n",
      "Epoch: 35000\tTest loss: 0.0008012090706162983\n",
      "Epoch: 36000\tTest loss: 0.0007478631205028957\n",
      "Epoch: 37000\tTest loss: 0.0007068092417385843\n",
      "Epoch: 38000\tTest loss: 0.0006518004255162345\n",
      "Epoch: 39000\tTest loss: 0.0006069011158413357\n",
      "Epoch: 40000\tTest loss: 0.0005651235787404908\n",
      "Epoch: 41000\tTest loss: 0.0005274102298749818\n",
      "Epoch: 42000\tTest loss: 0.0004912118117014567\n",
      "Epoch: 43000\tTest loss: 0.0004586044078071912\n",
      "Epoch: 44000\tTest loss: 0.0004252211915122138\n",
      "Epoch: 45000\tTest loss: 0.00039447759174638324\n",
      "Epoch: 46000\tTest loss: 0.0003661148457063569\n",
      "Epoch: 47000\tTest loss: 0.00033814843951000107\n",
      "Epoch: 48000\tTest loss: 0.00031720466083950467\n",
      "Epoch: 49000\tTest loss: 0.00028933647813068496\n",
      "Epoch: 50000\tTest loss: 0.00026609312949909104\n",
      "Epoch: 51000\tTest loss: 0.0002441317049993409\n",
      "Epoch: 52000\tTest loss: 0.0002240436255104012\n",
      "Epoch: 53000\tTest loss: 0.0002052760786480374\n",
      "Early stopping!!!\n",
      "Epoch: 53399\tTest loss: 0.00019447053265240458 \t\t FINE TRAINING\n",
      "Run 5/7\n",
      "GCN(\n",
      "  (convs): ModuleList(\n",
      "    (0): GCNConv(1, 7)\n",
      "    (1): GCNConv(7, 2)\n",
      "  )\n",
      "  (leakys): ModuleList(\n",
      "    (0): LeakyReLU(negative_slope=0.03)\n",
      "    (1): LeakyReLU(negative_slope=0.03)\n",
      "  )\n",
      "  (mean_pool): MeanAggregation()\n",
      "  (drop): Dropout(p=0.5, inplace=False)\n",
      ")\n",
      "CrossEntropyLoss()\n",
      "Loading Dataset...\n"
     ]
    },
    {
     "name": "stderr",
     "output_type": "stream",
     "text": [
      "100%|█████████████████████████████████████████| 600/600 [00:42<00:00, 13.96it/s]\n"
     ]
    },
    {
     "name": "stdout",
     "output_type": "stream",
     "text": [
      "Tempo impiegato: 43.07085108757019\n",
      "tensor([[0., 1.]], device='cuda:0') 420\n",
      "tensor([[1., 0.]], device='cuda:0') 180\n",
      "runs/lr-0.01_epochs58500_bs150_neurons-1-7-2_18Aug_01-45-38\n",
      "Run training for 58500 epochs\n",
      "Before training Test loss: 0.007902808321846855\n",
      "Epoch: 0\tTest loss: 0.007814517948362562\n",
      "Epoch: 1000\tTest loss: 0.00013936059549450873\n",
      "Early stopping!!!\n",
      "Epoch: 1550\tTest loss: 3.567139954409666e-05 \t\t FINE TRAINING\n",
      "Run 6/7\n",
      "GCN(\n",
      "  (convs): ModuleList(\n",
      "    (0): GCNConv(1, 8)\n",
      "    (1): GCNConv(8, 2)\n",
      "  )\n",
      "  (leakys): ModuleList(\n",
      "    (0): LeakyReLU(negative_slope=0.03)\n",
      "    (1): LeakyReLU(negative_slope=0.03)\n",
      "  )\n",
      "  (mean_pool): MeanAggregation()\n",
      "  (drop): Dropout(p=0.5, inplace=False)\n",
      ")\n",
      "CrossEntropyLoss()\n",
      "Loading Dataset...\n"
     ]
    },
    {
     "name": "stderr",
     "output_type": "stream",
     "text": [
      "100%|█████████████████████████████████████████| 600/600 [00:43<00:00, 13.86it/s]\n"
     ]
    },
    {
     "name": "stdout",
     "output_type": "stream",
     "text": [
      "Tempo impiegato: 43.37988209724426\n",
      "tensor([[1., 0.]], device='cuda:0') 420\n",
      "tensor([[1., 0.]], device='cuda:0') 180\n",
      "runs/lr-0.01_epochs58500_bs150_neurons-1-8-2_18Aug_01-48-15\n",
      "Run training for 58500 epochs\n",
      "Before training Test loss: 0.007725552717844645\n",
      "Epoch: 0\tTest loss: 0.0077346586518817475\n",
      "Epoch: 1000\tTest loss: 0.007615473535325792\n",
      "Epoch: 2000\tTest loss: 0.007483845618036058\n",
      "Epoch: 3000\tTest loss: 0.0073991590076022675\n",
      "Epoch: 4000\tTest loss: 0.007249383793936835\n",
      "Epoch: 5000\tTest loss: 0.007123546467887031\n",
      "Epoch: 6000\tTest loss: 0.007026803824636671\n",
      "Epoch: 7000\tTest loss: 0.0069094124767515395\n",
      "Epoch: 8000\tTest loss: 0.006808932953410679\n",
      "Epoch: 9000\tTest loss: 0.006715227166811625\n",
      "Epoch: 10000\tTest loss: 0.00658344394630856\n",
      "Epoch: 11000\tTest loss: 0.006493338942527771\n",
      "Epoch: 12000\tTest loss: 0.006404698888460795\n",
      "Epoch: 13000\tTest loss: 0.006272824274169074\n",
      "Epoch: 14000\tTest loss: 0.00617293549908532\n",
      "Epoch: 15000\tTest loss: 0.006068763468000624\n",
      "Epoch: 16000\tTest loss: 0.005983822544415792\n",
      "Epoch: 17000\tTest loss: 0.005895145734151204\n",
      "Epoch: 18000\tTest loss: 0.005829357769754198\n",
      "Epoch: 19000\tTest loss: 0.005700668030314975\n",
      "Epoch: 20000\tTest loss: 0.005604590972264608\n",
      "Epoch: 21000\tTest loss: 0.005555441644456652\n",
      "Epoch: 22000\tTest loss: 0.0054558210902743865\n",
      "Epoch: 23000\tTest loss: 0.00535873058769438\n",
      "Epoch: 24000\tTest loss: 0.005274852448039585\n",
      "Epoch: 25000\tTest loss: 0.005198410815662808\n",
      "Epoch: 26000\tTest loss: 0.005116851793395149\n",
      "Epoch: 27000\tTest loss: 0.005043298833900028\n",
      "Epoch: 28000\tTest loss: 0.0049644750025537275\n",
      "Epoch: 29000\tTest loss: 0.004877811173597971\n",
      "Epoch: 30000\tTest loss: 0.004830070833365122\n",
      "Epoch: 31000\tTest loss: 0.0047519847750663756\n",
      "Epoch: 32000\tTest loss: 0.00470423979891671\n",
      "Epoch: 33000\tTest loss: 0.004618329637580448\n",
      "Epoch: 34000\tTest loss: 0.004603390395641327\n",
      "Epoch: 35000\tTest loss: 0.004517938362227546\n",
      "Epoch: 36000\tTest loss: 0.004462308684984843\n",
      "Epoch: 37000\tTest loss: 0.00432326098283132\n",
      "Epoch: 38000\tTest loss: 0.004261519511540731\n",
      "Epoch: 39000\tTest loss: 0.004194166594081455\n",
      "Epoch: 40000\tTest loss: 0.0041509275635083515\n",
      "Epoch: 41000\tTest loss: 0.004105224377579159\n",
      "Epoch: 42000\tTest loss: 0.004030612442228529\n",
      "Epoch: 43000\tTest loss: 0.003994770348072052\n",
      "Epoch: 44000\tTest loss: 0.003938944968912336\n",
      "Epoch: 45000\tTest loss: 0.0038760215044021606\n",
      "Epoch: 46000\tTest loss: 0.0037903279066085816\n",
      "Epoch: 47000\tTest loss: 0.00374608404106564\n",
      "Epoch: 48000\tTest loss: 0.003699091076850891\n",
      "Epoch: 49000\tTest loss: 0.003658620516459147\n",
      "Epoch: 50000\tTest loss: 0.003600309789180756\n",
      "Epoch: 51000\tTest loss: 0.0035657139288054573\n",
      "Epoch: 52000\tTest loss: 0.0034689873456954954\n",
      "Epoch: 53000\tTest loss: 0.0034204550915294223\n",
      "Epoch: 54000\tTest loss: 0.003391006092230479\n",
      "Epoch: 55000\tTest loss: 0.0033327079481548735\n",
      "Epoch: 56000\tTest loss: 0.003282118174764845\n",
      "Epoch: 57000\tTest loss: 0.0032358550363116795\n",
      "Epoch: 58000\tTest loss: 0.0032044428918096756\n",
      "Epoch: 58499\tTest loss: 0.003177459206846025 \t\t FINE TRAINING\n"
     ]
    }
   ],
   "source": [
    "for i, c in enumerate(actual_runs):\n",
    "    print(f'Run {i}/{len(actual_runs)}')\n",
    "    for j in range(1):\n",
    "        graph_embeddings_array, node_embeddings_array, model, test_loss_list, trainer = train_take_embedding(c, dataset)\n",
    "        embeddings = Embedding(graph_embeddings_array, trainer.dataset, test_loss_list, config_c)\n",
    "        num_emb_neurons = model.convs[-1].out_channels \n",
    "        embeddings.get_metrics(num_emb_neurons)\n",
    "        \n",
    "        #corrs, error = embeddings.calc_correlation()\n",
    "        #c['correlations'] = corrs\n",
    "        #c['error'] = error \n",
    "        c.conf['test_loss'] = test_loss_list\n",
    "        c.conf['distance_of_means'] = embeddings.difference_of_means   # TODO: sarebbe il caso di mettere una gerarchia di chiavi anche per i risultati\n",
    "        #c[f'run_num'] = j"
   ]
  },
  {
   "cell_type": "code",
   "execution_count": null,
   "metadata": {},
   "outputs": [],
   "source": [
    "# stampare il modello da mettere nel poster\n",
    "#- rifare il forward a mano con i pesi per verificare di poter ricostruire la rete (solo LSTM (-> per mio progetto GNN su trained neural networks) o anche GNN?)"
   ]
  },
  {
   "cell_type": "code",
   "execution_count": 23,
   "metadata": {
    "collapsed": true,
    "jupyter": {
     "outputs_hidden": true
    },
    "tags": []
   },
   "outputs": [
    {
     "name": "stdout",
     "output_type": "stream",
     "text": [
      "convs.0.bias Parameter containing:\n",
      "tensor([ 0.1445, -0.1000,  0.1519,  0.0644], device='cuda:0',\n",
      "       requires_grad=True)\n",
      "tensor([ 0.1445, -0.1000,  0.1519,  0.0644], device='cuda:0',\n",
      "       grad_fn=<ViewBackward0>)\n",
      "\n",
      "\n",
      "convs.0.lin.weight Parameter containing:\n",
      "tensor([[-0.5883],\n",
      "        [-0.0494],\n",
      "        [-0.4230],\n",
      "        [-0.5811]], device='cuda:0', requires_grad=True)\n",
      "tensor([-0.5883, -0.0494, -0.4230, -0.5811], device='cuda:0',\n",
      "       grad_fn=<ViewBackward0>)\n",
      "\n",
      "\n",
      "lin.weight Parameter containing:\n",
      "tensor([[-0.0254,  0.0227, -0.0413,  0.2520]], device='cuda:0',\n",
      "       requires_grad=True)\n",
      "tensor([-0.0254,  0.0227, -0.0413,  0.2520], device='cuda:0',\n",
      "       grad_fn=<ViewBackward0>)\n",
      "\n",
      "\n",
      "lin.bias Parameter containing:\n",
      "tensor([0.1767], device='cuda:0', requires_grad=True)\n",
      "tensor([0.1767], device='cuda:0', grad_fn=<ViewBackward0>)\n",
      "\n",
      "\n"
     ]
    }
   ],
   "source": [
    "for name, param in trainer.model.named_parameters():\n",
    "    print(name, param)\n",
    "    print(param.view(-1))\n",
    "    print(\"\\n\")"
   ]
  },
  {
   "cell_type": "code",
   "execution_count": 10,
   "metadata": {},
   "outputs": [
    {
     "data": {
      "text/plain": [
       "0.0102240965"
      ]
     },
     "execution_count": 10,
     "metadata": {},
     "output_type": "execute_result"
    },
    {
     "data": {
      "image/png": "[encoded data removed]",
      "text/plain": [
       "<Figure size 432x288 with 1 Axes>"
      ]
     },
     "metadata": {
      "needs_background": "light"
     },
     "output_type": "display_data"
    }
   ],
   "source": [
    "#plt.plot(embeddings.embeddings_array);\n",
    "plt.hist(embeddings.inter_dists, bins=80, alpha=0.8)\n",
    "plt.hist(embeddings.intra_dists, bins=80, alpha=0.8)\n",
    "    \n",
    "mean_intra = np.mean(embeddings.intra_dists)\n",
    "mean_inter = np.mean(embeddings.inter_dists)\n",
    "distance_of_means = mean_inter - mean_intra\n",
    "distance_of_means"
   ]
  },
  {
   "cell_type": "markdown",
   "metadata": {},
   "source": [
    "# 0 epoch training"
   ]
  },
  {
   "cell_type": "code",
   "execution_count": 10,
   "metadata": {},
   "outputs": [
    {
     "name": "stdout",
     "output_type": "stream",
     "text": [
      "Generating dataset...\n"
     ]
    },
    {
     "name": "stderr",
     "output_type": "stream",
     "text": [
      "/home/daniele/Documenti/Progetti/Networks/Embednet/graph_generation.py:122: VisibleDeprecationWarning: Creating an ndarray from ragged nested sequences (which is a list-or-tuple of lists-or-tuples-or ndarrays with different lengths or shapes) is deprecated. If you meant to do this, you must specify 'dtype=object' when creating the ndarray.\n",
      "  grafi_actual_degrees = np.array(grafi_actual_degrees)\n"
     ]
    },
    {
     "name": "stdout",
     "output_type": "stream",
     "text": [
      "Dataset generated\n"
     ]
    }
   ],
   "source": [
    "config_file = \"configurations/classification_0training.yml\"\n",
    "config_c = Config(config_file)\n",
    "gg = GenerateGraph(config_c)\n",
    "dataset = gg.initialize_dataset()"
   ]
  },
  {
   "cell_type": "code",
   "execution_count": 27,
   "metadata": {},
   "outputs": [],
   "source": [
    "trials = [[1, i, 1, 2] for i in range(2, 4, 1)]\n",
    "configs2 = make_config(config_c.conf, trials)\n",
    "# salto la parte che guarda i run passati, nel caso in cui voglio ripetere comunque griglie già fatte\n",
    "actual_runs = configs2"
   ]
  },
  {
   "cell_type": "code",
   "execution_count": 22,
   "metadata": {},
   "outputs": [
    {
     "name": "stdout",
     "output_type": "stream",
     "text": [
      "Initialize model\n",
      "Loading Dataset...\n"
     ]
    },
    {
     "name": "stderr",
     "output_type": "stream",
     "text": [
      "100%|███████████████████████████████████████████████████| 1000/1000 [00:10<00:00, 96.06it/s]\n"
     ]
    },
    {
     "name": "stdout",
     "output_type": "stream",
     "text": [
      "Tempo impiegato: 10.47242784500122\n"
     ]
    }
   ],
   "source": [
    "model, trainer = init_model_dataset(actual_runs[0], dataset, verbose=False)"
   ]
  },
  {
   "cell_type": "code",
   "execution_count": 46,
   "metadata": {},
   "outputs": [
    {
     "name": "stdout",
     "output_type": "stream",
     "text": [
      "Run 0/2\n",
      "Before training Test loss: 0.0046264906724294026\n",
      "[-0.00111513 -0.00128041 -0.00094419 -0.00168711 -0.00096982 -0.00119759\n",
      " -0.00111324 -0.00109453 -0.00219756 -0.00097726]\n",
      "[2, 2, 1, 5, 1, 2, 2, 2, 9, 1]\n",
      "-0.9874191634515149\n",
      "Before training Test loss: 0.0051622821887334185\n",
      "[0.02794908 0.03209165 0.02366465 0.04228488 0.02430708 0.03001577\n",
      " 0.02790158 0.02743261 0.05507848 0.02449342]\n",
      "[2, 2, 1, 5, 1, 2, 2, 2, 9, 1]\n",
      "0.9874191626697485\n",
      "Before training Test loss: 0.005666576027870178\n",
      "[0.23021968 0.26434237 0.19492832 0.34830523 0.20022002 0.24724318\n",
      " 0.22982836 0.22596541 0.45368746 0.20175499]\n",
      "[2, 2, 1, 5, 1, 2, 2, 2, 9, 1]\n",
      "0.9874191835231053\n",
      "Run 1/2\n",
      "Before training Test loss: 0.004578574697176615\n",
      "[0.5175058  0.5942095  0.4381751  0.78294766 0.45007014 0.55577254\n",
      " 0.5166261  0.50794274 1.019834   0.45352054]\n",
      "[2, 2, 1, 5, 1, 2, 2, 2, 9, 1]\n",
      "0.9874191674388687\n",
      "Before training Test loss: 0.004887856841087342\n",
      "[-0.01321305 -0.01517146 -0.01118756 -0.01999036 -0.01149127 -0.01419008\n",
      " -0.01319059 -0.01296888 -0.02603858 -0.01157937]\n",
      "[2, 2, 1, 5, 1, 2, 2, 2, 9, 1]\n",
      "-0.9874191540719269\n",
      "Before training Test loss: 0.00465668777624766\n",
      "[-0.01318327 -0.01513727 -0.01116235 -0.01994531 -0.01146538 -0.0141581\n",
      " -0.01316086 -0.01293966 -0.0259799  -0.01155327]\n",
      "[2, 2, 1, 5, 1, 2, 2, 2, 9, 1]\n",
      "-0.9874191654549597\n"
     ]
    }
   ],
   "source": [
    "node_emb_tot = []\n",
    "for i, c in enumerate(actual_runs):\n",
    "    print(f'Run {i}/{len(actual_runs)}')\n",
    "    for j in range(3):\n",
    "        model = init_GCN(c, verbose=False)\n",
    "        graph_embeddings_array, node_embeddings_array, model, test_loss_list, trainer = train_take_embedding_alreadyinit(trainer, model, c)\n",
    "        #embeddings = Embedding(graph_embeddings_array, trainer.dataset, test_loss_list, config_c)\n",
    "        node_embeddings = NodeEmbedding(node_embeddings_array, trainer.dataset, test_loss_list, c)\n",
    "        node_emb_tot.append(node_embeddings)\n",
    "        c.conf['average_corr_emb_degree'] = node_embeddings.get_average_corr_nodeemb()\n",
    "        c.conf['run number'] = f\"{i}_{j}\""
   ]
  },
  {
   "cell_type": "code",
   "execution_count": 53,
   "metadata": {},
   "outputs": [],
   "source": [
    "embs_pergraph = [n.get_emb_pergraph() for n in node_emb_tot]\n",
    "#embs_pergraph = [n.node_emb_pergraph for n in node_emb_tot]"
   ]
  },
  {
   "cell_type": "code",
   "execution_count": 58,
   "metadata": {},
   "outputs": [
    {
     "data": {
      "text/plain": [
       "[<matplotlib.lines.Line2D at 0x7f8401c62d90>]"
      ]
     },
     "execution_count": 58,
     "metadata": {},
     "output_type": "execute_result"
    },
    {
     "data": {
      "image/png": "[encoded data removed]",
      "text/plain": [
       "<Figure size 432x288 with 1 Axes>"
      ]
     },
     "metadata": {
      "needs_background": "light"
     },
     "output_type": "display_data"
    }
   ],
   "source": [
    "plt.plot(embs_pergraph[0][0].flatten())"
   ]
  },
  {
   "cell_type": "markdown",
   "metadata": {
    "tags": []
   },
   "source": [
    "# Save"
   ]
  },
  {
   "cell_type": "code",
   "execution_count": 20,
   "metadata": {},
   "outputs": [],
   "source": [
    "def config2df(dati_c):\n",
    "    # dati_c è una lista di Config\n",
    "    dati = [d.conf for d in dati_c]\n",
    "    df_data = pd.DataFrame(columns=['range_p', 'Num_nodes', 'Num_grafi_totali', 'learning_rate', 'batch_size', 'neurons_per_layer', 'correlations', 'error', 'test_loss', 'distance_of_means', 'batch_norm'])\n",
    "    df_data['range_p'] = [d['graph_dataset']['range_p'] for d in dati]\n",
    "    df_data['Num_nodes'] = [d['graph_dataset']['Num_nodes'] for d in dati]\n",
    "    df_data['Num_grafi_totali'] = [d['graph_dataset']['Num_grafi_totali'] for d in dati]\n",
    "    df_data['learning_rate'] = [d['training']['learning_rate'] for d in dati]\n",
    "    df_data['batch_size'] = [d['training']['batch_size'] for d in dati]\n",
    "    df_data['neurons_per_layer'] = [d['model']['neurons_per_layer'] for d in dati]\n",
    "    df_data['correlations'] = [d.get('correlations') for d in dati]\n",
    "    df_data['error'] = [d.get('error') for d in dati]\n",
    "    df_data['test_loss'] = [[round(l, 10) for l in d.get('test_loss') or []] for d in dati ]  # or [] : per il caso in cui d.get restituisca None\n",
    "    df_data['distance_of_means'] = [d.get('distance_of_means') for d in dati]  # caso della classification\n",
    "    #df_data['run_num'] = [d.get('run_num') for d in dati]\n",
    "    df_data['batch_norm'] = [d['model']['put_batchnorm'] for d in dati]\n",
    "    df_data['num_epochs'] = [d['training']['epochs'] for d in dati]\n",
    "    df_data['run_number'] = [d.get('run number') for d in dati] \n",
    "    df_data['average_corr_emb_degree'] = [d.get('average_corr_emb_degree') for d in dati]\n",
    "    return df_data"
   ]
  },
  {
   "cell_type": "code",
   "execution_count": 15,
   "metadata": {},
   "outputs": [],
   "source": [
    "# correggo il dataframe esistente aggiungendo i campi che mi viene in mente di aggiungere nel tempo\n",
    "file = \"df_configs_class.csv\" #\"df_configs.csv\" #\n",
    "df_data = pd.read_csv(file)  \n",
    "df_data['num_epochs'] = 5000\n",
    "df_data.to_csv(file) "
   ]
  },
  {
   "cell_type": "code",
   "execution_count": 9,
   "metadata": {},
   "outputs": [],
   "source": [
    "df_data = config2df(actual_runs)"
   ]
  },
  {
   "cell_type": "code",
   "execution_count": 10,
   "metadata": {},
   "outputs": [
    {
     "data": {
      "text/html": [
       "<div>\n",
       "<style scoped>\n",
       "    .dataframe tbody tr th:only-of-type {\n",
       "        vertical-align: middle;\n",
       "    }\n",
       "\n",
       "    .dataframe tbody tr th {\n",
       "        vertical-align: top;\n",
       "    }\n",
       "\n",
       "    .dataframe thead th {\n",
       "        text-align: right;\n",
       "    }\n",
       "</style>\n",
       "<table border=\"1\" class=\"dataframe\">\n",
       "  <thead>\n",
       "    <tr style=\"text-align: right;\">\n",
       "      <th></th>\n",
       "      <th>range_p</th>\n",
       "      <th>Num_nodes</th>\n",
       "      <th>Num_grafi_totali</th>\n",
       "      <th>learning_rate</th>\n",
       "      <th>batch_size</th>\n",
       "      <th>neurons_per_layer</th>\n",
       "      <th>correlations</th>\n",
       "      <th>error</th>\n",
       "      <th>test_loss</th>\n",
       "      <th>distance_of_means</th>\n",
       "      <th>batch_norm</th>\n",
       "      <th>num_epochs</th>\n",
       "    </tr>\n",
       "  </thead>\n",
       "  <tbody>\n",
       "    <tr>\n",
       "      <th>0</th>\n",
       "      <td>[0.05, 0.6]</td>\n",
       "      <td>300</td>\n",
       "      <td>1000</td>\n",
       "      <td>0.01</td>\n",
       "      <td>150</td>\n",
       "      <td>[1, 2, 2]</td>\n",
       "      <td>None</td>\n",
       "      <td>None</td>\n",
       "      <td>[0.0076915244, 0.0076874074, 0.0076981409, 0.0...</td>\n",
       "      <td>1.617932</td>\n",
       "      <td>False</td>\n",
       "      <td>58500</td>\n",
       "    </tr>\n",
       "    <tr>\n",
       "      <th>1</th>\n",
       "      <td>[0.05, 0.6]</td>\n",
       "      <td>300</td>\n",
       "      <td>1000</td>\n",
       "      <td>0.01</td>\n",
       "      <td>150</td>\n",
       "      <td>[1, 3, 2]</td>\n",
       "      <td>None</td>\n",
       "      <td>None</td>\n",
       "      <td>[0.0076936414, 0.0076953024, 0.0077053282, 0.0...</td>\n",
       "      <td>1.680985</td>\n",
       "      <td>False</td>\n",
       "      <td>58500</td>\n",
       "    </tr>\n",
       "    <tr>\n",
       "      <th>2</th>\n",
       "      <td>[0.05, 0.6]</td>\n",
       "      <td>300</td>\n",
       "      <td>1000</td>\n",
       "      <td>0.01</td>\n",
       "      <td>150</td>\n",
       "      <td>[1, 4, 2]</td>\n",
       "      <td>None</td>\n",
       "      <td>None</td>\n",
       "      <td>[0.0076992465, 0.0077066571, 0.0077103025, 0.0...</td>\n",
       "      <td>7.681736</td>\n",
       "      <td>False</td>\n",
       "      <td>58500</td>\n",
       "    </tr>\n",
       "    <tr>\n",
       "      <th>3</th>\n",
       "      <td>[0.05, 0.6]</td>\n",
       "      <td>300</td>\n",
       "      <td>1000</td>\n",
       "      <td>0.01</td>\n",
       "      <td>150</td>\n",
       "      <td>[1, 5, 2]</td>\n",
       "      <td>None</td>\n",
       "      <td>None</td>\n",
       "      <td>[0.0077110251, 0.0077104641, 0.0077109204, 0.0...</td>\n",
       "      <td>7.885417</td>\n",
       "      <td>False</td>\n",
       "      <td>58500</td>\n",
       "    </tr>\n",
       "    <tr>\n",
       "      <th>4</th>\n",
       "      <td>[0.05, 0.6]</td>\n",
       "      <td>300</td>\n",
       "      <td>1000</td>\n",
       "      <td>0.01</td>\n",
       "      <td>150</td>\n",
       "      <td>[1, 6, 2]</td>\n",
       "      <td>None</td>\n",
       "      <td>None</td>\n",
       "      <td>[0.0084626724, 0.0082711991, 0.0081168347, 0.0...</td>\n",
       "      <td>7.368047</td>\n",
       "      <td>False</td>\n",
       "      <td>58500</td>\n",
       "    </tr>\n",
       "    <tr>\n",
       "      <th>5</th>\n",
       "      <td>[0.05, 0.6]</td>\n",
       "      <td>300</td>\n",
       "      <td>1000</td>\n",
       "      <td>0.01</td>\n",
       "      <td>150</td>\n",
       "      <td>[1, 7, 2]</td>\n",
       "      <td>None</td>\n",
       "      <td>None</td>\n",
       "      <td>[0.0078145179, 0.0077558074, 0.0077226741, 0.0...</td>\n",
       "      <td>7.908820</td>\n",
       "      <td>False</td>\n",
       "      <td>58500</td>\n",
       "    </tr>\n",
       "    <tr>\n",
       "      <th>6</th>\n",
       "      <td>[0.05, 0.6]</td>\n",
       "      <td>300</td>\n",
       "      <td>1000</td>\n",
       "      <td>0.01</td>\n",
       "      <td>150</td>\n",
       "      <td>[1, 8, 2]</td>\n",
       "      <td>None</td>\n",
       "      <td>None</td>\n",
       "      <td>[0.0077346587, 0.0077183266, 0.0077100694, 0.0...</td>\n",
       "      <td>1.685347</td>\n",
       "      <td>False</td>\n",
       "      <td>58500</td>\n",
       "    </tr>\n",
       "  </tbody>\n",
       "</table>\n",
       "</div>"
      ],
      "text/plain": [
       "       range_p  Num_nodes  Num_grafi_totali  learning_rate  batch_size  \\\n",
       "0  [0.05, 0.6]        300              1000           0.01         150   \n",
       "1  [0.05, 0.6]        300              1000           0.01         150   \n",
       "2  [0.05, 0.6]        300              1000           0.01         150   \n",
       "3  [0.05, 0.6]        300              1000           0.01         150   \n",
       "4  [0.05, 0.6]        300              1000           0.01         150   \n",
       "5  [0.05, 0.6]        300              1000           0.01         150   \n",
       "6  [0.05, 0.6]        300              1000           0.01         150   \n",
       "\n",
       "  neurons_per_layer correlations error  \\\n",
       "0         [1, 2, 2]         None  None   \n",
       "1         [1, 3, 2]         None  None   \n",
       "2         [1, 4, 2]         None  None   \n",
       "3         [1, 5, 2]         None  None   \n",
       "4         [1, 6, 2]         None  None   \n",
       "5         [1, 7, 2]         None  None   \n",
       "6         [1, 8, 2]         None  None   \n",
       "\n",
       "                                           test_loss  distance_of_means  \\\n",
       "0  [0.0076915244, 0.0076874074, 0.0076981409, 0.0...           1.617932   \n",
       "1  [0.0076936414, 0.0076953024, 0.0077053282, 0.0...           1.680985   \n",
       "2  [0.0076992465, 0.0077066571, 0.0077103025, 0.0...           7.681736   \n",
       "3  [0.0077110251, 0.0077104641, 0.0077109204, 0.0...           7.885417   \n",
       "4  [0.0084626724, 0.0082711991, 0.0081168347, 0.0...           7.368047   \n",
       "5  [0.0078145179, 0.0077558074, 0.0077226741, 0.0...           7.908820   \n",
       "6  [0.0077346587, 0.0077183266, 0.0077100694, 0.0...           1.685347   \n",
       "\n",
       "   batch_norm  num_epochs  \n",
       "0       False       58500  \n",
       "1       False       58500  \n",
       "2       False       58500  \n",
       "3       False       58500  \n",
       "4       False       58500  \n",
       "5       False       58500  \n",
       "6       False       58500  "
      ]
     },
     "execution_count": 10,
     "metadata": {},
     "output_type": "execute_result"
    }
   ],
   "source": [
    "df_data"
   ]
  },
  {
   "cell_type": "code",
   "execution_count": 11,
   "metadata": {},
   "outputs": [],
   "source": [
    "import os\n",
    "outfile = \"df_configs_class_longrun.csv\" #\"df_configs.csv\" #\n",
    "df_data.to_csv(outfile, index=False, mode='a', header=not os.path.exists(outfile))"
   ]
  },
  {
   "cell_type": "code",
   "execution_count": 30,
   "metadata": {},
   "outputs": [],
   "source": [
    "# aggiungo al master config\n",
    "configs.extend(actual_runs)"
   ]
  },
  {
   "cell_type": "code",
   "execution_count": 33,
   "metadata": {},
   "outputs": [],
   "source": [
    "for c in configs:\n",
    "    if c.get('test_loss'):\n",
    "        del c['test_loss']"
   ]
  },
  {
   "cell_type": "raw",
   "metadata": {},
   "source": [
    "import json\n",
    "with open('configs_21-6-22.json', 'w') as f:\n",
    "    json.dump(configs, f)"
   ]
  },
  {
   "cell_type": "code",
   "execution_count": 34,
   "metadata": {},
   "outputs": [],
   "source": [
    "with open('configs_21-6-22.pickle', 'wb') as handle:\n",
    "    pickle.dump(configs, handle, protocol=pickle.HIGHEST_PROTOCOL)"
   ]
  },
  {
   "cell_type": "code",
   "execution_count": null,
   "metadata": {},
   "outputs": [],
   "source": []
  },
  {
   "cell_type": "code",
   "execution_count": null,
   "metadata": {},
   "outputs": [],
   "source": []
  },
  {
   "cell_type": "code",
   "execution_count": null,
   "metadata": {},
   "outputs": [],
   "source": []
  },
  {
   "cell_type": "code",
   "execution_count": null,
   "metadata": {},
   "outputs": [],
   "source": []
  },
  {
   "cell_type": "code",
   "execution_count": 21,
   "metadata": {},
   "outputs": [
    {
     "data": {
      "text/html": [
       "<div>\n",
       "<style scoped>\n",
       "    .dataframe tbody tr th:only-of-type {\n",
       "        vertical-align: middle;\n",
       "    }\n",
       "\n",
       "    .dataframe tbody tr th {\n",
       "        vertical-align: top;\n",
       "    }\n",
       "\n",
       "    .dataframe thead th {\n",
       "        text-align: right;\n",
       "    }\n",
       "</style>\n",
       "<table border=\"1\" class=\"dataframe\">\n",
       "  <thead>\n",
       "    <tr style=\"text-align: right;\">\n",
       "      <th></th>\n",
       "      <th>range_p</th>\n",
       "      <th>Num_nodes</th>\n",
       "      <th>Num_grafi_totali</th>\n",
       "      <th>learning_rate</th>\n",
       "      <th>batch_size</th>\n",
       "      <th>neurons_per_layer</th>\n",
       "      <th>correlations</th>\n",
       "      <th>error</th>\n",
       "      <th>test_loss</th>\n",
       "      <th>distance_of_means</th>\n",
       "      <th>batch_norm</th>\n",
       "      <th>num_epochs</th>\n",
       "      <th>run_number</th>\n",
       "      <th>average_corr_emb_degree</th>\n",
       "    </tr>\n",
       "  </thead>\n",
       "  <tbody>\n",
       "    <tr>\n",
       "      <th>0</th>\n",
       "      <td>[0.05, 0.6]</td>\n",
       "      <td>[600, 100000]</td>\n",
       "      <td>1000</td>\n",
       "      <td>0.01</td>\n",
       "      <td>250</td>\n",
       "      <td>[1, 2, 1, 2]</td>\n",
       "      <td>None</td>\n",
       "      <td>None</td>\n",
       "      <td>[]</td>\n",
       "      <td>None</td>\n",
       "      <td>False</td>\n",
       "      <td>0</td>\n",
       "      <td>0_9</td>\n",
       "      <td>-0.00107</td>\n",
       "    </tr>\n",
       "    <tr>\n",
       "      <th>1</th>\n",
       "      <td>[0.05, 0.6]</td>\n",
       "      <td>[600, 100000]</td>\n",
       "      <td>1000</td>\n",
       "      <td>0.01</td>\n",
       "      <td>250</td>\n",
       "      <td>[1, 3, 1, 2]</td>\n",
       "      <td>None</td>\n",
       "      <td>None</td>\n",
       "      <td>[]</td>\n",
       "      <td>None</td>\n",
       "      <td>False</td>\n",
       "      <td>0</td>\n",
       "      <td>1_9</td>\n",
       "      <td>-0.00107</td>\n",
       "    </tr>\n",
       "    <tr>\n",
       "      <th>2</th>\n",
       "      <td>[0.05, 0.6]</td>\n",
       "      <td>[600, 100000]</td>\n",
       "      <td>1000</td>\n",
       "      <td>0.01</td>\n",
       "      <td>250</td>\n",
       "      <td>[1, 4, 1, 2]</td>\n",
       "      <td>None</td>\n",
       "      <td>None</td>\n",
       "      <td>[]</td>\n",
       "      <td>None</td>\n",
       "      <td>False</td>\n",
       "      <td>0</td>\n",
       "      <td>2_9</td>\n",
       "      <td>-0.00107</td>\n",
       "    </tr>\n",
       "    <tr>\n",
       "      <th>3</th>\n",
       "      <td>[0.05, 0.6]</td>\n",
       "      <td>[600, 100000]</td>\n",
       "      <td>1000</td>\n",
       "      <td>0.01</td>\n",
       "      <td>250</td>\n",
       "      <td>[1, 5, 1, 2]</td>\n",
       "      <td>None</td>\n",
       "      <td>None</td>\n",
       "      <td>[]</td>\n",
       "      <td>None</td>\n",
       "      <td>False</td>\n",
       "      <td>0</td>\n",
       "      <td>3_9</td>\n",
       "      <td>0.00107</td>\n",
       "    </tr>\n",
       "    <tr>\n",
       "      <th>4</th>\n",
       "      <td>[0.05, 0.6]</td>\n",
       "      <td>[600, 100000]</td>\n",
       "      <td>1000</td>\n",
       "      <td>0.01</td>\n",
       "      <td>250</td>\n",
       "      <td>[1, 6, 1, 2]</td>\n",
       "      <td>None</td>\n",
       "      <td>None</td>\n",
       "      <td>[]</td>\n",
       "      <td>None</td>\n",
       "      <td>False</td>\n",
       "      <td>0</td>\n",
       "      <td>4_9</td>\n",
       "      <td>-0.00107</td>\n",
       "    </tr>\n",
       "    <tr>\n",
       "      <th>5</th>\n",
       "      <td>[0.05, 0.6]</td>\n",
       "      <td>[600, 100000]</td>\n",
       "      <td>1000</td>\n",
       "      <td>0.01</td>\n",
       "      <td>250</td>\n",
       "      <td>[1, 7, 1, 2]</td>\n",
       "      <td>None</td>\n",
       "      <td>None</td>\n",
       "      <td>[]</td>\n",
       "      <td>None</td>\n",
       "      <td>False</td>\n",
       "      <td>0</td>\n",
       "      <td>5_9</td>\n",
       "      <td>0.00107</td>\n",
       "    </tr>\n",
       "    <tr>\n",
       "      <th>6</th>\n",
       "      <td>[0.05, 0.6]</td>\n",
       "      <td>[600, 100000]</td>\n",
       "      <td>1000</td>\n",
       "      <td>0.01</td>\n",
       "      <td>250</td>\n",
       "      <td>[1, 8, 1, 2]</td>\n",
       "      <td>None</td>\n",
       "      <td>None</td>\n",
       "      <td>[]</td>\n",
       "      <td>None</td>\n",
       "      <td>False</td>\n",
       "      <td>0</td>\n",
       "      <td>6_9</td>\n",
       "      <td>-0.00107</td>\n",
       "    </tr>\n",
       "  </tbody>\n",
       "</table>\n",
       "</div>"
      ],
      "text/plain": [
       "       range_p      Num_nodes  Num_grafi_totali  learning_rate  batch_size  \\\n",
       "0  [0.05, 0.6]  [600, 100000]              1000           0.01         250   \n",
       "1  [0.05, 0.6]  [600, 100000]              1000           0.01         250   \n",
       "2  [0.05, 0.6]  [600, 100000]              1000           0.01         250   \n",
       "3  [0.05, 0.6]  [600, 100000]              1000           0.01         250   \n",
       "4  [0.05, 0.6]  [600, 100000]              1000           0.01         250   \n",
       "5  [0.05, 0.6]  [600, 100000]              1000           0.01         250   \n",
       "6  [0.05, 0.6]  [600, 100000]              1000           0.01         250   \n",
       "\n",
       "  neurons_per_layer correlations error test_loss distance_of_means  \\\n",
       "0      [1, 2, 1, 2]         None  None        []              None   \n",
       "1      [1, 3, 1, 2]         None  None        []              None   \n",
       "2      [1, 4, 1, 2]         None  None        []              None   \n",
       "3      [1, 5, 1, 2]         None  None        []              None   \n",
       "4      [1, 6, 1, 2]         None  None        []              None   \n",
       "5      [1, 7, 1, 2]         None  None        []              None   \n",
       "6      [1, 8, 1, 2]         None  None        []              None   \n",
       "\n",
       "   batch_norm  num_epochs run_number  average_corr_emb_degree  \n",
       "0       False           0        0_9                 -0.00107  \n",
       "1       False           0        1_9                 -0.00107  \n",
       "2       False           0        2_9                 -0.00107  \n",
       "3       False           0        3_9                  0.00107  \n",
       "4       False           0        4_9                 -0.00107  \n",
       "5       False           0        5_9                  0.00107  \n",
       "6       False           0        6_9                 -0.00107  "
      ]
     },
     "execution_count": 21,
     "metadata": {},
     "output_type": "execute_result"
    }
   ],
   "source": [
    "df_data = config2df(actual_runs)\n",
    "df_data"
   ]
  },
  {
   "cell_type": "code",
   "execution_count": null,
   "metadata": {},
   "outputs": [],
   "source": []
  }
 ],
 "metadata": {
  "kernelspec": {
   "display_name": "Python [conda env:pytorch-geom]",
   "language": "python",
   "name": "conda-env-pytorch-geom-py"
  },
  "language_info": {
   "codemirror_mode": {
    "name": "ipython",
    "version": 3
   },
   "file_extension": ".py",
   "mimetype": "text/x-python",
   "name": "python",
   "nbconvert_exporter": "python",
   "pygments_lexer": "ipython3",
   "version": "3.8.13"
  }
 },
 "nbformat": 4,
 "nbformat_minor": 4
}
