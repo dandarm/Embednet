{
 "cells": [
  {
   "cell_type": "code",
   "execution_count": 1,
   "metadata": {},
   "outputs": [],
   "source": [
    "%load_ext autoreload\n",
    "%autoreload 2\n",
    "\n",
    "import itertools\n",
    "import random\n",
    "import math\n",
    "import numpy as np\n",
    "import pandas as pd\n",
    "import matplotlib.pyplot as plt\n",
    "import time\n",
    "import pickle\n",
    "from tqdm import tqdm\n",
    "from scipy import stats\n",
    "import yaml\n",
    "\n",
    "from graph_generation import create_ER, dataset_nclass_ER, dataset_regression_ER\n",
    "from models import GCN\n",
    "from train import Trainer, Dataset\n",
    "from embedding import Embedding\n",
    "from experiments import experiment_embedding\n",
    "from config_valid import Config\n",
    "\n",
    "import torch\n",
    "from torch_geometric.loader import DataLoader\n",
    "import tensorflow as tf\n",
    "\n",
    "from deepdiff import DeepDiff"
   ]
  },
  {
   "cell_type": "code",
   "execution_count": 2,
   "metadata": {},
   "outputs": [],
   "source": [
    "#config = yaml.safe_load(open(\"configs.yml\"))\n",
    "config_c = Config(\"configs.yml\")\n",
    "config_c.load_conf()\n",
    "config_c.valid_conf()"
   ]
  },
  {
   "cell_type": "code",
   "execution_count": 3,
   "metadata": {},
   "outputs": [
    {
     "name": "stdout",
     "output_type": "stream",
     "text": [
      "Mean connectivity for each node: 12.999 p=0.05\n",
      "Mean connectivity for each node: 77.458 p=0.3\n"
     ]
    }
   ],
   "source": [
    "if config_c.conf['graph_dataset']['continuous_p']:\n",
    "    dataset_grafi_nx, dataset_labels = dataset_regression_ER(config_c)\n",
    "else:\n",
    "    dataset_grafi_nx, dataset_labels, list_p = dataset_nclass_ER(config_c)  # impostare ultimo neuron layer > 1 anche se cambia poi con la grid search"
   ]
  },
  {
   "cell_type": "code",
   "execution_count": 4,
   "metadata": {},
   "outputs": [],
   "source": [
    "learning_rates = [0.001, 0.005, 0.01, 0.05, 0.1]\n",
    "\n",
    "layers1 = [[1, 8, i] for i in range(2, 9, 6)]\n",
    "layers1_2 = [[1, 16, i] for i in range(2, 17, 2)]\n",
    "\n",
    "layers1_3 = [[1, 32, i] for i in range(2, 33, 2)]\n",
    "layers2 = [[1, i, i, 1] for i in range(2, 100, 12)]\n",
    "layers = layers1 + layers2\n",
    "\n",
    "num_nodes = [260, 280, 300, 320, 340, 360]\n",
    "\n",
    "epochs = [0, 1, 3, 10, 50, 5000]"
   ]
  },
  {
   "cell_type": "raw",
   "metadata": {},
   "source": [
    "#trials = list(itertools.product(learning_rates, layers, epochs))\n",
    "trials = list(itertools.product(layers1, layers1_2, layers1_3))\n",
    "print(len(trials))\n",
    "random.shuffle(trials)"
   ]
  },
  {
   "cell_type": "code",
   "execution_count": 5,
   "metadata": {},
   "outputs": [],
   "source": [
    "#trials = layers1# + layers1_2 + layers1_3\n",
    "trials = [[1,16,1]]"
   ]
  },
  {
   "cell_type": "code",
   "execution_count": 6,
   "metadata": {},
   "outputs": [],
   "source": [
    "import copy\n",
    "def make_config(config, trials):\n",
    "    configs = []\n",
    "    #for lr, layer, num_nodes in trials:\n",
    "    for layer in trials:\n",
    "        #config['training']['learning_rate'] = lr\n",
    "        \n",
    "        config['model']['neurons_per_layer'] = layer\n",
    "        #config['training']['epochs'] = epoch\n",
    "        #config['graph_dataset']['Num_nodes'] = num_nodes\n",
    "        confclass = Config.fromdict(copy.deepcopy(config))\n",
    "        confclass.valid_conf()\n",
    "        configs.append(confclass)\n",
    "    return configs"
   ]
  },
  {
   "cell_type": "code",
   "execution_count": 7,
   "metadata": {},
   "outputs": [],
   "source": [
    "configs2 = make_config(config_c.conf, trials)"
   ]
  },
  {
   "cell_type": "raw",
   "metadata": {},
   "source": [
    "# carica il master config\n",
    "import json\n",
    "with open('configs_13-6-22.json', 'r') as fp:\n",
    "    configs = json.load(fp=fp)"
   ]
  },
  {
   "cell_type": "code",
   "execution_count": 8,
   "metadata": {},
   "outputs": [
    {
     "name": "stdout",
     "output_type": "stream",
     "text": [
      "1 1\n"
     ]
    }
   ],
   "source": [
    "# carica il master config\n",
    "with open('configs_21-6-22.pickle', 'rb') as handle:\n",
    "    configs = pickle.load(handle)\n",
    "\n",
    "# check su run già fatti\n",
    "actual_runs = []\n",
    "for i, c2 in enumerate(configs2):\n",
    "    cambi = True\n",
    "    for j, c in enumerate(configs):\n",
    "        ddiff = DeepDiff(c, c2.conf, ignore_order=False)\n",
    "        cambi = ddiff.get('values_changed')\n",
    "        if not cambi:\n",
    "            print(f'salto i:{i} j:{j}')\n",
    "            break    \n",
    "    if cambi:\n",
    "        actual_runs.append(c2)\n",
    "        \n",
    "print(len(actual_runs), len(configs2))"
   ]
  },
  {
   "cell_type": "raw",
   "metadata": {},
   "source": [
    "criterion = torch.nn.CrossEntropyLoss()\n",
    "#criterion = torch.nn.BCELoss()\n",
    "out = torch.rand(18, 2, requires_grad=True)\n",
    "print(out, out.shape)\n",
    "target = torch.empty(18,2, dtype=torch.float).random_(2)#.unsqueeze(1).float()\n",
    "#target = torch.Tensor([[0],[1],[0]])\n",
    "print(target, target.shape)\n",
    "output = criterion(out, target)\n",
    "output"
   ]
  },
  {
   "cell_type": "code",
   "execution_count": 9,
   "metadata": {
    "tags": []
   },
   "outputs": [
    {
     "name": "stdout",
     "output_type": "stream",
     "text": [
      "Run 0/1\n",
      "GCN(\n",
      "  (convs): ModuleList(\n",
      "    (0): GCNConv(1, 16)\n",
      "  )\n",
      "  (pools): ModuleList()\n",
      "  (lin): Linear(in_features=16, out_features=1, bias=True)\n",
      "  (leaky): LeakyReLU(negative_slope=0.03)\n",
      ")\n",
      "BCEWithLogitsLoss()\n",
      "Loading Dataset...\n"
     ]
    },
    {
     "name": "stderr",
     "output_type": "stream",
     "text": [
      "100%|████████████████████████████████████████████████████████████████████████| 60/60 [00:03<00:00, 17.49it/s]\n"
     ]
    },
    {
     "name": "stdout",
     "output_type": "stream",
     "text": [
      "Tempo impiegato: 3.4509055614471436\n",
      "tensor([1.], device='cuda:0') 42\n",
      "tensor([0.], device='cuda:0') 18\n",
      "runs/lr-0.01_epochs2500_bs100_neurons-1-16-1_24Jun_09-53-36\n",
      "Run training for 2500 epochs\n",
      "Before training Test loss: 0.03938756717575921\n",
      "Epoch: 0\tTest loss: 0.03919632236162821\n",
      "Epoch: 100\tTest loss: 0.038516120778189764\n",
      "Epoch: 200\tTest loss: 0.03850396474202474\n",
      "Epoch: 300\tTest loss: 0.03845722476641337\n",
      "Epoch: 400\tTest loss: 0.03838726878166199\n",
      "Epoch: 500\tTest loss: 0.03827931152449714\n",
      "Epoch: 600\tTest loss: 0.03800071941481696\n",
      "Epoch: 700\tTest loss: 0.03770324256685045\n",
      "Epoch: 800\tTest loss: 0.03733851181136237\n",
      "Epoch: 900\tTest loss: 0.036567982700135976\n",
      "Epoch: 1000\tTest loss: 0.03620003660519918\n",
      "Epoch: 1100\tTest loss: 0.03514555427763197\n",
      "Epoch: 1200\tTest loss: 0.03415432572364807\n",
      "Epoch: 1300\tTest loss: 0.03357488248083326\n",
      "Epoch: 1400\tTest loss: 0.03130499521891276\n",
      "Epoch: 1500\tTest loss: 0.02949627571635776\n",
      "Epoch: 1600\tTest loss: 0.02759811282157898\n",
      "Epoch: 1700\tTest loss: 0.025330899490250483\n",
      "Epoch: 1800\tTest loss: 0.02411348455482059\n",
      "Epoch: 1900\tTest loss: 0.02239202128516303\n",
      "Epoch: 2000\tTest loss: 0.021030323372946844\n",
      "Epoch: 2100\tTest loss: 0.019712592164675396\n",
      "Epoch: 2200\tTest loss: 0.01775716907448239\n",
      "Epoch: 2300\tTest loss: 0.016958317822880216\n",
      "Epoch: 2400\tTest loss: 0.015611704852845933\n",
      "Non serve calcolare le distanze nel caso di embedding scalare\n"
     ]
    }
   ],
   "source": [
    "#regression: list_p = None, continuous_p True\n",
    "# classificatrion: list_p, continuous_p = False\n",
    "\n",
    "for i, c in enumerate(actual_runs):\n",
    "    print(f'Run {i}/{len(actual_runs)}')\n",
    "    for j in range(1):\n",
    "        embeddings, trainer, test_loss_list = experiment_embedding(c, dataset_grafi_nx, dataset_labels, list_p, False)\n",
    "        #corrs, error = embeddings.calc_correlation()\n",
    "        #c['correlations'] = corrs\n",
    "        #c['error'] = error \n",
    "        c.conf['test_loss'] = test_loss_list\n",
    "        c.conf['distance_of_means'] = embeddings.distance_of_means   # TODO: sarebbe il caso di mettere una gerarchia di chiavi anche per i risultati\n",
    "        #c[f'run_num'] = j"
   ]
  },
  {
   "cell_type": "code",
   "execution_count": null,
   "metadata": {},
   "outputs": [],
   "source": [
    "whole_data = trainer.dataset.dataset_pyg\n",
    "all_data_loader = DataLoader(whole_data, batch_size=trainer.dataset.bs, shuffle=False)\n",
    "embeddings_array = trainer.take_embedding(all_data_loader)"
   ]
  },
  {
   "cell_type": "code",
   "execution_count": 10,
   "metadata": {},
   "outputs": [
    {
     "data": {
      "text/plain": [
       "0.0102240965"
      ]
     },
     "execution_count": 10,
     "metadata": {},
     "output_type": "execute_result"
    },
    {
     "data": {
      "image/png": "[encoded data removed]",
      "text/plain": [
       "<Figure size 432x288 with 1 Axes>"
      ]
     },
     "metadata": {
      "needs_background": "light"
     },
     "output_type": "display_data"
    }
   ],
   "source": [
    "#plt.plot(embeddings.embeddings_array);\n",
    "plt.hist(embeddings.inter_dists, bins=80, alpha=0.8)\n",
    "plt.hist(embeddings.intra_dists, bins=80, alpha=0.8)\n",
    "    \n",
    "mean_intra = np.mean(embeddings.intra_dists)\n",
    "mean_inter = np.mean(embeddings.inter_dists)\n",
    "distance_of_means = mean_inter - mean_intra\n",
    "distance_of_means"
   ]
  },
  {
   "cell_type": "markdown",
   "metadata": {
    "tags": []
   },
   "source": [
    "# Save"
   ]
  },
  {
   "cell_type": "code",
   "execution_count": 14,
   "metadata": {},
   "outputs": [],
   "source": [
    "dati = actual_runs"
   ]
  },
  {
   "cell_type": "code",
   "execution_count": 15,
   "metadata": {},
   "outputs": [],
   "source": [
    "def config2df(dati):\n",
    "    df_data = pd.DataFrame(columns=['range_p', 'Num_nodes', 'Num_grafi_totali', 'learning_rate', 'batch_size', 'neurons_per_layer', 'correlations', 'error', 'test_loss', 'distance_of_means', 'batch_norm'])\n",
    "    df_data['range_p'] = [d['graph_dataset']['range_p'] for d in dati]\n",
    "    df_data['Num_nodes'] = [d['graph_dataset']['Num_nodes'] for d in dati]\n",
    "    df_data['Num_grafi_totali'] = [d['graph_dataset']['Num_grafi_totali'] for d in dati]\n",
    "    df_data['learning_rate'] = [d['training']['learning_rate'] for d in dati]\n",
    "    df_data['batch_size'] = [d['training']['batch_size'] for d in dati]\n",
    "    df_data['neurons_per_layer'] = [d['model']['neurons_per_layer'] for d in dati]\n",
    "    df_data['correlations'] = [d.get('correlations') for d in dati]\n",
    "    df_data['error'] = [d.get('error') for d in dati]\n",
    "    df_data['test_loss'] = [[round(l, 10) for l in d.get('test_loss') or []] for d in dati ]  # or [] : per il caso in cui d.get restituisca None\n",
    "    df_data['distance_of_means'] = [d.get('distance_of_means') for d in dati]  # caso della classification\n",
    "    #df_data['run_num'] = [d.get('run_num') for d in dati]\n",
    "    df_data['batch_norm'] = [d['model']['put_batchnorm'] for d in dati]\n",
    "    df_data['num_epochs'] = [d['training']['epochs'] for d in dati]\n",
    "    return df_data"
   ]
  },
  {
   "cell_type": "code",
   "execution_count": 15,
   "metadata": {},
   "outputs": [],
   "source": [
    "# correggo il dataframe esistente aggiungendo i campi che mi viene in mente di aggiungere nel tempo\n",
    "file = \"df_configs_class.csv\" #\"df_configs.csv\" #\n",
    "df_data = pd.read_csv(file)  \n",
    "df_data['num_epochs'] = 5000\n",
    "df_data.to_csv(file) "
   ]
  },
  {
   "cell_type": "code",
   "execution_count": 16,
   "metadata": {},
   "outputs": [],
   "source": [
    "df_data = config2df(dati)"
   ]
  },
  {
   "cell_type": "code",
   "execution_count": 17,
   "metadata": {},
   "outputs": [
    {
     "data": {
      "text/html": [
       "<div>\n",
       "<style scoped>\n",
       "    .dataframe tbody tr th:only-of-type {\n",
       "        vertical-align: middle;\n",
       "    }\n",
       "\n",
       "    .dataframe tbody tr th {\n",
       "        vertical-align: top;\n",
       "    }\n",
       "\n",
       "    .dataframe thead th {\n",
       "        text-align: right;\n",
       "    }\n",
       "</style>\n",
       "<table border=\"1\" class=\"dataframe\">\n",
       "  <thead>\n",
       "    <tr style=\"text-align: right;\">\n",
       "      <th></th>\n",
       "      <th>range_p</th>\n",
       "      <th>Num_nodes</th>\n",
       "      <th>Num_grafi_totali</th>\n",
       "      <th>learning_rate</th>\n",
       "      <th>batch_size</th>\n",
       "      <th>neurons_per_layer</th>\n",
       "      <th>correlations</th>\n",
       "      <th>error</th>\n",
       "      <th>test_loss</th>\n",
       "      <th>distance_of_means</th>\n",
       "      <th>batch_norm</th>\n",
       "      <th>num_epochs</th>\n",
       "    </tr>\n",
       "  </thead>\n",
       "  <tbody>\n",
       "    <tr>\n",
       "      <th>0</th>\n",
       "      <td>[0.05, 0.6]</td>\n",
       "      <td>260</td>\n",
       "      <td>1000</td>\n",
       "      <td>0.01</td>\n",
       "      <td>100</td>\n",
       "      <td>[1, 32]</td>\n",
       "      <td>None</td>\n",
       "      <td>None</td>\n",
       "      <td>[0.0, 0.0, 0.0, 0.0, 0.0, 0.0, 0.0, 0.0, 0.0, ...</td>\n",
       "      <td>0.010872</td>\n",
       "      <td>True</td>\n",
       "      <td>250</td>\n",
       "    </tr>\n",
       "  </tbody>\n",
       "</table>\n",
       "</div>"
      ],
      "text/plain": [
       "       range_p  Num_nodes  Num_grafi_totali  learning_rate  batch_size  \\\n",
       "0  [0.05, 0.6]        260              1000           0.01         100   \n",
       "\n",
       "  neurons_per_layer correlations error  \\\n",
       "0           [1, 32]         None  None   \n",
       "\n",
       "                                           test_loss  distance_of_means  \\\n",
       "0  [0.0, 0.0, 0.0, 0.0, 0.0, 0.0, 0.0, 0.0, 0.0, ...           0.010872   \n",
       "\n",
       "   batch_norm  num_epochs  \n",
       "0        True         250  "
      ]
     },
     "execution_count": 17,
     "metadata": {},
     "output_type": "execute_result"
    }
   ],
   "source": [
    "df_data"
   ]
  },
  {
   "cell_type": "code",
   "execution_count": 46,
   "metadata": {},
   "outputs": [],
   "source": [
    "import os\n",
    "outfile = \"df_configs_class.csv\" #\"df_configs.csv\" #\n",
    "df_data.to_csv(outfile, index=False, mode='a', header=not os.path.exists(outfile))"
   ]
  },
  {
   "cell_type": "code",
   "execution_count": 30,
   "metadata": {},
   "outputs": [],
   "source": [
    "# aggiungo al master config\n",
    "configs.extend(actual_runs)"
   ]
  },
  {
   "cell_type": "code",
   "execution_count": 33,
   "metadata": {},
   "outputs": [],
   "source": [
    "for c in configs:\n",
    "    if c.get('test_loss'):\n",
    "        del c['test_loss']"
   ]
  },
  {
   "cell_type": "raw",
   "metadata": {},
   "source": [
    "import json\n",
    "with open('configs_21-6-22.json', 'w') as f:\n",
    "    json.dump(configs, f)"
   ]
  },
  {
   "cell_type": "code",
   "execution_count": 34,
   "metadata": {},
   "outputs": [],
   "source": [
    "with open('configs_21-6-22.pickle', 'wb') as handle:\n",
    "    pickle.dump(configs, handle, protocol=pickle.HIGHEST_PROTOCOL)"
   ]
  },
  {
   "cell_type": "code",
   "execution_count": null,
   "metadata": {},
   "outputs": [],
   "source": []
  }
 ],
 "metadata": {
  "kernelspec": {
   "display_name": "Python [conda env:pytorch-geom]",
   "language": "python",
   "name": "conda-env-pytorch-geom-py"
  },
  "language_info": {
   "codemirror_mode": {
    "name": "ipython",
    "version": 3
   },
   "file_extension": ".py",
   "mimetype": "text/x-python",
   "name": "python",
   "nbconvert_exporter": "python",
   "pygments_lexer": "ipython3",
   "version": "3.8.13"
  }
 },
 "nbformat": 4,
 "nbformat_minor": 4
}
