{
 "cells": [
  {
   "cell_type": "code",
   "execution_count": 2,
   "metadata": {
    "tags": []
   },
   "outputs": [],
   "source": [
    "%load_ext autoreload\n",
    "%autoreload 2\n",
    "\n",
    "import itertools\n",
    "import numpy as np\n",
    "import matplotlib.pyplot as plt\n",
    "\n",
    "from multiprocessing import Pool\n",
    "import time\n",
    "from tqdm import tqdm\n",
    "import networkx as nx\n",
    "\n",
    "from graph_generation import GenerateGraph, perturb_nx_graph\n",
    "from models import GCN\n",
    "from train import Trainer, Dataset\n",
    "from embedding import Embedding, NodeEmbedding\n",
    "from experiments import (train_take_embedding, plot_dim1, plot_dimN, plot_correlation_error, get_metrics, \n",
    "                         init_GCN, init_model_dataset, train_take_embedding_alreadyinit)\n",
    "from config_valid import Config, TrainingMode\n",
    "from plot_model import plot_model\n",
    "from utils import plot_wo_outliers, plot_grafo2\n",
    "\n",
    "import torch\n",
    "from torch_geometric import nn\n",
    "from torch_geometric.loader import DataLoader\n",
    "device = torch.device('cuda')\n",
    "\n",
    "from scipy import stats\n",
    "\n",
    "\n",
    "from plt_parameters import init_params\n",
    "init_params()\n",
    "\n",
    "#from tensorboard.backend.event_processing.event_accumulator import EventAccumulator\n",
    "#event_acc = EventAccumulator(path=\"./runs/lr-0.01_epochs45_bs150_neurons-1-8-2_15Sep_16-15-16\")\n",
    "#event_acc.Reload()\n",
    "# Show all tags in the log file\n",
    "#print(event_acc.Tags())\n",
    "#w_times, step_nums, vals = zip(*event_acc.Scalars('Test Loss'))"
   ]
  },
  {
   "cell_type": "code",
   "execution_count": 2,
   "metadata": {},
   "outputs": [],
   "source": [
    "config_file = \"configurations/classification_cm.yml\"\n",
    "config_c = Config(config_file)"
   ]
  },
  {
   "cell_type": "code",
   "execution_count": 3,
   "metadata": {},
   "outputs": [
    {
     "name": "stdout",
     "output_type": "stream",
     "text": [
      "Generating dataset...\n",
      "Dataset generated\n"
     ]
    }
   ],
   "source": [
    "gg = GenerateGraph(config_c)\n",
    "dataset = gg.initialize_dataset()"
   ]
  },
  {
   "cell_type": "code",
   "execution_count": 104,
   "metadata": {},
   "outputs": [
    {
     "name": "stdout",
     "output_type": "stream",
     "text": [
      "GCN(\n",
      "  (convs): ModuleList(\n",
      "    (0): GCNConv(1, 8)\n",
      "    (1): GCNConv(8, 8)\n",
      "    (2): GCNConv(8, 1)\n",
      "  )\n",
      "  (leakys): ModuleList(\n",
      "    (0): LeakyReLU(negative_slope=0.03)\n",
      "    (1): LeakyReLU(negative_slope=0.03)\n",
      "    (2): LeakyReLU(negative_slope=0.03)\n",
      "  )\n",
      "  (lin): Linear(in_features=1, out_features=2, bias=True)\n",
      "  (mean_pool): MeanAggregation()\n",
      "  (drop): Dropout(p=0.5, inplace=False)\n",
      ")\n"
     ]
    }
   ],
   "source": [
    "model = init_GCN(config_c, verbose=True)"
   ]
  },
  {
   "cell_type": "code",
   "execution_count": 4,
   "metadata": {},
   "outputs": [
    {
     "name": "stdout",
     "output_type": "stream",
     "text": [
      "Initialize model\n",
      "GCN(\n",
      "  (convs): ModuleList(\n",
      "    (0): GCNConv(1, 8)\n",
      "    (1): GCNConv(8, 8)\n",
      "    (2): GCNConv(8, 1)\n",
      "  )\n",
      "  (leakys): ModuleList(\n",
      "    (0): LeakyReLU(negative_slope=0.03)\n",
      "    (1): LeakyReLU(negative_slope=0.03)\n",
      "    (2): LeakyReLU(negative_slope=0.03)\n",
      "  )\n",
      "  (lin): Linear(in_features=1, out_features=2, bias=True)\n",
      "  (mean_pool): MeanAggregation()\n",
      "  (drop): Dropout(p=0.5, inplace=False)\n",
      ")\n",
      "Loading Dataset...\n"
     ]
    },
    {
     "name": "stderr",
     "output_type": "stream",
     "text": [
      "100%|███████████████████████████████████████████████████████████████████| 600/600 [00:32<00:00, 18.19it/s]\n"
     ]
    },
    {
     "name": "stdout",
     "output_type": "stream",
     "text": [
      "Tempo impiegato: 33.05795431137085\n",
      "aten::new_zeros %index.19 : Long(100000, strides=[1], requires_grad=0, device=cuda:0) = aten::new_zeros(%710, %563, %564, %565, %566, %567) # /home/daniele/anaconda3/envs/pytorch-geom/lib/python3.8/site-packages/torch_geometric/nn/aggr/base.py:56:0\n",
      "\n"
     ]
    },
    {
     "name": "stderr",
     "output_type": "stream",
     "text": [
      "/home/daniele/anaconda3/envs/pytorch-geom/lib/python3.8/site-packages/torch/jit/_trace.py:983: TracerWarning: Output nr 1. of the traced function does not match the corresponding output of the Python function. Detailed error:\n",
      "Tensor-likes are not close!\n",
      "\n",
      "Mismatched elements: 2 / 2 (100.0%)\n",
      "Greatest absolute difference: 0.0017579495906829834 at index (0, 1) (up to 1e-05 allowed)\n",
      "Greatest relative difference: 0.0050699685223087815 at index (0, 1) (up to 1e-05 allowed)\n",
      "\n",
      "  _check_trace(\n"
     ]
    }
   ],
   "source": [
    "model, trainer, plot = init_model_dataset(config_c, dataset, verbose=True)"
   ]
  },
  {
   "cell_type": "code",
   "execution_count": 5,
   "metadata": {},
   "outputs": [
    {
     "data": {
      "image/svg+xml": [
       "<?xml version=\"1.0\" encoding=\"UTF-8\" standalone=\"no\"?>\n",
       "<!DOCTYPE svg PUBLIC \"-//W3C//DTD SVG 1.1//EN\"\n",
       " \"http://www.w3.org/Graphics/SVG/1.1/DTD/svg11.dtd\">\n",
       "<!-- Generated by graphviz version 2.43.0 (0)\n",
       " -->\n",
       "<!-- Title: %3 Pages: 1 -->\n",
       "<svg width=\"273pt\" height=\"859pt\"\n",
       " viewBox=\"0.00 0.00 272.54 859.00\" xmlns=\"http://www.w3.org/2000/svg\" xmlns:xlink=\"http://www.w3.org/1999/xlink\">\n",
       "<g id=\"graph0\" class=\"graph\" transform=\"scale(1 1) rotate(0) translate(4 855)\">\n",
       "<title>%3</title>\n",
       "<polygon fill=\"white\" stroke=\"transparent\" points=\"-4,4 -4,-855 268.54,-855 268.54,4 -4,4\"/>\n",
       "<text text-anchor=\"middle\" x=\"132.27\" y=\"-835.8\" font-family=\"Times,serif\" font-size=\"14.00\">GCN</text>\n",
       "<!-- inp_ x.1 -->\n",
       "<g id=\"node1\" class=\"node\">\n",
       "<title>inp_ x.1</title>\n",
       "<ellipse fill=\"none\" stroke=\"black\" cx=\"54.5\" cy=\"-810\" rx=\"40.09\" ry=\"18\"/>\n",
       "<text text-anchor=\"middle\" x=\"54.5\" y=\"-806.3\" font-family=\"Times,serif\" font-size=\"14.00\">inp_ x.1</text>\n",
       "</g>\n",
       "<!-- . 705 -->\n",
       "<g id=\"node3\" class=\"node\">\n",
       "<title>. 705</title>\n",
       "<polygon fill=\"none\" stroke=\"black\" points=\"136,-756 7,-756 7,-720 136,-720 136,-756\"/>\n",
       "<text text-anchor=\"middle\" x=\"71.5\" y=\"-734.3\" font-family=\"Times,serif\" font-size=\"14.00\">convs.0 (GCNConv)</text>\n",
       "</g>\n",
       "<!-- inp_ x.1&#45;&gt;. 705 -->\n",
       "<g id=\"edge1\" class=\"edge\">\n",
       "<title>inp_ x.1&#45;&gt;. 705</title>\n",
       "<path fill=\"none\" stroke=\"black\" d=\"M58.62,-792.05C60.51,-784.26 62.8,-774.82 64.92,-766.08\"/>\n",
       "<polygon fill=\"black\" stroke=\"black\" points=\"68.35,-766.82 67.3,-756.28 61.54,-765.17 68.35,-766.82\"/>\n",
       "</g>\n",
       "<!-- inp_ edge_index.1 -->\n",
       "<g id=\"node2\" class=\"node\">\n",
       "<title>inp_ edge_index.1</title>\n",
       "<ellipse fill=\"none\" stroke=\"black\" cx=\"188.5\" cy=\"-810\" rx=\"76.09\" ry=\"18\"/>\n",
       "<text text-anchor=\"middle\" x=\"188.5\" y=\"-806.3\" font-family=\"Times,serif\" font-size=\"14.00\">inp_ edge_index.1</text>\n",
       "</g>\n",
       "<!-- inp_ edge_index.1&#45;&gt;. 705 -->\n",
       "<g id=\"edge2\" class=\"edge\">\n",
       "<title>inp_ edge_index.1&#45;&gt;. 705</title>\n",
       "<path fill=\"none\" stroke=\"black\" d=\"M161.95,-793.12C146.22,-783.7 126.04,-771.63 108.74,-761.28\"/>\n",
       "<polygon fill=\"black\" stroke=\"black\" points=\"110.37,-758.17 99.99,-756.04 106.77,-764.18 110.37,-758.17\"/>\n",
       "</g>\n",
       "<!-- . 707 -->\n",
       "<g id=\"node5\" class=\"node\">\n",
       "<title>. 707</title>\n",
       "<polygon fill=\"none\" stroke=\"black\" points=\"174,-612 45,-612 45,-576 174,-576 174,-612\"/>\n",
       "<text text-anchor=\"middle\" x=\"109.5\" y=\"-590.3\" font-family=\"Times,serif\" font-size=\"14.00\">convs.1 (GCNConv)</text>\n",
       "</g>\n",
       "<!-- inp_ edge_index.1&#45;&gt;. 707 -->\n",
       "<g id=\"edge5\" class=\"edge\">\n",
       "<title>inp_ edge_index.1&#45;&gt;. 707</title>\n",
       "<path fill=\"none\" stroke=\"black\" d=\"M187.05,-791.73C183.96,-761.33 174.98,-696.86 151.5,-648 146.77,-638.16 139.93,-628.47 133.15,-620.13\"/>\n",
       "<polygon fill=\"black\" stroke=\"black\" points=\"135.6,-617.62 126.45,-612.28 130.28,-622.16 135.6,-617.62\"/>\n",
       "</g>\n",
       "<!-- . 709 -->\n",
       "<g id=\"node7\" class=\"node\">\n",
       "<title>. 709</title>\n",
       "<polygon fill=\"none\" stroke=\"black\" points=\"224,-468 95,-468 95,-432 224,-432 224,-468\"/>\n",
       "<text text-anchor=\"middle\" x=\"159.5\" y=\"-446.3\" font-family=\"Times,serif\" font-size=\"14.00\">convs.2 (GCNConv)</text>\n",
       "</g>\n",
       "<!-- inp_ edge_index.1&#45;&gt;. 709 -->\n",
       "<g id=\"edge8\" class=\"edge\">\n",
       "<title>inp_ edge_index.1&#45;&gt;. 709</title>\n",
       "<path fill=\"none\" stroke=\"black\" d=\"M192.75,-791.63C198.89,-764.99 209.5,-712.36 209.5,-667 209.5,-667 209.5,-667 209.5,-593 209.5,-552.46 204.09,-541.83 189.5,-504 185.92,-494.73 180.93,-485.12 176.04,-476.67\"/>\n",
       "<polygon fill=\"black\" stroke=\"black\" points=\"179,-474.8 170.85,-468.03 173,-478.4 179,-474.8\"/>\n",
       "</g>\n",
       "<!-- . 706 -->\n",
       "<g id=\"node4\" class=\"node\">\n",
       "<title>. 706</title>\n",
       "<polygon fill=\"none\" stroke=\"black\" points=\"143,-684 0,-684 0,-648 143,-648 143,-684\"/>\n",
       "<text text-anchor=\"middle\" x=\"71.5\" y=\"-662.3\" font-family=\"Times,serif\" font-size=\"14.00\">leakys.0 (LeakyReLU)</text>\n",
       "</g>\n",
       "<!-- . 705&#45;&gt;. 706 -->\n",
       "<g id=\"edge3\" class=\"edge\">\n",
       "<title>. 705&#45;&gt;. 706</title>\n",
       "<path fill=\"none\" stroke=\"black\" d=\"M71.5,-719.7C71.5,-711.98 71.5,-702.71 71.5,-694.11\"/>\n",
       "<polygon fill=\"black\" stroke=\"black\" points=\"75,-694.1 71.5,-684.1 68,-694.1 75,-694.1\"/>\n",
       "</g>\n",
       "<!-- . 706&#45;&gt;. 707 -->\n",
       "<g id=\"edge4\" class=\"edge\">\n",
       "<title>. 706&#45;&gt;. 707</title>\n",
       "<path fill=\"none\" stroke=\"black\" d=\"M80.89,-647.7C85.26,-639.64 90.56,-629.89 95.4,-620.98\"/>\n",
       "<polygon fill=\"black\" stroke=\"black\" points=\"98.52,-622.56 100.21,-612.1 92.37,-619.22 98.52,-622.56\"/>\n",
       "</g>\n",
       "<!-- . 708 -->\n",
       "<g id=\"node6\" class=\"node\">\n",
       "<title>. 708</title>\n",
       "<polygon fill=\"none\" stroke=\"black\" points=\"181,-540 38,-540 38,-504 181,-504 181,-540\"/>\n",
       "<text text-anchor=\"middle\" x=\"109.5\" y=\"-518.3\" font-family=\"Times,serif\" font-size=\"14.00\">leakys.1 (LeakyReLU)</text>\n",
       "</g>\n",
       "<!-- . 707&#45;&gt;. 708 -->\n",
       "<g id=\"edge6\" class=\"edge\">\n",
       "<title>. 707&#45;&gt;. 708</title>\n",
       "<path fill=\"none\" stroke=\"black\" d=\"M109.5,-575.7C109.5,-567.98 109.5,-558.71 109.5,-550.11\"/>\n",
       "<polygon fill=\"black\" stroke=\"black\" points=\"113,-550.1 109.5,-540.1 106,-550.1 113,-550.1\"/>\n",
       "</g>\n",
       "<!-- . 708&#45;&gt;. 709 -->\n",
       "<g id=\"edge7\" class=\"edge\">\n",
       "<title>. 708&#45;&gt;. 709</title>\n",
       "<path fill=\"none\" stroke=\"black\" d=\"M121.86,-503.7C127.73,-495.47 134.87,-485.48 141.34,-476.42\"/>\n",
       "<polygon fill=\"black\" stroke=\"black\" points=\"144.32,-478.28 147.28,-468.1 138.62,-474.21 144.32,-478.28\"/>\n",
       "</g>\n",
       "<!-- . 710 -->\n",
       "<g id=\"node8\" class=\"node\">\n",
       "<title>. 710</title>\n",
       "<polygon fill=\"none\" stroke=\"black\" points=\"231,-396 88,-396 88,-360 231,-360 231,-396\"/>\n",
       "<text text-anchor=\"middle\" x=\"159.5\" y=\"-374.3\" font-family=\"Times,serif\" font-size=\"14.00\">leakys.2 (LeakyReLU)</text>\n",
       "</g>\n",
       "<!-- . 709&#45;&gt;. 710 -->\n",
       "<g id=\"edge9\" class=\"edge\">\n",
       "<title>. 709&#45;&gt;. 710</title>\n",
       "<path fill=\"none\" stroke=\"black\" d=\"M159.5,-431.7C159.5,-423.98 159.5,-414.71 159.5,-406.11\"/>\n",
       "<polygon fill=\"black\" stroke=\"black\" points=\"163,-406.1 159.5,-396.1 156,-406.1 163,-406.1\"/>\n",
       "</g>\n",
       "<!-- . 711 -->\n",
       "<g id=\"node9\" class=\"node\">\n",
       "<title>. 711</title>\n",
       "<polygon fill=\"none\" stroke=\"black\" points=\"254.5,-252 64.5,-252 64.5,-216 254.5,-216 254.5,-252\"/>\n",
       "<text text-anchor=\"middle\" x=\"159.5\" y=\"-230.3\" font-family=\"Times,serif\" font-size=\"14.00\">mean_pool (MeanAggregation)</text>\n",
       "</g>\n",
       "<!-- . 710&#45;&gt;. 711 -->\n",
       "<g id=\"edge12\" class=\"edge\">\n",
       "<title>. 710&#45;&gt;. 711</title>\n",
       "<path fill=\"none\" stroke=\"black\" d=\"M154.09,-359.53C151.2,-349.29 147.95,-336.04 146.5,-324 144.58,-308.12 144.58,-303.88 146.5,-288 147.52,-279.53 149.43,-270.47 151.48,-262.28\"/>\n",
       "<polygon fill=\"black\" stroke=\"black\" points=\"154.9,-263.03 154.09,-252.47 148.14,-261.23 154.9,-263.03\"/>\n",
       "</g>\n",
       "<!-- index.19 -->\n",
       "<g id=\"node10\" class=\"node\">\n",
       "<title>index.19</title>\n",
       "<path fill=\"none\" stroke=\"black\" d=\"M217.5,-324C217.5,-324 167.5,-324 167.5,-324 161.5,-324 155.5,-318 155.5,-312 155.5,-312 155.5,-300 155.5,-300 155.5,-294 161.5,-288 167.5,-288 167.5,-288 217.5,-288 217.5,-288 223.5,-288 229.5,-294 229.5,-300 229.5,-300 229.5,-312 229.5,-312 229.5,-318 223.5,-324 217.5,-324\"/>\n",
       "<text text-anchor=\"middle\" x=\"192.5\" y=\"-302.3\" font-family=\"Times,serif\" font-size=\"14.00\">new_zeros</text>\n",
       "</g>\n",
       "<!-- . 710&#45;&gt;index.19 -->\n",
       "<g id=\"edge10\" class=\"edge\">\n",
       "<title>. 710&#45;&gt;index.19</title>\n",
       "<path fill=\"none\" stroke=\"black\" d=\"M167.66,-359.7C171.41,-351.73 175.95,-342.1 180.12,-333.26\"/>\n",
       "<polygon fill=\"black\" stroke=\"black\" points=\"183.34,-334.64 184.44,-324.1 177.01,-331.66 183.34,-334.64\"/>\n",
       "</g>\n",
       "<!-- . 712 -->\n",
       "<g id=\"node11\" class=\"node\">\n",
       "<title>. 712</title>\n",
       "<polygon fill=\"none\" stroke=\"black\" points=\"209,-180 110,-180 110,-144 209,-144 209,-180\"/>\n",
       "<text text-anchor=\"middle\" x=\"159.5\" y=\"-158.3\" font-family=\"Times,serif\" font-size=\"14.00\">drop (Dropout)</text>\n",
       "</g>\n",
       "<!-- . 711&#45;&gt;. 712 -->\n",
       "<g id=\"edge13\" class=\"edge\">\n",
       "<title>. 711&#45;&gt;. 712</title>\n",
       "<path fill=\"none\" stroke=\"black\" d=\"M159.5,-215.7C159.5,-207.98 159.5,-198.71 159.5,-190.11\"/>\n",
       "<polygon fill=\"black\" stroke=\"black\" points=\"163,-190.1 159.5,-180.1 156,-190.1 163,-190.1\"/>\n",
       "</g>\n",
       "<!-- index.19&#45;&gt;. 711 -->\n",
       "<g id=\"edge11\" class=\"edge\">\n",
       "<title>index.19&#45;&gt;. 711</title>\n",
       "<path fill=\"none\" stroke=\"black\" d=\"M184.34,-287.7C180.59,-279.73 176.05,-270.1 171.88,-261.26\"/>\n",
       "<polygon fill=\"black\" stroke=\"black\" points=\"174.99,-259.66 167.56,-252.1 168.66,-262.64 174.99,-259.66\"/>\n",
       "</g>\n",
       "<!-- . 713 -->\n",
       "<g id=\"node12\" class=\"node\">\n",
       "<title>. 713</title>\n",
       "<polygon fill=\"none\" stroke=\"black\" points=\"199,-108 120,-108 120,-72 199,-72 199,-108\"/>\n",
       "<text text-anchor=\"middle\" x=\"159.5\" y=\"-86.3\" font-family=\"Times,serif\" font-size=\"14.00\">lin (Linear)</text>\n",
       "</g>\n",
       "<!-- . 712&#45;&gt;. 713 -->\n",
       "<g id=\"edge14\" class=\"edge\">\n",
       "<title>. 712&#45;&gt;. 713</title>\n",
       "<path fill=\"none\" stroke=\"black\" d=\"M159.5,-143.7C159.5,-135.98 159.5,-126.71 159.5,-118.11\"/>\n",
       "<polygon fill=\"black\" stroke=\"black\" points=\"163,-118.1 159.5,-108.1 156,-118.1 163,-118.1\"/>\n",
       "</g>\n",
       "<!-- out_0 -->\n",
       "<g id=\"node13\" class=\"node\">\n",
       "<title>out_0</title>\n",
       "<ellipse fill=\"none\" stroke=\"black\" cx=\"159.5\" cy=\"-18\" rx=\"30.59\" ry=\"18\"/>\n",
       "<text text-anchor=\"middle\" x=\"159.5\" y=\"-14.3\" font-family=\"Times,serif\" font-size=\"14.00\">out_0</text>\n",
       "</g>\n",
       "<!-- . 713&#45;&gt;out_0 -->\n",
       "<g id=\"edge15\" class=\"edge\">\n",
       "<title>. 713&#45;&gt;out_0</title>\n",
       "<path fill=\"none\" stroke=\"black\" d=\"M159.5,-71.7C159.5,-63.98 159.5,-54.71 159.5,-46.11\"/>\n",
       "<polygon fill=\"black\" stroke=\"black\" points=\"163,-46.1 159.5,-36.1 156,-46.1 163,-46.1\"/>\n",
       "</g>\n",
       "</g>\n",
       "</svg>\n"
      ],
      "text/plain": [
       "<graphviz.graphs.Digraph at 0x7f8bfc17ddc0>"
      ]
     },
     "execution_count": 5,
     "metadata": {},
     "output_type": "execute_result"
    }
   ],
   "source": [
    "plot"
   ]
  },
  {
   "cell_type": "code",
   "execution_count": 34,
   "metadata": {},
   "outputs": [],
   "source": [
    "ms = list(model.modules())"
   ]
  },
  {
   "cell_type": "code",
   "execution_count": 49,
   "metadata": {},
   "outputs": [],
   "source": [
    "gcnconv = ms[1][0]\n",
    "gpars = list(gcnconv.parameters())"
   ]
  },
  {
   "cell_type": "code",
   "execution_count": 55,
   "metadata": {},
   "outputs": [
    {
     "data": {
      "text/plain": [
       "tensor([0., 0., 0., 0., 0., 0., 0., 0.], device='cuda:0')"
      ]
     },
     "execution_count": 55,
     "metadata": {},
     "output_type": "execute_result"
    }
   ],
   "source": [
    "gpars[0].data"
   ]
  },
  {
   "cell_type": "code",
   "execution_count": 106,
   "metadata": {},
   "outputs": [],
   "source": [
    "def view_parameters(model):\n",
    "    for m in model.modules():\n",
    "        if isinstance(m, nn.GCNConv):\n",
    "            classname = m.__class__.__name__        \n",
    "            print(f\"classname: {classname} \\n\\t parameters: {list(m.parameters())} \\n \\n\")\n",
    "        #print(f\"classname: {classname} \\n\\t parameters: {list(m.parameters())} \\n\\t bias: {m.bias} \\n\\t weights: {m.lin.weight} \\n \\n \\n\")\n",
    "\n",
    "def new_parameters(model):\n",
    "    new_par = []\n",
    "    for m in model.modules():\n",
    "        if isinstance(m, nn.GCNConv):\n",
    "            shape = m.lin.weight.shape \n",
    "            custom_weight = torch.empty(shape)\n",
    "            torch.nn.init.kaiming_normal_(custom_weight, mode='fan_out', nonlinearity='relu')\n",
    "            new_par.append(custom_weight)\n",
    "    return new_par\n",
    "        \n",
    "def modify_parameters(model, new_par):\n",
    "    i = 0\n",
    "    for m in model.modules():\n",
    "        if isinstance(m, nn.GCNConv):\n",
    "            shape = m.lin.weight.shape\n",
    "            #custom_weight = torch.empty(shape)\n",
    "            #4torch.nn.init.kaiming_normal_(custom_weight, mode='fan_out', nonlinearity='relu')\n",
    "            m.lin.weight.data = torch.nn.parameter.Parameter(new_par[i])\n",
    "            i += 1\n",
    "            "
   ]
  },
  {
   "cell_type": "code",
   "execution_count": 107,
   "metadata": {},
   "outputs": [
    {
     "name": "stdout",
     "output_type": "stream",
     "text": [
      "Parametri attuali\n",
      "classname: GCNConv \n",
      "\t parameters: [Parameter containing:\n",
      "tensor([0., 0., 0., 0., 0., 0., 0., 0.], device='cuda:0', requires_grad=True), Parameter containing:\n",
      "tensor([[ 0.3853],\n",
      "        [-0.0560],\n",
      "        [-0.2102],\n",
      "        [-0.3396],\n",
      "        [-0.5776],\n",
      "        [-0.5019],\n",
      "        [ 0.0789],\n",
      "        [ 0.8130]], requires_grad=True)] \n",
      " \n",
      "\n",
      "classname: GCNConv \n",
      "\t parameters: [Parameter containing:\n",
      "tensor([0., 0., 0., 0., 0., 0., 0., 0.], device='cuda:0', requires_grad=True), Parameter containing:\n",
      "tensor([[-0.2981,  0.0649,  0.3622,  0.9682,  0.2155,  0.1719, -0.7820, -0.1540],\n",
      "        [ 0.6822,  0.1566, -0.6111,  0.9864,  0.2897,  0.4252, -0.7813, -0.1397],\n",
      "        [-1.1996, -0.7237, -0.0649, -0.8285, -0.4819, -0.3887,  0.9557,  1.0512],\n",
      "        [-0.3821,  0.3007, -0.3396, -0.2508, -0.1191,  0.1102, -0.1369, -0.0737],\n",
      "        [-0.3355,  0.6074,  0.2247, -0.3156, -0.0332, -0.3905, -0.4574, -0.0449],\n",
      "        [-0.3267, -0.5723,  0.0574, -0.0240,  0.3622,  0.5599, -0.1955, -0.2417],\n",
      "        [ 0.1360,  0.0909, -0.0036, -0.1571,  0.6998,  0.3180,  0.1143, -0.2936],\n",
      "        [ 0.4060,  0.2703,  0.4622, -0.3637,  0.1751, -0.0652, -0.6726, -0.4697]],\n",
      "       requires_grad=True)] \n",
      " \n",
      "\n",
      "classname: GCNConv \n",
      "\t parameters: [Parameter containing:\n",
      "tensor([0.], device='cuda:0', requires_grad=True), Parameter containing:\n",
      "tensor([[ 1.7051, -0.2022,  0.5918, -1.9620, -0.0092,  0.8865, -0.0084, -0.7686]],\n",
      "       requires_grad=True)] \n",
      " \n",
      "\n",
      "Cambio i parametri...\n",
      "[tensor([[ 0.2314],\n",
      "        [ 0.1038],\n",
      "        [-0.1072],\n",
      "        [ 0.1827],\n",
      "        [-0.3999],\n",
      "        [-0.2136],\n",
      "        [-0.5954],\n",
      "        [ 0.0351]]), tensor([[-0.9674,  0.3164,  0.1088, -0.2057,  0.4290, -0.4144,  0.1310,  0.3516],\n",
      "        [ 0.2907,  0.2584, -0.0544,  0.0551, -0.0433,  0.3619,  0.5996, -0.3584],\n",
      "        [ 0.3526, -0.0717, -0.1251,  0.1495,  0.9508, -0.3678, -0.0776, -0.3296],\n",
      "        [-0.9276,  0.3181,  0.7619,  0.5346, -0.1727, -0.0674, -0.3947, -0.1875],\n",
      "        [-0.4690,  0.2448,  0.0910,  0.0787, -0.2720,  0.3665, -0.2788,  0.2932],\n",
      "        [-0.3499, -0.6264,  0.5342, -0.0734, -0.6119, -0.1357,  0.3892,  0.2729],\n",
      "        [ 0.6035,  0.1587, -0.0990,  0.5182,  0.1543,  0.8823,  0.1188,  0.2983],\n",
      "        [ 0.1371, -0.1968, -0.5086,  0.6824,  0.0658, -0.2482,  1.4027, -0.6054]]), tensor([[ 1.0299,  0.3489, -2.2458,  1.9240,  2.0151, -0.5870, -0.1889,  1.0056]])]\n",
      "Parametri nuovi\n",
      "classname: GCNConv \n",
      "\t parameters: [Parameter containing:\n",
      "tensor([0., 0., 0., 0., 0., 0., 0., 0.], device='cuda:0', requires_grad=True), Parameter containing:\n",
      "tensor([[ 0.2314],\n",
      "        [ 0.1038],\n",
      "        [-0.1072],\n",
      "        [ 0.1827],\n",
      "        [-0.3999],\n",
      "        [-0.2136],\n",
      "        [-0.5954],\n",
      "        [ 0.0351]], requires_grad=True)] \n",
      " \n",
      "\n",
      "classname: GCNConv \n",
      "\t parameters: [Parameter containing:\n",
      "tensor([0., 0., 0., 0., 0., 0., 0., 0.], device='cuda:0', requires_grad=True), Parameter containing:\n",
      "tensor([[-0.9674,  0.3164,  0.1088, -0.2057,  0.4290, -0.4144,  0.1310,  0.3516],\n",
      "        [ 0.2907,  0.2584, -0.0544,  0.0551, -0.0433,  0.3619,  0.5996, -0.3584],\n",
      "        [ 0.3526, -0.0717, -0.1251,  0.1495,  0.9508, -0.3678, -0.0776, -0.3296],\n",
      "        [-0.9276,  0.3181,  0.7619,  0.5346, -0.1727, -0.0674, -0.3947, -0.1875],\n",
      "        [-0.4690,  0.2448,  0.0910,  0.0787, -0.2720,  0.3665, -0.2788,  0.2932],\n",
      "        [-0.3499, -0.6264,  0.5342, -0.0734, -0.6119, -0.1357,  0.3892,  0.2729],\n",
      "        [ 0.6035,  0.1587, -0.0990,  0.5182,  0.1543,  0.8823,  0.1188,  0.2983],\n",
      "        [ 0.1371, -0.1968, -0.5086,  0.6824,  0.0658, -0.2482,  1.4027, -0.6054]],\n",
      "       requires_grad=True)] \n",
      " \n",
      "\n",
      "classname: GCNConv \n",
      "\t parameters: [Parameter containing:\n",
      "tensor([0.], device='cuda:0', requires_grad=True), Parameter containing:\n",
      "tensor([[ 1.0299,  0.3489, -2.2458,  1.9240,  2.0151, -0.5870, -0.1889,  1.0056]],\n",
      "       requires_grad=True)] \n",
      " \n",
      "\n"
     ]
    }
   ],
   "source": [
    "print(\"Parametri attuali\")\n",
    "view_parameters(model)\n",
    "print(\"Cambio i parametri...\")\n",
    "new_par = new_parameters(model)\n",
    "print(new_par)\n",
    "modify_parameters(model, new_par)\n",
    "print(\"Parametri nuovi\")\n",
    "view_parameters(model)"
   ]
  },
  {
   "cell_type": "markdown",
   "metadata": {},
   "source": [
    "# Vari modi di fissare i pesi della rete:"
   ]
  },
  {
   "cell_type": "code",
   "execution_count": 8,
   "metadata": {},
   "outputs": [
    {
     "name": "stderr",
     "output_type": "stream",
     "text": [
      "/tmp/ipykernel_46641/3513158229.py:2: UserWarning: nn.init.xavier_uniform is now deprecated in favor of nn.init.xavier_uniform_.\n",
      "  torch.nn.init.xavier_uniform(conv1.weight)\n"
     ]
    },
    {
     "data": {
      "text/plain": [
       "Parameter containing:\n",
       "tensor([[[[ 0.2786, -0.3916,  0.2298],\n",
       "          [-0.0658, -0.0619,  0.4706],\n",
       "          [-0.0048,  0.0034,  0.3857]]],\n",
       "\n",
       "\n",
       "        [[[ 0.1266, -0.2369,  0.3244],\n",
       "          [ 0.3834, -0.3915, -0.2533],\n",
       "          [ 0.1063,  0.4603, -0.3646]]]], requires_grad=True)"
      ]
     },
     "execution_count": 8,
     "metadata": {},
     "output_type": "execute_result"
    }
   ],
   "source": [
    "conv1 = torch.nn.Conv2d(1,2,3)\n",
    "torch.nn.init.xavier_uniform(conv1.weight)"
   ]
  },
  {
   "cell_type": "code",
   "execution_count": 9,
   "metadata": {},
   "outputs": [
    {
     "data": {
      "text/plain": [
       "Parameter containing:\n",
       "tensor([[[[-0.7651, -0.0394,  0.5059],\n",
       "          [ 0.0521, -0.2367,  0.5064],\n",
       "          [ 0.6224, -0.4585, -0.0053]]],\n",
       "\n",
       "\n",
       "        [[[ 0.3680, -0.0266,  0.2351],\n",
       "          [ 0.3666, -0.3639,  0.7486],\n",
       "          [-0.1979,  0.0380, -0.6580]]]], requires_grad=True)"
      ]
     },
     "execution_count": 9,
     "metadata": {},
     "output_type": "execute_result"
    }
   ],
   "source": [
    "torch.nn.init.kaiming_uniform_(conv1.weight)\n",
    "#init.kaiming_uniform_(self.weight, a=math.sqrt(5))"
   ]
  },
  {
   "cell_type": "code",
   "execution_count": null,
   "metadata": {},
   "outputs": [],
   "source": [
    "fan_in, _ = init._calculate_fan_in_and_fan_out(self.weight)\n",
    "bound = 1 / math.sqrt(fan_in) if fan_in > 0 else 0\n",
    "init.uniform_(self.bias, -bound, bound)"
   ]
  },
  {
   "cell_type": "code",
   "execution_count": 10,
   "metadata": {},
   "outputs": [
    {
     "data": {
      "text/plain": [
       "tensor([[[[0.0100, 0.0100, 0.0100],\n",
       "          [0.0100, 0.0100, 0.0100],\n",
       "          [0.0100, 0.0100, 0.0100]]],\n",
       "\n",
       "\n",
       "        [[[0.0100, 0.0100, 0.0100],\n",
       "          [0.0100, 0.0100, 0.0100],\n",
       "          [0.0100, 0.0100, 0.0100]]]])"
      ]
     },
     "execution_count": 10,
     "metadata": {},
     "output_type": "execute_result"
    }
   ],
   "source": [
    "conv1.weight.data.fill_(0.01)"
   ]
  },
  {
   "cell_type": "code",
   "execution_count": 11,
   "metadata": {},
   "outputs": [
    {
     "data": {
      "text/plain": [
       "tensor([0.0100, 0.0100])"
      ]
     },
     "execution_count": 11,
     "metadata": {},
     "output_type": "execute_result"
    }
   ],
   "source": [
    "conv1.bias.data.fill_(0.01)"
   ]
  },
  {
   "cell_type": "code",
   "execution_count": 2,
   "metadata": {},
   "outputs": [],
   "source": [
    "from enum import Enum\n",
    "class Inits(Enum):\n",
    "    normal = 'normal'\n",
    "    constant = 'constant'\n",
    "    uniform = 'uniform'\n",
    "    eye = 'eye'\n",
    "    dirac = 'dirac'\n",
    "    xavier_uniform = 'xavier_uniform'"
   ]
  },
  {
   "cell_type": "code",
   "execution_count": 6,
   "metadata": {},
   "outputs": [
    {
     "data": {
      "text/plain": [
       "False"
      ]
     },
     "execution_count": 6,
     "metadata": {},
     "output_type": "execute_result"
    }
   ],
   "source": [
    "Inits.normal == 'normal'"
   ]
  },
  {
   "cell_type": "markdown",
   "metadata": {},
   "source": [
    "### Init pytorch"
   ]
  },
  {
   "cell_type": "code",
   "execution_count": null,
   "metadata": {},
   "outputs": [],
   "source": [
    "# https://pytorch.org/docs/stable/nn.init.html\n",
    "\n",
    "torch.nn.init.normal_(tensor, mean=0, std=1)\n",
    "torch.nn.init.constant_(tensor, value)\n",
    "torch.nn.init.uniform_(tensor, a=0, b=1) # a: lower_bound, b: upper_bound\n",
    "torch.nn.init.eye_(tensor)\n",
    "torch.nn.init.dirac_(tensor) # tensor sdeve essere almeno 3D\n",
    "torch.nn.init.xavier_uniform_(tensor, gain=1.0)  #values sampled from \\mathcal{U}(-a, a)U(−a,a)\n",
    "torch.nn.init.xavier_normal_(tensor, gain=1.0)  # values sampled from \\mathcal{N}(0, \\text{std}^2)N(0,std2)\n",
    "torch.nn.init.kaiming_uniform_(tensor, a=0, mode='fan_in', nonlinearity='leaky_relu')\n",
    "torch.nn.init.kaiming_normal_(tensor, a=0, mode='fan_in', nonlinearity='leaky_relu')\n",
    "torch.nn.init.trunc_normal_(tensor, mean=0.0, std=1.0, a=- 2.0, b=2.0)\n",
    "torch.nn.init.orthogonal_(tensor, gain=1)\n",
    "torch.nn.init.sparse_(tensor, sparsity, std=0.01)\n",
    "gain = torch.nn.init.calculate_gain(nonlinearity, param=None) # nonlinearity – the non-linear function (nn.functional name)"
   ]
  },
  {
   "cell_type": "code",
   "execution_count": 29,
   "metadata": {},
   "outputs": [],
   "source": [
    "vect = torch.empty((100,100))\n",
    "vect2 = torch.empty((100,100))"
   ]
  },
  {
   "cell_type": "code",
   "execution_count": 37,
   "metadata": {
    "slideshow": {
     "slide_type": "slide"
    },
    "tags": []
   },
   "outputs": [
    {
     "data": {
      "image/png": "[encoded data removed]",
      "text/plain": [
       "<Figure size 1152x576 with 1 Axes>"
      ]
     },
     "metadata": {
      "needs_background": "light"
     },
     "output_type": "display_data"
    }
   ],
   "source": [
    "torch.nn.init.xavier_uniform_(vect, gain=1.0)\n",
    "plt.hist(vect.flatten().numpy(), bins=50, alpha=0.5);\n",
    "torch.nn.init.xavier_normal_(vect, gain=1.0)\n",
    "plt.hist(vect.flatten().numpy(), bins=150, alpha=0.5);"
   ]
  },
  {
   "cell_type": "markdown",
   "metadata": {},
   "source": [
    "### Init pytorch geom"
   ]
  },
  {
   "cell_type": "code",
   "execution_count": 15,
   "metadata": {},
   "outputs": [],
   "source": [
    "from torch_geometric.nn import inits"
   ]
  },
  {
   "cell_type": "markdown",
   "metadata": {},
   "source": [
    "#### Questa è l'inizializzazione di default di un Linear, che sta anche dentro il layer GCN"
   ]
  },
  {
   "cell_type": "code",
   "execution_count": 31,
   "metadata": {},
   "outputs": [
    {
     "data": {
      "image/png": "[encoded data removed]",
      "text/plain": [
       "<Figure size 1152x576 with 1 Axes>"
      ]
     },
     "metadata": {
      "needs_background": "light"
     },
     "output_type": "display_data"
    }
   ],
   "source": [
    "inits.glorot(vect2)\n",
    "plt.hist(vect2.flatten().numpy(), bins=50);"
   ]
  },
  {
   "cell_type": "markdown",
   "metadata": {},
   "source": [
    "### assegno a parameter un array precalcolato"
   ]
  },
  {
   "cell_type": "code",
   "execution_count": null,
   "metadata": {},
   "outputs": [],
   "source": [
    "d.weight.data = torch.full((8, 8), 0.5)\n",
    "#####\n",
    "custom_weight = torch.rand(model.fc1.weight.shape)\n",
    "model.fc1.weight = torch.nn.Parameter(custom_weight)"
   ]
  },
  {
   "cell_type": "code",
   "execution_count": null,
   "metadata": {},
   "outputs": [],
   "source": [
    "# ??? forse no\n",
    "for layer in model.state_dict():\n",
    "    model.state_dict()[layer] = nn.parameter.Parameter(torch.ones_like(model.state_dict()[layer]))\n",
    "for param in mask_model.parameters():\n",
    "    param.data = nn.parameter.Parameter(torch.ones_like(param))"
   ]
  },
  {
   "cell_type": "code",
   "execution_count": null,
   "metadata": {},
   "outputs": [],
   "source": [
    "def init_all(model, init_funcs):\n",
    "    for p in model.parameters():\n",
    "        init_func = init_funcs.get(len(p.shape), init_funcs[\"default\"])\n",
    "        init_func(p)\n",
    "\n",
    "model = UNet(3, 10)\n",
    "init_funcs = {\n",
    "    1: lambda x: torch.nn.init.normal_(x, mean=0., std=1.), # can be bias\n",
    "    2: lambda x: torch.nn.init.xavier_normal_(x, gain=1.), # can be weight\n",
    "    3: lambda x: torch.nn.init.xavier_uniform_(x, gain=1.), # can be conv1D filter\n",
    "    4: lambda x: torch.nn.init.xavier_uniform_(x, gain=1.), # can be conv2D filter\n",
    "    \"default\": lambda x: torch.nn.init.constant(x, 1.), # everything else\n",
    "}\n",
    "\n",
    "init_all(model, init_funcs)"
   ]
  },
  {
   "cell_type": "code",
   "execution_count": null,
   "metadata": {},
   "outputs": [],
   "source": [
    "import torch.nn as nn        \n",
    "\n",
    "# a simple network\n",
    "rand_net = nn.Sequential(nn.Linear(in_features, h_size),\n",
    "                         nn.BatchNorm1d(h_size),\n",
    "                         nn.ReLU(),\n",
    "                         nn.Linear(h_size, h_size),\n",
    "                         nn.BatchNorm1d(h_size),\n",
    "                         nn.ReLU(),\n",
    "                         nn.Linear(h_size, 1),\n",
    "                         nn.ReLU())\n",
    "\n",
    "# initialization function, first checks the module type,\n",
    "# then applies the desired changes to the weights\n",
    "def init_normal(m):\n",
    "    classname = m.__class__.__name__\n",
    "    if type(m) == nn.Linear:\n",
    "    #if classname.find('Linear') != -1:\n",
    "        nn.init.uniform_(m.weight)\n",
    "        #m.weight.data.uniform_(0.0, 1.0)\n",
    "        #m.bias.data.fill_(0)\n",
    "        \n",
    "def weights_init_uniform_rule(m):\n",
    "    classname = m.__class__.__name__\n",
    "    # for every Linear layer in a model..\n",
    "    if classname.find('Linear') != -1:\n",
    "        # get the number of the inputs\n",
    "        n = m.in_features\n",
    "        y = 1.0/np.sqrt(n)\n",
    "        m.weight.data.uniform_(-y, y)\n",
    "        m.bias.data.fill_(0)\n",
    "\n",
    "def weights_init_normal(m):\n",
    "    '''Takes in a module and initializes all linear layers with weight\n",
    "       values taken from a normal distribution.'''\n",
    "    classname = m.__class__.__name__\n",
    "    # for every Linear layer in a model\n",
    "    if classname.find('Linear') != -1:\n",
    "        y = m.in_features\n",
    "    # m.weight.data shoud be taken from a normal distribution\n",
    "        m.weight.data.normal_(0.0,1/np.sqrt(y))\n",
    "    # m.bias.data should be 0\n",
    "        m.bias.data.fill_(0)\n",
    "            \n",
    "        \n",
    "# use the modules apply function to recursively apply the initialization\n",
    "rand_net.apply(init_normal)\n",
    "\n"
   ]
  },
  {
   "cell_type": "code",
   "execution_count": null,
   "metadata": {},
   "outputs": [],
   "source": [
    "def init_weights(m):\n",
    "    if isinstance(m, nn.Linear):\n",
    "        torch.nn.init.xavier_uniform(m.weight)\n",
    "        m.bias.data.fill_(0.01)\n",
    "\n",
    "net = nn.Sequential(nn.Linear(2, 2), nn.Linear(2, 2))\n",
    "net.apply(init_weights)"
   ]
  },
  {
   "cell_type": "code",
   "execution_count": null,
   "metadata": {},
   "outputs": [],
   "source": [
    "import torch.nn as nn\n",
    "\n",
    "\n",
    "class Model(nn.Module):\n",
    "    def __init__(self):\n",
    "        self.apply(self._init_weights)\n",
    "    def _init_weights(self, module):\n",
    "        if isinstance(module, nn.Linear):\n",
    "            module.weight.data.normal_(mean=0.0, std=1.0)\n",
    "            if module.bias is not None:\n",
    "                module.bias.data.zero_()\n",
    "        if isinstance(m, nn.Conv2d):\n",
    "            nn.init.kaiming_uniform_(m.weight.data,nonlinearity='relu')\n"
   ]
  },
  {
   "cell_type": "code",
   "execution_count": null,
   "metadata": {},
   "outputs": [],
   "source": [
    "def reset_parameters(self):\n",
    "    stdv = 1. / math.sqrt(self.weight.size(1))\n",
    "    self.weight.data.uniform_(-stdv, stdv)\n",
    "    if self.bias is not None:\n",
    "        self.bias.data.uniform_(-stdv, stdv)\n"
   ]
  },
  {
   "cell_type": "markdown",
   "metadata": {},
   "source": [
    "##### from https://adityassrana.github.io/blog/theory/2020/08/26/Weight-Init.html#Okay,-now-why-can't-we-trust-PyTorch-to-initialize-our-weights-for-us-by-default?"
   ]
  },
  {
   "cell_type": "code",
   "execution_count": null,
   "metadata": {},
   "outputs": [],
   "source": [
    "conv = nn.Conv2d(ni, nf, kernel_size=ks,stride=stride,padding=padding, **kwargs)\n",
    "nn.init.kaiming_normal_(conv.weight)"
   ]
  },
  {
   "cell_type": "code",
   "execution_count": null,
   "metadata": {},
   "outputs": [],
   "source": [
    "for m in self.modules():\n",
    "    if isinstance(m, nn.Conv2d):\n",
    "        nn.init.kaiming_normal_(m.weight, mode='fan_out', nonlinearity='relu')\n",
    "    elif isinstance(m, (nn.BatchNorm2d, nn.GroupNorm)):\n",
    "        nn.init.constant_(m.weight, 1)\n",
    "        nn.init.constant_(m.bias, 0)"
   ]
  },
  {
   "cell_type": "code",
   "execution_count": null,
   "metadata": {},
   "outputs": [],
   "source": [
    "# Zero-initialize the last BN in each residual branch,\n",
    "# so that the residual branch starts with zeros, and each residual block behaves like an identity.\n",
    "# This improves the model by 0.2~0.3% according to https://arxiv.org/abs/1706.02677\n",
    "if zero_init_residual:\n",
    "    for m in self.modules():\n",
    "        if isinstance(m, Bottleneck):\n",
    "            nn.init.constant_(m.bn3.weight, 0)\n",
    "        elif isinstance(m, BasicBlock):\n",
    "            nn.init.constant_(m.bn2.weight, 0)"
   ]
  }
 ],
 "metadata": {
  "kernelspec": {
   "display_name": "Pytorch Geometric",
   "language": "python",
   "name": "pytorch-geom"
  },
  "language_info": {
   "codemirror_mode": {
    "name": "ipython",
    "version": 3
   },
   "file_extension": ".py",
   "mimetype": "text/x-python",
   "name": "python",
   "nbconvert_exporter": "python",
   "pygments_lexer": "ipython3",
   "version": "3.8.13"
  }
 },
 "nbformat": 4,
 "nbformat_minor": 4
}
