{
 "cells": [
  {
   "cell_type": "code",
   "execution_count": 5,
   "metadata": {
    "tags": []
   },
   "outputs": [
    {
     "name": "stdout",
     "output_type": "stream",
     "text": [
      "The autoreload extension is already loaded. To reload it, use:\n",
      "  %reload_ext autoreload\n"
     ]
    }
   ],
   "source": [
    "%load_ext autoreload\n",
    "%autoreload 2\n",
    "\n",
    "import itertools\n",
    "import numpy as np\n",
    "import matplotlib.pyplot as plt\n",
    "\n",
    "from multiprocessing import Pool\n",
    "import time\n",
    "from tqdm import tqdm\n",
    "import networkx as nx\n",
    "\n",
    "from graph_generation import GenerateGraph, perturb_nx_graph\n",
    "from models import GCN, view_parameters, new_parameters, modify_parameters\n",
    "from train import Trainer, Dataset\n",
    "from embedding import Embedding, NodeEmbedding\n",
    "import experiments\n",
    "from experiments import (init_GCN, init, init_model_dataset, train_take_embedding, experiment_node_embedding, \n",
    "                         elaborate_embeddings, elaborate_embeddings_2, elaborate_embedding_pergraph, separate_embedding_by_classes,\n",
    "                         run_with_weights, init_with_weights, make_video, take_corr, plot_epoch, get_corrs_training)\n",
    "from config_valid import Config, TrainingMode\n",
    "from plot_funcs import (plot_dim1, plot_dimN, plot_correlation_error, get_metrics, plot_node_emb_1D_perclass, scatter_node_emb, \n",
    "                        plot_graph_emb_1D, plot_data_degree_sequence)\n",
    "from utils import array_wo_outliers, plot_grafo, plot_grafo2\n",
    "\n",
    "import torch\n",
    "from torch_geometric.loader import DataLoader\n",
    "device = torch.device('cuda')\n",
    "\n",
    "from scipy import stats\n",
    "\n",
    "import yaml\n",
    "\n",
    "from plt_parameters import init_params\n",
    "init_params()\n",
    "\n",
    "#from tensorboard.backend.event_processing.event_accumulator import EventAccumulator\n",
    "#event_acc = EventAccumulator(path=\"./runs/lr-0.01_epochs45_bs150_neurons-1-8-2_15Sep_16-15-16\")\n",
    "#event_acc.Reload()\n",
    "# Show all tags in the log file\n",
    "#print(event_acc.Tags())\n",
    "#w_times, step_nums, vals = zip(*event_acc.Scalars('Test Loss'))"
   ]
  },
  {
   "cell_type": "markdown",
   "metadata": {
    "tags": []
   },
   "source": [
    "# Overview del progetto"
   ]
  },
  {
   "cell_type": "markdown",
   "metadata": {
    "tags": []
   },
   "source": [
    "### Grafi regolari"
   ]
  },
  {
   "cell_type": "code",
   "execution_count": 2,
   "metadata": {},
   "outputs": [],
   "source": [
    "config_file = \"configurations/classification_nodeemb.yml\""
   ]
  },
  {
   "cell_type": "code",
   "execution_count": 3,
   "metadata": {},
   "outputs": [
    {
     "name": "stdout",
     "output_type": "stream",
     "text": [
      "Generating dataset...\n",
      "Mean connectivity for each node: 4.0 p=4\n",
      "Mean connectivity for each node: 35.0 p=35\n",
      "Dataset generated\n"
     ]
    }
   ],
   "source": [
    "config_c_reg = Config(config_file)\n",
    "gg_reg = GenerateGraph(config_c_reg)\n",
    "dataset_reg = gg_reg.initialize_dataset()"
   ]
  },
  {
   "cell_type": "code",
   "execution_count": 4,
   "metadata": {},
   "outputs": [
    {
     "name": "stdout",
     "output_type": "stream",
     "text": [
      "Initialize model\n",
      "Loading Dataset...\n"
     ]
    },
    {
     "name": "stderr",
     "output_type": "stream",
     "text": [
      "100%|███████████████████████████████████████████████████████████████| 600/600 [00:16<00:00, 35.65it/s]\n"
     ]
    },
    {
     "name": "stdout",
     "output_type": "stream",
     "text": [
      "Tempo impiegato: 16.900064945220947\n"
     ]
    }
   ],
   "source": [
    "model, trainer = init_model_dataset(config_c_reg, dataset_reg, parallel=False, verbose=False)"
   ]
  },
  {
   "cell_type": "code",
   "execution_count": 7,
   "metadata": {},
   "outputs": [],
   "source": [
    "#trainer.dataset.dataset_pyg[0].id"
   ]
  },
  {
   "cell_type": "code",
   "execution_count": 5,
   "metadata": {},
   "outputs": [
    {
     "name": "stdout",
     "output_type": "stream",
     "text": [
      "Before training Test loss: 0.00770855082405938\n",
      "Run training for 300 epochs\n",
      "Epoch: 299\tTest loss: 3.558787543119656e-05 \t\t FINE TRAINING\n"
     ]
    }
   ],
   "source": [
    "#graph_embeddings_array, node_embeddings_array, model, test_loss_list, trainer = train_take_embedding(config_c_reg, dataset_reg, verbose=False)\n",
    "trainer.launch_training(verbose)\n",
    "graph_embeddings_array, node_embeddings_array, node_embeddings_array_id, final_output = trainer.take_embedding_all_data(type_embedding)"
   ]
  },
  {
   "cell_type": "code",
   "execution_count": 6,
   "metadata": {},
   "outputs": [
    {
     "data": {
      "text/plain": [
       "[<matplotlib.lines.Line2D at 0x7fab396f3100>]"
      ]
     },
     "execution_count": 6,
     "metadata": {},
     "output_type": "execute_result"
    },
    {
     "data": {
      "image/png": "[encoded data removed]",
      "text/plain": [
       "<Figure size 1152x576 with 1 Axes>"
      ]
     },
     "metadata": {
      "needs_background": "light"
     },
     "output_type": "display_data"
    }
   ],
   "source": [
    "plt.plot(test_loss_list)"
   ]
  },
  {
   "cell_type": "code",
   "execution_count": 7,
   "metadata": {},
   "outputs": [
    {
     "ename": "TypeError",
     "evalue": "'int' object is not subscriptable",
     "output_type": "error",
     "traceback": [
      "\u001b[0;31m---------------------------------------------------------------------------\u001b[0m",
      "\u001b[0;31mTypeError\u001b[0m                                 Traceback (most recent call last)",
      "Input \u001b[0;32mIn [7]\u001b[0m, in \u001b[0;36m<cell line: 4>\u001b[0;34m()\u001b[0m\n\u001b[1;32m      1\u001b[0m graph_embeddings \u001b[38;5;241m=\u001b[39m Embedding(graph_embeddings_array, trainer\u001b[38;5;241m.\u001b[39mdataset, test_loss_list, config_c_reg)\n\u001b[1;32m      2\u001b[0m node_embeddings \u001b[38;5;241m=\u001b[39m NodeEmbedding(node_embeddings_array, node_embeddings_array_id, trainer\u001b[38;5;241m.\u001b[39mdataset, test_loss_list, config_c_reg)\n\u001b[0;32m----> 4\u001b[0m node_emb_pergraphclass \u001b[38;5;241m=\u001b[39m \u001b[43mnode_embeddings\u001b[49m\u001b[38;5;241;43m.\u001b[39;49m\u001b[43mget_emb_per_graph_class_cm\u001b[49m\u001b[43m(\u001b[49m\u001b[43mgraph_embeddings_array\u001b[49m\u001b[43m)\u001b[49m\n\u001b[1;32m      6\u001b[0m emb_perclass0 \u001b[38;5;241m=\u001b[39m [n \u001b[38;5;28;01mfor\u001b[39;00m n \u001b[38;5;129;01min\u001b[39;00m node_emb_pergraphclass \u001b[38;5;28;01mif\u001b[39;00m n\u001b[38;5;241m.\u001b[39mgraph_label \u001b[38;5;241m==\u001b[39m \u001b[38;5;241m0\u001b[39m]\n\u001b[1;32m      7\u001b[0m emb_perclass1 \u001b[38;5;241m=\u001b[39m [n \u001b[38;5;28;01mfor\u001b[39;00m n \u001b[38;5;129;01min\u001b[39;00m node_emb_pergraphclass \u001b[38;5;28;01mif\u001b[39;00m n\u001b[38;5;241m.\u001b[39mgraph_label \u001b[38;5;241m==\u001b[39m \u001b[38;5;241m1\u001b[39m]\n",
      "File \u001b[0;32m~/Documenti/Progetti/Networks/Embednet/embedding.py:222\u001b[0m, in \u001b[0;36mNodeEmbedding.get_emb_per_graph_class_cm\u001b[0;34m(self, graph_embedding)\u001b[0m\n\u001b[1;32m    219\u001b[0m     g_emb \u001b[38;5;241m=\u001b[39m graph_embedding[i]\n\u001b[1;32m    220\u001b[0m \u001b[38;5;66;03m# poiché nel training prepare ho shufflato coerentemente sia dataset_pyg che original_class che labels,\u001b[39;00m\n\u001b[1;32m    221\u001b[0m \u001b[38;5;66;03m# anche embeddings_array che arriva dal dataloader con shuffle=false ha il loro stesso ordine\u001b[39;00m\n\u001b[0;32m--> 222\u001b[0m toappend \u001b[38;5;241m=\u001b[39m \u001b[43mEmbedding_per_graph\u001b[49m\u001b[43m(\u001b[49m\u001b[43mg_emb\u001b[49m\u001b[43m,\u001b[49m\u001b[43m \u001b[49m\u001b[38;5;28;43mself\u001b[39;49m\u001b[38;5;241;43m.\u001b[39;49m\u001b[43membeddings_array\u001b[49m\u001b[43m[\u001b[49m\u001b[43mr\u001b[49m\u001b[43m:\u001b[49m\u001b[43mr\u001b[49m\u001b[43m \u001b[49m\u001b[38;5;241;43m+\u001b[39;49m\u001b[43m \u001b[49m\u001b[43ml\u001b[49m\u001b[43m]\u001b[49m\u001b[43m,\u001b[49m\u001b[43m \u001b[49m\u001b[38;5;28;43mself\u001b[39;49m\u001b[38;5;241;43m.\u001b[39;49m\u001b[43membeddings_array_nodeid\u001b[49m\u001b[43m[\u001b[49m\u001b[43mr\u001b[49m\u001b[43m:\u001b[49m\u001b[43mr\u001b[49m\u001b[43m \u001b[49m\u001b[38;5;241;43m+\u001b[39;49m\u001b[43m \u001b[49m\u001b[43ml\u001b[49m\u001b[43m]\u001b[49m\u001b[43m,\u001b[49m\u001b[43m \u001b[49m\u001b[43mexp\u001b[49m\u001b[43m,\u001b[49m\u001b[43m \u001b[49m\u001b[43ms\u001b[49m\u001b[43m)\u001b[49m\n\u001b[1;32m    223\u001b[0m \u001b[38;5;28mself\u001b[39m\u001b[38;5;241m.\u001b[39mnode_emb_pergraphclass\u001b[38;5;241m.\u001b[39mappend(toappend)\n\u001b[1;32m    224\u001b[0m r \u001b[38;5;241m+\u001b[39m\u001b[38;5;241m=\u001b[39m l\n",
      "File \u001b[0;32m~/Documenti/Progetti/Networks/Embednet/embedding.py:187\u001b[0m, in \u001b[0;36mEmbedding_per_graph.__init__\u001b[0;34m(self, graph_embeddings_array, node_embedding_array, node_embeddings_array_id, graph_label, node_label_and_id)\u001b[0m\n\u001b[1;32m    184\u001b[0m \u001b[38;5;28mself\u001b[39m\u001b[38;5;241m.\u001b[39mgraph_label \u001b[38;5;241m=\u001b[39m graph_label\n\u001b[1;32m    185\u001b[0m \u001b[38;5;28mself\u001b[39m\u001b[38;5;241m.\u001b[39mnode_label_and_id \u001b[38;5;241m=\u001b[39m node_label_and_id\n\u001b[0;32m--> 187\u001b[0m \u001b[38;5;28mself\u001b[39m\u001b[38;5;241m.\u001b[39mnode_label \u001b[38;5;241m=\u001b[39m [n[\u001b[38;5;241m1\u001b[39m] \u001b[38;5;28;01mfor\u001b[39;00m n \u001b[38;5;129;01min\u001b[39;00m \u001b[38;5;28mlist\u001b[39m(node_label_and_id)]  \u001b[38;5;66;03m# contiene anche i node ID\u001b[39;00m\n\u001b[1;32m    189\u001b[0m \u001b[38;5;28mself\u001b[39m\u001b[38;5;241m.\u001b[39malign_embedding_id_with_degree_sequence_id()\n",
      "File \u001b[0;32m~/Documenti/Progetti/Networks/Embednet/embedding.py:187\u001b[0m, in \u001b[0;36m<listcomp>\u001b[0;34m(.0)\u001b[0m\n\u001b[1;32m    184\u001b[0m \u001b[38;5;28mself\u001b[39m\u001b[38;5;241m.\u001b[39mgraph_label \u001b[38;5;241m=\u001b[39m graph_label\n\u001b[1;32m    185\u001b[0m \u001b[38;5;28mself\u001b[39m\u001b[38;5;241m.\u001b[39mnode_label_and_id \u001b[38;5;241m=\u001b[39m node_label_and_id\n\u001b[0;32m--> 187\u001b[0m \u001b[38;5;28mself\u001b[39m\u001b[38;5;241m.\u001b[39mnode_label \u001b[38;5;241m=\u001b[39m [\u001b[43mn\u001b[49m\u001b[43m[\u001b[49m\u001b[38;5;241;43m1\u001b[39;49m\u001b[43m]\u001b[49m \u001b[38;5;28;01mfor\u001b[39;00m n \u001b[38;5;129;01min\u001b[39;00m \u001b[38;5;28mlist\u001b[39m(node_label_and_id)]  \u001b[38;5;66;03m# contiene anche i node ID\u001b[39;00m\n\u001b[1;32m    189\u001b[0m \u001b[38;5;28mself\u001b[39m\u001b[38;5;241m.\u001b[39malign_embedding_id_with_degree_sequence_id()\n",
      "\u001b[0;31mTypeError\u001b[0m: 'int' object is not subscriptable"
     ]
    }
   ],
   "source": [
    "graph_embeddings = Embedding(graph_embeddings_array, trainer.dataset, test_loss_list, config_c_reg)\n",
    "node_embeddings = NodeEmbedding(node_embeddings_array, node_embeddings_array_id, trainer.dataset, test_loss_list, config_c_reg)\n",
    "\n",
    "node_emb_pergraphclass = node_embeddings.get_emb_per_graph_class_cm(graph_embeddings_array)\n",
    "\n",
    "emb_perclass0 = [n for n in node_emb_pergraphclass if n.graph_label == 0]\n",
    "emb_perclass1 = [n for n in node_emb_pergraphclass if n.graph_label == 1]"
   ]
  },
  {
   "cell_type": "markdown",
   "metadata": {},
   "source": [
    "### grafi regolari con feature random"
   ]
  },
  {
   "cell_type": "code",
   "execution_count": null,
   "metadata": {},
   "outputs": [],
   "source": []
  },
  {
   "cell_type": "code",
   "execution_count": null,
   "metadata": {},
   "outputs": [],
   "source": [
    "# ricarico lo stesso config ma ho cambiato la property  random_node_feat: True\n",
    "config_c_reg = Config(config_file)\n",
    "gg_reg = GenerateGraph(config_c_reg)\n",
    "dataset_reg = gg_reg.initialize_dataset()"
   ]
  },
  {
   "cell_type": "code",
   "execution_count": null,
   "metadata": {},
   "outputs": [],
   "source": [
    "graph_embeddings_array, node_embeddings_array, model, test_loss_list, trainer = train_take_embedding(config_c_reg, dataset_reg, verbose=False)"
   ]
  },
  {
   "cell_type": "markdown",
   "metadata": {},
   "source": [
    "##### aumento la p della seconda classe"
   ]
  },
  {
   "cell_type": "code",
   "execution_count": null,
   "metadata": {},
   "outputs": [],
   "source": [
    "# ricarico lo stesso config ma ho cambiato la property  random_node_feat: True\n",
    "config_c_reg = Config(config_file)\n",
    "gg_reg = GenerateGraph(config_c_reg)\n",
    "dataset_reg = gg_reg.initialize_dataset()"
   ]
  },
  {
   "cell_type": "code",
   "execution_count": null,
   "metadata": {},
   "outputs": [],
   "source": [
    "graph_embeddings_array, node_embeddings_array, model, test_loss_list, trainer = train_take_embedding(config_c_reg, dataset_reg, verbose=False)"
   ]
  },
  {
   "cell_type": "code",
   "execution_count": null,
   "metadata": {},
   "outputs": [],
   "source": [
    "### verifico che le feature dei nodi sia random\n",
    "trainer.dataset.dataset_pyg[0].x"
   ]
  },
  {
   "cell_type": "markdown",
   "metadata": {},
   "source": [
    "### Grafi regolari con pesi random uniform"
   ]
  },
  {
   "cell_type": "code",
   "execution_count": null,
   "metadata": {},
   "outputs": [],
   "source": [
    "# ricarico lo stesso config ma ho cambiato la property  random_node_feat: True\n",
    "config_c_reg = Config(config_file)\n",
    "gg_reg = GenerateGraph(config_c_reg)\n",
    "dataset_reg = gg_reg.initialize_dataset()"
   ]
  },
  {
   "cell_type": "code",
   "execution_count": null,
   "metadata": {},
   "outputs": [],
   "source": [
    "model, trainer = init_model_dataset(config_c_reg, dataset_reg, parallel=False, verbose=False)"
   ]
  },
  {
   "cell_type": "code",
   "execution_count": null,
   "metadata": {},
   "outputs": [],
   "source": [
    "new_par = new_parameters(model, \"uniform\")\n",
    "modify_parameters(model, new_par)"
   ]
  },
  {
   "cell_type": "code",
   "execution_count": null,
   "metadata": {},
   "outputs": [],
   "source": [
    "trainer.launch_training(verbose)\n",
    "graph_embeddings_array, node_embeddings_array, node_embeddings_array_id, final_output = trainer.take_embedding_all_data(type_embedding)"
   ]
  },
  {
   "cell_type": "markdown",
   "metadata": {},
   "source": [
    "### Grafi regolari perturbati, feature costante = 1.0"
   ]
  },
  {
   "cell_type": "code",
   "execution_count": null,
   "metadata": {},
   "outputs": [],
   "source": [
    "config_file = \"configurations/classification_nodeemb.yml\"\n",
    "config_c_reg = Config(config_file)  # yml file aggiornato con random feat = False"
   ]
  },
  {
   "cell_type": "code",
   "execution_count": null,
   "metadata": {},
   "outputs": [],
   "source": [
    "gg_reg = GenerateGraph(config_c_reg)\n",
    "dataset_reg = gg_reg.initialize_dataset()"
   ]
  },
  {
   "cell_type": "code",
   "execution_count": null,
   "metadata": {},
   "outputs": [],
   "source": [
    "gg_reg.perturb_dataset(125, verbose=False) # cambia il dataset_list interno alla classe di dataset"
   ]
  },
  {
   "cell_type": "code",
   "execution_count": null,
   "metadata": {},
   "outputs": [],
   "source": [
    "ntipo = config_c_reg.conf['graph_dataset']['Num_grafi_per_tipo']\n",
    "ntipo"
   ]
  },
  {
   "cell_type": "code",
   "execution_count": null,
   "metadata": {},
   "outputs": [],
   "source": [
    "print(round(np.array([nx.to_numpy_matrix(t).sum(axis=1).mean() for t in dataset_reg.dataset_list[:ntipo]]).mean(), 3))"
   ]
  },
  {
   "cell_type": "code",
   "execution_count": null,
   "metadata": {},
   "outputs": [],
   "source": [
    "print(round(np.array([nx.to_numpy_matrix(t).sum(axis=1).mean() for t in dataset_reg.dataset_list[ntipo:]]).mean(), 3))"
   ]
  },
  {
   "cell_type": "code",
   "execution_count": null,
   "metadata": {},
   "outputs": [],
   "source": [
    "model, trainer = init_model_dataset(config_c_reg, dataset_reg, verbose=False)"
   ]
  },
  {
   "cell_type": "code",
   "execution_count": null,
   "metadata": {},
   "outputs": [],
   "source": [
    "trainer.launch_training(verbose)\n",
    "graph_embeddings_array, node_embeddings_array, node_embeddings_array_id, final_output = trainer.take_embedding_all_data(type_embedding)"
   ]
  },
  {
   "cell_type": "code",
   "execution_count": null,
   "metadata": {},
   "outputs": [],
   "source": [
    "graph_embeddings = Embedding(graph_embeddings_array, trainer.dataset, test_loss_list, config_c_reg)\n",
    "node_embeddings = NodeEmbedding(node_embeddings_array, trainer.dataset, test_loss_list, config_c_reg)\n",
    "num_emb_neurons = model.convs[-1].out_channels"
   ]
  },
  {
   "cell_type": "code",
   "execution_count": null,
   "metadata": {},
   "outputs": [],
   "source": [
    "get_metrics(graph_embeddings, num_emb_neurons) #plt.figure(figsize=(18, 6))"
   ]
  },
  {
   "cell_type": "code",
   "execution_count": null,
   "metadata": {},
   "outputs": [],
   "source": []
  },
  {
   "cell_type": "code",
   "execution_count": null,
   "metadata": {},
   "outputs": [],
   "source": []
  },
  {
   "cell_type": "code",
   "execution_count": null,
   "metadata": {},
   "outputs": [],
   "source": [
    "### plot "
   ]
  },
  {
   "cell_type": "code",
   "execution_count": null,
   "metadata": {},
   "outputs": [],
   "source": [
    "\n",
    "plt.scatter(node_embeddings.embeddings_array[:,0], node_embeddings.embeddings_array[:,1], s=0.01, marker='.')"
   ]
  },
  {
   "cell_type": "code",
   "execution_count": null,
   "metadata": {},
   "outputs": [],
   "source": []
  },
  {
   "cell_type": "code",
   "execution_count": null,
   "metadata": {},
   "outputs": [],
   "source": [
    "plt.figure(figsize=(18, 6))\n",
    "plt.scatter(graph_embeddings.embeddings_array[:,0], graph_embeddings.embeddings_array[:,1], s=4.5, marker='.')"
   ]
  },
  {
   "cell_type": "code",
   "execution_count": null,
   "metadata": {},
   "outputs": [],
   "source": []
  },
  {
   "cell_type": "markdown",
   "metadata": {},
   "source": [
    "##### Plot delle metriche e degli embedding in funzione dei neuroni e dei layer"
   ]
  },
  {
   "cell_type": "markdown",
   "metadata": {},
   "source": [
    "### Erdos-Renyi"
   ]
  },
  {
   "cell_type": "code",
   "execution_count": 6,
   "metadata": {},
   "outputs": [
    {
     "ename": "KeyError",
     "evalue": "'GCNneurons_per_layer'",
     "output_type": "error",
     "traceback": [
      "\u001b[0;31m---------------------------------------------------------------------------\u001b[0m",
      "\u001b[0;31mKeyError\u001b[0m                                  Traceback (most recent call last)",
      "Input \u001b[0;32mIn [6]\u001b[0m, in \u001b[0;36m<cell line: 2>\u001b[0;34m()\u001b[0m\n\u001b[1;32m      1\u001b[0m config_file \u001b[38;5;241m=\u001b[39m \u001b[38;5;124m\"\u001b[39m\u001b[38;5;124mconfigurations/classification2.yml\u001b[39m\u001b[38;5;124m\"\u001b[39m\n\u001b[0;32m----> 2\u001b[0m config_c_er \u001b[38;5;241m=\u001b[39m \u001b[43mConfig\u001b[49m\u001b[43m(\u001b[49m\u001b[43mconfig_file\u001b[49m\u001b[43m)\u001b[49m\n\u001b[1;32m      3\u001b[0m gg_er \u001b[38;5;241m=\u001b[39m GenerateGraph(config_c_er)\n\u001b[1;32m      4\u001b[0m dataset_er \u001b[38;5;241m=\u001b[39m gg_er\u001b[38;5;241m.\u001b[39minitialize_dataset()\n",
      "File \u001b[0;32m~/Documenti/Progetti/Networks/Embednet/config_valid.py:31\u001b[0m, in \u001b[0;36mConfig.__init__\u001b[0;34m(self, config_file, data_dict)\u001b[0m\n\u001b[1;32m     28\u001b[0m     \u001b[38;5;28mself\u001b[39m\u001b[38;5;241m.\u001b[39mconfig_file \u001b[38;5;241m=\u001b[39m basic_config_file_path\n\u001b[1;32m     29\u001b[0m     \u001b[38;5;28mself\u001b[39m\u001b[38;5;241m.\u001b[39mload_conf()\n\u001b[0;32m---> 31\u001b[0m neurons_per_layer \u001b[38;5;241m=\u001b[39m \u001b[38;5;28;43mself\u001b[39;49m\u001b[38;5;241;43m.\u001b[39;49m\u001b[43mconf\u001b[49m\u001b[43m[\u001b[49m\u001b[38;5;124;43m'\u001b[39;49m\u001b[38;5;124;43mmodel\u001b[39;49m\u001b[38;5;124;43m'\u001b[39;49m\u001b[43m]\u001b[49m\u001b[43m[\u001b[49m\u001b[38;5;124;43m'\u001b[39;49m\u001b[38;5;124;43mGCNneurons_per_layer\u001b[39;49m\u001b[38;5;124;43m'\u001b[39;49m\u001b[43m]\u001b[49m\n\u001b[1;32m     32\u001b[0m \u001b[38;5;28;01mif\u001b[39;00m \u001b[38;5;28mself\u001b[39m\u001b[38;5;241m.\u001b[39mconf[\u001b[38;5;124m'\u001b[39m\u001b[38;5;124mmodel\u001b[39m\u001b[38;5;124m'\u001b[39m][\u001b[38;5;124m'\u001b[39m\u001b[38;5;124mlast_layer_dense\u001b[39m\u001b[38;5;124m'\u001b[39m]:\n\u001b[1;32m     33\u001b[0m     \u001b[38;5;28mself\u001b[39m\u001b[38;5;241m.\u001b[39mlastneuron \u001b[38;5;241m=\u001b[39m \u001b[38;5;28mself\u001b[39m\u001b[38;5;241m.\u001b[39mconf[\u001b[38;5;124m'\u001b[39m\u001b[38;5;124mmodel\u001b[39m\u001b[38;5;124m'\u001b[39m][\u001b[38;5;124m'\u001b[39m\u001b[38;5;124mneurons_last_linear\u001b[39m\u001b[38;5;124m'\u001b[39m][\u001b[38;5;241m-\u001b[39m\u001b[38;5;241m1\u001b[39m]\n",
      "\u001b[0;31mKeyError\u001b[0m: 'GCNneurons_per_layer'"
     ]
    }
   ],
   "source": [
    "config_file = \"configurations/classification2.yml\"\n",
    "config_c_er = Config(config_file)\n",
    "gg_er = GenerateGraph(config_c_er)\n",
    "dataset_er = gg_er.initialize_dataset()"
   ]
  },
  {
   "cell_type": "code",
   "execution_count": null,
   "metadata": {},
   "outputs": [],
   "source": [
    "#nx.to_numpy_array(dataset_er.dataset_list[0]).sum(axis=1)"
   ]
  },
  {
   "cell_type": "code",
   "execution_count": null,
   "metadata": {},
   "outputs": [],
   "source": [
    "graph_embeddings_array, node_embeddings_array, model, test_loss_list, trainer = train_take_embedding(config_c_er, dataset_er)"
   ]
  },
  {
   "cell_type": "code",
   "execution_count": null,
   "metadata": {},
   "outputs": [],
   "source": [
    "graph_embeddings = Embedding(graph_embeddings_array, trainer.dataset, test_loss_list, config_c_er)\n",
    "node_embeddings = NodeEmbedding(node_embeddings_array, trainer.dataset, test_loss_list, config_c_er)"
   ]
  },
  {
   "cell_type": "code",
   "execution_count": null,
   "metadata": {},
   "outputs": [],
   "source": [
    "node_embeddings.embeddings_array.shape, graph_embeddings.embeddings_array.shape"
   ]
  },
  {
   "cell_type": "code",
   "execution_count": null,
   "metadata": {},
   "outputs": [],
   "source": [
    "node_embeddings.get_emb_pergraph_cost()"
   ]
  },
  {
   "cell_type": "code",
   "execution_count": null,
   "metadata": {},
   "outputs": [],
   "source": [
    "def node_emb_perclass(classe=[1., 0.]):\n",
    "    node_emb_class = []\n",
    "    for i,n in enumerate(node_embeddings.node_emb_pergraph):\n",
    "        if all(trainer.dataset.labels[i] == classe):\n",
    "            node_emb_class.extend(n)\n",
    "    return np.array(node_emb_class)\n",
    "\n",
    "node_emb_class1 = node_emb_perclass([1., 0.])\n",
    "node_emb_class2 = node_emb_perclass([0., 1.])\n"
   ]
  },
  {
   "cell_type": "code",
   "execution_count": null,
   "metadata": {},
   "outputs": [],
   "source": [
    "plt.figure(figsize=(18, 6))\n",
    "plt.scatter(node_emb_class2[:,0], node_emb_class2[:,1], s=0.01, marker='.', color='red');\n",
    "plt.scatter(node_emb_class1[:,0], node_emb_class1[:,1], s=0.01, marker='.', color='blue');\n",
    "plt.show()"
   ]
  },
  {
   "cell_type": "code",
   "execution_count": null,
   "metadata": {},
   "outputs": [],
   "source": [
    "plt.figure(figsize=(18, 6))\n",
    "plt.scatter(graph_embeddings.embeddings_array[:,0], graph_embeddings.embeddings_array[:,1], s=0.1, marker='.')"
   ]
  },
  {
   "cell_type": "markdown",
   "metadata": {},
   "source": [
    "##### Plot delle metriche e degli embedding in funzione dei neuroni e dei layer"
   ]
  },
  {
   "cell_type": "markdown",
   "metadata": {},
   "source": [
    "###### caso Classificazione:  difference of means of distances clusters"
   ]
  },
  {
   "cell_type": "markdown",
   "metadata": {},
   "source": [
    "###### caso Regressione:  correlazione e plot con le classi se non continuous"
   ]
  },
  {
   "cell_type": "markdown",
   "metadata": {},
   "source": [
    "# Configuration Model"
   ]
  },
  {
   "cell_type": "markdown",
   "metadata": {},
   "source": [
    "### Con mean pool aggregator"
   ]
  },
  {
   "cell_type": "code",
   "execution_count": 2,
   "metadata": {},
   "outputs": [
    {
     "name": "stdout",
     "output_type": "stream",
     "text": [
      "Create dataset\n",
      "Generating dataset...\n",
      "Dataset generated\n",
      "Initialize model\n"
     ]
    }
   ],
   "source": [
    "config_file = \"configurations/classification_cm.yml\"\n",
    "dataset, model, trainer, config_c = init(config_file)"
   ]
  },
  {
   "cell_type": "code",
   "execution_count": null,
   "metadata": {},
   "outputs": [],
   "source": [
    "G1 = dataset_cm.dataset_list[1]\n",
    "plot_grafo2(G1, iterations=1000) # sizes=sizes, edges_weights=edges_weights,"
   ]
  },
  {
   "cell_type": "code",
   "execution_count": null,
   "metadata": {},
   "outputs": [],
   "source": [
    "G1 = dataset_cm.dataset_list[1]\n",
    "G1[0]"
   ]
  },
  {
   "cell_type": "code",
   "execution_count": null,
   "metadata": {},
   "outputs": [],
   "source": [
    "print(len(G1.nodes()))\n",
    "actual_degrees = [d for v, d in G1.degree()]\n",
    "plt.loglog(*np.unique(actual_degrees, return_counts=True), marker='.');\n",
    "plt.loglog()"
   ]
  },
  {
   "cell_type": "code",
   "execution_count": null,
   "metadata": {},
   "outputs": [],
   "source": [
    "G2 = dataset_cm.dataset_list[550]\n",
    "plot_grafo2(G2, iterations=1000)"
   ]
  },
  {
   "cell_type": "code",
   "execution_count": null,
   "metadata": {},
   "outputs": [],
   "source": [
    "G2 = dataset_cm.dataset_list[520]\n",
    "print(len(G2.nodes()))\n",
    "actual_degrees = [d for v, d in G2.degree()]\n",
    "plt.loglog(*np.unique(actual_degrees, return_counts=True), marker='.');"
   ]
  },
  {
   "cell_type": "code",
   "execution_count": 3,
   "metadata": {},
   "outputs": [
    {
     "name": "stderr",
     "output_type": "stream",
     "text": [
      "100%|███████████████████████████████████████████████████████████████| 600/600 [00:48<00:00, 12.41it/s]\n"
     ]
    },
    {
     "name": "stdout",
     "output_type": "stream",
     "text": [
      "Tempo impiegato: 48.462727069854736\n"
     ]
    }
   ],
   "source": [
    "percentage_train = config_c.conf['training']['percentage_train']\n",
    "trainer.load_dataset(dataset, percentage_train, parallel=False)"
   ]
  },
  {
   "cell_type": "code",
   "execution_count": 5,
   "metadata": {},
   "outputs": [
    {
     "name": "stdout",
     "output_type": "stream",
     "text": [
      "Before training Test loss: 0.015401361054844326\n",
      "Run training for 50 epochs\n",
      "Epoch: 49\tTest loss: 0.007574184735616048 \t\t FINE TRAINING\n"
     ]
    }
   ],
   "source": [
    "trainer.launch_training(verbose)\n",
    "graph_embeddings_array, node_embeddings_array, node_embeddings_array_id, final_output = trainer.take_embedding_all_data(type_embedding)"
   ]
  },
  {
   "cell_type": "code",
   "execution_count": 9,
   "metadata": {},
   "outputs": [
    {
     "ename": "ValueError",
     "evalue": "y has more than 2 dimensions",
     "output_type": "error",
     "traceback": [
      "\u001b[0;31m---------------------------------------------------------------------------\u001b[0m",
      "\u001b[0;31mValueError\u001b[0m                                Traceback (most recent call last)",
      "Input \u001b[0;32mIn [9]\u001b[0m, in \u001b[0;36m<cell line: 1>\u001b[0;34m()\u001b[0m\n\u001b[0;32m----> 1\u001b[0m emb_perclass0, emb_perclass1 \u001b[38;5;241m=\u001b[39m \u001b[43melaborate_embeddings\u001b[49m\u001b[43m(\u001b[49m\u001b[43mconfig_c\u001b[49m\u001b[43m,\u001b[49m\u001b[43m \u001b[49m\u001b[43mgraph_embeddings_array\u001b[49m\u001b[43m,\u001b[49m\u001b[43m \u001b[49m\u001b[43mmodel\u001b[49m\u001b[43m,\u001b[49m\u001b[43m \u001b[49m\u001b[43mnode_embeddings_array\u001b[49m\u001b[43m,\u001b[49m\u001b[43m \u001b[49m\u001b[43mnode_embeddings_array_id\u001b[49m\u001b[43m,\u001b[49m\u001b[43m \u001b[49m\u001b[43mtest_loss_list\u001b[49m\u001b[43m,\u001b[49m\u001b[43m \u001b[49m\u001b[43mtrainer\u001b[49m\u001b[43m)\u001b[49m\n",
      "File \u001b[0;32m~/Documenti/Progetti/Networks/Embednet/experiments.py:95\u001b[0m, in \u001b[0;36melaborate_embeddings\u001b[0;34m(config_c, graph_embeddings_array, model, node_embeddings_array, node_embeddings_array_id, test_loss_list, trainer)\u001b[0m\n\u001b[1;32m     93\u001b[0m \u001b[38;5;66;03m# graph embedding study\u001b[39;00m\n\u001b[1;32m     94\u001b[0m num_emb_neurons \u001b[38;5;241m=\u001b[39m model\u001b[38;5;241m.\u001b[39mconvs[\u001b[38;5;241m-\u001b[39m\u001b[38;5;241m1\u001b[39m]\u001b[38;5;241m.\u001b[39mout_channels\n\u001b[0;32m---> 95\u001b[0m \u001b[43mget_metrics\u001b[49m\u001b[43m(\u001b[49m\u001b[43mgraph_embeddings\u001b[49m\u001b[43m,\u001b[49m\u001b[43m \u001b[49m\u001b[43mnum_emb_neurons\u001b[49m\u001b[43m)\u001b[49m\n\u001b[1;32m     96\u001b[0m \u001b[38;5;66;03m# node embedding study\u001b[39;00m\n\u001b[1;32m     97\u001b[0m emb_perclass0 \u001b[38;5;241m=\u001b[39m [n \u001b[38;5;28;01mfor\u001b[39;00m n \u001b[38;5;129;01min\u001b[39;00m node_emb_pergraphclass \u001b[38;5;28;01mif\u001b[39;00m n\u001b[38;5;241m.\u001b[39mgraph_label \u001b[38;5;241m==\u001b[39m \u001b[38;5;241m0\u001b[39m]\n",
      "File \u001b[0;32m~/Documenti/Progetti/Networks/Embednet/experiments.py:136\u001b[0m, in \u001b[0;36mget_metrics\u001b[0;34m(embeddings, num_emb_neurons)\u001b[0m\n\u001b[1;32m    134\u001b[0m \u001b[38;5;28;01mdef\u001b[39;00m \u001b[38;5;21mget_metrics\u001b[39m(embeddings, num_emb_neurons):\n\u001b[1;32m    135\u001b[0m     \u001b[38;5;28;01mif\u001b[39;00m num_emb_neurons \u001b[38;5;241m==\u001b[39m \u001b[38;5;241m1\u001b[39m:\n\u001b[0;32m--> 136\u001b[0m         correlazioni, error, embeddings_per_cluster \u001b[38;5;241m=\u001b[39m \u001b[43membeddings\u001b[49m\u001b[38;5;241;43m.\u001b[39;49m\u001b[43mcalc_correlation\u001b[49m\u001b[43m(\u001b[49m\u001b[43m)\u001b[49m\n\u001b[1;32m    137\u001b[0m         \u001b[38;5;66;03m# embeddings_per_cluster solo per distribuzione discreta\u001b[39;00m\n\u001b[1;32m    138\u001b[0m         plot_dim1(embeddings_per_cluster)\n",
      "File \u001b[0;32m~/Documenti/Progetti/Networks/Embednet/embedding.py:148\u001b[0m, in \u001b[0;36mEmbedding.calc_correlation\u001b[0;34m(self)\u001b[0m\n\u001b[1;32m    144\u001b[0m num_nodes \u001b[38;5;241m=\u001b[39m \u001b[38;5;28mself\u001b[39m\u001b[38;5;241m.\u001b[39mconfig_class\u001b[38;5;241m.\u001b[39mconf[\u001b[38;5;124m'\u001b[39m\u001b[38;5;124mgraph_dataset\u001b[39m\u001b[38;5;124m'\u001b[39m][\u001b[38;5;124m'\u001b[39m\u001b[38;5;124mNum_nodes\u001b[39m\u001b[38;5;124m'\u001b[39m]\n\u001b[1;32m    146\u001b[0m \u001b[38;5;28;01mif\u001b[39;00m \u001b[38;5;28mself\u001b[39m\u001b[38;5;241m.\u001b[39mconfig_class\u001b[38;5;241m.\u001b[39mconf[\u001b[38;5;124m'\u001b[39m\u001b[38;5;124mgraph_dataset\u001b[39m\u001b[38;5;124m'\u001b[39m][\u001b[38;5;124m'\u001b[39m\u001b[38;5;124mconfmodel\u001b[39m\u001b[38;5;124m'\u001b[39m]:  \u001b[38;5;66;03m# self.original_class ha un'array (degree sequence) per ciascun grafo\u001b[39;00m\n\u001b[1;32m    147\u001b[0m     \u001b[38;5;66;03m#self.original_class # TODO: correggere perché ora original class contiene anche il modo ID\u001b[39;00m\n\u001b[0;32m--> 148\u001b[0m     correlazioni \u001b[38;5;241m=\u001b[39m \u001b[43mnp\u001b[49m\u001b[38;5;241;43m.\u001b[39;49m\u001b[43mcorrcoef\u001b[49m\u001b[43m(\u001b[49m\u001b[38;5;28;43mself\u001b[39;49m\u001b[38;5;241;43m.\u001b[39;49m\u001b[43membeddings_array\u001b[49m\u001b[38;5;241;43m.\u001b[39;49m\u001b[43mflatten\u001b[49m\u001b[43m(\u001b[49m\u001b[43m)\u001b[49m\u001b[43m,\u001b[49m\u001b[43m \u001b[49m\u001b[38;5;28;43mself\u001b[39;49m\u001b[38;5;241;43m.\u001b[39;49m\u001b[43moriginal_class\u001b[49m\u001b[43m)\u001b[49m[\u001b[38;5;241m0\u001b[39m, \u001b[38;5;241m1\u001b[39m]\n\u001b[1;32m    149\u001b[0m     embs \u001b[38;5;241m=\u001b[39m \u001b[38;5;28;01mNone\u001b[39;00m\n\u001b[1;32m    150\u001b[0m \u001b[38;5;28;01melif\u001b[39;00m \u001b[38;5;28mself\u001b[39m\u001b[38;5;241m.\u001b[39mcontinuous_p:\n",
      "File \u001b[0;32m<__array_function__ internals>:180\u001b[0m, in \u001b[0;36mcorrcoef\u001b[0;34m(*args, **kwargs)\u001b[0m\n",
      "File \u001b[0;32m~/anaconda3/envs/pytorch-geom/lib/python3.8/site-packages/numpy/lib/function_base.py:2821\u001b[0m, in \u001b[0;36mcorrcoef\u001b[0;34m(x, y, rowvar, bias, ddof, dtype)\u001b[0m\n\u001b[1;32m   2817\u001b[0m \u001b[38;5;28;01mif\u001b[39;00m bias \u001b[38;5;129;01mis\u001b[39;00m \u001b[38;5;129;01mnot\u001b[39;00m np\u001b[38;5;241m.\u001b[39m_NoValue \u001b[38;5;129;01mor\u001b[39;00m ddof \u001b[38;5;129;01mis\u001b[39;00m \u001b[38;5;129;01mnot\u001b[39;00m np\u001b[38;5;241m.\u001b[39m_NoValue:\n\u001b[1;32m   2818\u001b[0m     \u001b[38;5;66;03m# 2015-03-15, 1.10\u001b[39;00m\n\u001b[1;32m   2819\u001b[0m     warnings\u001b[38;5;241m.\u001b[39mwarn(\u001b[38;5;124m'\u001b[39m\u001b[38;5;124mbias and ddof have no effect and are deprecated\u001b[39m\u001b[38;5;124m'\u001b[39m,\n\u001b[1;32m   2820\u001b[0m                   \u001b[38;5;167;01mDeprecationWarning\u001b[39;00m, stacklevel\u001b[38;5;241m=\u001b[39m\u001b[38;5;241m3\u001b[39m)\n\u001b[0;32m-> 2821\u001b[0m c \u001b[38;5;241m=\u001b[39m \u001b[43mcov\u001b[49m\u001b[43m(\u001b[49m\u001b[43mx\u001b[49m\u001b[43m,\u001b[49m\u001b[43m \u001b[49m\u001b[43my\u001b[49m\u001b[43m,\u001b[49m\u001b[43m \u001b[49m\u001b[43mrowvar\u001b[49m\u001b[43m,\u001b[49m\u001b[43m \u001b[49m\u001b[43mdtype\u001b[49m\u001b[38;5;241;43m=\u001b[39;49m\u001b[43mdtype\u001b[49m\u001b[43m)\u001b[49m\n\u001b[1;32m   2822\u001b[0m \u001b[38;5;28;01mtry\u001b[39;00m:\n\u001b[1;32m   2823\u001b[0m     d \u001b[38;5;241m=\u001b[39m diag(c)\n",
      "File \u001b[0;32m<__array_function__ internals>:180\u001b[0m, in \u001b[0;36mcov\u001b[0;34m(*args, **kwargs)\u001b[0m\n",
      "File \u001b[0;32m~/anaconda3/envs/pytorch-geom/lib/python3.8/site-packages/numpy/lib/function_base.py:2598\u001b[0m, in \u001b[0;36mcov\u001b[0;34m(m, y, rowvar, bias, ddof, fweights, aweights, dtype)\u001b[0m\n\u001b[1;32m   2596\u001b[0m     y \u001b[38;5;241m=\u001b[39m np\u001b[38;5;241m.\u001b[39masarray(y)\n\u001b[1;32m   2597\u001b[0m     \u001b[38;5;28;01mif\u001b[39;00m y\u001b[38;5;241m.\u001b[39mndim \u001b[38;5;241m>\u001b[39m \u001b[38;5;241m2\u001b[39m:\n\u001b[0;32m-> 2598\u001b[0m         \u001b[38;5;28;01mraise\u001b[39;00m \u001b[38;5;167;01mValueError\u001b[39;00m(\u001b[38;5;124m\"\u001b[39m\u001b[38;5;124my has more than 2 dimensions\u001b[39m\u001b[38;5;124m\"\u001b[39m)\n\u001b[1;32m   2600\u001b[0m \u001b[38;5;28;01mif\u001b[39;00m dtype \u001b[38;5;129;01mis\u001b[39;00m \u001b[38;5;28;01mNone\u001b[39;00m:\n\u001b[1;32m   2601\u001b[0m     \u001b[38;5;28;01mif\u001b[39;00m y \u001b[38;5;129;01mis\u001b[39;00m \u001b[38;5;28;01mNone\u001b[39;00m:\n",
      "\u001b[0;31mValueError\u001b[0m: y has more than 2 dimensions"
     ]
    }
   ],
   "source": [
    "emb_perclass0, emb_perclass1 = elaborate_embeddings(config_c, graph_embeddings_array, model, node_embeddings_array, node_embeddings_array_id, test_loss_list, trainer)"
   ]
  },
  {
   "cell_type": "markdown",
   "metadata": {},
   "source": [
    "### Correlazione tra node embedding e sequenza di grado"
   ]
  },
  {
   "cell_type": "code",
   "execution_count": null,
   "metadata": {},
   "outputs": [],
   "source": [
    "for j in range(0,tot//2):\n",
    "    emb_i = node_embeddings.node_emb_pergraph[j]\n",
    "    class_i = np.array(node_embeddings.original_class[j])\n",
    "    plt.scatter(emb_i, class_i, marker='.', color='blue', alpha=0.02)\n",
    "for j in range(tot//2,tot):\n",
    "    emb_i = node_embeddings.node_emb_pergraph[j]\n",
    "    class_i = np.array(node_embeddings.original_class[j])\n",
    "    plt.scatter(emb_i, class_i, marker='.', color='red', alpha=0.01)\n",
    "plt.xlabel('Node Emb. values', fontsize=18);\n",
    "plt.ylabel('Degree sequence', fontsize=16);\n",
    "plt.show()"
   ]
  },
  {
   "cell_type": "markdown",
   "metadata": {},
   "source": [
    "### Sequenza di grado"
   ]
  },
  {
   "cell_type": "code",
   "execution_count": null,
   "metadata": {},
   "outputs": [],
   "source": [
    "plt.figure(figsize=(12, 6))\n",
    "tot = len(trainer.dataset.dataset_pyg)\n",
    "for j in range(0,tot//2):\n",
    "    plt.loglog(*np.unique(node_embeddings.original_class[j], return_counts=True), c='blue', alpha=0.01)\n",
    "for j in range(tot//2,tot):\n",
    "    plt.loglog(*np.unique(node_embeddings.original_class[j], return_counts=True), c='red', alpha=0.01) \n",
    "    plt.xlabel('Degrees', fontsize=16);\n",
    "plt.ylabel('Number of nodes', fontsize=16);\n",
    "plt.xticks(fontsize=16);\n",
    "plt.yticks(fontsize=16);"
   ]
  },
  {
   "cell_type": "code",
   "execution_count": null,
   "metadata": {},
   "outputs": [],
   "source": [
    "for j in range(0,tot//2):\n",
    "    actual_degrees_sorted = sorted(node_embeddings.original_class[j], reverse=True)\n",
    "    plt.plot(actual_degrees_sorted, '.', c='blue', alpha=0.01)\n",
    "for j in range(tot//2,tot):    \n",
    "    actual_degrees_sorted = sorted(node_embeddings.original_class[j], reverse=True)\n",
    "    plt.plot(actual_degrees_sorted, '.', c='red', alpha=0.01)"
   ]
  },
  {
   "cell_type": "markdown",
   "metadata": {},
   "source": [
    "### Embedding di nodo "
   ]
  },
  {
   "cell_type": "code",
   "execution_count": null,
   "metadata": {},
   "outputs": [],
   "source": [
    "for j in range(0,tot//2):\n",
    "    plt.loglog(*np.unique(node_embeddings.node_emb_pergraph[j].flatten(), return_counts=True), '.', c='blue', alpha=0.01)\n",
    "for j in range(tot//2,tot):\n",
    "    plt.loglog(*np.unique(node_embeddings.node_emb_pergraph[j].flatten(), return_counts=True), '.', c='red', alpha=0.01) "
   ]
  },
  {
   "cell_type": "code",
   "execution_count": null,
   "metadata": {},
   "outputs": [],
   "source": [
    "plt.figure(figsize=(12, 6))\n",
    "for j in range(0,tot//2):\n",
    "    nodeemb_sorted = sorted(node_embeddings.node_emb_pergraph[j], reverse=True)\n",
    "    plt.plot(nodeemb_sorted, '.', c='blue', alpha=0.02)\n",
    "for j in range(tot//2,tot):\n",
    "    nodeemb_sorted = sorted(node_embeddings.node_emb_pergraph[j], reverse=True)\n",
    "    plt.plot(nodeemb_sorted, '.', c='red', alpha=0.01)\n",
    "plt.xlabel('idx Node Emb.', fontsize=16);\n",
    "plt.ylabel('Value Node Emb.', fontsize=16);\n",
    "plt.xticks(fontsize=16);\n",
    "plt.yticks(fontsize=16);"
   ]
  },
  {
   "cell_type": "code",
   "execution_count": null,
   "metadata": {},
   "outputs": [],
   "source": []
  },
  {
   "cell_type": "code",
   "execution_count": null,
   "metadata": {},
   "outputs": [],
   "source": [
    "plt.figure(figsize=(14, 6))\n",
    "plt.hist(node_embeddings.embeddings_array, bins = 180); #, s=0.01, marker='.')"
   ]
  },
  {
   "cell_type": "code",
   "execution_count": null,
   "metadata": {},
   "outputs": [],
   "source": [
    "plt.figure(figsize=(14, 6))\n",
    "#plt.scatter(graph_embeddings.embeddings_array[:,0], graph_embeddings.embeddings_array[:,1], s=0.1, marker='.')\n",
    "plt.hist(graph_embeddings.embeddings_array, bins = 180);"
   ]
  },
  {
   "cell_type": "markdown",
   "metadata": {},
   "source": [
    "### graph embedding VS degree max"
   ]
  },
  {
   "cell_type": "code",
   "execution_count": null,
   "metadata": {},
   "outputs": [],
   "source": [
    "plt.scatter(graph_embeddings.embeddings_array, graph_embeddings.max_degree, marker='.', alpha=0.5)\n",
    "plt.xlabel('Graph Emb.', fontsize=16);\n",
    "plt.ylabel('Max degree', fontsize=16);\n",
    "plt.xticks(fontsize=16);\n",
    "plt.yticks(fontsize=16);"
   ]
  },
  {
   "cell_type": "code",
   "execution_count": null,
   "metadata": {},
   "outputs": [],
   "source": []
  },
  {
   "cell_type": "code",
   "execution_count": null,
   "metadata": {},
   "outputs": [],
   "source": []
  },
  {
   "cell_type": "code",
   "execution_count": null,
   "metadata": {},
   "outputs": [],
   "source": []
  },
  {
   "cell_type": "code",
   "execution_count": null,
   "metadata": {},
   "outputs": [],
   "source": []
  },
  {
   "cell_type": "code",
   "execution_count": null,
   "metadata": {},
   "outputs": [],
   "source": []
  },
  {
   "cell_type": "code",
   "execution_count": null,
   "metadata": {},
   "outputs": [],
   "source": []
  },
  {
   "cell_type": "code",
   "execution_count": null,
   "metadata": {},
   "outputs": [],
   "source": []
  },
  {
   "cell_type": "markdown",
   "metadata": {},
   "source": [
    "### Riprovo togliendo il mean pool dal modello - non si può togliere o ridurre la dimensione in modo graduale"
   ]
  },
  {
   "cell_type": "code",
   "execution_count": null,
   "metadata": {},
   "outputs": [],
   "source": [
    "config_file = \"configurations/classification_cm.yml\"\n",
    "config_c_cm = Config(config_file)"
   ]
  },
  {
   "cell_type": "code",
   "execution_count": null,
   "metadata": {},
   "outputs": [],
   "source": [
    "gg_cm = GenerateGraph(config_c_cm)\n",
    "dataset_cm = gg_cm.initialize_dataset()"
   ]
  },
  {
   "cell_type": "code",
   "execution_count": null,
   "metadata": {},
   "outputs": [],
   "source": [
    "model = init_GCN(config_c_cm, verbose=False)"
   ]
  },
  {
   "cell_type": "code",
   "execution_count": null,
   "metadata": {},
   "outputs": [],
   "source": [
    "model, trainer = init_model_dataset(config_c_cm, dataset_cm, verbose=False)"
   ]
  },
  {
   "cell_type": "code",
   "execution_count": null,
   "metadata": {},
   "outputs": [],
   "source": [
    "graph_embeddings_array, node_embeddings_array, node_embeddings_array_id, model, test_loss_list, trainer = train_take_embedding_alreadyinit(trainer, model, config_c_cm)"
   ]
  },
  {
   "cell_type": "code",
   "execution_count": null,
   "metadata": {},
   "outputs": [],
   "source": [
    "graph_embeddings = Embedding(graph_embeddings_array, trainer.dataset, test_loss_list, config_c_cm)\n",
    "node_embeddings = NodeEmbedding(node_embeddings_array, trainer.dataset, test_loss_list, config_c_cm)"
   ]
  },
  {
   "cell_type": "code",
   "execution_count": null,
   "metadata": {},
   "outputs": [],
   "source": [
    "node_embeddings.get_average_corr_nodeemb()"
   ]
  },
  {
   "cell_type": "code",
   "execution_count": null,
   "metadata": {},
   "outputs": [],
   "source": [
    "#### se il penultimo layer lo metto uguale a 1 (dimensione finale del node embedding) non riesce a imparare, (perché deve riproiettare verso 2?)"
   ]
  },
  {
   "cell_type": "code",
   "execution_count": null,
   "metadata": {},
   "outputs": [],
   "source": []
  }
 ],
 "metadata": {
  "kernelspec": {
   "display_name": "Python [conda env:pytorch-geom]",
   "language": "python",
   "name": "conda-env-pytorch-geom-py"
  },
  "language_info": {
   "codemirror_mode": {
    "name": "ipython",
    "version": 3
   },
   "file_extension": ".py",
   "mimetype": "text/x-python",
   "name": "python",
   "nbconvert_exporter": "python",
   "pygments_lexer": "ipython3",
   "version": "3.8.13"
  }
 },
 "nbformat": 4,
 "nbformat_minor": 4
}
