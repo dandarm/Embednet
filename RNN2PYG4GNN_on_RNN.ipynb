{
 "cells": [
  {
   "cell_type": "markdown",
   "metadata": {},
   "source": [
    "# tentativo per trasformare una RNN in ungrafo di pyg per poter applicare la GNN a una rete neurale"
   ]
  },
  {
   "cell_type": "code",
   "execution_count": 21,
   "metadata": {},
   "outputs": [],
   "source": [
    "import torch\n",
    "from torch_geometric.nn import MessagePassing\n",
    "from torch_geometric.utils import add_self_loops, degree, to_networkx\n",
    "import networkx as nx\n",
    "import matplotlib.pyplot as plt\n",
    "from torch_geometric.data import Data"
   ]
  },
  {
   "cell_type": "code",
   "execution_count": 2,
   "metadata": {},
   "outputs": [],
   "source": [
    "class PyGModel(MessagePassing):\n",
    "    def __init__(self):\n",
    "        super(PyGModel, self).__init__(aggr='add')\n",
    "\n",
    "        # Aggiungi qui il tuo modello PyTorch\n",
    "        self.linear1 = torch.nn.Linear(in_features=3, out_features=4)\n",
    "        self.linear2 = torch.nn.Linear(in_features=4, out_features=2)\n",
    "\n",
    "    def forward(self, x, edge_index):\n",
    "        # Aggiungi qui il codice per passare i dati attraverso la rete neurale\n",
    "        x = self.linear1(x)\n",
    "        x = self.linear2(x)\n",
    "        return x\n"
   ]
  },
  {
   "cell_type": "code",
   "execution_count": 35,
   "metadata": {},
   "outputs": [],
   "source": [
    "model = PyGModel()\n",
    "\n",
    "# Genera dati di esempio\n",
    "x = torch.randn(6, 3)\n",
    "edge_index = torch.tensor([[0, 1, 2, 3, 4],\n",
    "                           [1, 2, 3, 4, 0]], dtype=torch.long)\n",
    "edge_index = torch.tensor([0, 1, 1, 2, 3, 3, 4, 5, 1, 0, 2, 1, 4, 5, 3, 3])\n",
    "\n",
    "# Aggiungi un loop su se stesso al grafo\n",
    "#edge_index, _ = add_self_loops(edge_index, num_nodes=x.size(0))\n",
    "num_nodes = edge_index.max().item() + 1\n",
    "data = Data(edge_index=edge_index, num_nodes=4)\n",
    "# Calcola il grado dei nodi nel grafo\n",
    "deg = degree(data.edge_index, num_nodes=num_nodes, dtype=torch.long)\n",
    "deg_inv_sqrt = deg.pow(-0.5)\n",
    "deg_inv_sqrt[deg_inv_sqrt == float('inf')] = 0\n",
    "\n",
    "# Trasferisci il modello su un grafo\n",
    "x = x * deg_inv_sqrt.view(-1, 1)\n",
    "model = model.eval().to('cpu')\n",
    "out = model(x, edge_index)\n"
   ]
  },
  {
   "cell_type": "code",
   "execution_count": 36,
   "metadata": {},
   "outputs": [
    {
     "data": {
      "text/plain": [
       "tensor([[-0.0567, -0.5463],\n",
       "        [ 0.3662, -1.1178],\n",
       "        [ 0.4617, -1.2609],\n",
       "        [ 0.3815, -1.1626],\n",
       "        [ 0.1862, -0.9162],\n",
       "        [ 0.4960, -1.2685]], grad_fn=<AddmmBackward0>)"
      ]
     },
     "execution_count": 36,
     "metadata": {},
     "output_type": "execute_result"
    }
   ],
   "source": [
    "out"
   ]
  },
  {
   "cell_type": "code",
   "execution_count": 31,
   "metadata": {},
   "outputs": [],
   "source": [
    "edge_index = torch.tensor([0, 1, 1, 2, 3, 3, 4, 5, 1, 0, 2, 1, 4, 5, 3, 3])\n",
    "num_nodes = edge_index.max().item() + 1\n",
    "data = Data(edge_index=edge_index, num_nodes=4)\n",
    "# Calcola il grado dei nodi nel grafo\n",
    "deg = degree(data.edge_index, num_nodes=num_nodes, dtype=torch.long)"
   ]
  },
  {
   "cell_type": "code",
   "execution_count": 32,
   "metadata": {},
   "outputs": [
    {
     "data": {
      "text/plain": [
       "tensor([2, 4, 2, 4, 2, 2])"
      ]
     },
     "execution_count": 32,
     "metadata": {},
     "output_type": "execute_result"
    }
   ],
   "source": [
    "deg"
   ]
  },
  {
   "cell_type": "code",
   "execution_count": 24,
   "metadata": {},
   "outputs": [
    {
     "name": "stdout",
     "output_type": "stream",
     "text": [
      "6\n"
     ]
    },
    {
     "data": {
      "image/png": "[encoded data removed]",
      "text/plain": [
       "<Figure size 432x288 with 1 Axes>"
      ]
     },
     "metadata": {},
     "output_type": "display_data"
    }
   ],
   "source": [
    "edge_index2 = torch.tensor([[0, 1, 1, 2, 3, 3, 4, 5], [1, 0, 2, 1, 4, 5, 3, 3]])\n",
    "num_nodes = edge_index2.max().item() + 1\n",
    "print(num_nodes)\n",
    "data = Data(edge_index=edge_index, num_nodes=4)\n",
    "G = to_networkx(data)\n",
    "nx.draw(G, with_labels=True)\n",
    "plt.show()"
   ]
  },
  {
   "cell_type": "code",
   "execution_count": 23,
   "metadata": {},
   "outputs": [
    {
     "data": {
      "image/png": "[encoded data removed]",
      "text/plain": [
       "<Figure size 432x288 with 1 Axes>"
      ]
     },
     "metadata": {},
     "output_type": "display_data"
    }
   ],
   "source": [
    "G = nx.Graph()\n",
    "G.add_nodes_from(range(num_nodes))\n",
    "G.add_edges_from(edge_index.t().tolist())\n",
    "\n",
    "# Plotta il grafo utilizzando matplotlib\n",
    "nx.draw(G, with_labels=True)\n",
    "plt.show()"
   ]
  },
  {
   "cell_type": "code",
   "execution_count": 37,
   "metadata": {},
   "outputs": [
    {
     "ename": "RuntimeError",
     "evalue": "Sizes of tensors must match except in dimension 0. Expected size 4 but got size 2 for tensor number 1 in the list.",
     "output_type": "error",
     "traceback": [
      "\u001b[0;31m---------------------------------------------------------------------------\u001b[0m",
      "\u001b[0;31mRuntimeError\u001b[0m                              Traceback (most recent call last)",
      "Input \u001b[0;32mIn [37]\u001b[0m, in \u001b[0;36m<cell line: 27>\u001b[0;34m()\u001b[0m\n\u001b[1;32m     24\u001b[0m graph \u001b[38;5;241m=\u001b[39m torch_geometric\u001b[38;5;241m.\u001b[39mdata\u001b[38;5;241m.\u001b[39mData()\n\u001b[1;32m     26\u001b[0m \u001b[38;5;66;03m# Aggiungere i nodi al grafo\u001b[39;00m\n\u001b[0;32m---> 27\u001b[0m graph\u001b[38;5;241m.\u001b[39mx \u001b[38;5;241m=\u001b[39m \u001b[43mtorch\u001b[49m\u001b[38;5;241;43m.\u001b[39;49m\u001b[43mcat\u001b[49m\u001b[43m(\u001b[49m\u001b[43m(\u001b[49m\u001b[43minput_tensor\u001b[49m\u001b[43m,\u001b[49m\u001b[43m \u001b[49m\u001b[43moutput_tensor\u001b[49m\u001b[43m)\u001b[49m\u001b[43m,\u001b[49m\u001b[43m \u001b[49m\u001b[43mdim\u001b[49m\u001b[38;5;241;43m=\u001b[39;49m\u001b[38;5;241;43m0\u001b[39;49m\u001b[43m)\u001b[49m\n\u001b[1;32m     29\u001b[0m \u001b[38;5;66;03m# Iterare sui layer della rete neurale e aggiungere gli archi al grafo\u001b[39;00m\n\u001b[1;32m     30\u001b[0m \u001b[38;5;28;01mfor\u001b[39;00m name, module \u001b[38;5;129;01min\u001b[39;00m model\u001b[38;5;241m.\u001b[39mnamed_modules():\n",
      "\u001b[0;31mRuntimeError\u001b[0m: Sizes of tensors must match except in dimension 0. Expected size 4 but got size 2 for tensor number 1 in the list."
     ]
    }
   ],
   "source": [
    "import torch\n",
    "import torch.nn as nn\n",
    "import torch_geometric\n",
    "\n",
    "# Creazione della rete neurale\n",
    "class Net(nn.Module):\n",
    "    def __init__(self):\n",
    "        super(Net, self).__init__()\n",
    "        self.fc1 = nn.Linear(4, 8)\n",
    "        self.fc2 = nn.Linear(8, 2)\n",
    "\n",
    "    def forward(self, x):\n",
    "        x = torch.relu(self.fc1(x))\n",
    "        x = self.fc2(x)\n",
    "        return x\n",
    "\n",
    "model = Net()\n",
    "\n",
    "# Estrarre i tensori di input e output della rete neurale\n",
    "input_tensor = torch.randn(1, 4)\n",
    "output_tensor = model(input_tensor)\n",
    "\n",
    "# Creare un grafo vuoto\n",
    "graph = torch_geometric.data.Data()\n",
    "\n",
    "# Aggiungere i nodi al grafo\n",
    "graph.x = torch.cat((input_tensor, output_tensor), dim=0)\n",
    "\n",
    "# Iterare sui layer della rete neurale e aggiungere gli archi al grafo\n",
    "for name, module in model.named_modules():\n",
    "    if isinstance(module, nn.Linear):\n",
    "        weight_matrix = module.weight.data\n",
    "        src, dst = weight_matrix.nonzero().t()\n",
    "        edge_index = torch.stack([src + name, dst + name], dim=0)\n",
    "        if graph.edge_index is None:\n",
    "            graph.edge_index = edge_index\n",
    "        else:\n",
    "            graph.edge_index = torch.cat((graph.edge_index, edge_index), dim=1)\n",
    "\n",
    "# Visualizzare il grafo\n",
    "print(graph)\n"
   ]
  },
  {
   "cell_type": "code",
   "execution_count": 42,
   "metadata": {},
   "outputs": [],
   "source": [
    "import torch\n",
    "from torch import nn\n",
    "import networkx as nx\n",
    "from torch_geometric.utils.convert import to_networkx, from_networkx"
   ]
  },
  {
   "cell_type": "code",
   "execution_count": 50,
   "metadata": {},
   "outputs": [],
   "source": [
    "import torch.nn.functional as F\n",
    "\n",
    "class myLinear(torch.nn.Module):\n",
    "    def __init__(self, in_features, out_features):\n",
    "        super(myLinear, self).__init__()\n",
    "        self.weight = torch.nn.Parameter(torch.Tensor(in_features, out_features))\n",
    "        self.bias = torch.nn.Parameter(torch.Tensor(out_features))\n",
    "\n",
    "    def reset_parameters(self):\n",
    "        torch.nn.init.kaiming_uniform_(self.weight, a=math.sqrt(5))\n",
    "        fan_in, _ = torch.nn.init._calculate_fan_in_and_fan_out(self.weight)\n",
    "        bound = 1 / math.sqrt(fan_in)\n",
    "        torch.nn.init.uniform_(self.bias, -bound, bound)\n",
    "\n",
    "    def forward(self, x):\n",
    "        x = torch.matmul(x, self.weight)\n",
    "        x = x + self.bias\n",
    "        return F.relu(x)\n"
   ]
  },
  {
   "cell_type": "code",
   "execution_count": 51,
   "metadata": {},
   "outputs": [],
   "source": [
    "class MyModel(nn.Module):\n",
    "    def __init__(self):\n",
    "        super(MyModel, self).__init__()\n",
    "        self.layers = nn.ModuleList([myLinear(10, 5), nn.ReLU(), myLinear(5, 2), nn.ReLU(), myLinear(2, 1)])\n",
    "\n",
    "    def forward(self, x):\n",
    "        out = []\n",
    "        for layer in self.layers:\n",
    "            x = layer(x)\n",
    "            out.append(x)\n",
    "        return out\n",
    "\n",
    "model = MyModel()"
   ]
  },
  {
   "cell_type": "code",
   "execution_count": 52,
   "metadata": {},
   "outputs": [
    {
     "data": {
      "text/plain": [
       "{}"
      ]
     },
     "execution_count": 52,
     "metadata": {},
     "output_type": "execute_result"
    },
    {
     "data": {
      "image/png": "[encoded data removed]",
      "text/plain": [
       "<Figure size 432x288 with 1 Axes>"
      ]
     },
     "metadata": {},
     "output_type": "display_data"
    }
   ],
   "source": [
    "x = torch.randn(1, 10)\n",
    "\n",
    "# Create graph\n",
    "graph = nx.DiGraph()\n",
    "# Add nodes for inputs and outputs\n",
    "graph.add_node(\"input\")\n",
    "for i in range(len(model.layers)):\n",
    "    graph.add_node(f\"output_{i}\")\n",
    "# Add edges for weights\n",
    "for i, layer in enumerate(model.layers):\n",
    "    if isinstance(layer, nn.Linear):\n",
    "        weight_matrix = layer.weight.data\n",
    "        for j in range(weight_matrix.shape[0]):\n",
    "            for k in range(weight_matrix.shape[1]):\n",
    "                graph.add_edge(f\"output_{i-1}\" if i>0 else \"input\", f\"output_{i}\", weight=weight_matrix[j,k].item())\n",
    "        \n",
    "# Convert to PyG data\n",
    "#data = to_networkx(graph)\n",
    "data = from_networkx(graph)\n",
    "\n",
    "# Plot graph\n",
    "pos = nx.spring_layout(graph)\n",
    "nx.draw(graph, pos)\n",
    "nx.draw_networkx_edge_labels(graph, pos, edge_labels={(u, v): f\"{d['weight']:.2f}\" for u, v, d in graph.edges(data=True)})"
   ]
  },
  {
   "cell_type": "code",
   "execution_count": 81,
   "metadata": {},
   "outputs": [
    {
     "data": {
      "text/plain": [
       "__main__.myLinear"
      ]
     },
     "execution_count": 81,
     "metadata": {},
     "output_type": "execute_result"
    }
   ],
   "source": [
    "myLinear"
   ]
  },
  {
   "cell_type": "code",
   "execution_count": 105,
   "metadata": {},
   "outputs": [
    {
     "data": {
      "text/plain": [
       "[tensor([0., 0., 0., 0., 0., 0., 0., 0., 0., 0.]),\n",
       " tensor([0., 0., 0., 0., 0., 0., 0., 0., 0., 0.])]"
      ]
     },
     "execution_count": 105,
     "metadata": {},
     "output_type": "execute_result"
    }
   ],
   "source": [
    "# Creiamo una lista vuota per contenere i grafi\n",
    "graph_list = []\n",
    "\n",
    "\n",
    "# Aggiungiamo il grafo iniziale con i tensori di input come nodi\n",
    "input_nodes = [torch.zeros(10), torch.zeros(10)]\n",
    "input_edges = [(0, 2), (1, 2)]\n",
    "input_graph = Data(x=torch.stack(input_nodes), edge_index=torch.tensor(input_edges).t().contiguous())\n",
    "graph_list.append(input_graph)\n",
    "input_nodes"
   ]
  },
  {
   "cell_type": "code",
   "execution_count": 102,
   "metadata": {},
   "outputs": [
    {
     "name": "stdout",
     "output_type": "stream",
     "text": [
      "layer\n",
      "weight_matrix: (10, 5)\n",
      "2 2\n",
      "layer\n",
      "layer\n",
      "weight_matrix: (5, 2)\n",
      "2 2\n",
      "layer\n",
      "layer\n",
      "weight_matrix: (2, 1)\n",
      "2 2\n"
     ]
    },
    {
     "ename": "IndexError",
     "evalue": "index 1 is out of bounds for axis 1 with size 1",
     "output_type": "error",
     "traceback": [
      "\u001b[0;31m---------------------------------------------------------------------------\u001b[0m",
      "\u001b[0;31mIndexError\u001b[0m                                Traceback (most recent call last)",
      "Input \u001b[0;32mIn [102]\u001b[0m, in \u001b[0;36m<cell line: 3>\u001b[0;34m()\u001b[0m\n\u001b[1;32m     17\u001b[0m output_edges \u001b[38;5;241m=\u001b[39m [(j, k) \u001b[38;5;28;01mfor\u001b[39;00m j \u001b[38;5;129;01min\u001b[39;00m \u001b[38;5;28mrange\u001b[39m(\u001b[38;5;28mlen\u001b[39m(input_tensors)) \u001b[38;5;28;01mfor\u001b[39;00m k \u001b[38;5;129;01min\u001b[39;00m \u001b[38;5;28mrange\u001b[39m(\u001b[38;5;28mlen\u001b[39m(output_tensors))]\n\u001b[1;32m     18\u001b[0m \u001b[38;5;28mprint\u001b[39m(\u001b[38;5;28mlen\u001b[39m(input_tensors), \u001b[38;5;28mlen\u001b[39m(output_tensors))\n\u001b[0;32m---> 19\u001b[0m edge_weights \u001b[38;5;241m=\u001b[39m [weight_matrix[j, k] \u001b[38;5;28;01mfor\u001b[39;00m j \u001b[38;5;129;01min\u001b[39;00m \u001b[38;5;28mrange\u001b[39m(\u001b[38;5;28mlen\u001b[39m(input_tensors)) \u001b[38;5;28;01mfor\u001b[39;00m k \u001b[38;5;129;01min\u001b[39;00m \u001b[38;5;28mrange\u001b[39m(\u001b[38;5;28mlen\u001b[39m(output_tensors))]\n\u001b[1;32m     20\u001b[0m output_graph \u001b[38;5;241m=\u001b[39m Data(x\u001b[38;5;241m=\u001b[39mtorch\u001b[38;5;241m.\u001b[39mstack(output_nodes), edge_index\u001b[38;5;241m=\u001b[39mtorch\u001b[38;5;241m.\u001b[39mtensor(output_edges)\u001b[38;5;241m.\u001b[39mt()\u001b[38;5;241m.\u001b[39mcontiguous(), edge_attr\u001b[38;5;241m=\u001b[39mtorch\u001b[38;5;241m.\u001b[39mtensor(edge_weights))\n\u001b[1;32m     21\u001b[0m graph_list\u001b[38;5;241m.\u001b[39mappend(output_graph)\n",
      "Input \u001b[0;32mIn [102]\u001b[0m, in \u001b[0;36m<listcomp>\u001b[0;34m(.0)\u001b[0m\n\u001b[1;32m     17\u001b[0m output_edges \u001b[38;5;241m=\u001b[39m [(j, k) \u001b[38;5;28;01mfor\u001b[39;00m j \u001b[38;5;129;01min\u001b[39;00m \u001b[38;5;28mrange\u001b[39m(\u001b[38;5;28mlen\u001b[39m(input_tensors)) \u001b[38;5;28;01mfor\u001b[39;00m k \u001b[38;5;129;01min\u001b[39;00m \u001b[38;5;28mrange\u001b[39m(\u001b[38;5;28mlen\u001b[39m(output_tensors))]\n\u001b[1;32m     18\u001b[0m \u001b[38;5;28mprint\u001b[39m(\u001b[38;5;28mlen\u001b[39m(input_tensors), \u001b[38;5;28mlen\u001b[39m(output_tensors))\n\u001b[0;32m---> 19\u001b[0m edge_weights \u001b[38;5;241m=\u001b[39m [\u001b[43mweight_matrix\u001b[49m\u001b[43m[\u001b[49m\u001b[43mj\u001b[49m\u001b[43m,\u001b[49m\u001b[43m \u001b[49m\u001b[43mk\u001b[49m\u001b[43m]\u001b[49m \u001b[38;5;28;01mfor\u001b[39;00m j \u001b[38;5;129;01min\u001b[39;00m \u001b[38;5;28mrange\u001b[39m(\u001b[38;5;28mlen\u001b[39m(input_tensors)) \u001b[38;5;28;01mfor\u001b[39;00m k \u001b[38;5;129;01min\u001b[39;00m \u001b[38;5;28mrange\u001b[39m(\u001b[38;5;28mlen\u001b[39m(output_tensors))]\n\u001b[1;32m     20\u001b[0m output_graph \u001b[38;5;241m=\u001b[39m Data(x\u001b[38;5;241m=\u001b[39mtorch\u001b[38;5;241m.\u001b[39mstack(output_nodes), edge_index\u001b[38;5;241m=\u001b[39mtorch\u001b[38;5;241m.\u001b[39mtensor(output_edges)\u001b[38;5;241m.\u001b[39mt()\u001b[38;5;241m.\u001b[39mcontiguous(), edge_attr\u001b[38;5;241m=\u001b[39mtorch\u001b[38;5;241m.\u001b[39mtensor(edge_weights))\n\u001b[1;32m     21\u001b[0m graph_list\u001b[38;5;241m.\u001b[39mappend(output_graph)\n",
      "\u001b[0;31mIndexError\u001b[0m: index 1 is out of bounds for axis 1 with size 1"
     ]
    }
   ],
   "source": [
    "# Aggiungiamo i grafi intermedi con i tensori di output come nodi\n",
    "ll = list(model.children())[0]\n",
    "for i, layer in enumerate(ll):\n",
    "    print('layer')\n",
    "    if isinstance(layer, myLinear):        \n",
    "        # Recuperiamo i tensori di input e output del layer\n",
    "        if i == 0:\n",
    "            input_tensors = input_nodes\n",
    "        else:\n",
    "            input_tensors = graph_list[-1].x\n",
    "        output_tensors = [layer(tensor) for tensor in input_tensors]\n",
    "\n",
    "        # Creiamo un grafo con i tensori di output come nodi e gli archi ricavati dalla matrice dei pesi\n",
    "        weight_matrix = layer.weight.detach().numpy()\n",
    "        print(f\"weight_matrix: {weight_matrix.shape}\")\n",
    "        output_nodes = output_tensors\n",
    "        output_edges = [(j, k) for j in range(len(input_tensors)) for k in range(len(output_tensors))]\n",
    "        print(len(input_tensors), len(output_tensors))\n",
    "        edge_weights = [weight_matrix[j, k] for j in range(len(input_tensors)) for k in range(len(output_tensors))]\n",
    "        output_graph = Data(x=torch.stack(output_nodes), edge_index=torch.tensor(output_edges).t().contiguous(), edge_attr=torch.tensor(edge_weights))\n",
    "        graph_list.append(output_graph)\n",
    "\n",
    "# Aggiungiamo il grafo finale con i tensori di output come nodi\n",
    "output_nodes = [torch.zeros(4), torch.zeros(4)]\n",
    "output_edges = [(j, 0) for j in range(len(graph_list[-1].x))]\n",
    "output_graph = Data(x=torch.stack(output_nodes), edge_index=torch.tensor(output_edges).t().contiguous())\n",
    "graph_list.append(output_graph)\n",
    "\n",
    "# Uniamo tutti i grafi in un unico oggetto di tipo `Data`\n",
    "#data = Data.from_data_list(graph_list)\n",
    "G = nx.DiGraph()\n",
    "for g in graph_list:\n",
    "    print(g.edge_index)\n",
    "    G.add_edges_from(g.edge_index.numpy().T)\n",
    "\n",
    "print(data)"
   ]
  },
  {
   "cell_type": "code",
   "execution_count": 92,
   "metadata": {},
   "outputs": [
    {
     "data": {
      "text/plain": [
       "ModuleList(\n",
       "  (0): myLinear()\n",
       "  (1): ReLU()\n",
       "  (2): myLinear()\n",
       "  (3): ReLU()\n",
       "  (4): myLinear()\n",
       ")"
      ]
     },
     "execution_count": 92,
     "metadata": {},
     "output_type": "execute_result"
    }
   ],
   "source": [
    "list(model.children())[0]"
   ]
  },
  {
   "cell_type": "code",
   "execution_count": 90,
   "metadata": {},
   "outputs": [
    {
     "data": {
      "text/plain": [
       "True"
      ]
     },
     "execution_count": 90,
     "metadata": {},
     "output_type": "execute_result"
    }
   ],
   "source": [
    "l = list(model.children())[0][0]\n",
    "isinstance(l, myLinear)"
   ]
  },
  {
   "cell_type": "code",
   "execution_count": 78,
   "metadata": {},
   "outputs": [
    {
     "data": {
      "image/png": "[encoded data removed]",
      "text/plain": [
       "<Figure size 432x288 with 1 Axes>"
      ]
     },
     "metadata": {},
     "output_type": "display_data"
    }
   ],
   "source": [
    "nx.draw(G, with_labels=True)\n",
    "plt.show()"
   ]
  },
  {
   "cell_type": "code",
   "execution_count": null,
   "metadata": {},
   "outputs": [],
   "source": []
  }
 ],
 "metadata": {
  "kernelspec": {
   "display_name": "Pytorch Geometric",
   "language": "python",
   "name": "pytorch-geom"
  },
  "language_info": {
   "codemirror_mode": {
    "name": "ipython",
    "version": 3
   },
   "file_extension": ".py",
   "mimetype": "text/x-python",
   "name": "python",
   "nbconvert_exporter": "python",
   "pygments_lexer": "ipython3",
   "version": "3.8.13"
  }
 },
 "nbformat": 4,
 "nbformat_minor": 4
}
