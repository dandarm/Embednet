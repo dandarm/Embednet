{
 "cells": [
  {
   "cell_type": "code",
   "execution_count": 2,
   "metadata": {},
   "outputs": [],
   "source": [
    "%load_ext autoreload\n",
    "%autoreload 2\n",
    "\n",
    "from pathlib import Path\n",
    "import itertools\n",
    "import os\n",
    "import random\n",
    "import math\n",
    "import numpy as np\n",
    "import pandas as pd\n",
    "import matplotlib.pyplot as plt\n",
    "import time\n",
    "import pickle\n",
    "from tqdm import tqdm\n",
    "from scipy import stats\n",
    "from multiprocessing import Pool\n",
    "\n",
    "from graph_generation import GenerateGraph\n",
    "from models import GCN, view_parameters, new_parameters, modify_parameters, Inits\n",
    "from train import Trainer, Dataset\n",
    "from embedding import Embedding\n",
    "import experiments\n",
    "from experiments import (Experiments, experiment_node_embedding, \n",
    "                          all_seeds)\n",
    "\n",
    "from plot_funcs import (plot_dim1, plot_dimN, plot_correlation_error, plot_metrics, plot_node_emb_1D_perclass, scatter_node_emb, \n",
    "                        plot_graph_emb_1D, plot_graph_emb_3D, plot_graph_emb_1D_continuousregression, plot_node_emb_nD_perclass, plot_node_emb_3D_perclass, plot_data_degree_sequence, \n",
    "                        plot_corr_epoch, plot_ripetizioni_stesso_trial)\n",
    "from utils import array_wo_outliers, plot_grafo, plot_grafo2\n",
    "from Inspect import Inspect\n",
    "from config_valid import Config, TrainingMode\n",
    "from GridConfigurations import GridConfigurations, open_df_results\n",
    "from plot_model import plot_model\n",
    "\n",
    "import torch\n",
    "from torch_geometric import nn\n",
    "from torch_geometric.loader import DataLoader\n",
    "import tensorflow as tf\n",
    "\n",
    "pd.set_option('display.max_rows', 500)\n",
    "pd.set_option('display.max_columns', 500)\n",
    "from plt_parameters import init_params\n",
    "init_params()\n",
    "#pd.set_option('display.height', 500)\n",
    "\n",
    "rootsave = Path(\"output_plots/\")"
   ]
  },
  {
   "cell_type": "code",
   "execution_count": 4,
   "metadata": {},
   "outputs": [],
   "source": [
    "config_file = \"configurations/classification1.yml\"\n",
    "diz_trials = {'graph_dataset.Num_nodes': [500, 400, 300, 200, 100, 50, 20],\n",
    "             'graph_dataset.Num_grafi_per_tipo': [100,200,300,400,500,600]}\n",
    "diz_trials = {'graph_dataset.Num_nodes': [50, 20],\n",
    "             'graph_dataset.Num_grafi_per_tipo': [10,20]}\n",
    "xp = Experiments(config_file, diz_trials=diz_trials, rootsave=rootsave)"
   ]
  },
  {
   "cell_type": "code",
   "execution_count": null,
   "metadata": {},
   "outputs": [],
   "source": [
    "xp.just_train()\n",
    "embedding_class = xp.embedding()"
   ]
  }
 ],
 "metadata": {
  "kernelspec": {
   "display_name": "Pytorch Geometric",
   "language": "python",
   "name": "pytorch-geom"
  },
  "language_info": {
   "codemirror_mode": {
    "name": "ipython",
    "version": 3
   },
   "file_extension": ".py",
   "mimetype": "text/x-python",
   "name": "python",
   "nbconvert_exporter": "python",
   "pygments_lexer": "ipython3",
   "version": "3.8.13"
  }
 },
 "nbformat": 4,
 "nbformat_minor": 4
}
