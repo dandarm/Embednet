{
 "cells": [
  {
   "cell_type": "code",
   "execution_count": 1,
   "metadata": {},
   "outputs": [],
   "source": [
    "import torch\n",
    "import torch.nn as nn\n",
    "import torch.optim as optim\n",
    "import numpy as np\n",
    "from torch.utils.data import TensorDataset, DataLoader\n",
    "import matplotlib.pyplot as plt\n",
    "from sklearn.model_selection import train_test_split"
   ]
  },
  {
   "cell_type": "code",
   "execution_count": 2,
   "metadata": {},
   "outputs": [],
   "source": [
    "# Definiamo la classe dell'autoencoder\n",
    "class Autoencoder(nn.Module):\n",
    "    def __init__(self, input_size, hidden_sizes):\n",
    "        super(Autoencoder, self).__init__()\n",
    "        encoder_layers = []\n",
    "        decoder_layers = []\n",
    "        prev_size = input_size\n",
    "\n",
    "        # Costruiamo l'encoder\n",
    "        for hidden_size in hidden_sizes:\n",
    "            encoder_layers.append(nn.Linear(prev_size, hidden_size))\n",
    "            encoder_layers.append(nn.ReLU())\n",
    "            prev_size = hidden_size\n",
    "\n",
    "        self.encoder = nn.Sequential(*encoder_layers)\n",
    "\n",
    "        # Costruiamo il decoder (simmetrico all'encoder)\n",
    "        for hidden_size in reversed(hidden_sizes):\n",
    "            decoder_layers.append(nn.Linear(prev_size, hidden_size))\n",
    "            decoder_layers.append(nn.ReLU())\n",
    "            prev_size = hidden_size\n",
    "\n",
    "        decoder_layers.append(nn.Linear(prev_size, input_size))\n",
    "        decoder_layers.append(nn.Sigmoid())  # Sigmoid è usato per limitare l'output tra 0 e 1\n",
    "\n",
    "        self.decoder = nn.Sequential(*decoder_layers)\n",
    "\n",
    "    def forward(self, x):\n",
    "        x = self.encoder(x)\n",
    "        x = self.decoder(x)\n",
    "        return x"
   ]
  },
  {
   "cell_type": "code",
   "execution_count": 6,
   "metadata": {},
   "outputs": [
    {
     "name": "stdout",
     "output_type": "stream",
     "text": [
      "train_data shape  torch.Size([70, 289])\n",
      "test_data shape  torch.Size([30, 289])\n"
     ]
    },
    {
     "data": {
      "text/plain": [
       "Autoencoder(\n",
       "  (encoder): Sequential(\n",
       "    (0): Linear(in_features=289, out_features=64, bias=True)\n",
       "    (1): ReLU()\n",
       "    (2): Linear(in_features=64, out_features=64, bias=True)\n",
       "    (3): ReLU()\n",
       "  )\n",
       "  (decoder): Sequential(\n",
       "    (0): Linear(in_features=64, out_features=64, bias=True)\n",
       "    (1): ReLU()\n",
       "    (2): Linear(in_features=64, out_features=64, bias=True)\n",
       "    (3): ReLU()\n",
       "    (4): Linear(in_features=64, out_features=289, bias=True)\n",
       "    (5): Sigmoid()\n",
       "  )\n",
       ")"
      ]
     },
     "execution_count": 6,
     "metadata": {},
     "output_type": "execute_result"
    }
   ],
   "source": [
    "# Creiamo dei dati random bidimensionali per l'addestramento\n",
    "data_size = 100\n",
    "input_rows = 17  # Numero di righe della matrice di input\n",
    "input_cols = 17  # Numero di colonne della matrice di input\n",
    "data = torch.randn(data_size, input_rows, input_cols)\n",
    "threshold = 0.5\n",
    "data = (data > threshold).float()  # Rende i dati binari\n",
    "\n",
    "# Suddividiamo i dati in set di addestramento e test\n",
    "train_data, test_data = train_test_split(data, test_size=0.3, random_state=42)\n",
    "\n",
    "# Definiamo i parametri dell'autoencoder\n",
    "hidden_sizes = [64, 64]  # Specifica il numero di strati nascosti e le loro dimensioni\n",
    "learning_rate = 0.001\n",
    "num_epochs = 2000\n",
    "batch_size = 1000  # Dimensione del batch per il dataloader\n",
    "\n",
    "# Imposta il dispositivo sulla GPU se disponibile, altrimenti usa la CPU\n",
    "device = torch.device(\"cuda\" if torch.cuda.is_available() else \"cpu\")\n",
    "\n",
    "# sposto tutti i dati prima, se ho abbastanza memoria nella GPU per contenere tutti i dati\n",
    "train_data = train_data.to(device)\n",
    "test_data = test_data.to(device)\n",
    "\n",
    "# Creiamo set di dati di addestramento e test utilizzando DataLoader\n",
    "# Reshape dei dati bidimensionali in un vettore\n",
    "train_data = train_data.view(train_data.shape[0], -1)\n",
    "print(f\"train_data shape  {train_data.shape}\")\n",
    "train_dataset = TensorDataset(train_data)\n",
    "train_loader = DataLoader(train_dataset, batch_size=batch_size, shuffle=True) #, pin_memory=True)\n",
    "\n",
    "test_data = test_data.view(test_data.shape[0], -1)\n",
    "print(f\"test_data shape  {test_data.shape}\")\n",
    "test_dataset = TensorDataset(test_data)\n",
    "test_loader = DataLoader(test_dataset, batch_size=batch_size, shuffle=False)  #, pin_memory=True)\n",
    "\n",
    "# Creiamo l'istanza dell'autoencoder e il criterio di loss (MSE)\n",
    "autoencoder = Autoencoder(input_rows * input_cols, hidden_sizes)\n",
    "#criterion = nn.MSELoss()\n",
    "criterion = nn.BCELoss()  # Cambiamo alla BCE loss\n",
    "optimizer = optim.Adam(autoencoder.parameters(), lr=learning_rate)\n",
    "\n",
    "# Sposta il modello e i dati sulla GPU\n",
    "autoencoder.to(device)\n"
   ]
  },
  {
   "cell_type": "code",
   "execution_count": 7,
   "metadata": {},
   "outputs": [
    {
     "name": "stdout",
     "output_type": "stream",
     "text": [
      "Epoch [100/2000], Train Loss: 0.5346332788467407\n",
      "Epoch [200/2000], Train Loss: 0.23352916538715363\n",
      "Epoch [300/2000], Train Loss: 0.02623375877737999\n",
      "Epoch [400/2000], Train Loss: 0.003972471691668034\n",
      "Epoch [500/2000], Train Loss: 0.0015284086111932993\n",
      "Epoch [600/2000], Train Loss: 0.0008221338503062725\n",
      "Epoch [700/2000], Train Loss: 0.0005179336294531822\n",
      "Epoch [800/2000], Train Loss: 0.0003572518762666732\n",
      "Epoch [900/2000], Train Loss: 0.0002615169214550406\n",
      "Epoch [1000/2000], Train Loss: 0.00019967569096479565\n",
      "Epoch [1100/2000], Train Loss: 0.00015727344725746661\n",
      "Epoch [1200/2000], Train Loss: 0.0001268959604203701\n",
      "Epoch [1300/2000], Train Loss: 0.00010437235323479399\n",
      "Epoch [1400/2000], Train Loss: 8.720105688553303e-05\n",
      "Epoch [1500/2000], Train Loss: 7.378934242296964e-05\n",
      "Epoch [1600/2000], Train Loss: 6.312588811852038e-05\n",
      "Epoch [1700/2000], Train Loss: 5.4508247558260337e-05\n",
      "Epoch [1800/2000], Train Loss: 4.745120168081485e-05\n",
      "Epoch [1900/2000], Train Loss: 4.158961746725254e-05\n",
      "Epoch [2000/2000], Train Loss: 3.668031422421336e-05\n",
      "Loss di overfitting (Train): 3.663709503598511e-05\n",
      "Loss di overfitting (Test): 5.665104389190674\n"
     ]
    }
   ],
   "source": [
    "train_losses = []\n",
    "test_losses = []\n",
    "\n",
    "for epoch in range(num_epochs):\n",
    "    train_loss = 0.0\n",
    "    test_loss = 0.0\n",
    "    \n",
    "    autoencoder.train()\n",
    "    for batch in train_loader:\n",
    "        batch_data = batch[0]\n",
    "        output = autoencoder(batch_data)\n",
    "        loss = criterion(output, batch_data)\n",
    "        optimizer.zero_grad()\n",
    "        loss.backward()\n",
    "        optimizer.step()\n",
    "        l = loss.item()\n",
    "        train_loss += l * batch_data.size(0)\n",
    "\n",
    "    train_loss /= len(train_loader.dataset)\n",
    "    train_losses.append(train_loss)    \n",
    "    \n",
    "    # Valutazione sui dati di test\n",
    "    autoencoder.eval()\n",
    "    with torch.no_grad():\n",
    "        for batch in test_loader:\n",
    "            batch_data = batch[0]\n",
    "            output = autoencoder(batch_data)\n",
    "            loss = criterion(output, batch_data)\n",
    "            l = loss.item()\n",
    "            test_loss += l * batch_data.size(0)\n",
    "\n",
    "    test_loss /= len(test_loader.dataset)\n",
    "    test_losses.append(test_loss)\n",
    "    \n",
    "    if (epoch + 1) % 100 == 0:\n",
    "        print(f'Epoch [{epoch + 1}/{num_epochs}], Train Loss: {train_loss}')\n",
    "\n",
    "        \n",
    "\n",
    "# Valutazione dell'autoencoder sui dati di addestramento e test\n",
    "with torch.no_grad():\n",
    "    reconstructed_train_data = autoencoder(train_data)\n",
    "    reconstructed_test_data = autoencoder(test_data)\n",
    "\n",
    "# Calcoliamo le loss di overfitting separatamente per i dati di addestramento e test\n",
    "overfitting_loss_train = criterion(reconstructed_train_data, train_data)\n",
    "overfitting_loss_test = criterion(reconstructed_test_data, test_data)\n",
    "print(f'Loss di overfitting (Train): {overfitting_loss_train.item()}')\n",
    "print(f'Loss di overfitting (Test): {overfitting_loss_test.item()}')"
   ]
  },
  {
   "cell_type": "code",
   "execution_count": 8,
   "metadata": {},
   "outputs": [
    {
     "data": {
      "text/plain": [
       "[<matplotlib.lines.Line2D at 0x7f28fec41100>]"
      ]
     },
     "execution_count": 8,
     "metadata": {},
     "output_type": "execute_result"
    },
    {
     "data": {
      "image/png": "[encoded data removed]",
      "text/plain": [
       "<Figure size 432x288 with 1 Axes>"
      ]
     },
     "metadata": {
      "needs_background": "light"
     },
     "output_type": "display_data"
    }
   ],
   "source": [
    "plt.plot(train_losses)\n",
    "plt.plot(test_losses)"
   ]
  },
  {
   "cell_type": "code",
   "execution_count": 5,
   "metadata": {},
   "outputs": [
    {
     "data": {
      "text/plain": [
       "[<matplotlib.lines.Line2D at 0x7fbb9631b7c0>]"
      ]
     },
     "execution_count": 5,
     "metadata": {},
     "output_type": "execute_result"
    },
    {
     "data": {
      "image/png": "[encoded data removed]",
      "text/plain": [
       "<Figure size 432x288 with 1 Axes>"
      ]
     },
     "metadata": {
      "needs_background": "light"
     },
     "output_type": "display_data"
    }
   ],
   "source": []
  },
  {
   "cell_type": "code",
   "execution_count": null,
   "metadata": {},
   "outputs": [],
   "source": [
    "# da quì in poi era MSELoss"
   ]
  },
  {
   "cell_type": "code",
   "execution_count": 30,
   "metadata": {},
   "outputs": [
    {
     "data": {
      "text/plain": [
       "[<matplotlib.lines.Line2D at 0x7fb34013f580>]"
      ]
     },
     "execution_count": 30,
     "metadata": {},
     "output_type": "execute_result"
    },
    {
     "data": {
      "image/png": "[encoded data removed]",
      "text/plain": [
       "<Figure size 432x288 with 1 Axes>"
      ]
     },
     "metadata": {
      "needs_background": "light"
     },
     "output_type": "display_data"
    }
   ],
   "source": [
    "#con 30 nodi (lr= 0.001)"
   ]
  },
  {
   "cell_type": "code",
   "execution_count": 21,
   "metadata": {},
   "outputs": [
    {
     "data": {
      "text/plain": [
       "[<matplotlib.lines.Line2D at 0x7fb321fd6790>]"
      ]
     },
     "execution_count": 21,
     "metadata": {},
     "output_type": "execute_result"
    },
    {
     "data": {
      "image/png": "[encoded data removed]",
      "text/plain": [
       "<Figure size 432x288 with 1 Axes>"
      ]
     },
     "metadata": {
      "needs_background": "light"
     },
     "output_type": "display_data"
    }
   ],
   "source": [
    "# con 4 nodi"
   ]
  },
  {
   "cell_type": "code",
   "execution_count": 18,
   "metadata": {},
   "outputs": [
    {
     "data": {
      "text/plain": [
       "[<matplotlib.lines.Line2D at 0x7fb3399df280>]"
      ]
     },
     "execution_count": 18,
     "metadata": {},
     "output_type": "execute_result"
    },
    {
     "data": {
      "image/png": "[encoded data removed]",
      "text/plain": [
       "<Figure size 432x288 with 1 Axes>"
      ]
     },
     "metadata": {
      "needs_background": "light"
     },
     "output_type": "display_data"
    }
   ],
   "source": []
  },
  {
   "cell_type": "code",
   "execution_count": 15,
   "metadata": {},
   "outputs": [
    {
     "data": {
      "text/plain": [
       "[<matplotlib.lines.Line2D at 0x7fb330162880>]"
      ]
     },
     "execution_count": 15,
     "metadata": {},
     "output_type": "execute_result"
    },
    {
     "data": {
      "image/png": "[encoded data removed]",
      "text/plain": [
       "<Figure size 432x288 with 1 Axes>"
      ]
     },
     "metadata": {
      "needs_background": "light"
     },
     "output_type": "display_data"
    }
   ],
   "source": []
  },
  {
   "cell_type": "code",
   "execution_count": null,
   "metadata": {},
   "outputs": [],
   "source": []
  },
  {
   "cell_type": "code",
   "execution_count": null,
   "metadata": {},
   "outputs": [],
   "source": []
  },
  {
   "cell_type": "code",
   "execution_count": null,
   "metadata": {},
   "outputs": [],
   "source": []
  },
  {
   "cell_type": "code",
   "execution_count": null,
   "metadata": {},
   "outputs": [],
   "source": []
  },
  {
   "cell_type": "code",
   "execution_count": null,
   "metadata": {},
   "outputs": [],
   "source": []
  }
 ],
 "metadata": {
  "kernelspec": {
   "display_name": "Pytorch Geometric",
   "language": "python",
   "name": "pytorch-geom"
  },
  "language_info": {
   "codemirror_mode": {
    "name": "ipython",
    "version": 3
   },
   "file_extension": ".py",
   "mimetype": "text/x-python",
   "name": "python",
   "nbconvert_exporter": "python",
   "pygments_lexer": "ipython3",
   "version": "3.8.13"
  }
 },
 "nbformat": 4,
 "nbformat_minor": 4
}
