{
 "cells": [
  {
   "cell_type": "code",
   "execution_count": 1,
   "metadata": {},
   "outputs": [],
   "source": [
    "%load_ext autoreload\n",
    "%autoreload 2\n",
    "\n",
    "import itertools\n",
    "import numpy as np\n",
    "import matplotlib.pyplot as plt\n",
    "\n",
    "from multiprocessing import Pool\n",
    "import time\n",
    "from tqdm import tqdm\n",
    "\n",
    "from graph_generation import create_ER, dataset_nclass_ER\n",
    "from models import GCN, GAEGCNEncoder\n",
    "from train import Trainer, Dataset\n",
    "from train_autoencoder import Trainer_Autoencoder\n",
    "from embedding import Embedding\n",
    "from experiments import experiment_embedding, autoencoder_embedding\n",
    "\n",
    "import torch\n",
    "torch.multiprocessing.set_sharing_strategy('file_system')\n",
    "import torch_geometric.transforms as T\n",
    "from torch_geometric.datasets import Planetoid\n",
    "from torch_geometric.nn import GAE, VGAE, GCNConv\n",
    "from torch_geometric.loader import DataLoader\n",
    "device = torch.device('cuda')\n",
    "\n",
    "from scipy import stats\n",
    "\n",
    "import yaml"
   ]
  },
  {
   "cell_type": "markdown",
   "metadata": {},
   "source": [
    "# Dataset from Planetoid"
   ]
  },
  {
   "cell_type": "code",
   "execution_count": 4,
   "metadata": {},
   "outputs": [],
   "source": [
    "device = torch.device('cuda' if torch.cuda.is_available() else 'cpu')\n",
    "transform = T.Compose([\n",
    "    T.NormalizeFeatures(),\n",
    "    T.ToDevice(device),\n",
    "    T.RandomLinkSplit(num_val=0.05, num_test=0.1, is_undirected=True,\n",
    "                      split_labels=True, add_negative_train_samples=False),\n",
    "])\n",
    "path = osp.join('.', 'data', 'Planetoid')\n",
    "dataset_p = Planetoid(path, 'Cora', transform=transform) # choices=['Cora', 'CiteSeer', 'PubMed']\n",
    "train_data, val_data, test_data = dataset_p[0]"
   ]
  },
  {
   "cell_type": "code",
   "execution_count": 5,
   "metadata": {},
   "outputs": [
    {
     "data": {
      "text/plain": [
       "Data(x=[2708, 1433], edge_index=[2, 8976], y=[2708], train_mask=[2708], val_mask=[2708], test_mask=[2708], pos_edge_label=[4488], pos_edge_label_index=[2, 4488])"
      ]
     },
     "execution_count": 5,
     "metadata": {},
     "output_type": "execute_result"
    }
   ],
   "source": [
    "train_data"
   ]
  },
  {
   "cell_type": "code",
   "execution_count": 28,
   "metadata": {},
   "outputs": [],
   "source": [
    "x = train_data.x.cpu().detach().numpy()\n",
    "y = train_data.y.cpu().detach().numpy()"
   ]
  },
  {
   "cell_type": "code",
   "execution_count": 41,
   "metadata": {},
   "outputs": [
    {
     "data": {
      "text/plain": [
       "[<matplotlib.lines.Line2D at 0x7f2ec82f3340>]"
      ]
     },
     "execution_count": 41,
     "metadata": {},
     "output_type": "execute_result"
    },
    {
     "data": {
      "image/png": "[encoded data removed]",
      "text/plain": [
       "<Figure size 432x288 with 1 Axes>"
      ]
     },
     "metadata": {
      "needs_background": "light"
     },
     "output_type": "display_data"
    }
   ],
   "source": [
    "plt.plot(y, '.')"
   ]
  },
  {
   "cell_type": "markdown",
   "metadata": {},
   "source": [
    "# Dataset nostro"
   ]
  },
  {
   "cell_type": "code",
   "execution_count": 10,
   "metadata": {},
   "outputs": [
    {
     "name": "stdout",
     "output_type": "stream",
     "text": [
      "Mean connectivity for each node: 9.954 p=0.05\n",
      "Mean connectivity for each node: 59.674 p=0.3\n"
     ]
    }
   ],
   "source": [
    "config = yaml.safe_load(open(\"configs.yml\"))\n",
    "dataset_grafi_nx, dataset_labels, list_p= dataset_nclass_ER(config)\n",
    "dataset = Dataset(dataset_grafi_nx, dataset_labels, percentage_train=0.7, batch_size=200, device=torch.device('cuda'), config=config)\n",
    "dataset.prepare()"
   ]
  },
  {
   "cell_type": "code",
   "execution_count": 12,
   "metadata": {},
   "outputs": [
    {
     "data": {
      "text/plain": [
       "Data(x=[200, 1], edge_index=[2, 11804], y=[1], pos_edge_label=[5902], pos_edge_label_index=[2, 5902])"
      ]
     },
     "execution_count": 12,
     "metadata": {},
     "output_type": "execute_result"
    }
   ],
   "source": [
    "dataset.dataset_pyg[0]"
   ]
  },
  {
   "cell_type": "markdown",
   "metadata": {},
   "source": [
    "### come rendere il dataset nostro adatto all'autoencoder: vuole positive e negative edges"
   ]
  },
  {
   "cell_type": "code",
   "execution_count": 8,
   "metadata": {},
   "outputs": [],
   "source": [
    "my_transform = T.RandomLinkSplit(num_val=0.0, num_test=0.0, is_undirected=True,\n",
    "                      split_labels=True, add_negative_train_samples=False)"
   ]
  },
  {
   "cell_type": "code",
   "execution_count": 9,
   "metadata": {},
   "outputs": [
    {
     "data": {
      "text/plain": [
       "(Data(x=[200, 1], edge_index=[2, 11640], y=[1], pos_edge_label=[5820], pos_edge_label_index=[2, 5820]),\n",
       " Data(x=[200, 1], edge_index=[2, 11640], y=[1], pos_edge_label=[0], pos_edge_label_index=[2, 0]),\n",
       " Data(x=[200, 1], edge_index=[2, 11640], y=[1], pos_edge_label=[0], pos_edge_label_index=[2, 0]))"
      ]
     },
     "execution_count": 9,
     "metadata": {},
     "output_type": "execute_result"
    }
   ],
   "source": [
    "train_data, _, _ = my_transform(dataset.dataset_pyg[0])"
   ]
  },
  {
   "cell_type": "markdown",
   "metadata": {},
   "source": [
    "# Trainer"
   ]
  },
  {
   "cell_type": "code",
   "execution_count": 2,
   "metadata": {},
   "outputs": [
    {
     "name": "stdout",
     "output_type": "stream",
     "text": [
      "Mean connectivity for each node: 14.936 p=0.05\n",
      "Mean connectivity for each node: 89.691 p=0.3\n"
     ]
    }
   ],
   "source": [
    "config = yaml.safe_load(open(\"configs.yml\"))\n",
    "dataset_grafi_nx, dataset_labels, list_p= dataset_nclass_ER(config)"
   ]
  },
  {
   "cell_type": "code",
   "execution_count": 3,
   "metadata": {},
   "outputs": [
    {
     "name": "stdout",
     "output_type": "stream",
     "text": [
      "GAE(\n",
      "  (encoder): GCN(\n",
      "    (convs): ModuleList(\n",
      "      (0): GCNConv(1, 128)\n",
      "      (1): GCNConv(128, 128)\n",
      "      (2): GCNConv(128, 1)\n",
      "    )\n",
      "    (pools): ModuleList(\n",
      "      (0): TopKPooling(128, ratio=0.8, multiplier=1.0)\n",
      "      (1): TopKPooling(128, ratio=0.8, multiplier=1.0)\n",
      "      (2): TopKPooling(1, ratio=0.8, multiplier=1.0)\n",
      "    )\n",
      "    (leaky): LeakyReLU(negative_slope=0.03)\n",
      "  )\n",
      "  (decoder): InnerProductDecoder()\n",
      ")\n",
      "MSELoss()\n",
      "Loading Dataset...\n",
      "dataset_pyg len = 0\n",
      "Tempo impiegato: 76.76572728157043\n",
      "runs/lr-0.002_epochs55000_bs250_neurons-1-128-128-1/07Jun_02-31-14\n"
     ]
    },
    {
     "name": "stderr",
     "output_type": "stream",
     "text": [
      "/opt/conda/conda-bld/pytorch_1646755903507/work/aten/src/ATen/native/cuda/IndexKernel.cu:91: operator(): block: [2049,0,0], thread: [96,0,0] Assertion `index >= -sizes[i] && index < sizes[i] && \"index out of bounds\"` failed.\n",
      "/opt/conda/conda-bld/pytorch_1646755903507/work/aten/src/ATen/native/cuda/IndexKernel.cu:91: operator(): block: [2049,0,0], thread: [97,0,0] Assertion `index >= -sizes[i] && index < sizes[i] && \"index out of bounds\"` failed.\n",
      "/opt/conda/conda-bld/pytorch_1646755903507/work/aten/src/ATen/native/cuda/IndexKernel.cu:91: operator(): block: [2049,0,0], thread: [98,0,0] Assertion `index >= -sizes[i] && index < sizes[i] && \"index out of bounds\"` failed.\n",
      "/opt/conda/conda-bld/pytorch_1646755903507/work/aten/src/ATen/native/cuda/IndexKernel.cu:91: operator(): block: [2049,0,0], thread: [99,0,0] Assertion `index >= -sizes[i] && index < sizes[i] && \"index out of bounds\"` failed.\n",
      "/opt/conda/conda-bld/pytorch_1646755903507/work/aten/src/ATen/native/cuda/IndexKernel.cu:91: operator(): block: [2049,0,0], thread: [100,0,0] Assertion `index >= -sizes[i] && index < sizes[i] && \"index out of bounds\"` failed.\n",
      "/opt/conda/conda-bld/pytorch_1646755903507/work/aten/src/ATen/native/cuda/IndexKernel.cu:91: operator(): block: [2049,0,0], thread: [101,0,0] Assertion `index >= -sizes[i] && index < sizes[i] && \"index out of bounds\"` failed.\n",
      "/opt/conda/conda-bld/pytorch_1646755903507/work/aten/src/ATen/native/cuda/IndexKernel.cu:91: operator(): block: [2049,0,0], thread: [102,0,0] Assertion `index >= -sizes[i] && index < sizes[i] && \"index out of bounds\"` failed.\n",
      "/opt/conda/conda-bld/pytorch_1646755903507/work/aten/src/ATen/native/cuda/IndexKernel.cu:91: operator(): block: [2049,0,0], thread: [103,0,0] Assertion `index >= -sizes[i] && index < sizes[i] && \"index out of bounds\"` failed.\n",
      "/opt/conda/conda-bld/pytorch_1646755903507/work/aten/src/ATen/native/cuda/IndexKernel.cu:91: operator(): block: [2049,0,0], thread: [104,0,0] Assertion `index >= -sizes[i] && index < sizes[i] && \"index out of bounds\"` failed.\n",
      "/opt/conda/conda-bld/pytorch_1646755903507/work/aten/src/ATen/native/cuda/IndexKernel.cu:91: operator(): block: [2049,0,0], thread: [105,0,0] Assertion `index >= -sizes[i] && index < sizes[i] && \"index out of bounds\"` failed.\n",
      "/opt/conda/conda-bld/pytorch_1646755903507/work/aten/src/ATen/native/cuda/IndexKernel.cu:91: operator(): block: [2049,0,0], thread: [106,0,0] Assertion `index >= -sizes[i] && index < sizes[i] && \"index out of bounds\"` failed.\n",
      "/opt/conda/conda-bld/pytorch_1646755903507/work/aten/src/ATen/native/cuda/IndexKernel.cu:91: operator(): block: [2049,0,0], thread: [107,0,0] Assertion `index >= -sizes[i] && index < sizes[i] && \"index out of bounds\"` failed.\n",
      "/opt/conda/conda-bld/pytorch_1646755903507/work/aten/src/ATen/native/cuda/IndexKernel.cu:91: operator(): block: [2049,0,0], thread: [108,0,0] Assertion `index >= -sizes[i] && index < sizes[i] && \"index out of bounds\"` failed.\n",
      "/opt/conda/conda-bld/pytorch_1646755903507/work/aten/src/ATen/native/cuda/IndexKernel.cu:91: operator(): block: [2049,0,0], thread: [109,0,0] Assertion `index >= -sizes[i] && index < sizes[i] && \"index out of bounds\"` failed.\n",
      "/opt/conda/conda-bld/pytorch_1646755903507/work/aten/src/ATen/native/cuda/IndexKernel.cu:91: operator(): block: [2049,0,0], thread: [110,0,0] Assertion `index >= -sizes[i] && index < sizes[i] && \"index out of bounds\"` failed.\n",
      "/opt/conda/conda-bld/pytorch_1646755903507/work/aten/src/ATen/native/cuda/IndexKernel.cu:91: operator(): block: [2049,0,0], thread: [111,0,0] Assertion `index >= -sizes[i] && index < sizes[i] && \"index out of bounds\"` failed.\n",
      "/opt/conda/conda-bld/pytorch_1646755903507/work/aten/src/ATen/native/cuda/IndexKernel.cu:91: operator(): block: [2049,0,0], thread: [112,0,0] Assertion `index >= -sizes[i] && index < sizes[i] && \"index out of bounds\"` failed.\n",
      "/opt/conda/conda-bld/pytorch_1646755903507/work/aten/src/ATen/native/cuda/IndexKernel.cu:91: operator(): block: [2049,0,0], thread: [113,0,0] Assertion `index >= -sizes[i] && index < sizes[i] && \"index out of bounds\"` failed.\n",
      "/opt/conda/conda-bld/pytorch_1646755903507/work/aten/src/ATen/native/cuda/IndexKernel.cu:91: operator(): block: [2049,0,0], thread: [114,0,0] Assertion `index >= -sizes[i] && index < sizes[i] && \"index out of bounds\"` failed.\n",
      "/opt/conda/conda-bld/pytorch_1646755903507/work/aten/src/ATen/native/cuda/IndexKernel.cu:91: operator(): block: [2049,0,0], thread: [115,0,0] Assertion `index >= -sizes[i] && index < sizes[i] && \"index out of bounds\"` failed.\n",
      "/opt/conda/conda-bld/pytorch_1646755903507/work/aten/src/ATen/native/cuda/IndexKernel.cu:91: operator(): block: [2049,0,0], thread: [116,0,0] Assertion `index >= -sizes[i] && index < sizes[i] && \"index out of bounds\"` failed.\n",
      "/opt/conda/conda-bld/pytorch_1646755903507/work/aten/src/ATen/native/cuda/IndexKernel.cu:91: operator(): block: [2049,0,0], thread: [117,0,0] Assertion `index >= -sizes[i] && index < sizes[i] && \"index out of bounds\"` failed.\n",
      "/opt/conda/conda-bld/pytorch_1646755903507/work/aten/src/ATen/native/cuda/IndexKernel.cu:91: operator(): block: [2049,0,0], thread: [118,0,0] Assertion `index >= -sizes[i] && index < sizes[i] && \"index out of bounds\"` failed.\n",
      "/opt/conda/conda-bld/pytorch_1646755903507/work/aten/src/ATen/native/cuda/IndexKernel.cu:91: operator(): block: [2049,0,0], thread: [119,0,0] Assertion `index >= -sizes[i] && index < sizes[i] && \"index out of bounds\"` failed.\n",
      "/opt/conda/conda-bld/pytorch_1646755903507/work/aten/src/ATen/native/cuda/IndexKernel.cu:91: operator(): block: [2049,0,0], thread: [120,0,0] Assertion `index >= -sizes[i] && index < sizes[i] && \"index out of bounds\"` failed.\n",
      "/opt/conda/conda-bld/pytorch_1646755903507/work/aten/src/ATen/native/cuda/IndexKernel.cu:91: operator(): block: [2049,0,0], thread: [121,0,0] Assertion `index >= -sizes[i] && index < sizes[i] && \"index out of bounds\"` failed.\n",
      "/opt/conda/conda-bld/pytorch_1646755903507/work/aten/src/ATen/native/cuda/IndexKernel.cu:91: operator(): block: [2049,0,0], thread: [122,0,0] Assertion `index >= -sizes[i] && index < sizes[i] && \"index out of bounds\"` failed.\n",
      "/opt/conda/conda-bld/pytorch_1646755903507/work/aten/src/ATen/native/cuda/IndexKernel.cu:91: operator(): block: [2049,0,0], thread: [123,0,0] Assertion `index >= -sizes[i] && index < sizes[i] && \"index out of bounds\"` failed.\n",
      "/opt/conda/conda-bld/pytorch_1646755903507/work/aten/src/ATen/native/cuda/IndexKernel.cu:91: operator(): block: [2049,0,0], thread: [124,0,0] Assertion `index >= -sizes[i] && index < sizes[i] && \"index out of bounds\"` failed.\n",
      "/opt/conda/conda-bld/pytorch_1646755903507/work/aten/src/ATen/native/cuda/IndexKernel.cu:91: operator(): block: [2049,0,0], thread: [125,0,0] Assertion `index >= -sizes[i] && index < sizes[i] && \"index out of bounds\"` failed.\n",
      "/opt/conda/conda-bld/pytorch_1646755903507/work/aten/src/ATen/native/cuda/IndexKernel.cu:91: operator(): block: [2049,0,0], thread: [126,0,0] Assertion `index >= -sizes[i] && index < sizes[i] && \"index out of bounds\"` failed.\n",
      "/opt/conda/conda-bld/pytorch_1646755903507/work/aten/src/ATen/native/cuda/IndexKernel.cu:91: operator(): block: [2049,0,0], thread: [127,0,0] Assertion `index >= -sizes[i] && index < sizes[i] && \"index out of bounds\"` failed.\n",
      "/opt/conda/conda-bld/pytorch_1646755903507/work/aten/src/ATen/native/cuda/IndexKernel.cu:91: operator(): block: [2049,0,0], thread: [32,0,0] Assertion `index >= -sizes[i] && index < sizes[i] && \"index out of bounds\"` failed.\n",
      "/opt/conda/conda-bld/pytorch_1646755903507/work/aten/src/ATen/native/cuda/IndexKernel.cu:91: operator(): block: [2049,0,0], thread: [33,0,0] Assertion `index >= -sizes[i] && index < sizes[i] && \"index out of bounds\"` failed.\n",
      "/opt/conda/conda-bld/pytorch_1646755903507/work/aten/src/ATen/native/cuda/IndexKernel.cu:91: operator(): block: [2049,0,0], thread: [34,0,0] Assertion `index >= -sizes[i] && index < sizes[i] && \"index out of bounds\"` failed.\n",
      "/opt/conda/conda-bld/pytorch_1646755903507/work/aten/src/ATen/native/cuda/IndexKernel.cu:91: operator(): block: [2049,0,0], thread: [35,0,0] Assertion `index >= -sizes[i] && index < sizes[i] && \"index out of bounds\"` failed.\n",
      "/opt/conda/conda-bld/pytorch_1646755903507/work/aten/src/ATen/native/cuda/IndexKernel.cu:91: operator(): block: [2049,0,0], thread: [36,0,0] Assertion `index >= -sizes[i] && index < sizes[i] && \"index out of bounds\"` failed.\n",
      "/opt/conda/conda-bld/pytorch_1646755903507/work/aten/src/ATen/native/cuda/IndexKernel.cu:91: operator(): block: [2049,0,0], thread: [37,0,0] Assertion `index >= -sizes[i] && index < sizes[i] && \"index out of bounds\"` failed.\n",
      "/opt/conda/conda-bld/pytorch_1646755903507/work/aten/src/ATen/native/cuda/IndexKernel.cu:91: operator(): block: [2049,0,0], thread: [38,0,0] Assertion `index >= -sizes[i] && index < sizes[i] && \"index out of bounds\"` failed.\n",
      "/opt/conda/conda-bld/pytorch_1646755903507/work/aten/src/ATen/native/cuda/IndexKernel.cu:91: operator(): block: [2049,0,0], thread: [39,0,0] Assertion `index >= -sizes[i] && index < sizes[i] && \"index out of bounds\"` failed.\n",
      "/opt/conda/conda-bld/pytorch_1646755903507/work/aten/src/ATen/native/cuda/IndexKernel.cu:91: operator(): block: [2049,0,0], thread: [40,0,0] Assertion `index >= -sizes[i] && index < sizes[i] && \"index out of bounds\"` failed.\n",
      "/opt/conda/conda-bld/pytorch_1646755903507/work/aten/src/ATen/native/cuda/IndexKernel.cu:91: operator(): block: [2049,0,0], thread: [41,0,0] Assertion `index >= -sizes[i] && index < sizes[i] && \"index out of bounds\"` failed.\n",
      "/opt/conda/conda-bld/pytorch_1646755903507/work/aten/src/ATen/native/cuda/IndexKernel.cu:91: operator(): block: [2049,0,0], thread: [42,0,0] Assertion `index >= -sizes[i] && index < sizes[i] && \"index out of bounds\"` failed.\n",
      "/opt/conda/conda-bld/pytorch_1646755903507/work/aten/src/ATen/native/cuda/IndexKernel.cu:91: operator(): block: [2049,0,0], thread: [43,0,0] Assertion `index >= -sizes[i] && index < sizes[i] && \"index out of bounds\"` failed.\n",
      "/opt/conda/conda-bld/pytorch_1646755903507/work/aten/src/ATen/native/cuda/IndexKernel.cu:91: operator(): block: [2049,0,0], thread: [44,0,0] Assertion `index >= -sizes[i] && index < sizes[i] && \"index out of bounds\"` failed.\n",
      "/opt/conda/conda-bld/pytorch_1646755903507/work/aten/src/ATen/native/cuda/IndexKernel.cu:91: operator(): block: [2049,0,0], thread: [45,0,0] Assertion `index >= -sizes[i] && index < sizes[i] && \"index out of bounds\"` failed.\n",
      "/opt/conda/conda-bld/pytorch_1646755903507/work/aten/src/ATen/native/cuda/IndexKernel.cu:91: operator(): block: [2049,0,0], thread: [46,0,0] Assertion `index >= -sizes[i] && index < sizes[i] && \"index out of bounds\"` failed.\n",
      "/opt/conda/conda-bld/pytorch_1646755903507/work/aten/src/ATen/native/cuda/IndexKernel.cu:91: operator(): block: [2049,0,0], thread: [47,0,0] Assertion `index >= -sizes[i] && index < sizes[i] && \"index out of bounds\"` failed.\n",
      "/opt/conda/conda-bld/pytorch_1646755903507/work/aten/src/ATen/native/cuda/IndexKernel.cu:91: operator(): block: [2049,0,0], thread: [48,0,0] Assertion `index >= -sizes[i] && index < sizes[i] && \"index out of bounds\"` failed.\n",
      "/opt/conda/conda-bld/pytorch_1646755903507/work/aten/src/ATen/native/cuda/IndexKernel.cu:91: operator(): block: [2049,0,0], thread: [49,0,0] Assertion `index >= -sizes[i] && index < sizes[i] && \"index out of bounds\"` failed.\n",
      "/opt/conda/conda-bld/pytorch_1646755903507/work/aten/src/ATen/native/cuda/IndexKernel.cu:91: operator(): block: [2049,0,0], thread: [50,0,0] Assertion `index >= -sizes[i] && index < sizes[i] && \"index out of bounds\"` failed.\n",
      "/opt/conda/conda-bld/pytorch_1646755903507/work/aten/src/ATen/native/cuda/IndexKernel.cu:91: operator(): block: [2049,0,0], thread: [51,0,0] Assertion `index >= -sizes[i] && index < sizes[i] && \"index out of bounds\"` failed.\n",
      "/opt/conda/conda-bld/pytorch_1646755903507/work/aten/src/ATen/native/cuda/IndexKernel.cu:91: operator(): block: [2049,0,0], thread: [52,0,0] Assertion `index >= -sizes[i] && index < sizes[i] && \"index out of bounds\"` failed.\n",
      "/opt/conda/conda-bld/pytorch_1646755903507/work/aten/src/ATen/native/cuda/IndexKernel.cu:91: operator(): block: [2049,0,0], thread: [53,0,0] Assertion `index >= -sizes[i] && index < sizes[i] && \"index out of bounds\"` failed.\n",
      "/opt/conda/conda-bld/pytorch_1646755903507/work/aten/src/ATen/native/cuda/IndexKernel.cu:91: operator(): block: [2049,0,0], thread: [54,0,0] Assertion `index >= -sizes[i] && index < sizes[i] && \"index out of bounds\"` failed.\n",
      "/opt/conda/conda-bld/pytorch_1646755903507/work/aten/src/ATen/native/cuda/IndexKernel.cu:91: operator(): block: [2049,0,0], thread: [55,0,0] Assertion `index >= -sizes[i] && index < sizes[i] && \"index out of bounds\"` failed.\n",
      "/opt/conda/conda-bld/pytorch_1646755903507/work/aten/src/ATen/native/cuda/IndexKernel.cu:91: operator(): block: [2049,0,0], thread: [56,0,0] Assertion `index >= -sizes[i] && index < sizes[i] && \"index out of bounds\"` failed.\n",
      "/opt/conda/conda-bld/pytorch_1646755903507/work/aten/src/ATen/native/cuda/IndexKernel.cu:91: operator(): block: [2049,0,0], thread: [57,0,0] Assertion `index >= -sizes[i] && index < sizes[i] && \"index out of bounds\"` failed.\n",
      "/opt/conda/conda-bld/pytorch_1646755903507/work/aten/src/ATen/native/cuda/IndexKernel.cu:91: operator(): block: [2049,0,0], thread: [58,0,0] Assertion `index >= -sizes[i] && index < sizes[i] && \"index out of bounds\"` failed.\n",
      "/opt/conda/conda-bld/pytorch_1646755903507/work/aten/src/ATen/native/cuda/IndexKernel.cu:91: operator(): block: [2049,0,0], thread: [59,0,0] Assertion `index >= -sizes[i] && index < sizes[i] && \"index out of bounds\"` failed.\n",
      "/opt/conda/conda-bld/pytorch_1646755903507/work/aten/src/ATen/native/cuda/IndexKernel.cu:91: operator(): block: [2049,0,0], thread: [60,0,0] Assertion `index >= -sizes[i] && index < sizes[i] && \"index out of bounds\"` failed.\n",
      "/opt/conda/conda-bld/pytorch_1646755903507/work/aten/src/ATen/native/cuda/IndexKernel.cu:91: operator(): block: [2049,0,0], thread: [61,0,0] Assertion `index >= -sizes[i] && index < sizes[i] && \"index out of bounds\"` failed.\n",
      "/opt/conda/conda-bld/pytorch_1646755903507/work/aten/src/ATen/native/cuda/IndexKernel.cu:91: operator(): block: [2049,0,0], thread: [62,0,0] Assertion `index >= -sizes[i] && index < sizes[i] && \"index out of bounds\"` failed.\n",
      "/opt/conda/conda-bld/pytorch_1646755903507/work/aten/src/ATen/native/cuda/IndexKernel.cu:91: operator(): block: [2049,0,0], thread: [63,0,0] Assertion `index >= -sizes[i] && index < sizes[i] && \"index out of bounds\"` failed.\n"
     ]
    },
    {
     "ename": "RuntimeError",
     "evalue": "CUDA error: device-side assert triggered\nCUDA kernel errors might be asynchronously reported at some other API call,so the stacktrace below might be incorrect.\nFor debugging consider passing CUDA_LAUNCH_BLOCKING=1.",
     "output_type": "error",
     "traceback": [
      "\u001b[0;31m---------------------------------------------------------------------------\u001b[0m",
      "\u001b[0;31mRuntimeError\u001b[0m                              Traceback (most recent call last)",
      "Input \u001b[0;32mIn [3]\u001b[0m, in \u001b[0;36m<cell line: 1>\u001b[0;34m()\u001b[0m\n\u001b[0;32m----> 1\u001b[0m embeddings, trainer \u001b[38;5;241m=\u001b[39m \u001b[43mautoencoder_embedding\u001b[49m\u001b[43m(\u001b[49m\u001b[43mconfig\u001b[49m\u001b[43m,\u001b[49m\u001b[43m \u001b[49m\u001b[43mdataset_grafi_nx\u001b[49m\u001b[43m,\u001b[49m\u001b[43m \u001b[49m\u001b[43mdataset_labels\u001b[49m\u001b[43m,\u001b[49m\u001b[43m \u001b[49m\u001b[43mlist_p\u001b[49m\u001b[43m)\u001b[49m\n",
      "File \u001b[0;32m~/Documenti/Progetti/Networks/Embednet/experiments.py:59\u001b[0m, in \u001b[0;36mautoencoder_embedding\u001b[0;34m(config, dataset_grafi_nx, dataset_labels, list_p)\u001b[0m\n\u001b[1;32m     57\u001b[0m \u001b[38;5;28mprint\u001b[39m(\u001b[38;5;124m\"\u001b[39m\u001b[38;5;124mLoading Dataset...\u001b[39m\u001b[38;5;124m\"\u001b[39m)\n\u001b[1;32m     58\u001b[0m trainer\u001b[38;5;241m.\u001b[39mload_dataset(dataset_grafi_nx, dataset_labels, percentage_train\u001b[38;5;241m=\u001b[39mconfig[\u001b[38;5;124m'\u001b[39m\u001b[38;5;124mtraining\u001b[39m\u001b[38;5;124m'\u001b[39m][\u001b[38;5;124m'\u001b[39m\u001b[38;5;124mpercentage_train\u001b[39m\u001b[38;5;124m'\u001b[39m])\n\u001b[0;32m---> 59\u001b[0m train_loss_list, test_loss_list \u001b[38;5;241m=\u001b[39m \u001b[43mtrainer\u001b[49m\u001b[38;5;241;43m.\u001b[39;49m\u001b[43mlaunch_training\u001b[49m\u001b[43m(\u001b[49m\u001b[43m)\u001b[49m\n\u001b[1;32m     61\u001b[0m whole_data \u001b[38;5;241m=\u001b[39m trainer\u001b[38;5;241m.\u001b[39mdataset\u001b[38;5;241m.\u001b[39mdataset_pyg\n\u001b[1;32m     62\u001b[0m all_data_loader \u001b[38;5;241m=\u001b[39m DataLoader(whole_data, batch_size\u001b[38;5;241m=\u001b[39mtrainer\u001b[38;5;241m.\u001b[39mdataset\u001b[38;5;241m.\u001b[39mbs, shuffle\u001b[38;5;241m=\u001b[39m\u001b[38;5;28;01mFalse\u001b[39;00m)\n",
      "File \u001b[0;32m~/Documenti/Progetti/Networks/Embednet/train.py:136\u001b[0m, in \u001b[0;36mTrainer.launch_training\u001b[0;34m(self)\u001b[0m\n\u001b[1;32m    134\u001b[0m test_acc_list \u001b[38;5;241m=\u001b[39m []\n\u001b[1;32m    135\u001b[0m \u001b[38;5;28;01mfor\u001b[39;00m epoch \u001b[38;5;129;01min\u001b[39;00m \u001b[38;5;28mrange\u001b[39m(\u001b[38;5;241m1\u001b[39m, \u001b[38;5;28mself\u001b[39m\u001b[38;5;241m.\u001b[39mepochs):\n\u001b[0;32m--> 136\u001b[0m     train_loss \u001b[38;5;241m=\u001b[39m \u001b[38;5;28;43mself\u001b[39;49m\u001b[38;5;241;43m.\u001b[39;49m\u001b[43mtrain\u001b[49m\u001b[43m(\u001b[49m\u001b[43m)\u001b[49m\n\u001b[1;32m    137\u001b[0m     test_loss \u001b[38;5;241m=\u001b[39m \u001b[38;5;28mself\u001b[39m\u001b[38;5;241m.\u001b[39mtest(\u001b[38;5;28mself\u001b[39m\u001b[38;5;241m.\u001b[39mdataset\u001b[38;5;241m.\u001b[39mtest_loader)\n\u001b[1;32m    138\u001b[0m     \u001b[38;5;66;03m#train_acc = self.accuracy(self.dataset.train_loader)\u001b[39;00m\n\u001b[1;32m    139\u001b[0m     \u001b[38;5;66;03m#test_acc = self.accuracy(self.dataset.test_loader)\u001b[39;00m\n",
      "File \u001b[0;32m~/Documenti/Progetti/Networks/Embednet/train_autoencoder.py:12\u001b[0m, in \u001b[0;36mTrainer_Autoencoder.train\u001b[0;34m(self)\u001b[0m\n\u001b[1;32m     10\u001b[0m \u001b[38;5;28;01mfor\u001b[39;00m data \u001b[38;5;129;01min\u001b[39;00m \u001b[38;5;28mself\u001b[39m\u001b[38;5;241m.\u001b[39mdataset\u001b[38;5;241m.\u001b[39mtrain_loader:\n\u001b[1;32m     11\u001b[0m     z \u001b[38;5;241m=\u001b[39m \u001b[38;5;28mself\u001b[39m\u001b[38;5;241m.\u001b[39mmodel\u001b[38;5;241m.\u001b[39mencode(data\u001b[38;5;241m.\u001b[39mx, data\u001b[38;5;241m.\u001b[39medge_index, data\u001b[38;5;241m.\u001b[39mbatch)\n\u001b[0;32m---> 12\u001b[0m     loss \u001b[38;5;241m=\u001b[39m \u001b[38;5;28;43mself\u001b[39;49m\u001b[38;5;241;43m.\u001b[39;49m\u001b[43mmodel\u001b[49m\u001b[38;5;241;43m.\u001b[39;49m\u001b[43mrecon_loss\u001b[49m\u001b[43m(\u001b[49m\u001b[43mz\u001b[49m\u001b[43m,\u001b[49m\u001b[43m \u001b[49m\u001b[43mdata\u001b[49m\u001b[38;5;241;43m.\u001b[39;49m\u001b[43mpos_edge_label_index\u001b[49m\u001b[43m)\u001b[49m\n\u001b[1;32m     13\u001b[0m     loss\u001b[38;5;241m.\u001b[39mbackward()\n\u001b[1;32m     14\u001b[0m     \u001b[38;5;28mself\u001b[39m\u001b[38;5;241m.\u001b[39moptimizer\u001b[38;5;241m.\u001b[39mstep()\n",
      "File \u001b[0;32m~/anaconda3/envs/pytorch-geom/lib/python3.8/site-packages/torch_geometric/nn/models/autoencoder.py:95\u001b[0m, in \u001b[0;36mGAE.recon_loss\u001b[0;34m(self, z, pos_edge_index, neg_edge_index)\u001b[0m\n\u001b[1;32m     91\u001b[0m pos_loss \u001b[38;5;241m=\u001b[39m \u001b[38;5;241m-\u001b[39mtorch\u001b[38;5;241m.\u001b[39mlog(\n\u001b[1;32m     92\u001b[0m     \u001b[38;5;28mself\u001b[39m\u001b[38;5;241m.\u001b[39mdecoder(z, pos_edge_index, sigmoid\u001b[38;5;241m=\u001b[39m\u001b[38;5;28;01mTrue\u001b[39;00m) \u001b[38;5;241m+\u001b[39m EPS)\u001b[38;5;241m.\u001b[39mmean()\n\u001b[1;32m     94\u001b[0m \u001b[38;5;66;03m# Do not include self-loops in negative samples\u001b[39;00m\n\u001b[0;32m---> 95\u001b[0m pos_edge_index, _ \u001b[38;5;241m=\u001b[39m \u001b[43mremove_self_loops\u001b[49m\u001b[43m(\u001b[49m\u001b[43mpos_edge_index\u001b[49m\u001b[43m)\u001b[49m\n\u001b[1;32m     96\u001b[0m pos_edge_index, _ \u001b[38;5;241m=\u001b[39m add_self_loops(pos_edge_index)\n\u001b[1;32m     97\u001b[0m \u001b[38;5;28;01mif\u001b[39;00m neg_edge_index \u001b[38;5;129;01mis\u001b[39;00m \u001b[38;5;28;01mNone\u001b[39;00m:\n",
      "File \u001b[0;32m~/anaconda3/envs/pytorch-geom/lib/python3.8/site-packages/torch_geometric/utils/loop.py:38\u001b[0m, in \u001b[0;36mremove_self_loops\u001b[0;34m(edge_index, edge_attr)\u001b[0m\n\u001b[1;32m     27\u001b[0m \u001b[38;5;124mr\u001b[39m\u001b[38;5;124;03m\"\"\"Removes every self-loop in the graph given by :attr:`edge_index`, so\u001b[39;00m\n\u001b[1;32m     28\u001b[0m \u001b[38;5;124;03mthat :math:`(i,i) \\not\\in \\mathcal{E}` for every :math:`i \\in \\mathcal{V}`.\u001b[39;00m\n\u001b[1;32m     29\u001b[0m \n\u001b[0;32m   (...)\u001b[0m\n\u001b[1;32m     35\u001b[0m \u001b[38;5;124;03m:rtype: (:class:`LongTensor`, :class:`Tensor`)\u001b[39;00m\n\u001b[1;32m     36\u001b[0m \u001b[38;5;124;03m\"\"\"\u001b[39;00m\n\u001b[1;32m     37\u001b[0m mask \u001b[38;5;241m=\u001b[39m edge_index[\u001b[38;5;241m0\u001b[39m] \u001b[38;5;241m!=\u001b[39m edge_index[\u001b[38;5;241m1\u001b[39m]\n\u001b[0;32m---> 38\u001b[0m edge_index \u001b[38;5;241m=\u001b[39m \u001b[43medge_index\u001b[49m\u001b[43m[\u001b[49m\u001b[43m:\u001b[49m\u001b[43m,\u001b[49m\u001b[43m \u001b[49m\u001b[43mmask\u001b[49m\u001b[43m]\u001b[49m\n\u001b[1;32m     39\u001b[0m \u001b[38;5;28;01mif\u001b[39;00m edge_attr \u001b[38;5;129;01mis\u001b[39;00m \u001b[38;5;28;01mNone\u001b[39;00m:\n\u001b[1;32m     40\u001b[0m     \u001b[38;5;28;01mreturn\u001b[39;00m edge_index, \u001b[38;5;28;01mNone\u001b[39;00m\n",
      "\u001b[0;31mRuntimeError\u001b[0m: CUDA error: device-side assert triggered\nCUDA kernel errors might be asynchronously reported at some other API call,so the stacktrace below might be incorrect.\nFor debugging consider passing CUDA_LAUNCH_BLOCKING=1."
     ]
    }
   ],
   "source": [
    "embeddings, trainer = autoencoder_embedding(config, dataset_grafi_nx, dataset_labels, list_p)"
   ]
  },
  {
   "cell_type": "code",
   "execution_count": 4,
   "metadata": {},
   "outputs": [
    {
     "name": "stdout",
     "output_type": "stream",
     "text": [
      "GAE(\n",
      "  (encoder): GCN(\n",
      "    (convs): ModuleList(\n",
      "      (0): GCNConv(1, 128)\n",
      "      (1): GCNConv(128, 128)\n",
      "      (2): GCNConv(128, 1)\n",
      "    )\n",
      "    (pools): ModuleList(\n",
      "      (0): TopKPooling(128, ratio=0.8, multiplier=1.0)\n",
      "      (1): TopKPooling(128, ratio=0.8, multiplier=1.0)\n",
      "      (2): TopKPooling(1, ratio=0.8, multiplier=1.0)\n",
      "    )\n",
      "    (leaky): LeakyReLU(negative_slope=0.03)\n",
      "  )\n",
      "  (decoder): InnerProductDecoder()\n",
      ")\n"
     ]
    }
   ],
   "source": [
    "model = GAEGCNEncoder(neurons_per_layer=config['model']['neurons_per_layer'], put_batchnorm=config['model']['put_batchnorm'])\n",
    "model.to(device)\n",
    "print(model)"
   ]
  },
  {
   "cell_type": "code",
   "execution_count": 5,
   "metadata": {},
   "outputs": [
    {
     "name": "stdout",
     "output_type": "stream",
     "text": [
      "MSELoss()\n",
      "Loading Dataset...\n"
     ]
    },
    {
     "name": "stderr",
     "output_type": "stream",
     "text": [
      "100%|█████████████████████████████████████████████████████████████████████████| 800/800 [01:09<00:00, 11.56it/s]\n"
     ]
    },
    {
     "name": "stdout",
     "output_type": "stream",
     "text": [
      "Tempo impiegato: 69.49716591835022\n"
     ]
    }
   ],
   "source": [
    "#variational = False\n",
    "trainer = Trainer_Autoencoder(model, config)\n",
    "print(\"Loading Dataset...\")\n",
    "trainer.load_dataset(dataset_grafi_nx, dataset_labels, percentage_train=config['training']['percentage_train'])"
   ]
  },
  {
   "cell_type": "code",
   "execution_count": null,
   "metadata": {},
   "outputs": [
    {
     "name": "stdout",
     "output_type": "stream",
     "text": [
      "runs/lr-0.002_epochs55000_bs250_neurons-1-128-128-1/06Jun_03-49-44\n"
     ]
    },
    {
     "ename": "RuntimeError",
     "evalue": "CUDA error: device-side assert triggered\nCUDA kernel errors might be asynchronously reported at some other API call,so the stacktrace below might be incorrect.\nFor debugging consider passing CUDA_LAUNCH_BLOCKING=1.",
     "output_type": "error",
     "traceback": [
      "\u001b[0;31m---------------------------------------------------------------------------\u001b[0m",
      "\u001b[0;31mRuntimeError\u001b[0m                              Traceback (most recent call last)",
      "Input \u001b[0;32mIn [6]\u001b[0m, in \u001b[0;36m<cell line: 1>\u001b[0;34m()\u001b[0m\n\u001b[0;32m----> 1\u001b[0m train_loss_list, test_loss_list \u001b[38;5;241m=\u001b[39m \u001b[43mtrainer\u001b[49m\u001b[38;5;241;43m.\u001b[39;49m\u001b[43mlaunch_training\u001b[49m\u001b[43m(\u001b[49m\u001b[43m)\u001b[49m\n",
      "File \u001b[0;32m~/Documenti/Progetti/Networks/Embednet/train.py:133\u001b[0m, in \u001b[0;36mTrainer.launch_training\u001b[0;34m(self)\u001b[0m\n\u001b[1;32m    131\u001b[0m test_acc_list \u001b[38;5;241m=\u001b[39m []\n\u001b[1;32m    132\u001b[0m \u001b[38;5;28;01mfor\u001b[39;00m epoch \u001b[38;5;129;01min\u001b[39;00m \u001b[38;5;28mrange\u001b[39m(\u001b[38;5;241m1\u001b[39m, \u001b[38;5;28mself\u001b[39m\u001b[38;5;241m.\u001b[39mepochs):\n\u001b[0;32m--> 133\u001b[0m     train_loss \u001b[38;5;241m=\u001b[39m \u001b[38;5;28;43mself\u001b[39;49m\u001b[38;5;241;43m.\u001b[39;49m\u001b[43mtrain\u001b[49m\u001b[43m(\u001b[49m\u001b[43m)\u001b[49m\n\u001b[1;32m    134\u001b[0m     test_loss \u001b[38;5;241m=\u001b[39m \u001b[38;5;28mself\u001b[39m\u001b[38;5;241m.\u001b[39mtest(\u001b[38;5;28mself\u001b[39m\u001b[38;5;241m.\u001b[39mdataset\u001b[38;5;241m.\u001b[39mtest_loader)\n\u001b[1;32m    135\u001b[0m     \u001b[38;5;66;03m#train_acc = self.accuracy(self.dataset.train_loader)\u001b[39;00m\n\u001b[1;32m    136\u001b[0m     \u001b[38;5;66;03m#test_acc = self.accuracy(self.dataset.test_loader)\u001b[39;00m\n",
      "File \u001b[0;32m~/Documenti/Progetti/Networks/Embednet/train_autoencoder.py:10\u001b[0m, in \u001b[0;36mTrainer_Autoencoder.train\u001b[0;34m(self)\u001b[0m\n\u001b[1;32m      8\u001b[0m \u001b[38;5;28mself\u001b[39m\u001b[38;5;241m.\u001b[39mmodel\u001b[38;5;241m.\u001b[39mtrain()\n\u001b[1;32m      9\u001b[0m running_loss \u001b[38;5;241m=\u001b[39m \u001b[38;5;241m0\u001b[39m\n\u001b[0;32m---> 10\u001b[0m \u001b[38;5;28;01mfor\u001b[39;00m data \u001b[38;5;129;01min\u001b[39;00m \u001b[38;5;28mself\u001b[39m\u001b[38;5;241m.\u001b[39mdataset\u001b[38;5;241m.\u001b[39mtrain_loader:\n\u001b[1;32m     11\u001b[0m     z \u001b[38;5;241m=\u001b[39m \u001b[38;5;28mself\u001b[39m\u001b[38;5;241m.\u001b[39mmodel\u001b[38;5;241m.\u001b[39mencode(data\u001b[38;5;241m.\u001b[39mx, data\u001b[38;5;241m.\u001b[39medge_index, data\u001b[38;5;241m.\u001b[39mbatch)\n\u001b[1;32m     12\u001b[0m     loss \u001b[38;5;241m=\u001b[39m \u001b[38;5;28mself\u001b[39m\u001b[38;5;241m.\u001b[39mmodel\u001b[38;5;241m.\u001b[39mrecon_loss(z, data\u001b[38;5;241m.\u001b[39mpos_edge_label_index)\n",
      "File \u001b[0;32m~/anaconda3/envs/pytorch-geom/lib/python3.8/site-packages/torch/utils/data/dataloader.py:530\u001b[0m, in \u001b[0;36m_BaseDataLoaderIter.__next__\u001b[0;34m(self)\u001b[0m\n\u001b[1;32m    528\u001b[0m \u001b[38;5;28;01mif\u001b[39;00m \u001b[38;5;28mself\u001b[39m\u001b[38;5;241m.\u001b[39m_sampler_iter \u001b[38;5;129;01mis\u001b[39;00m \u001b[38;5;28;01mNone\u001b[39;00m:\n\u001b[1;32m    529\u001b[0m     \u001b[38;5;28mself\u001b[39m\u001b[38;5;241m.\u001b[39m_reset()\n\u001b[0;32m--> 530\u001b[0m data \u001b[38;5;241m=\u001b[39m \u001b[38;5;28;43mself\u001b[39;49m\u001b[38;5;241;43m.\u001b[39;49m\u001b[43m_next_data\u001b[49m\u001b[43m(\u001b[49m\u001b[43m)\u001b[49m\n\u001b[1;32m    531\u001b[0m \u001b[38;5;28mself\u001b[39m\u001b[38;5;241m.\u001b[39m_num_yielded \u001b[38;5;241m+\u001b[39m\u001b[38;5;241m=\u001b[39m \u001b[38;5;241m1\u001b[39m\n\u001b[1;32m    532\u001b[0m \u001b[38;5;28;01mif\u001b[39;00m \u001b[38;5;28mself\u001b[39m\u001b[38;5;241m.\u001b[39m_dataset_kind \u001b[38;5;241m==\u001b[39m _DatasetKind\u001b[38;5;241m.\u001b[39mIterable \u001b[38;5;129;01mand\u001b[39;00m \\\n\u001b[1;32m    533\u001b[0m         \u001b[38;5;28mself\u001b[39m\u001b[38;5;241m.\u001b[39m_IterableDataset_len_called \u001b[38;5;129;01mis\u001b[39;00m \u001b[38;5;129;01mnot\u001b[39;00m \u001b[38;5;28;01mNone\u001b[39;00m \u001b[38;5;129;01mand\u001b[39;00m \\\n\u001b[1;32m    534\u001b[0m         \u001b[38;5;28mself\u001b[39m\u001b[38;5;241m.\u001b[39m_num_yielded \u001b[38;5;241m>\u001b[39m \u001b[38;5;28mself\u001b[39m\u001b[38;5;241m.\u001b[39m_IterableDataset_len_called:\n",
      "File \u001b[0;32m~/anaconda3/envs/pytorch-geom/lib/python3.8/site-packages/torch/utils/data/dataloader.py:570\u001b[0m, in \u001b[0;36m_SingleProcessDataLoaderIter._next_data\u001b[0;34m(self)\u001b[0m\n\u001b[1;32m    568\u001b[0m \u001b[38;5;28;01mdef\u001b[39;00m \u001b[38;5;21m_next_data\u001b[39m(\u001b[38;5;28mself\u001b[39m):\n\u001b[1;32m    569\u001b[0m     index \u001b[38;5;241m=\u001b[39m \u001b[38;5;28mself\u001b[39m\u001b[38;5;241m.\u001b[39m_next_index()  \u001b[38;5;66;03m# may raise StopIteration\u001b[39;00m\n\u001b[0;32m--> 570\u001b[0m     data \u001b[38;5;241m=\u001b[39m \u001b[38;5;28;43mself\u001b[39;49m\u001b[38;5;241;43m.\u001b[39;49m\u001b[43m_dataset_fetcher\u001b[49m\u001b[38;5;241;43m.\u001b[39;49m\u001b[43mfetch\u001b[49m\u001b[43m(\u001b[49m\u001b[43mindex\u001b[49m\u001b[43m)\u001b[49m  \u001b[38;5;66;03m# may raise StopIteration\u001b[39;00m\n\u001b[1;32m    571\u001b[0m     \u001b[38;5;28;01mif\u001b[39;00m \u001b[38;5;28mself\u001b[39m\u001b[38;5;241m.\u001b[39m_pin_memory:\n\u001b[1;32m    572\u001b[0m         data \u001b[38;5;241m=\u001b[39m _utils\u001b[38;5;241m.\u001b[39mpin_memory\u001b[38;5;241m.\u001b[39mpin_memory(data)\n",
      "File \u001b[0;32m~/anaconda3/envs/pytorch-geom/lib/python3.8/site-packages/torch/utils/data/_utils/fetch.py:52\u001b[0m, in \u001b[0;36m_MapDatasetFetcher.fetch\u001b[0;34m(self, possibly_batched_index)\u001b[0m\n\u001b[1;32m     50\u001b[0m \u001b[38;5;28;01melse\u001b[39;00m:\n\u001b[1;32m     51\u001b[0m     data \u001b[38;5;241m=\u001b[39m \u001b[38;5;28mself\u001b[39m\u001b[38;5;241m.\u001b[39mdataset[possibly_batched_index]\n\u001b[0;32m---> 52\u001b[0m \u001b[38;5;28;01mreturn\u001b[39;00m \u001b[38;5;28;43mself\u001b[39;49m\u001b[38;5;241;43m.\u001b[39;49m\u001b[43mcollate_fn\u001b[49m\u001b[43m(\u001b[49m\u001b[43mdata\u001b[49m\u001b[43m)\u001b[49m\n",
      "File \u001b[0;32m~/anaconda3/envs/pytorch-geom/lib/python3.8/site-packages/torch_geometric/loader/dataloader.py:19\u001b[0m, in \u001b[0;36mCollater.__call__\u001b[0;34m(self, batch)\u001b[0m\n\u001b[1;32m     17\u001b[0m elem \u001b[38;5;241m=\u001b[39m batch[\u001b[38;5;241m0\u001b[39m]\n\u001b[1;32m     18\u001b[0m \u001b[38;5;28;01mif\u001b[39;00m \u001b[38;5;28misinstance\u001b[39m(elem, BaseData):\n\u001b[0;32m---> 19\u001b[0m     \u001b[38;5;28;01mreturn\u001b[39;00m \u001b[43mBatch\u001b[49m\u001b[38;5;241;43m.\u001b[39;49m\u001b[43mfrom_data_list\u001b[49m\u001b[43m(\u001b[49m\u001b[43mbatch\u001b[49m\u001b[43m,\u001b[49m\u001b[43m \u001b[49m\u001b[38;5;28;43mself\u001b[39;49m\u001b[38;5;241;43m.\u001b[39;49m\u001b[43mfollow_batch\u001b[49m\u001b[43m,\u001b[49m\n\u001b[1;32m     20\u001b[0m \u001b[43m                                \u001b[49m\u001b[38;5;28;43mself\u001b[39;49m\u001b[38;5;241;43m.\u001b[39;49m\u001b[43mexclude_keys\u001b[49m\u001b[43m)\u001b[49m\n\u001b[1;32m     21\u001b[0m \u001b[38;5;28;01melif\u001b[39;00m \u001b[38;5;28misinstance\u001b[39m(elem, torch\u001b[38;5;241m.\u001b[39mTensor):\n\u001b[1;32m     22\u001b[0m     \u001b[38;5;28;01mreturn\u001b[39;00m default_collate(batch)\n",
      "File \u001b[0;32m~/anaconda3/envs/pytorch-geom/lib/python3.8/site-packages/torch_geometric/data/batch.py:68\u001b[0m, in \u001b[0;36mBatch.from_data_list\u001b[0;34m(cls, data_list, follow_batch, exclude_keys)\u001b[0m\n\u001b[1;32m     56\u001b[0m \u001b[38;5;129m@classmethod\u001b[39m\n\u001b[1;32m     57\u001b[0m \u001b[38;5;28;01mdef\u001b[39;00m \u001b[38;5;21mfrom_data_list\u001b[39m(\u001b[38;5;28mcls\u001b[39m, data_list: List[BaseData],\n\u001b[1;32m     58\u001b[0m                    follow_batch: Optional[List[\u001b[38;5;28mstr\u001b[39m]] \u001b[38;5;241m=\u001b[39m \u001b[38;5;28;01mNone\u001b[39;00m,\n\u001b[1;32m     59\u001b[0m                    exclude_keys: Optional[List[\u001b[38;5;28mstr\u001b[39m]] \u001b[38;5;241m=\u001b[39m \u001b[38;5;28;01mNone\u001b[39;00m):\n\u001b[1;32m     60\u001b[0m     \u001b[38;5;124mr\u001b[39m\u001b[38;5;124;03m\"\"\"Constructs a :class:`~torch_geometric.data.Batch` object from a\u001b[39;00m\n\u001b[1;32m     61\u001b[0m \u001b[38;5;124;03m    Python list of :class:`~torch_geometric.data.Data` or\u001b[39;00m\n\u001b[1;32m     62\u001b[0m \u001b[38;5;124;03m    :class:`~torch_geometric.data.HeteroData` objects.\u001b[39;00m\n\u001b[0;32m   (...)\u001b[0m\n\u001b[1;32m     65\u001b[0m \u001b[38;5;124;03m    :obj:`follow_batch`.\u001b[39;00m\n\u001b[1;32m     66\u001b[0m \u001b[38;5;124;03m    Will exclude any keys given in :obj:`exclude_keys`.\"\"\"\u001b[39;00m\n\u001b[0;32m---> 68\u001b[0m     batch, slice_dict, inc_dict \u001b[38;5;241m=\u001b[39m \u001b[43mcollate\u001b[49m\u001b[43m(\u001b[49m\n\u001b[1;32m     69\u001b[0m \u001b[43m        \u001b[49m\u001b[38;5;28;43mcls\u001b[39;49m\u001b[43m,\u001b[49m\n\u001b[1;32m     70\u001b[0m \u001b[43m        \u001b[49m\u001b[43mdata_list\u001b[49m\u001b[38;5;241;43m=\u001b[39;49m\u001b[43mdata_list\u001b[49m\u001b[43m,\u001b[49m\n\u001b[1;32m     71\u001b[0m \u001b[43m        \u001b[49m\u001b[43mincrement\u001b[49m\u001b[38;5;241;43m=\u001b[39;49m\u001b[38;5;28;43;01mTrue\u001b[39;49;00m\u001b[43m,\u001b[49m\n\u001b[1;32m     72\u001b[0m \u001b[43m        \u001b[49m\u001b[43madd_batch\u001b[49m\u001b[38;5;241;43m=\u001b[39;49m\u001b[38;5;129;43;01mnot\u001b[39;49;00m\u001b[43m \u001b[49m\u001b[38;5;28;43misinstance\u001b[39;49m\u001b[43m(\u001b[49m\u001b[43mdata_list\u001b[49m\u001b[43m[\u001b[49m\u001b[38;5;241;43m0\u001b[39;49m\u001b[43m]\u001b[49m\u001b[43m,\u001b[49m\u001b[43m \u001b[49m\u001b[43mBatch\u001b[49m\u001b[43m)\u001b[49m\u001b[43m,\u001b[49m\n\u001b[1;32m     73\u001b[0m \u001b[43m        \u001b[49m\u001b[43mfollow_batch\u001b[49m\u001b[38;5;241;43m=\u001b[39;49m\u001b[43mfollow_batch\u001b[49m\u001b[43m,\u001b[49m\n\u001b[1;32m     74\u001b[0m \u001b[43m        \u001b[49m\u001b[43mexclude_keys\u001b[49m\u001b[38;5;241;43m=\u001b[39;49m\u001b[43mexclude_keys\u001b[49m\u001b[43m,\u001b[49m\n\u001b[1;32m     75\u001b[0m \u001b[43m    \u001b[49m\u001b[43m)\u001b[49m\n\u001b[1;32m     77\u001b[0m     batch\u001b[38;5;241m.\u001b[39m_num_graphs \u001b[38;5;241m=\u001b[39m \u001b[38;5;28mlen\u001b[39m(data_list)\n\u001b[1;32m     78\u001b[0m     batch\u001b[38;5;241m.\u001b[39m_slice_dict \u001b[38;5;241m=\u001b[39m slice_dict\n",
      "File \u001b[0;32m~/anaconda3/envs/pytorch-geom/lib/python3.8/site-packages/torch_geometric/data/collate.py:84\u001b[0m, in \u001b[0;36mcollate\u001b[0;34m(cls, data_list, increment, add_batch, follow_batch, exclude_keys)\u001b[0m\n\u001b[1;32m     81\u001b[0m     \u001b[38;5;28;01mcontinue\u001b[39;00m\n\u001b[1;32m     83\u001b[0m \u001b[38;5;66;03m# Collate attributes into a unified representation:\u001b[39;00m\n\u001b[0;32m---> 84\u001b[0m value, slices, incs \u001b[38;5;241m=\u001b[39m \u001b[43m_collate\u001b[49m\u001b[43m(\u001b[49m\u001b[43mattr\u001b[49m\u001b[43m,\u001b[49m\u001b[43m \u001b[49m\u001b[43mvalues\u001b[49m\u001b[43m,\u001b[49m\u001b[43m \u001b[49m\u001b[43mdata_list\u001b[49m\u001b[43m,\u001b[49m\u001b[43m \u001b[49m\u001b[43mstores\u001b[49m\u001b[43m,\u001b[49m\n\u001b[1;32m     85\u001b[0m \u001b[43m                               \u001b[49m\u001b[43mincrement\u001b[49m\u001b[43m)\u001b[49m\n\u001b[1;32m     87\u001b[0m \u001b[38;5;28;01mif\u001b[39;00m \u001b[38;5;28misinstance\u001b[39m(value, Tensor) \u001b[38;5;129;01mand\u001b[39;00m value\u001b[38;5;241m.\u001b[39mis_cuda:\n\u001b[1;32m     88\u001b[0m     device \u001b[38;5;241m=\u001b[39m value\u001b[38;5;241m.\u001b[39mdevice\n",
      "File \u001b[0;32m~/anaconda3/envs/pytorch-geom/lib/python3.8/site-packages/torch_geometric/data/collate.py:150\u001b[0m, in \u001b[0;36m_collate\u001b[0;34m(key, values, data_list, stores, increment)\u001b[0m\n\u001b[1;32m    147\u001b[0m     \u001b[38;5;28;01melse\u001b[39;00m:\n\u001b[1;32m    148\u001b[0m         out \u001b[38;5;241m=\u001b[39m \u001b[38;5;28;01mNone\u001b[39;00m\n\u001b[0;32m--> 150\u001b[0m     value \u001b[38;5;241m=\u001b[39m \u001b[43mtorch\u001b[49m\u001b[38;5;241;43m.\u001b[39;49m\u001b[43mcat\u001b[49m\u001b[43m(\u001b[49m\u001b[43mvalues\u001b[49m\u001b[43m,\u001b[49m\u001b[43m \u001b[49m\u001b[43mdim\u001b[49m\u001b[38;5;241;43m=\u001b[39;49m\u001b[43mcat_dim\u001b[49m\u001b[43m \u001b[49m\u001b[38;5;129;43;01mor\u001b[39;49;00m\u001b[43m \u001b[49m\u001b[38;5;241;43m0\u001b[39;49m\u001b[43m,\u001b[49m\u001b[43m \u001b[49m\u001b[43mout\u001b[49m\u001b[38;5;241;43m=\u001b[39;49m\u001b[43mout\u001b[49m\u001b[43m)\u001b[49m\n\u001b[1;32m    151\u001b[0m     \u001b[38;5;28;01mreturn\u001b[39;00m value, slices, incs\n\u001b[1;32m    153\u001b[0m \u001b[38;5;28;01melif\u001b[39;00m \u001b[38;5;28misinstance\u001b[39m(elem, SparseTensor) \u001b[38;5;129;01mand\u001b[39;00m increment:\n\u001b[1;32m    154\u001b[0m     \u001b[38;5;66;03m# Concatenate a list of `SparseTensor` along the `cat_dim`.\u001b[39;00m\n\u001b[1;32m    155\u001b[0m     \u001b[38;5;66;03m# NOTE: `cat_dim` may return a tuple to allow for diagonal stacking.\u001b[39;00m\n",
      "\u001b[0;31mRuntimeError\u001b[0m: CUDA error: device-side assert triggered\nCUDA kernel errors might be asynchronously reported at some other API call,so the stacktrace below might be incorrect.\nFor debugging consider passing CUDA_LAUNCH_BLOCKING=1."
     ]
    }
   ],
   "source": [
    "train_loss_list, test_loss_list = trainer.launch_training()"
   ]
  },
  {
   "cell_type": "code",
   "execution_count": 7,
   "metadata": {},
   "outputs": [],
   "source": [
    "variational = False\n",
    "config = yaml.safe_load(open(\"configs.yml\"))\n",
    "dataset_grafi_nx, dataset_labels, list_p= dataset_nclass_ER(config)\n",
    "\n",
    "model = GAEGCNEncoder(neurons_per_layer=[1, 64, 64, 1])"
   ]
  },
  {
   "cell_type": "code",
   "execution_count": 8,
   "metadata": {},
   "outputs": [
    {
     "name": "stdout",
     "output_type": "stream",
     "text": [
      "GAE(\n",
      "  (encoder): GCN(\n",
      "    (convs): ModuleList(\n",
      "      (0): GCNConv(1, 64)\n",
      "      (1): GCNConv(64, 64)\n",
      "      (2): GCNConv(64, 1)\n",
      "    )\n",
      "    (leaky): LeakyReLU(negative_slope=0.03)\n",
      "  )\n",
      "  (decoder): InnerProductDecoder()\n",
      ")\n"
     ]
    }
   ],
   "source": [
    "model.to(device)\n",
    "print(model)"
   ]
  },
  {
   "cell_type": "code",
   "execution_count": 16,
   "metadata": {},
   "outputs": [],
   "source": [
    "trainer = Trainer_Autoencoder(model, config)\n",
    "print(\"Loading Dataset...\")\n",
    "trainer.load_dataset(dataset_grafi_nx, dataset_labels, percentage_train=config['training']['percentage_train'])"
   ]
  },
  {
   "cell_type": "code",
   "execution_count": 17,
   "metadata": {},
   "outputs": [
    {
     "name": "stdout",
     "output_type": "stream",
     "text": [
      "<class 'list'>\n",
      "runs/lr-0.005_epochs500_bs150_neurons[1, 64, 64, 32, 1]/28May_15-20-04\n",
      "Epoch: 5\tTest loss: 1.3860230445861816\n",
      "Epoch: 10\tTest loss: 1.3859854936599731\n",
      "Epoch: 15\tTest loss: 1.3858987092971802\n",
      "Epoch: 20\tTest loss: 1.385673999786377\n",
      "Epoch: 25\tTest loss: 1.3848068714141846\n",
      "Epoch: 30\tTest loss: 1.3816373348236084\n",
      "Epoch: 35\tTest loss: 1.369885802268982\n",
      "Epoch: 40\tTest loss: 1.3527567386627197\n",
      "Epoch: 45\tTest loss: 1.3490920066833496\n",
      "Epoch: 50\tTest loss: 1.337248682975769\n",
      "Epoch: 55\tTest loss: 1.3296481370925903\n",
      "Epoch: 60\tTest loss: 1.3220866918563843\n",
      "Epoch: 65\tTest loss: 1.3144445419311523\n",
      "Epoch: 70\tTest loss: 1.3221397399902344\n",
      "Epoch: 75\tTest loss: 1.3064844608306885\n",
      "Epoch: 80\tTest loss: 1.3069400787353516\n",
      "Epoch: 85\tTest loss: 1.3175251483917236\n",
      "Epoch: 90\tTest loss: 1.3330533504486084\n",
      "Epoch: 95\tTest loss: 1.3060673475265503\n",
      "Epoch: 100\tTest loss: 1.3089160919189453\n",
      "Epoch: 105\tTest loss: 1.3155115842819214\n",
      "Epoch: 110\tTest loss: 1.3125605583190918\n",
      "Epoch: 115\tTest loss: 1.3428473472595215\n",
      "Epoch: 120\tTest loss: 1.3051753044128418\n",
      "Epoch: 125\tTest loss: 1.3088722229003906\n",
      "Epoch: 130\tTest loss: 1.3851754665374756\n",
      "Epoch: 135\tTest loss: 1.3040385246276855\n",
      "Epoch: 140\tTest loss: 1.325646162033081\n",
      "Epoch: 145\tTest loss: 1.3197611570358276\n",
      "Epoch: 150\tTest loss: 1.3062516450881958\n",
      "Epoch: 155\tTest loss: 1.3285561800003052\n",
      "Epoch: 160\tTest loss: 1.31343674659729\n",
      "Epoch: 165\tTest loss: 1.3104989528656006\n",
      "Epoch: 170\tTest loss: 1.3184322118759155\n",
      "Epoch: 175\tTest loss: 1.3460631370544434\n",
      "Epoch: 180\tTest loss: 1.330601692199707\n",
      "Epoch: 185\tTest loss: 1.3051979541778564\n",
      "Epoch: 190\tTest loss: 1.3067975044250488\n",
      "Epoch: 195\tTest loss: 1.3025778532028198\n",
      "Epoch: 200\tTest loss: 1.3151313066482544\n",
      "Epoch: 205\tTest loss: 1.3843542337417603\n",
      "Epoch: 210\tTest loss: 1.3109697103500366\n",
      "Epoch: 215\tTest loss: 1.3167743682861328\n",
      "Epoch: 220\tTest loss: 1.3058652877807617\n",
      "Epoch: 225\tTest loss: 1.3134658336639404\n",
      "Epoch: 230\tTest loss: 1.314978003501892\n",
      "Epoch: 235\tTest loss: 1.3027130365371704\n",
      "Epoch: 240\tTest loss: 1.3052936792373657\n",
      "Epoch: 245\tTest loss: 1.3025904893875122\n",
      "Epoch: 250\tTest loss: 1.3003934621810913\n",
      "Epoch: 255\tTest loss: 1.3063327074050903\n",
      "Epoch: 260\tTest loss: 1.3000421524047852\n",
      "Epoch: 265\tTest loss: 1.357295274734497\n",
      "Epoch: 270\tTest loss: 1.3134715557098389\n",
      "Epoch: 275\tTest loss: 1.3107670545578003\n",
      "Epoch: 280\tTest loss: 1.3001452684402466\n",
      "Epoch: 285\tTest loss: 1.3133189678192139\n",
      "Epoch: 290\tTest loss: 1.3332750797271729\n",
      "Epoch: 295\tTest loss: 1.30220627784729\n",
      "Epoch: 300\tTest loss: 1.3022276163101196\n",
      "Epoch: 305\tTest loss: 1.3020278215408325\n",
      "Epoch: 310\tTest loss: 1.3318744897842407\n",
      "Epoch: 315\tTest loss: 1.3449169397354126\n",
      "Epoch: 320\tTest loss: 1.3225643634796143\n",
      "Epoch: 325\tTest loss: 1.300604224205017\n",
      "Epoch: 330\tTest loss: 1.310083270072937\n",
      "Epoch: 335\tTest loss: 1.3278791904449463\n",
      "Epoch: 340\tTest loss: 1.3012592792510986\n",
      "Epoch: 345\tTest loss: 1.3373587131500244\n",
      "Epoch: 350\tTest loss: 1.3085424900054932\n",
      "Epoch: 355\tTest loss: 1.3175960779190063\n",
      "Epoch: 360\tTest loss: 1.3024778366088867\n",
      "Epoch: 365\tTest loss: 1.307942509651184\n",
      "Epoch: 370\tTest loss: 1.3489106893539429\n",
      "Epoch: 375\tTest loss: 1.3027641773223877\n",
      "Epoch: 380\tTest loss: 1.2937418222427368\n",
      "Epoch: 385\tTest loss: 1.2976125478744507\n",
      "Epoch: 390\tTest loss: 1.3601124286651611\n",
      "Epoch: 395\tTest loss: 1.3027281761169434\n",
      "Epoch: 400\tTest loss: 1.339606761932373\n",
      "Epoch: 405\tTest loss: 1.2947068214416504\n",
      "Epoch: 410\tTest loss: 1.2940986156463623\n",
      "Epoch: 415\tTest loss: 1.2960686683654785\n",
      "Epoch: 420\tTest loss: 1.2898467779159546\n",
      "Epoch: 425\tTest loss: 1.2927495241165161\n",
      "Epoch: 430\tTest loss: 1.2913380861282349\n",
      "Epoch: 435\tTest loss: 1.2935224771499634\n",
      "Epoch: 440\tTest loss: 1.2886848449707031\n",
      "Epoch: 445\tTest loss: 1.2968248128890991\n",
      "Epoch: 450\tTest loss: 1.286108374595642\n",
      "Epoch: 455\tTest loss: 1.289139747619629\n",
      "Epoch: 460\tTest loss: 1.30013108253479\n",
      "Epoch: 465\tTest loss: 1.2835991382598877\n",
      "Epoch: 470\tTest loss: 1.2839808464050293\n",
      "Epoch: 475\tTest loss: 1.286807656288147\n",
      "Epoch: 480\tTest loss: 1.283241868019104\n",
      "Epoch: 485\tTest loss: 1.2952786684036255\n",
      "Epoch: 490\tTest loss: 1.2861212491989136\n",
      "Epoch: 495\tTest loss: 1.2939790487289429\n"
     ]
    }
   ],
   "source": [
    "train_loss_list, test_loss_list = trainer.launch_training()"
   ]
  },
  {
   "cell_type": "markdown",
   "metadata": {},
   "source": [
    "### Esempio pytorch"
   ]
  },
  {
   "cell_type": "code",
   "execution_count": 8,
   "metadata": {},
   "outputs": [
    {
     "name": "stdout",
     "output_type": "stream",
     "text": [
      "Epoch: 001, AUC: 0.6710, AP: 0.7055\n",
      "Epoch: 002, AUC: 0.6686, AP: 0.7034\n",
      "Epoch: 003, AUC: 0.6672, AP: 0.7026\n",
      "Epoch: 004, AUC: 0.6669, AP: 0.7025\n",
      "Epoch: 005, AUC: 0.6667, AP: 0.7032\n",
      "Epoch: 006, AUC: 0.6667, AP: 0.7036\n",
      "Epoch: 007, AUC: 0.6668, AP: 0.7044\n",
      "Epoch: 008, AUC: 0.6667, AP: 0.7052\n",
      "Epoch: 009, AUC: 0.6666, AP: 0.7060\n",
      "Epoch: 010, AUC: 0.6658, AP: 0.7061\n",
      "Epoch: 011, AUC: 0.6656, AP: 0.7065\n",
      "Epoch: 012, AUC: 0.6651, AP: 0.7070\n",
      "Epoch: 013, AUC: 0.6644, AP: 0.7079\n",
      "Epoch: 014, AUC: 0.6626, AP: 0.7081\n",
      "Epoch: 015, AUC: 0.6603, AP: 0.7071\n",
      "Epoch: 016, AUC: 0.6586, AP: 0.7059\n",
      "Epoch: 017, AUC: 0.6586, AP: 0.7055\n",
      "Epoch: 018, AUC: 0.6600, AP: 0.7055\n",
      "Epoch: 019, AUC: 0.6648, AP: 0.7062\n",
      "Epoch: 020, AUC: 0.6806, AP: 0.7092\n",
      "Epoch: 021, AUC: 0.6791, AP: 0.7088\n",
      "Epoch: 022, AUC: 0.7001, AP: 0.7108\n",
      "Epoch: 023, AUC: 0.7032, AP: 0.7131\n",
      "Epoch: 024, AUC: 0.7001, AP: 0.7114\n",
      "Epoch: 025, AUC: 0.7036, AP: 0.7093\n",
      "Epoch: 026, AUC: 0.7044, AP: 0.7084\n",
      "Epoch: 027, AUC: 0.7014, AP: 0.7080\n",
      "Epoch: 028, AUC: 0.7072, AP: 0.7054\n",
      "Epoch: 029, AUC: 0.7065, AP: 0.7049\n",
      "Epoch: 030, AUC: 0.7037, AP: 0.7047\n",
      "Epoch: 031, AUC: 0.7046, AP: 0.6990\n",
      "Epoch: 032, AUC: 0.7037, AP: 0.6997\n",
      "Epoch: 033, AUC: 0.7012, AP: 0.7013\n",
      "Epoch: 034, AUC: 0.6955, AP: 0.6923\n",
      "Epoch: 035, AUC: 0.6978, AP: 0.6963\n",
      "Epoch: 036, AUC: 0.6952, AP: 0.6976\n",
      "Epoch: 037, AUC: 0.6910, AP: 0.6914\n",
      "Epoch: 038, AUC: 0.6899, AP: 0.6909\n",
      "Epoch: 039, AUC: 0.6900, AP: 0.6952\n",
      "Epoch: 040, AUC: 0.6877, AP: 0.6926\n",
      "Epoch: 041, AUC: 0.6893, AP: 0.6925\n",
      "Epoch: 042, AUC: 0.6880, AP: 0.6940\n",
      "Epoch: 043, AUC: 0.6888, AP: 0.6961\n",
      "Epoch: 044, AUC: 0.6892, AP: 0.6962\n",
      "Epoch: 045, AUC: 0.6856, AP: 0.6920\n",
      "Epoch: 046, AUC: 0.6902, AP: 0.6977\n",
      "Epoch: 047, AUC: 0.6880, AP: 0.6971\n",
      "Epoch: 048, AUC: 0.6857, AP: 0.6934\n",
      "Epoch: 049, AUC: 0.6851, AP: 0.6928\n",
      "Epoch: 050, AUC: 0.6869, AP: 0.6971\n",
      "Epoch: 051, AUC: 0.6879, AP: 0.6972\n",
      "Epoch: 052, AUC: 0.6827, AP: 0.6907\n",
      "Epoch: 053, AUC: 0.6851, AP: 0.6937\n",
      "Epoch: 054, AUC: 0.6852, AP: 0.6960\n",
      "Epoch: 055, AUC: 0.6843, AP: 0.6939\n",
      "Epoch: 056, AUC: 0.6825, AP: 0.6931\n",
      "Epoch: 057, AUC: 0.6813, AP: 0.6931\n",
      "Epoch: 058, AUC: 0.6830, AP: 0.6939\n",
      "Epoch: 059, AUC: 0.6827, AP: 0.6941\n",
      "Epoch: 060, AUC: 0.6813, AP: 0.6939\n",
      "Epoch: 061, AUC: 0.6807, AP: 0.6937\n",
      "Epoch: 062, AUC: 0.6862, AP: 0.6959\n",
      "Epoch: 063, AUC: 0.6840, AP: 0.6949\n",
      "Epoch: 064, AUC: 0.6832, AP: 0.6956\n",
      "Epoch: 065, AUC: 0.6837, AP: 0.6957\n",
      "Epoch: 066, AUC: 0.6890, AP: 0.6970\n",
      "Epoch: 067, AUC: 0.6880, AP: 0.6975\n",
      "Epoch: 068, AUC: 0.6864, AP: 0.6977\n",
      "Epoch: 069, AUC: 0.6900, AP: 0.6954\n",
      "Epoch: 070, AUC: 0.6940, AP: 0.6992\n",
      "Epoch: 071, AUC: 0.6905, AP: 0.6997\n",
      "Epoch: 072, AUC: 0.6953, AP: 0.7007\n",
      "Epoch: 073, AUC: 0.6922, AP: 0.6959\n",
      "Epoch: 074, AUC: 0.6936, AP: 0.7011\n",
      "Epoch: 075, AUC: 0.6932, AP: 0.7007\n",
      "Epoch: 076, AUC: 0.6940, AP: 0.6977\n",
      "Epoch: 077, AUC: 0.6934, AP: 0.6977\n",
      "Epoch: 078, AUC: 0.6932, AP: 0.7003\n",
      "Epoch: 079, AUC: 0.6953, AP: 0.7011\n",
      "Epoch: 080, AUC: 0.6892, AP: 0.6947\n",
      "Epoch: 081, AUC: 0.6958, AP: 0.7006\n",
      "Epoch: 082, AUC: 0.6948, AP: 0.7017\n",
      "Epoch: 083, AUC: 0.6961, AP: 0.7015\n",
      "Epoch: 084, AUC: 0.6926, AP: 0.6988\n",
      "Epoch: 085, AUC: 0.6969, AP: 0.7036\n",
      "Epoch: 086, AUC: 0.6976, AP: 0.7054\n",
      "Epoch: 087, AUC: 0.6968, AP: 0.7043\n",
      "Epoch: 088, AUC: 0.6965, AP: 0.7044\n",
      "Epoch: 089, AUC: 0.6999, AP: 0.7093\n",
      "Epoch: 090, AUC: 0.7011, AP: 0.7108\n",
      "Epoch: 091, AUC: 0.6955, AP: 0.7053\n",
      "Epoch: 092, AUC: 0.7004, AP: 0.7113\n",
      "Epoch: 093, AUC: 0.7072, AP: 0.7168\n",
      "Epoch: 094, AUC: 0.7009, AP: 0.7124\n",
      "Epoch: 095, AUC: 0.6987, AP: 0.7092\n",
      "Epoch: 096, AUC: 0.7093, AP: 0.7195\n",
      "Epoch: 097, AUC: 0.7107, AP: 0.7210\n",
      "Epoch: 098, AUC: 0.7034, AP: 0.7153\n",
      "Epoch: 099, AUC: 0.7050, AP: 0.7156\n"
     ]
    }
   ],
   "source": [
    "model = model.to(device)\n",
    "optimizer = torch.optim.Adam(model.parameters(), lr=0.01)\n",
    "\n",
    "\n",
    "def train():\n",
    "    model.train()\n",
    "    optimizer.zero_grad()\n",
    "    z = model.encode(train_data.x, train_data.edge_index)\n",
    "    loss = model.recon_loss(z, train_data.pos_edge_label_index)\n",
    "    if variational:\n",
    "        loss = loss + (1 / train_data.num_nodes) * model.kl_loss()\n",
    "    loss.backward()\n",
    "    optimizer.step()\n",
    "    return float(loss)\n",
    "\n",
    "\n",
    "@torch.no_grad()\n",
    "def test(data):\n",
    "    model.eval()\n",
    "    z = model.encode(data.x, data.edge_index)\n",
    "    return model.test(z, data.pos_edge_label_index, data.neg_edge_label_index)\n",
    "\n",
    "\n",
    "for epoch in range(1, 100):\n",
    "    loss = train()\n",
    "    auc, ap = test(test_data)\n",
    "    print(f'Epoch: {epoch:03d}, AUC: {auc:.4f}, AP: {ap:.4f}')"
   ]
  },
  {
   "cell_type": "code",
   "execution_count": null,
   "metadata": {},
   "outputs": [],
   "source": []
  }
 ],
 "metadata": {
  "kernelspec": {
   "display_name": "Python [conda env:pytorch-geom]",
   "language": "python",
   "name": "conda-env-pytorch-geom-py"
  },
  "language_info": {
   "codemirror_mode": {
    "name": "ipython",
    "version": 3
   },
   "file_extension": ".py",
   "mimetype": "text/x-python",
   "name": "python",
   "nbconvert_exporter": "python",
   "pygments_lexer": "ipython3",
   "version": "3.8.13"
  }
 },
 "nbformat": 4,
 "nbformat_minor": 4
}
