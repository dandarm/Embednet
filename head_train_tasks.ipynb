{
 "cells": [
  {
   "cell_type": "markdown",
   "metadata": {},
   "source": [
    "# Check training"
   ]
  },
  {
   "cell_type": "markdown",
   "metadata": {},
   "source": [
    "### controlla i training già finiti e aggiunge alla lista nuovi task che arrivano da una chiamata a diz_trials"
   ]
  },
  {
   "cell_type": "code",
   "execution_count": 26,
   "metadata": {},
   "outputs": [],
   "source": [
    "from pathlib import Path\n",
    "import os\n",
    "import csv\n",
    "import pandas as pd\n",
    "from pandas import json_normalize\n",
    "import yaml\n",
    "import pickle\n",
    "\n",
    "from Metrics import Metrics\n",
    "\n",
    "folder = Path(\"/home/daniele/Documenti/Progetti/Networks/Embednet/output_plots/autoencoder/8\")\n",
    "root_task = Path(\"/home/daniele/Documenti/Progetti/Networks/Embednet/head_train_tasks\")\n",
    "all_runs_csv = root_task / \"head_run_tasks.csv\""
   ]
  },
  {
   "cell_type": "markdown",
   "metadata": {
    "tags": []
   },
   "source": [
    "### Bootstrap the dataframe"
   ]
  },
  {
   "cell_type": "code",
   "execution_count": 5,
   "metadata": {},
   "outputs": [],
   "source": [
    "def give_configs(folder):\n",
    "    file_list = []\n",
    "    for root, dirs, files in os.walk(folder):\n",
    "        for f in files:\n",
    "            if f.endswith(\".yml\"):\n",
    "                #file_list.append(os.path.join(root, f))               \n",
    "                file_list.append(root)\n",
    "    return file_list\n",
    "\n",
    "file_list = give_configs(folder)"
   ]
  },
  {
   "cell_type": "code",
   "execution_count": 22,
   "metadata": {},
   "outputs": [],
   "source": [
    "head_df = pd.DataFrame(data=file_list, columns=[\"folders\"])"
   ]
  },
  {
   "cell_type": "code",
   "execution_count": 24,
   "metadata": {},
   "outputs": [
    {
     "data": {
      "text/plain": [
       "0      /home/daniele/Documenti/Progetti/Networks/Embe...\n",
       "1      /home/daniele/Documenti/Progetti/Networks/Embe...\n",
       "2      /home/daniele/Documenti/Progetti/Networks/Embe...\n",
       "3      /home/daniele/Documenti/Progetti/Networks/Embe...\n",
       "4      /home/daniele/Documenti/Progetti/Networks/Embe...\n",
       "                             ...                        \n",
       "306    /home/daniele/Documenti/Progetti/Networks/Embe...\n",
       "307    /home/daniele/Documenti/Progetti/Networks/Embe...\n",
       "308    /home/daniele/Documenti/Progetti/Networks/Embe...\n",
       "309    /home/daniele/Documenti/Progetti/Networks/Embe...\n",
       "310    /home/daniele/Documenti/Progetti/Networks/Embe...\n",
       "Name: folders, Length: 311, dtype: object"
      ]
     },
     "execution_count": 24,
     "metadata": {},
     "output_type": "execute_result"
    }
   ],
   "source": [
    "head_df['folders']"
   ]
  },
  {
   "cell_type": "code",
   "execution_count": 170,
   "metadata": {},
   "outputs": [],
   "source": [
    "head_df.to_csv(all_runs_csv, index=False)"
   ]
  },
  {
   "cell_type": "code",
   "execution_count": 37,
   "metadata": {},
   "outputs": [
    {
     "data": {
      "text/html": [
       "<div>\n",
       "<style scoped>\n",
       "    .dataframe tbody tr th:only-of-type {\n",
       "        vertical-align: middle;\n",
       "    }\n",
       "\n",
       "    .dataframe tbody tr th {\n",
       "        vertical-align: top;\n",
       "    }\n",
       "\n",
       "    .dataframe thead th {\n",
       "        text-align: right;\n",
       "    }\n",
       "</style>\n",
       "<table border=\"1\" class=\"dataframe\">\n",
       "  <thead>\n",
       "    <tr style=\"text-align: right;\">\n",
       "      <th></th>\n",
       "      <th>folders</th>\n",
       "    </tr>\n",
       "  </thead>\n",
       "  <tbody>\n",
       "    <tr>\n",
       "      <th>0</th>\n",
       "      <td>/home/daniele/Documenti/Progetti/Networks/Embe...</td>\n",
       "    </tr>\n",
       "    <tr>\n",
       "      <th>1</th>\n",
       "      <td>/home/daniele/Documenti/Progetti/Networks/Embe...</td>\n",
       "    </tr>\n",
       "    <tr>\n",
       "      <th>2</th>\n",
       "      <td>/home/daniele/Documenti/Progetti/Networks/Embe...</td>\n",
       "    </tr>\n",
       "    <tr>\n",
       "      <th>3</th>\n",
       "      <td>/home/daniele/Documenti/Progetti/Networks/Embe...</td>\n",
       "    </tr>\n",
       "    <tr>\n",
       "      <th>4</th>\n",
       "      <td>/home/daniele/Documenti/Progetti/Networks/Embe...</td>\n",
       "    </tr>\n",
       "    <tr>\n",
       "      <th>...</th>\n",
       "      <td>...</td>\n",
       "    </tr>\n",
       "    <tr>\n",
       "      <th>306</th>\n",
       "      <td>/home/daniele/Documenti/Progetti/Networks/Embe...</td>\n",
       "    </tr>\n",
       "    <tr>\n",
       "      <th>307</th>\n",
       "      <td>/home/daniele/Documenti/Progetti/Networks/Embe...</td>\n",
       "    </tr>\n",
       "    <tr>\n",
       "      <th>308</th>\n",
       "      <td>/home/daniele/Documenti/Progetti/Networks/Embe...</td>\n",
       "    </tr>\n",
       "    <tr>\n",
       "      <th>309</th>\n",
       "      <td>/home/daniele/Documenti/Progetti/Networks/Embe...</td>\n",
       "    </tr>\n",
       "    <tr>\n",
       "      <th>310</th>\n",
       "      <td>/home/daniele/Documenti/Progetti/Networks/Embe...</td>\n",
       "    </tr>\n",
       "  </tbody>\n",
       "</table>\n",
       "<p>311 rows × 1 columns</p>\n",
       "</div>"
      ],
      "text/plain": [
       "                                               folders\n",
       "0    /home/daniele/Documenti/Progetti/Networks/Embe...\n",
       "1    /home/daniele/Documenti/Progetti/Networks/Embe...\n",
       "2    /home/daniele/Documenti/Progetti/Networks/Embe...\n",
       "3    /home/daniele/Documenti/Progetti/Networks/Embe...\n",
       "4    /home/daniele/Documenti/Progetti/Networks/Embe...\n",
       "..                                                 ...\n",
       "306  /home/daniele/Documenti/Progetti/Networks/Embe...\n",
       "307  /home/daniele/Documenti/Progetti/Networks/Embe...\n",
       "308  /home/daniele/Documenti/Progetti/Networks/Embe...\n",
       "309  /home/daniele/Documenti/Progetti/Networks/Embe...\n",
       "310  /home/daniele/Documenti/Progetti/Networks/Embe...\n",
       "\n",
       "[311 rows x 1 columns]"
      ]
     },
     "execution_count": 37,
     "metadata": {},
     "output_type": "execute_result"
    }
   ],
   "source": [
    "# load the df\n",
    "head_df = pd.read_csv(all_runs_csv)\n",
    "head_df"
   ]
  },
  {
   "cell_type": "code",
   "execution_count": 115,
   "metadata": {},
   "outputs": [
    {
     "data": {
      "text/plain": [
       "'/home/daniele/Documenti/Progetti/Networks/Embednet/output_plots/autoencoder/8/ER__Classi-1_nodi100_grafiX100__#__AE_CM__§32-32-32§__ELU+RELU__grphnorm__-xavier_normal_#__lr0001_ADAM_BCELoss'"
      ]
     },
     "execution_count": 115,
     "metadata": {},
     "output_type": "execute_result"
    }
   ],
   "source": [
    "str(Path(head_df.iloc[0].values[0]).parent)"
   ]
  },
  {
   "cell_type": "code",
   "execution_count": 4,
   "metadata": {},
   "outputs": [],
   "source": [
    "def add_row(df_file, row_content):\n",
    "    with open(df_file, 'a') as f:\n",
    "        writer = csv.writer(f)\n",
    "        writer.writerow([row_content])\n",
    "        \n",
    "def add_many_rows(df_file, rows):\n",
    "    with open(df_file, 'a') as f:\n",
    "        writer = csv.writer(f)\n",
    "        for r in rows:\n",
    "            writer.writerow([r])\n",
    "    "
   ]
  },
  {
   "cell_type": "markdown",
   "metadata": {},
   "source": [
    "#### Aggiungere tutte le nuove cartelle insieme, nel caso in cui il watchdog non era attivo mentre venivano create nuove cartelle"
   ]
  },
  {
   "cell_type": "code",
   "execution_count": 29,
   "metadata": {},
   "outputs": [
    {
     "name": "stdout",
     "output_type": "stream",
     "text": [
      "In tutto ci sono 311 files\n"
     ]
    }
   ],
   "source": [
    "file_list = give_configs(folder)\n",
    "print(f\"In tutto ci sono {len(file_list )} files\")\n",
    "total_files = pd.DataFrame(file_list, columns=[\"folders\"])\n",
    "to_add = total_files[~total_files['folders'].isin(head_df['folders'])]"
   ]
  },
  {
   "cell_type": "code",
   "execution_count": 33,
   "metadata": {},
   "outputs": [],
   "source": [
    "add_many_rows(all_runs_csv, to_add.folders)"
   ]
  },
  {
   "cell_type": "markdown",
   "metadata": {},
   "source": [
    "### Watchdog"
   ]
  },
  {
   "cell_type": "code",
   "execution_count": 31,
   "metadata": {},
   "outputs": [],
   "source": [
    "import sys\n",
    "import time\n",
    "import logging\n",
    "from watchdog.observers import Observer\n",
    "from watchdog.events import LoggingEventHandler\n",
    "from watchdog.events import FileSystemEventHandler"
   ]
  },
  {
   "cell_type": "code",
   "execution_count": 62,
   "metadata": {
    "tags": []
   },
   "outputs": [],
   "source": [
    "def watch_new_configs(filder):\n",
    "    logging.basicConfig(level=logging.INFO,\n",
    "                        format='%(asctime)s - %(message)s',\n",
    "                        datefmt='%Y-%m-%d %H:%M:%S')\n",
    "    event_handler = LoggingEventHandler()\n",
    "    observer = Observer()\n",
    "    observer.schedule(event_handler, folder, recursive=True)\n",
    "    observer.start()\n",
    "    try:\n",
    "        while True:\n",
    "            time.sleep(1)\n",
    "    except KeyboardInterrupt:\n",
    "        observer.stop()\n",
    "    observer.join()"
   ]
  },
  {
   "cell_type": "code",
   "execution_count": 139,
   "metadata": {},
   "outputs": [],
   "source": [
    "    \n",
    "class MyHandler(FileSystemEventHandler):\n",
    "    #def on_any_event(self, event):\n",
    "    #    print(event.event_type, event.src_path)\n",
    "\n",
    "    def on_created(self, event):\n",
    "        #print(\"on_created\", event.src_path)\n",
    "        #print(event.src_path.strip())\n",
    "        if \"§training_ended§\" in event.src_path.strip():        \n",
    "            #print(\"Execute your logic here!\")            \n",
    "            path = Path(event.src_path.strip()).parent\n",
    "            add_row(all_runs_csv, path)\n",
    "            print(f\"salvato il path: {path}?\")"
   ]
  },
  {
   "cell_type": "code",
   "execution_count": 140,
   "metadata": {},
   "outputs": [
    {
     "name": "stdout",
     "output_type": "stream",
     "text": [
      "salvato il path: /home/daniele/Documenti/Progetti/Networks/Embednet/output_plots/autoencoder/8/CM__[-22]_Classi-1_nodi150_grafiX50___#__AE_CM______§1-8-4-2§_______ELU+RELU__grphnorm__-xavier_normal_#__lr00005_ADAMW_BCELoss?\n"
     ]
    }
   ],
   "source": [
    "event_handler = MyHandler()\n",
    "observer = Observer()\n",
    "observer.schedule(event_handler, path=folder, recursive=True)\n",
    "observer.start()"
   ]
  },
  {
   "cell_type": "code",
   "execution_count": 169,
   "metadata": {},
   "outputs": [],
   "source": [
    "observer.stop()"
   ]
  },
  {
   "cell_type": "markdown",
   "metadata": {},
   "source": [
    "### ora la parte che carica tutte le cartelle con i config e le metriche e le aggiunge a un df dei run totali"
   ]
  },
  {
   "cell_type": "code",
   "execution_count": null,
   "metadata": {},
   "outputs": [],
   "source": [
    "pd.DataFrame(columns=[\"\"])"
   ]
  },
  {
   "cell_type": "code",
   "execution_count": null,
   "metadata": {},
   "outputs": [],
   "source": []
  },
  {
   "cell_type": "code",
   "execution_count": 38,
   "metadata": {},
   "outputs": [],
   "source": [
    "#root_task / \"head_run_tasks.csv\"\n",
    "list_metriche_loss_dims = [\"metrics_train\",\n",
    "\"metrics_test\",\n",
    "\"totale_node_dim\",\n",
    "\"totale_graph_dim\",\n",
    " \"train_loss\",\n",
    "\"test_loss\"]\n",
    "metric_names = [\"pr_auc\", \"euclid\"]\n",
    "\n",
    "list_dfs = []\n",
    "for row in head_df.iterrows():\n",
    "    #leggo un config per volta: ho un df da una riga, che poi concateno in un unico df\n",
    "    root = Path(row[1].values[0] )\n",
    "    conf = yaml.safe_load(open(root / \"config.yml\"))\n",
    "    df = json_normalize(conf)\n",
    "    df = df.astype('object')\n",
    "    \n",
    "    # aggiungo i risultati\n",
    "    for m in list_metriche_loss_dims:\n",
    "        col = f\"risultati.{m}\"\n",
    "        file = root / (m +\".pkl\")\n",
    "        if file.is_file():\n",
    "            with open(file, 'rb') as f:\n",
    "                list_values = pickle.load(f) \n",
    "                #print(list_values)\n",
    "                if isinstance(list_values[0], Metrics):\n",
    "                    for name in metric_names:\n",
    "                        metrica_values = [m.get_metric(name) for m in list_values]\n",
    "                        col = f\"risultati.{m}_{name}\" \n",
    "                        df.at[0, col] ='s' # forza un cast a object\n",
    "                        df.at[0, col] = tuple(metrica_values)\n",
    "                        #display(df[[col]])\n",
    "                else:\n",
    "                    df.at[0, col] ='s' # forza un cast a object\n",
    "                    df.at[0, col] = tuple(list_values) # è meglio che i tipi delle colonne non sano mai liste\n",
    "            \n",
    "    \n",
    "    df.columns = df.columns.str.split('.', expand=True)\n",
    "    list_dfs.append(df)\n",
    "    \n",
    "final_df = pd.concat(list_dfs, axis=0)       \n",
    "df = json_normalize(conf)\n",
    "df.columns = df.columns.str.split('.', expand=True)"
   ]
  },
  {
   "cell_type": "code",
   "execution_count": 46,
   "metadata": {},
   "outputs": [
    {
     "data": {
      "text/html": [
       "<div>\n",
       "<style scoped>\n",
       "    .dataframe tbody tr th:only-of-type {\n",
       "        vertical-align: middle;\n",
       "    }\n",
       "\n",
       "    .dataframe tbody tr th {\n",
       "        vertical-align: top;\n",
       "    }\n",
       "\n",
       "    .dataframe thead th {\n",
       "        text-align: right;\n",
       "    }\n",
       "</style>\n",
       "<table border=\"1\" class=\"dataframe\">\n",
       "  <thead>\n",
       "    <tr style=\"text-align: right;\">\n",
       "      <th></th>\n",
       "      <th>metrics_train_pr_auc</th>\n",
       "      <th>metrics_train_euclid</th>\n",
       "      <th>metrics_test_pr_auc</th>\n",
       "      <th>metrics_test_euclid</th>\n",
       "      <th>totale_node_dim</th>\n",
       "      <th>totale_graph_dim</th>\n",
       "      <th>train_loss</th>\n",
       "      <th>test_loss</th>\n",
       "    </tr>\n",
       "  </thead>\n",
       "  <tbody>\n",
       "    <tr>\n",
       "      <th>0</th>\n",
       "      <td>(0.31744120410869936, 0.31732390353304474, 0.3...</td>\n",
       "      <td>(31.81299336751302, 31.77593739827474, 30.8459...</td>\n",
       "      <td>(0.32334382518116844, 0.3232187653885701, 0.31...</td>\n",
       "      <td>(20.88524119059245, 20.86052958170573, 20.2347...</td>\n",
       "      <td>(0.9773135781288147, 0.9912735819816589, -1.0,...</td>\n",
       "      <td>(0.9308590888977051, 0.7651475071907043, -1.0,...</td>\n",
       "      <td>(0.18482165038585663, 0.1842300146818161, 0.18...</td>\n",
       "      <td>(0.18482165038585663, 0.18482165038585663, 0.1...</td>\n",
       "    </tr>\n",
       "    <tr>\n",
       "      <th>0</th>\n",
       "      <td>(0.9211887036108544, 0.9211856109635345, 0.921...</td>\n",
       "      <td>(45.26628621419271, 45.24686177571615, 45.2272...</td>\n",
       "      <td>(0.9221218022601099, 0.9221200312312445, 0.922...</td>\n",
       "      <td>(29.678187052408855, 29.665451049804688, 29.65...</td>\n",
       "      <td>(1.0148916244506836, 1.0396605730056763, 0.998...</td>\n",
       "      <td>(1.0116562843322754, 1.0360798835754395, 1.064...</td>\n",
       "      <td>(3.392279624938965, 3.382178544998169, 3.36517...</td>\n",
       "      <td>(3.392279624938965, 3.392279624938965, 3.37522...</td>\n",
       "    </tr>\n",
       "    <tr>\n",
       "      <th>0</th>\n",
       "      <td>(0.9194918674617065, 0.9194918529374094, 0.919...</td>\n",
       "      <td>(113.37684122721355, 113.1936543782552, 113.01...</td>\n",
       "      <td>(0.9195264586369399, 0.9195263889681126, 0.919...</td>\n",
       "      <td>(74.21355692545573, 74.09371948242188, 73.9741...</td>\n",
       "      <td>(1.0758453607559204, 1.0896456241607666, 1.073...</td>\n",
       "      <td>(1.1725538969039917, 1.0206300020217896, 1.541...</td>\n",
       "      <td>(0.8559941649436951, 0.8561564087867737, 0.853...</td>\n",
       "      <td>(0.8559941649436951, 0.8559942245483398, 0.853...</td>\n",
       "    </tr>\n",
       "    <tr>\n",
       "      <th>0</th>\n",
       "      <td>(0.09910857142857143, 0.09910857142857143, 0.0...</td>\n",
       "      <td>(15.52059555053711, 15.52059555053711, 15.5205...</td>\n",
       "      <td>(0.09813333333333334, 0.09813333333333334, 0.0...</td>\n",
       "      <td>(10.110500971476236, 10.110500971476236, 10.11...</td>\n",
       "      <td>(-0.03588457778096199, -0.03588457778096199, -...</td>\n",
       "      <td>(-0.03469075635075569, -0.03469075635075569, -...</td>\n",
       "      <td>(9.813333511352539, 9.910857200622559, 9.91085...</td>\n",
       "      <td>(9.813333511352539, 9.813333511352539, 9.81333...</td>\n",
       "    </tr>\n",
       "    <tr>\n",
       "      <th>0</th>\n",
       "      <td>(0.9195175717940989, 0.9195173539904409, 0.919...</td>\n",
       "      <td>(197.1449178059896, 196.71089680989584, 196.27...</td>\n",
       "      <td>(0.9193476353361184, 0.9193473818313371, 0.919...</td>\n",
       "      <td>(129.06139119466147, 128.77737426757812, 128.4...</td>\n",
       "      <td>(0.0, 0.0, 0.0, -1.0, 0.0, -1.0, 0.0, -1.0, -1...</td>\n",
       "      <td>(0.0, 0.0, 0.0, -1.0, 0.0, -1.0, 0.0, -1.0, -1...</td>\n",
       "      <td>(0.6928524374961853, 0.6928544640541077, 0.690...</td>\n",
       "      <td>(0.6928524374961853, 0.6928524374961853, 0.690...</td>\n",
       "    </tr>\n",
       "    <tr>\n",
       "      <th>...</th>\n",
       "      <td>...</td>\n",
       "      <td>...</td>\n",
       "      <td>...</td>\n",
       "      <td>...</td>\n",
       "      <td>...</td>\n",
       "      <td>...</td>\n",
       "      <td>...</td>\n",
       "      <td>...</td>\n",
       "    </tr>\n",
       "    <tr>\n",
       "      <th>0</th>\n",
       "      <td>(0.15149080878846452, 0.15148938606046924, 0.1...</td>\n",
       "      <td>(18.976795196533203, 18.95708465576172, 18.898...</td>\n",
       "      <td>(0.16445236887955794, 0.1644513147857516, 0.16...</td>\n",
       "      <td>(12.489145914713541, 12.476585388183594, 12.43...</td>\n",
       "      <td>(0.0, 0.0, -1.0, -1.0, 0.0, -1.0, -1.0, -1.0, ...</td>\n",
       "      <td>(0.0, 0.0, -1.0, -1.0, 0.0, -1.0, -1.0, -1.0, ...</td>\n",
       "      <td>(0.4848259389400482, 0.4814951717853546, 0.480...</td>\n",
       "      <td>(0.4848259389400482, 0.4848259389400482, 0.484...</td>\n",
       "    </tr>\n",
       "    <tr>\n",
       "      <th>0</th>\n",
       "      <td>(0.09796, 0.09796, 0.09796, 0.09796, 0.09796, ...</td>\n",
       "      <td>(30.860799153645832, 30.860799153645832, 30.86...</td>\n",
       "      <td>(0.0984, 0.0984, 0.0984, 0.0984, 0.0984, 0.098...</td>\n",
       "      <td>(20.248457590738933, 20.248457590738933, 20.24...</td>\n",
       "      <td>(0.0, 0.0, 0.0, -1.0, 0.0, -1.0, 0.0, -1.0, -1...</td>\n",
       "      <td>(0.0, 0.0, 0.0, -1.0, 0.0, -1.0, 0.0, -1.0, -1...</td>\n",
       "      <td>(9.84000015258789, 9.795999526977539, 9.795999...</td>\n",
       "      <td>(9.84000015258789, 9.84000015258789, 9.8400001...</td>\n",
       "    </tr>\n",
       "    <tr>\n",
       "      <th>0</th>\n",
       "      <td>(0.09940785714285715, 0.09940785714285715, 0.0...</td>\n",
       "      <td>(124.3521016438802, 124.3521016438802, 124.352...</td>\n",
       "      <td>(0.09955166666666666, 0.09955166666666666, 0.0...</td>\n",
       "      <td>(81.46642049153645, 81.46642049153645, 81.4664...</td>\n",
       "      <td>(0.0, 0.0, 0.0, -1.0, 0.0, -1.0, 0.0, -1.0, -1...</td>\n",
       "      <td>(0.0, 0.0, 0.0, -1.0, 0.0, -1.0, 0.0, -1.0, -1...</td>\n",
       "      <td>(9.955166816711426, 9.94078540802002, 9.940785...</td>\n",
       "      <td>(9.955166816711426, 9.955166816711426, 9.95516...</td>\n",
       "    </tr>\n",
       "    <tr>\n",
       "      <th>0</th>\n",
       "      <td>(0.12783702574122807, 0.12783664404330877, 0.1...</td>\n",
       "      <td>(166.31465657552084, 165.99097696940103, 165.6...</td>\n",
       "      <td>(0.12809463120764364, 0.1280942567057044, 0.12...</td>\n",
       "      <td>(108.8886006673177, 108.6770528157552, 108.465...</td>\n",
       "      <td>(1.0097239017486572, 1.0096349716186523, 1.011...</td>\n",
       "      <td>(1.0521632432937622, 1.0543012619018555, 1.048...</td>\n",
       "      <td>(0.5462543964385986, 0.5461999177932739, 0.544...</td>\n",
       "      <td>(0.5462543964385986, 0.5462543964385986, 0.544...</td>\n",
       "    </tr>\n",
       "    <tr>\n",
       "      <th>0</th>\n",
       "      <td>(0.9217466174047951, 0.9217455428741945, 0.921...</td>\n",
       "      <td>(24.6211420694987, 24.568689982096355, 24.5164...</td>\n",
       "      <td>(0.9248072234101421, 0.9248076236240044, 0.924...</td>\n",
       "      <td>(16.11964162190755, 16.085044860839844, 16.050...</td>\n",
       "      <td>(0.9629291296005249, 0.9692324995994568, 0.964...</td>\n",
       "      <td>(1.0972177982330322, 1.0243595838546753, 1.048...</td>\n",
       "      <td>(0.6920453906059265, 0.6919637322425842, 0.689...</td>\n",
       "      <td>(0.6920453906059265, 0.6920453906059265, 0.689...</td>\n",
       "    </tr>\n",
       "  </tbody>\n",
       "</table>\n",
       "<p>195 rows × 8 columns</p>\n",
       "</div>"
      ],
      "text/plain": [
       "                                 metrics_train_pr_auc  \\\n",
       "0   (0.31744120410869936, 0.31732390353304474, 0.3...   \n",
       "0   (0.9211887036108544, 0.9211856109635345, 0.921...   \n",
       "0   (0.9194918674617065, 0.9194918529374094, 0.919...   \n",
       "0   (0.09910857142857143, 0.09910857142857143, 0.0...   \n",
       "0   (0.9195175717940989, 0.9195173539904409, 0.919...   \n",
       "..                                                ...   \n",
       "0   (0.15149080878846452, 0.15148938606046924, 0.1...   \n",
       "0   (0.09796, 0.09796, 0.09796, 0.09796, 0.09796, ...   \n",
       "0   (0.09940785714285715, 0.09940785714285715, 0.0...   \n",
       "0   (0.12783702574122807, 0.12783664404330877, 0.1...   \n",
       "0   (0.9217466174047951, 0.9217455428741945, 0.921...   \n",
       "\n",
       "                                 metrics_train_euclid  \\\n",
       "0   (31.81299336751302, 31.77593739827474, 30.8459...   \n",
       "0   (45.26628621419271, 45.24686177571615, 45.2272...   \n",
       "0   (113.37684122721355, 113.1936543782552, 113.01...   \n",
       "0   (15.52059555053711, 15.52059555053711, 15.5205...   \n",
       "0   (197.1449178059896, 196.71089680989584, 196.27...   \n",
       "..                                                ...   \n",
       "0   (18.976795196533203, 18.95708465576172, 18.898...   \n",
       "0   (30.860799153645832, 30.860799153645832, 30.86...   \n",
       "0   (124.3521016438802, 124.3521016438802, 124.352...   \n",
       "0   (166.31465657552084, 165.99097696940103, 165.6...   \n",
       "0   (24.6211420694987, 24.568689982096355, 24.5164...   \n",
       "\n",
       "                                  metrics_test_pr_auc  \\\n",
       "0   (0.32334382518116844, 0.3232187653885701, 0.31...   \n",
       "0   (0.9221218022601099, 0.9221200312312445, 0.922...   \n",
       "0   (0.9195264586369399, 0.9195263889681126, 0.919...   \n",
       "0   (0.09813333333333334, 0.09813333333333334, 0.0...   \n",
       "0   (0.9193476353361184, 0.9193473818313371, 0.919...   \n",
       "..                                                ...   \n",
       "0   (0.16445236887955794, 0.1644513147857516, 0.16...   \n",
       "0   (0.0984, 0.0984, 0.0984, 0.0984, 0.0984, 0.098...   \n",
       "0   (0.09955166666666666, 0.09955166666666666, 0.0...   \n",
       "0   (0.12809463120764364, 0.1280942567057044, 0.12...   \n",
       "0   (0.9248072234101421, 0.9248076236240044, 0.924...   \n",
       "\n",
       "                                  metrics_test_euclid  \\\n",
       "0   (20.88524119059245, 20.86052958170573, 20.2347...   \n",
       "0   (29.678187052408855, 29.665451049804688, 29.65...   \n",
       "0   (74.21355692545573, 74.09371948242188, 73.9741...   \n",
       "0   (10.110500971476236, 10.110500971476236, 10.11...   \n",
       "0   (129.06139119466147, 128.77737426757812, 128.4...   \n",
       "..                                                ...   \n",
       "0   (12.489145914713541, 12.476585388183594, 12.43...   \n",
       "0   (20.248457590738933, 20.248457590738933, 20.24...   \n",
       "0   (81.46642049153645, 81.46642049153645, 81.4664...   \n",
       "0   (108.8886006673177, 108.6770528157552, 108.465...   \n",
       "0   (16.11964162190755, 16.085044860839844, 16.050...   \n",
       "\n",
       "                                      totale_node_dim  \\\n",
       "0   (0.9773135781288147, 0.9912735819816589, -1.0,...   \n",
       "0   (1.0148916244506836, 1.0396605730056763, 0.998...   \n",
       "0   (1.0758453607559204, 1.0896456241607666, 1.073...   \n",
       "0   (-0.03588457778096199, -0.03588457778096199, -...   \n",
       "0   (0.0, 0.0, 0.0, -1.0, 0.0, -1.0, 0.0, -1.0, -1...   \n",
       "..                                                ...   \n",
       "0   (0.0, 0.0, -1.0, -1.0, 0.0, -1.0, -1.0, -1.0, ...   \n",
       "0   (0.0, 0.0, 0.0, -1.0, 0.0, -1.0, 0.0, -1.0, -1...   \n",
       "0   (0.0, 0.0, 0.0, -1.0, 0.0, -1.0, 0.0, -1.0, -1...   \n",
       "0   (1.0097239017486572, 1.0096349716186523, 1.011...   \n",
       "0   (0.9629291296005249, 0.9692324995994568, 0.964...   \n",
       "\n",
       "                                     totale_graph_dim  \\\n",
       "0   (0.9308590888977051, 0.7651475071907043, -1.0,...   \n",
       "0   (1.0116562843322754, 1.0360798835754395, 1.064...   \n",
       "0   (1.1725538969039917, 1.0206300020217896, 1.541...   \n",
       "0   (-0.03469075635075569, -0.03469075635075569, -...   \n",
       "0   (0.0, 0.0, 0.0, -1.0, 0.0, -1.0, 0.0, -1.0, -1...   \n",
       "..                                                ...   \n",
       "0   (0.0, 0.0, -1.0, -1.0, 0.0, -1.0, -1.0, -1.0, ...   \n",
       "0   (0.0, 0.0, 0.0, -1.0, 0.0, -1.0, 0.0, -1.0, -1...   \n",
       "0   (0.0, 0.0, 0.0, -1.0, 0.0, -1.0, 0.0, -1.0, -1...   \n",
       "0   (1.0521632432937622, 1.0543012619018555, 1.048...   \n",
       "0   (1.0972177982330322, 1.0243595838546753, 1.048...   \n",
       "\n",
       "                                           train_loss  \\\n",
       "0   (0.18482165038585663, 0.1842300146818161, 0.18...   \n",
       "0   (3.392279624938965, 3.382178544998169, 3.36517...   \n",
       "0   (0.8559941649436951, 0.8561564087867737, 0.853...   \n",
       "0   (9.813333511352539, 9.910857200622559, 9.91085...   \n",
       "0   (0.6928524374961853, 0.6928544640541077, 0.690...   \n",
       "..                                                ...   \n",
       "0   (0.4848259389400482, 0.4814951717853546, 0.480...   \n",
       "0   (9.84000015258789, 9.795999526977539, 9.795999...   \n",
       "0   (9.955166816711426, 9.94078540802002, 9.940785...   \n",
       "0   (0.5462543964385986, 0.5461999177932739, 0.544...   \n",
       "0   (0.6920453906059265, 0.6919637322425842, 0.689...   \n",
       "\n",
       "                                            test_loss  \n",
       "0   (0.18482165038585663, 0.18482165038585663, 0.1...  \n",
       "0   (3.392279624938965, 3.392279624938965, 3.37522...  \n",
       "0   (0.8559941649436951, 0.8559942245483398, 0.853...  \n",
       "0   (9.813333511352539, 9.813333511352539, 9.81333...  \n",
       "0   (0.6928524374961853, 0.6928524374961853, 0.690...  \n",
       "..                                                ...  \n",
       "0   (0.4848259389400482, 0.4848259389400482, 0.484...  \n",
       "0   (9.84000015258789, 9.84000015258789, 9.8400001...  \n",
       "0   (9.955166816711426, 9.955166816711426, 9.95516...  \n",
       "0   (0.5462543964385986, 0.5462543964385986, 0.544...  \n",
       "0   (0.6920453906059265, 0.6920453906059265, 0.689...  \n",
       "\n",
       "[195 rows x 8 columns]"
      ]
     },
     "execution_count": 46,
     "metadata": {},
     "output_type": "execute_result"
    }
   ],
   "source": [
    "final_df['risultati'].dropna()#'all')"
   ]
  },
  {
   "cell_type": "code",
   "execution_count": 67,
   "metadata": {},
   "outputs": [
    {
     "data": {
      "image/png": "[encoded data removed]",
      "text/plain": [
       "<Figure size 432x288 with 1 Axes>"
      ]
     },
     "metadata": {
      "needs_background": "light"
     },
     "output_type": "display_data"
    }
   ],
   "source": [
    "import matplotlib.pyplot as plt\n",
    "\n",
    "for tl in final_df['risultati'].dropna()['train_loss']:#.astype('float')#.plot()\n",
    "    plt.plot(list(map(float, tl)))\n",
    "    \n",
    "plt.ylim(0.28,0.38)\n",
    "plt.xscale('log')\n",
    "plt.show()"
   ]
  },
  {
   "cell_type": "code",
   "execution_count": null,
   "metadata": {},
   "outputs": [],
   "source": []
  }
 ],
 "metadata": {
  "kernelspec": {
   "display_name": "Python [conda env:pytorch-geom]",
   "language": "python",
   "name": "conda-env-pytorch-geom-py"
  },
  "language_info": {
   "codemirror_mode": {
    "name": "ipython",
    "version": 3
   },
   "file_extension": ".py",
   "mimetype": "text/x-python",
   "name": "python",
   "nbconvert_exporter": "python",
   "pygments_lexer": "ipython3",
   "version": "3.8.13"
  }
 },
 "nbformat": 4,
 "nbformat_minor": 4
}
